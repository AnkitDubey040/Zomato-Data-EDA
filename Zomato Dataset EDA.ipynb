{
 "cells": [
  {
   "cell_type": "markdown",
   "id": "dc8e5d31",
   "metadata": {},
   "source": [
    "# Zomato Data EDA implementation  \n",
    "  \n",
    " ![zomato](Zomato_pic.jpg \"Title\")"
   ]
  },
  {
   "cell_type": "markdown",
   "id": "f4e175eb",
   "metadata": {},
   "source": [
    "##  __Life cycle of Machine learning Project__\n",
    "\n",
    "* Understanding the Problem Statement\n",
    "* Data Collection\n",
    "* Exploratory data analysis\n",
    "* Data Cleaning\n",
    "* Data Pre-Processing\n",
    "* Model Training\n",
    "* Choose best model"
   ]
  },
  {
   "cell_type": "markdown",
   "id": "b5f97eb2",
   "metadata": {},
   "source": [
    "###  Understanding the Problem Statement"
   ]
  },
  {
   "cell_type": "markdown",
   "id": "208d3766",
   "metadata": {},
   "source": [
    "* The dataset contains info about food ratings , customer satisfaction and avg cost of food for different restaurants taking orders Through ZOMATO around the world . \n",
    "* This analysis is for those who want to find the value for money restaurants in various cities of world for the cuisines.   Additionally, this analysis caters the needs of people who are striving to get the best cuisine of the country and which locality of that country serves that cuisines with maximum number of restaurants.\n",
    "* Also this analysis can be used by Zomato and Resturant Owners to identify the areas of improvement .\n",
    "* Our Main aim is to __improve Ratings__\n"
   ]
  },
  {
   "cell_type": "markdown",
   "id": "75755795",
   "metadata": {},
   "source": [
    "### Data Collection: \n",
    "  \n",
    "The data is collected from Kaggle website. https://www.kaggle.com/datasets/shrutimehta/zomato-restaurants-data/code"
   ]
  },
  {
   "cell_type": "markdown",
   "id": "73a83ce2",
   "metadata": {},
   "source": [
    "### EDA \n"
   ]
  },
  {
   "cell_type": "code",
   "execution_count": 227,
   "id": "269dfad0",
   "metadata": {},
   "outputs": [],
   "source": [
    "# Importing libraries\n",
    "\n",
    "import pandas as pd\n",
    "import numpy as np\n",
    "import matplotlib\n",
    "import matplotlib.pyplot as plt\n",
    "import seaborn as sns \n",
    "from plotly import graph_objects as go\n",
    "from plotly.subplots import make_subplots\n",
    "import plotly.express as px\n",
    "%matplotlib inline\n",
    "import warnings\n",
    "warnings.filterwarnings('ignore')"
   ]
  },
  {
   "cell_type": "code",
   "execution_count": 12,
   "id": "51be6975",
   "metadata": {},
   "outputs": [],
   "source": [
    "# Loading dataset\n",
    "\n",
    "df_zomato = pd.read_csv(r'C:\\Users\\bolt0\\Data science\\zomato_data\\zomato.csv' , encoding = 'latin1')\n",
    "df_country = pd.read_excel(r'C:\\Users\\bolt0\\Data science\\zomato_data\\Country-Code.xlsx')"
   ]
  },
  {
   "cell_type": "markdown",
   "id": "93a132b1",
   "metadata": {},
   "source": [
    "### Sample Data"
   ]
  },
  {
   "cell_type": "code",
   "execution_count": 13,
   "id": "36d31d53",
   "metadata": {},
   "outputs": [
    {
     "data": {
      "text/html": [
       "<div>\n",
       "<style scoped>\n",
       "    .dataframe tbody tr th:only-of-type {\n",
       "        vertical-align: middle;\n",
       "    }\n",
       "\n",
       "    .dataframe tbody tr th {\n",
       "        vertical-align: top;\n",
       "    }\n",
       "\n",
       "    .dataframe thead th {\n",
       "        text-align: right;\n",
       "    }\n",
       "</style>\n",
       "<table border=\"1\" class=\"dataframe\">\n",
       "  <thead>\n",
       "    <tr style=\"text-align: right;\">\n",
       "      <th></th>\n",
       "      <th>Restaurant ID</th>\n",
       "      <th>Restaurant Name</th>\n",
       "      <th>Country Code</th>\n",
       "      <th>City</th>\n",
       "      <th>Address</th>\n",
       "      <th>Locality</th>\n",
       "      <th>Locality Verbose</th>\n",
       "      <th>Longitude</th>\n",
       "      <th>Latitude</th>\n",
       "      <th>Cuisines</th>\n",
       "      <th>...</th>\n",
       "      <th>Currency</th>\n",
       "      <th>Has Table booking</th>\n",
       "      <th>Has Online delivery</th>\n",
       "      <th>Is delivering now</th>\n",
       "      <th>Switch to order menu</th>\n",
       "      <th>Price range</th>\n",
       "      <th>Aggregate rating</th>\n",
       "      <th>Rating color</th>\n",
       "      <th>Rating text</th>\n",
       "      <th>Votes</th>\n",
       "    </tr>\n",
       "  </thead>\n",
       "  <tbody>\n",
       "    <tr>\n",
       "      <th>0</th>\n",
       "      <td>6317637</td>\n",
       "      <td>Le Petit Souffle</td>\n",
       "      <td>162</td>\n",
       "      <td>Makati City</td>\n",
       "      <td>Third Floor, Century City Mall, Kalayaan Avenu...</td>\n",
       "      <td>Century City Mall, Poblacion, Makati City</td>\n",
       "      <td>Century City Mall, Poblacion, Makati City, Mak...</td>\n",
       "      <td>121.027535</td>\n",
       "      <td>14.565443</td>\n",
       "      <td>French, Japanese, Desserts</td>\n",
       "      <td>...</td>\n",
       "      <td>Botswana Pula(P)</td>\n",
       "      <td>Yes</td>\n",
       "      <td>No</td>\n",
       "      <td>No</td>\n",
       "      <td>No</td>\n",
       "      <td>3</td>\n",
       "      <td>4.8</td>\n",
       "      <td>Dark Green</td>\n",
       "      <td>Excellent</td>\n",
       "      <td>314</td>\n",
       "    </tr>\n",
       "    <tr>\n",
       "      <th>1</th>\n",
       "      <td>6304287</td>\n",
       "      <td>Izakaya Kikufuji</td>\n",
       "      <td>162</td>\n",
       "      <td>Makati City</td>\n",
       "      <td>Little Tokyo, 2277 Chino Roces Avenue, Legaspi...</td>\n",
       "      <td>Little Tokyo, Legaspi Village, Makati City</td>\n",
       "      <td>Little Tokyo, Legaspi Village, Makati City, Ma...</td>\n",
       "      <td>121.014101</td>\n",
       "      <td>14.553708</td>\n",
       "      <td>Japanese</td>\n",
       "      <td>...</td>\n",
       "      <td>Botswana Pula(P)</td>\n",
       "      <td>Yes</td>\n",
       "      <td>No</td>\n",
       "      <td>No</td>\n",
       "      <td>No</td>\n",
       "      <td>3</td>\n",
       "      <td>4.5</td>\n",
       "      <td>Dark Green</td>\n",
       "      <td>Excellent</td>\n",
       "      <td>591</td>\n",
       "    </tr>\n",
       "    <tr>\n",
       "      <th>2</th>\n",
       "      <td>6300002</td>\n",
       "      <td>Heat - Edsa Shangri-La</td>\n",
       "      <td>162</td>\n",
       "      <td>Mandaluyong City</td>\n",
       "      <td>Edsa Shangri-La, 1 Garden Way, Ortigas, Mandal...</td>\n",
       "      <td>Edsa Shangri-La, Ortigas, Mandaluyong City</td>\n",
       "      <td>Edsa Shangri-La, Ortigas, Mandaluyong City, Ma...</td>\n",
       "      <td>121.056831</td>\n",
       "      <td>14.581404</td>\n",
       "      <td>Seafood, Asian, Filipino, Indian</td>\n",
       "      <td>...</td>\n",
       "      <td>Botswana Pula(P)</td>\n",
       "      <td>Yes</td>\n",
       "      <td>No</td>\n",
       "      <td>No</td>\n",
       "      <td>No</td>\n",
       "      <td>4</td>\n",
       "      <td>4.4</td>\n",
       "      <td>Green</td>\n",
       "      <td>Very Good</td>\n",
       "      <td>270</td>\n",
       "    </tr>\n",
       "    <tr>\n",
       "      <th>3</th>\n",
       "      <td>6318506</td>\n",
       "      <td>Ooma</td>\n",
       "      <td>162</td>\n",
       "      <td>Mandaluyong City</td>\n",
       "      <td>Third Floor, Mega Fashion Hall, SM Megamall, O...</td>\n",
       "      <td>SM Megamall, Ortigas, Mandaluyong City</td>\n",
       "      <td>SM Megamall, Ortigas, Mandaluyong City, Mandal...</td>\n",
       "      <td>121.056475</td>\n",
       "      <td>14.585318</td>\n",
       "      <td>Japanese, Sushi</td>\n",
       "      <td>...</td>\n",
       "      <td>Botswana Pula(P)</td>\n",
       "      <td>No</td>\n",
       "      <td>No</td>\n",
       "      <td>No</td>\n",
       "      <td>No</td>\n",
       "      <td>4</td>\n",
       "      <td>4.9</td>\n",
       "      <td>Dark Green</td>\n",
       "      <td>Excellent</td>\n",
       "      <td>365</td>\n",
       "    </tr>\n",
       "    <tr>\n",
       "      <th>4</th>\n",
       "      <td>6314302</td>\n",
       "      <td>Sambo Kojin</td>\n",
       "      <td>162</td>\n",
       "      <td>Mandaluyong City</td>\n",
       "      <td>Third Floor, Mega Atrium, SM Megamall, Ortigas...</td>\n",
       "      <td>SM Megamall, Ortigas, Mandaluyong City</td>\n",
       "      <td>SM Megamall, Ortigas, Mandaluyong City, Mandal...</td>\n",
       "      <td>121.057508</td>\n",
       "      <td>14.584450</td>\n",
       "      <td>Japanese, Korean</td>\n",
       "      <td>...</td>\n",
       "      <td>Botswana Pula(P)</td>\n",
       "      <td>Yes</td>\n",
       "      <td>No</td>\n",
       "      <td>No</td>\n",
       "      <td>No</td>\n",
       "      <td>4</td>\n",
       "      <td>4.8</td>\n",
       "      <td>Dark Green</td>\n",
       "      <td>Excellent</td>\n",
       "      <td>229</td>\n",
       "    </tr>\n",
       "  </tbody>\n",
       "</table>\n",
       "<p>5 rows × 21 columns</p>\n",
       "</div>"
      ],
      "text/plain": [
       "   Restaurant ID         Restaurant Name  Country Code              City  \\\n",
       "0        6317637        Le Petit Souffle           162       Makati City   \n",
       "1        6304287        Izakaya Kikufuji           162       Makati City   \n",
       "2        6300002  Heat - Edsa Shangri-La           162  Mandaluyong City   \n",
       "3        6318506                    Ooma           162  Mandaluyong City   \n",
       "4        6314302             Sambo Kojin           162  Mandaluyong City   \n",
       "\n",
       "                                             Address  \\\n",
       "0  Third Floor, Century City Mall, Kalayaan Avenu...   \n",
       "1  Little Tokyo, 2277 Chino Roces Avenue, Legaspi...   \n",
       "2  Edsa Shangri-La, 1 Garden Way, Ortigas, Mandal...   \n",
       "3  Third Floor, Mega Fashion Hall, SM Megamall, O...   \n",
       "4  Third Floor, Mega Atrium, SM Megamall, Ortigas...   \n",
       "\n",
       "                                     Locality  \\\n",
       "0   Century City Mall, Poblacion, Makati City   \n",
       "1  Little Tokyo, Legaspi Village, Makati City   \n",
       "2  Edsa Shangri-La, Ortigas, Mandaluyong City   \n",
       "3      SM Megamall, Ortigas, Mandaluyong City   \n",
       "4      SM Megamall, Ortigas, Mandaluyong City   \n",
       "\n",
       "                                    Locality Verbose   Longitude   Latitude  \\\n",
       "0  Century City Mall, Poblacion, Makati City, Mak...  121.027535  14.565443   \n",
       "1  Little Tokyo, Legaspi Village, Makati City, Ma...  121.014101  14.553708   \n",
       "2  Edsa Shangri-La, Ortigas, Mandaluyong City, Ma...  121.056831  14.581404   \n",
       "3  SM Megamall, Ortigas, Mandaluyong City, Mandal...  121.056475  14.585318   \n",
       "4  SM Megamall, Ortigas, Mandaluyong City, Mandal...  121.057508  14.584450   \n",
       "\n",
       "                           Cuisines  ...          Currency Has Table booking  \\\n",
       "0        French, Japanese, Desserts  ...  Botswana Pula(P)               Yes   \n",
       "1                          Japanese  ...  Botswana Pula(P)               Yes   \n",
       "2  Seafood, Asian, Filipino, Indian  ...  Botswana Pula(P)               Yes   \n",
       "3                   Japanese, Sushi  ...  Botswana Pula(P)                No   \n",
       "4                  Japanese, Korean  ...  Botswana Pula(P)               Yes   \n",
       "\n",
       "  Has Online delivery Is delivering now Switch to order menu Price range  \\\n",
       "0                  No                No                   No           3   \n",
       "1                  No                No                   No           3   \n",
       "2                  No                No                   No           4   \n",
       "3                  No                No                   No           4   \n",
       "4                  No                No                   No           4   \n",
       "\n",
       "   Aggregate rating  Rating color Rating text Votes  \n",
       "0               4.8    Dark Green   Excellent   314  \n",
       "1               4.5    Dark Green   Excellent   591  \n",
       "2               4.4         Green   Very Good   270  \n",
       "3               4.9    Dark Green   Excellent   365  \n",
       "4               4.8    Dark Green   Excellent   229  \n",
       "\n",
       "[5 rows x 21 columns]"
      ]
     },
     "execution_count": 13,
     "metadata": {},
     "output_type": "execute_result"
    }
   ],
   "source": [
    "df_zomato.head()"
   ]
  },
  {
   "cell_type": "code",
   "execution_count": 18,
   "id": "ca5583ee",
   "metadata": {},
   "outputs": [
    {
     "data": {
      "text/html": [
       "<div>\n",
       "<style scoped>\n",
       "    .dataframe tbody tr th:only-of-type {\n",
       "        vertical-align: middle;\n",
       "    }\n",
       "\n",
       "    .dataframe tbody tr th {\n",
       "        vertical-align: top;\n",
       "    }\n",
       "\n",
       "    .dataframe thead th {\n",
       "        text-align: right;\n",
       "    }\n",
       "</style>\n",
       "<table border=\"1\" class=\"dataframe\">\n",
       "  <thead>\n",
       "    <tr style=\"text-align: right;\">\n",
       "      <th></th>\n",
       "      <th>Country Code</th>\n",
       "      <th>Country</th>\n",
       "    </tr>\n",
       "  </thead>\n",
       "  <tbody>\n",
       "    <tr>\n",
       "      <th>0</th>\n",
       "      <td>1</td>\n",
       "      <td>India</td>\n",
       "    </tr>\n",
       "    <tr>\n",
       "      <th>1</th>\n",
       "      <td>14</td>\n",
       "      <td>Australia</td>\n",
       "    </tr>\n",
       "    <tr>\n",
       "      <th>2</th>\n",
       "      <td>30</td>\n",
       "      <td>Brazil</td>\n",
       "    </tr>\n",
       "    <tr>\n",
       "      <th>3</th>\n",
       "      <td>37</td>\n",
       "      <td>Canada</td>\n",
       "    </tr>\n",
       "    <tr>\n",
       "      <th>4</th>\n",
       "      <td>94</td>\n",
       "      <td>Indonesia</td>\n",
       "    </tr>\n",
       "    <tr>\n",
       "      <th>5</th>\n",
       "      <td>148</td>\n",
       "      <td>New Zealand</td>\n",
       "    </tr>\n",
       "    <tr>\n",
       "      <th>6</th>\n",
       "      <td>162</td>\n",
       "      <td>Phillipines</td>\n",
       "    </tr>\n",
       "    <tr>\n",
       "      <th>7</th>\n",
       "      <td>166</td>\n",
       "      <td>Qatar</td>\n",
       "    </tr>\n",
       "    <tr>\n",
       "      <th>8</th>\n",
       "      <td>184</td>\n",
       "      <td>Singapore</td>\n",
       "    </tr>\n",
       "    <tr>\n",
       "      <th>9</th>\n",
       "      <td>189</td>\n",
       "      <td>South Africa</td>\n",
       "    </tr>\n",
       "    <tr>\n",
       "      <th>10</th>\n",
       "      <td>191</td>\n",
       "      <td>Sri Lanka</td>\n",
       "    </tr>\n",
       "    <tr>\n",
       "      <th>11</th>\n",
       "      <td>208</td>\n",
       "      <td>Turkey</td>\n",
       "    </tr>\n",
       "    <tr>\n",
       "      <th>12</th>\n",
       "      <td>214</td>\n",
       "      <td>UAE</td>\n",
       "    </tr>\n",
       "    <tr>\n",
       "      <th>13</th>\n",
       "      <td>215</td>\n",
       "      <td>United Kingdom</td>\n",
       "    </tr>\n",
       "    <tr>\n",
       "      <th>14</th>\n",
       "      <td>216</td>\n",
       "      <td>United States</td>\n",
       "    </tr>\n",
       "  </tbody>\n",
       "</table>\n",
       "</div>"
      ],
      "text/plain": [
       "    Country Code         Country\n",
       "0              1           India\n",
       "1             14       Australia\n",
       "2             30          Brazil\n",
       "3             37          Canada\n",
       "4             94       Indonesia\n",
       "5            148     New Zealand\n",
       "6            162     Phillipines\n",
       "7            166           Qatar\n",
       "8            184       Singapore\n",
       "9            189    South Africa\n",
       "10           191       Sri Lanka\n",
       "11           208          Turkey\n",
       "12           214             UAE\n",
       "13           215  United Kingdom\n",
       "14           216   United States"
      ]
     },
     "execution_count": 18,
     "metadata": {},
     "output_type": "execute_result"
    }
   ],
   "source": [
    "df_country"
   ]
  },
  {
   "cell_type": "markdown",
   "id": "9429c0d5",
   "metadata": {},
   "source": [
    "### Basic summary of the data"
   ]
  },
  {
   "cell_type": "code",
   "execution_count": 16,
   "id": "acb3c7b1",
   "metadata": {},
   "outputs": [
    {
     "name": "stdout",
     "output_type": "stream",
     "text": [
      "<class 'pandas.core.frame.DataFrame'>\n",
      "RangeIndex: 9551 entries, 0 to 9550\n",
      "Data columns (total 21 columns):\n",
      " #   Column                Non-Null Count  Dtype  \n",
      "---  ------                --------------  -----  \n",
      " 0   Restaurant ID         9551 non-null   int64  \n",
      " 1   Restaurant Name       9551 non-null   object \n",
      " 2   Country Code          9551 non-null   int64  \n",
      " 3   City                  9551 non-null   object \n",
      " 4   Address               9551 non-null   object \n",
      " 5   Locality              9551 non-null   object \n",
      " 6   Locality Verbose      9551 non-null   object \n",
      " 7   Longitude             9551 non-null   float64\n",
      " 8   Latitude              9551 non-null   float64\n",
      " 9   Cuisines              9542 non-null   object \n",
      " 10  Average Cost for two  9551 non-null   int64  \n",
      " 11  Currency              9551 non-null   object \n",
      " 12  Has Table booking     9551 non-null   object \n",
      " 13  Has Online delivery   9551 non-null   object \n",
      " 14  Is delivering now     9551 non-null   object \n",
      " 15  Switch to order menu  9551 non-null   object \n",
      " 16  Price range           9551 non-null   int64  \n",
      " 17  Aggregate rating      9551 non-null   float64\n",
      " 18  Rating color          9551 non-null   object \n",
      " 19  Rating text           9551 non-null   object \n",
      " 20  Votes                 9551 non-null   int64  \n",
      "dtypes: float64(3), int64(5), object(13)\n",
      "memory usage: 1.5+ MB\n"
     ]
    }
   ],
   "source": [
    "# Checking basic info :\n",
    "df_zomato.info()"
   ]
  },
  {
   "cell_type": "code",
   "execution_count": 19,
   "id": "8ccb3e6b",
   "metadata": {},
   "outputs": [
    {
     "data": {
      "text/plain": [
       "Index(['Restaurant ID', 'Restaurant Name', 'Country Code', 'City', 'Address',\n",
       "       'Locality', 'Locality Verbose', 'Longitude', 'Latitude', 'Cuisines',\n",
       "       'Average Cost for two', 'Currency', 'Has Table booking',\n",
       "       'Has Online delivery', 'Is delivering now', 'Switch to order menu',\n",
       "       'Price range', 'Aggregate rating', 'Rating color', 'Rating text',\n",
       "       'Votes'],\n",
       "      dtype='object')"
      ]
     },
     "execution_count": 19,
     "metadata": {},
     "output_type": "execute_result"
    }
   ],
   "source": [
    "# columns \n",
    "df_zomato.columns"
   ]
  },
  {
   "cell_type": "code",
   "execution_count": 21,
   "id": "c849c6d3",
   "metadata": {},
   "outputs": [
    {
     "data": {
      "text/html": [
       "<div>\n",
       "<style scoped>\n",
       "    .dataframe tbody tr th:only-of-type {\n",
       "        vertical-align: middle;\n",
       "    }\n",
       "\n",
       "    .dataframe tbody tr th {\n",
       "        vertical-align: top;\n",
       "    }\n",
       "\n",
       "    .dataframe thead th {\n",
       "        text-align: right;\n",
       "    }\n",
       "</style>\n",
       "<table border=\"1\" class=\"dataframe\">\n",
       "  <thead>\n",
       "    <tr style=\"text-align: right;\">\n",
       "      <th></th>\n",
       "      <th>Restaurant ID</th>\n",
       "      <th>Country Code</th>\n",
       "      <th>Longitude</th>\n",
       "      <th>Latitude</th>\n",
       "      <th>Average Cost for two</th>\n",
       "      <th>Price range</th>\n",
       "      <th>Aggregate rating</th>\n",
       "      <th>Votes</th>\n",
       "    </tr>\n",
       "  </thead>\n",
       "  <tbody>\n",
       "    <tr>\n",
       "      <th>count</th>\n",
       "      <td>9.551000e+03</td>\n",
       "      <td>9551.000000</td>\n",
       "      <td>9551.000000</td>\n",
       "      <td>9551.000000</td>\n",
       "      <td>9551.000000</td>\n",
       "      <td>9551.000000</td>\n",
       "      <td>9551.000000</td>\n",
       "      <td>9551.000000</td>\n",
       "    </tr>\n",
       "    <tr>\n",
       "      <th>mean</th>\n",
       "      <td>9.051128e+06</td>\n",
       "      <td>18.365616</td>\n",
       "      <td>64.126574</td>\n",
       "      <td>25.854381</td>\n",
       "      <td>1199.210763</td>\n",
       "      <td>1.804837</td>\n",
       "      <td>2.666370</td>\n",
       "      <td>156.909748</td>\n",
       "    </tr>\n",
       "    <tr>\n",
       "      <th>std</th>\n",
       "      <td>8.791521e+06</td>\n",
       "      <td>56.750546</td>\n",
       "      <td>41.467058</td>\n",
       "      <td>11.007935</td>\n",
       "      <td>16121.183073</td>\n",
       "      <td>0.905609</td>\n",
       "      <td>1.516378</td>\n",
       "      <td>430.169145</td>\n",
       "    </tr>\n",
       "    <tr>\n",
       "      <th>min</th>\n",
       "      <td>5.300000e+01</td>\n",
       "      <td>1.000000</td>\n",
       "      <td>-157.948486</td>\n",
       "      <td>-41.330428</td>\n",
       "      <td>0.000000</td>\n",
       "      <td>1.000000</td>\n",
       "      <td>0.000000</td>\n",
       "      <td>0.000000</td>\n",
       "    </tr>\n",
       "    <tr>\n",
       "      <th>25%</th>\n",
       "      <td>3.019625e+05</td>\n",
       "      <td>1.000000</td>\n",
       "      <td>77.081343</td>\n",
       "      <td>28.478713</td>\n",
       "      <td>250.000000</td>\n",
       "      <td>1.000000</td>\n",
       "      <td>2.500000</td>\n",
       "      <td>5.000000</td>\n",
       "    </tr>\n",
       "    <tr>\n",
       "      <th>50%</th>\n",
       "      <td>6.004089e+06</td>\n",
       "      <td>1.000000</td>\n",
       "      <td>77.191964</td>\n",
       "      <td>28.570469</td>\n",
       "      <td>400.000000</td>\n",
       "      <td>2.000000</td>\n",
       "      <td>3.200000</td>\n",
       "      <td>31.000000</td>\n",
       "    </tr>\n",
       "    <tr>\n",
       "      <th>75%</th>\n",
       "      <td>1.835229e+07</td>\n",
       "      <td>1.000000</td>\n",
       "      <td>77.282006</td>\n",
       "      <td>28.642758</td>\n",
       "      <td>700.000000</td>\n",
       "      <td>2.000000</td>\n",
       "      <td>3.700000</td>\n",
       "      <td>131.000000</td>\n",
       "    </tr>\n",
       "    <tr>\n",
       "      <th>max</th>\n",
       "      <td>1.850065e+07</td>\n",
       "      <td>216.000000</td>\n",
       "      <td>174.832089</td>\n",
       "      <td>55.976980</td>\n",
       "      <td>800000.000000</td>\n",
       "      <td>4.000000</td>\n",
       "      <td>4.900000</td>\n",
       "      <td>10934.000000</td>\n",
       "    </tr>\n",
       "  </tbody>\n",
       "</table>\n",
       "</div>"
      ],
      "text/plain": [
       "       Restaurant ID  Country Code    Longitude     Latitude  \\\n",
       "count   9.551000e+03   9551.000000  9551.000000  9551.000000   \n",
       "mean    9.051128e+06     18.365616    64.126574    25.854381   \n",
       "std     8.791521e+06     56.750546    41.467058    11.007935   \n",
       "min     5.300000e+01      1.000000  -157.948486   -41.330428   \n",
       "25%     3.019625e+05      1.000000    77.081343    28.478713   \n",
       "50%     6.004089e+06      1.000000    77.191964    28.570469   \n",
       "75%     1.835229e+07      1.000000    77.282006    28.642758   \n",
       "max     1.850065e+07    216.000000   174.832089    55.976980   \n",
       "\n",
       "       Average Cost for two  Price range  Aggregate rating         Votes  \n",
       "count           9551.000000  9551.000000       9551.000000   9551.000000  \n",
       "mean            1199.210763     1.804837          2.666370    156.909748  \n",
       "std            16121.183073     0.905609          1.516378    430.169145  \n",
       "min                0.000000     1.000000          0.000000      0.000000  \n",
       "25%              250.000000     1.000000          2.500000      5.000000  \n",
       "50%              400.000000     2.000000          3.200000     31.000000  \n",
       "75%              700.000000     2.000000          3.700000    131.000000  \n",
       "max           800000.000000     4.000000          4.900000  10934.000000  "
      ]
     },
     "execution_count": 21,
     "metadata": {},
     "output_type": "execute_result"
    }
   ],
   "source": [
    "# Basic Stats about data: \n",
    "df_zomato.describe()"
   ]
  },
  {
   "cell_type": "code",
   "execution_count": 10,
   "id": "b81d4640",
   "metadata": {},
   "outputs": [
    {
     "data": {
      "text/plain": [
       "(9551, 21)"
      ]
     },
     "execution_count": 10,
     "metadata": {},
     "output_type": "execute_result"
    }
   ],
   "source": [
    "# For dimensions of data:\n",
    "df.shape"
   ]
  },
  {
   "cell_type": "code",
   "execution_count": 23,
   "id": "c17cd14e",
   "metadata": {},
   "outputs": [],
   "source": [
    "# Merging the Zomato dataset and Country dataset : \n",
    "df_zomato=pd.merge(df_zomato,df_country,on=\"Country Code\",how=\"left\")"
   ]
  },
  {
   "cell_type": "code",
   "execution_count": 25,
   "id": "2b38720e",
   "metadata": {},
   "outputs": [
    {
     "data": {
      "text/plain": [
       "Index(['Restaurant ID', 'Restaurant Name', 'Country Code', 'City', 'Address',\n",
       "       'Locality', 'Locality Verbose', 'Longitude', 'Latitude', 'Cuisines',\n",
       "       'Average Cost for two', 'Currency', 'Has Table booking',\n",
       "       'Has Online delivery', 'Is delivering now', 'Switch to order menu',\n",
       "       'Price range', 'Aggregate rating', 'Rating color', 'Rating text',\n",
       "       'Votes', 'Country'],\n",
       "      dtype='object')"
      ]
     },
     "execution_count": 25,
     "metadata": {},
     "output_type": "execute_result"
    }
   ],
   "source": [
    "df_zomato.columns"
   ]
  },
  {
   "cell_type": "markdown",
   "id": "262a3910",
   "metadata": {},
   "source": [
    "### Exploring Data"
   ]
  },
  {
   "cell_type": "code",
   "execution_count": 27,
   "id": "35533e66",
   "metadata": {},
   "outputs": [
    {
     "data": {
      "text/html": [
       "<div>\n",
       "<style scoped>\n",
       "    .dataframe tbody tr th:only-of-type {\n",
       "        vertical-align: middle;\n",
       "    }\n",
       "\n",
       "    .dataframe tbody tr th {\n",
       "        vertical-align: top;\n",
       "    }\n",
       "\n",
       "    .dataframe thead th {\n",
       "        text-align: right;\n",
       "    }\n",
       "</style>\n",
       "<table border=\"1\" class=\"dataframe\">\n",
       "  <thead>\n",
       "    <tr style=\"text-align: right;\">\n",
       "      <th></th>\n",
       "      <th>Total_Count</th>\n",
       "    </tr>\n",
       "    <tr>\n",
       "      <th>Country</th>\n",
       "      <th></th>\n",
       "    </tr>\n",
       "  </thead>\n",
       "  <tbody>\n",
       "    <tr>\n",
       "      <th>India</th>\n",
       "      <td>8652</td>\n",
       "    </tr>\n",
       "    <tr>\n",
       "      <th>United States</th>\n",
       "      <td>434</td>\n",
       "    </tr>\n",
       "    <tr>\n",
       "      <th>United Kingdom</th>\n",
       "      <td>80</td>\n",
       "    </tr>\n",
       "    <tr>\n",
       "      <th>Brazil</th>\n",
       "      <td>60</td>\n",
       "    </tr>\n",
       "    <tr>\n",
       "      <th>South Africa</th>\n",
       "      <td>60</td>\n",
       "    </tr>\n",
       "    <tr>\n",
       "      <th>UAE</th>\n",
       "      <td>60</td>\n",
       "    </tr>\n",
       "    <tr>\n",
       "      <th>New Zealand</th>\n",
       "      <td>40</td>\n",
       "    </tr>\n",
       "    <tr>\n",
       "      <th>Turkey</th>\n",
       "      <td>34</td>\n",
       "    </tr>\n",
       "    <tr>\n",
       "      <th>Australia</th>\n",
       "      <td>24</td>\n",
       "    </tr>\n",
       "    <tr>\n",
       "      <th>Phillipines</th>\n",
       "      <td>22</td>\n",
       "    </tr>\n",
       "    <tr>\n",
       "      <th>Indonesia</th>\n",
       "      <td>21</td>\n",
       "    </tr>\n",
       "    <tr>\n",
       "      <th>Qatar</th>\n",
       "      <td>20</td>\n",
       "    </tr>\n",
       "    <tr>\n",
       "      <th>Singapore</th>\n",
       "      <td>20</td>\n",
       "    </tr>\n",
       "    <tr>\n",
       "      <th>Sri Lanka</th>\n",
       "      <td>20</td>\n",
       "    </tr>\n",
       "    <tr>\n",
       "      <th>Canada</th>\n",
       "      <td>4</td>\n",
       "    </tr>\n",
       "  </tbody>\n",
       "</table>\n",
       "</div>"
      ],
      "text/plain": [
       "                Total_Count\n",
       "Country                    \n",
       "India                  8652\n",
       "United States           434\n",
       "United Kingdom           80\n",
       "Brazil                   60\n",
       "South Africa             60\n",
       "UAE                      60\n",
       "New Zealand              40\n",
       "Turkey                   34\n",
       "Australia                24\n",
       "Phillipines              22\n",
       "Indonesia                21\n",
       "Qatar                    20\n",
       "Singapore                20\n",
       "Sri Lanka                20\n",
       "Canada                    4"
      ]
     },
     "execution_count": 27,
     "metadata": {},
     "output_type": "execute_result"
    }
   ],
   "source": [
    "# Country wise count of the dataset \n",
    "\n",
    "df_zomato.groupby(\"Country\").agg(Total_Count=(\"Restaurant ID\",\"count\")).sort_values(by=\"Total_Count\",ascending=False)"
   ]
  },
  {
   "cell_type": "markdown",
   "id": "59bf4a0c",
   "metadata": {},
   "source": [
    "Observation:   \n",
    "We can see that the __majority__ of the data is from __India__ followed by __United States__ and __United Kingdom__ and so on followed by other countries "
   ]
  },
  {
   "cell_type": "code",
   "execution_count": 30,
   "id": "4b860d14",
   "metadata": {},
   "outputs": [],
   "source": [
    "# Dropping The irrelevant Columns:\n",
    "\n",
    "df_zomato.drop(columns = {'Address' ,'Locality Verbose' , 'Longitude' , 'Latitude'} , inplace = True)"
   ]
  },
  {
   "cell_type": "code",
   "execution_count": 32,
   "id": "7a3a9a23",
   "metadata": {},
   "outputs": [
    {
     "data": {
      "text/plain": [
       "Index(['Restaurant ID', 'Restaurant Name', 'Country Code', 'City', 'Locality',\n",
       "       'Cuisines', 'Average Cost for two', 'Currency', 'Has Table booking',\n",
       "       'Has Online delivery', 'Is delivering now', 'Switch to order menu',\n",
       "       'Price range', 'Aggregate rating', 'Rating color', 'Rating text',\n",
       "       'Votes', 'Country'],\n",
       "      dtype='object')"
      ]
     },
     "execution_count": 32,
     "metadata": {},
     "output_type": "execute_result"
    }
   ],
   "source": [
    "df_zomato.columns"
   ]
  },
  {
   "cell_type": "markdown",
   "id": "7bb62f10",
   "metadata": {},
   "source": [
    "### Features : "
   ]
  },
  {
   "cell_type": "markdown",
   "id": "aef88978",
   "metadata": {},
   "source": [
    "* **Restaurant ID** – Unique ID provided to each restaurant\n",
    "* **Restaurant Name** – Name of the Restaurant\n",
    "* **Country Code** – Code of the country in which the restaurant are located\n",
    "* **Address** – Address of the Restaurant\n",
    "* **City** – City in which restaurant is located\n",
    "* **Locality** – Locality of city in which restaurants are located,\n",
    "* **Cuisines** – Cuisines offered by the Restaurant\n",
    "* **Average Cost for two** - Cost for two people in different currencies.\n",
    "* **Currency** – Legal tender for the country.\n",
    "* **Has Table booking** – If Restaurant has facility of prior table booking. Answers are in Yes/No,\n",
    "* **Has Online delivery?** - If Restaurant has facility of Online Delivery. Answers are in Yes/No.\n",
    "* **Is delivering now?** – If Restaurant was offering home delivery when the data was collected.\n",
    "* **Price Range** – Range of price food.\n",
    "* **Aggregate rating** - Average rating out of 5.\n",
    "* **Rating Color** – A color assigned to restaurant based Aggregate rating\n",
    "* **Rating Text** – Segments the restaurant ratings in Five Categories – Excellent, Very Good, Good, Average, Poor, Not Rated\n",
    "* **Votes** – Total Number of ratings given by people.\n",
    "* **Country** - Name of the Country"
   ]
  },
  {
   "cell_type": "markdown",
   "id": "6760915d",
   "metadata": {},
   "source": [
    "#### Renaming columns"
   ]
  },
  {
   "cell_type": "code",
   "execution_count": 34,
   "id": "9220ffb6",
   "metadata": {},
   "outputs": [],
   "source": [
    "df_zomato.rename(columns={\"Restaurant ID\":\"restaurant_id\",\"Restaurant Name\":\"restaurant_name\",\"Country Code\":\"country_code\",\n",
    "                           \"Average Cost for two\":\"average_cost_two\",\"Has Table booking\":\"table_booking\",\n",
    "                           \"Has Online delivery\":\"online_delivery\",\"Is delivering now\":\"is_delivering_now\",\"Switch to order menu\":\"switch_to_order\",\n",
    "                           \"Price range\":\"price_range\",\"Aggregate rating\":\"agg_rating\",\"Rating color\":\"rating_color\",\"Rating text\":\"rating_text\"},inplace=True)"
   ]
  },
  {
   "cell_type": "code",
   "execution_count": 35,
   "id": "307ee9c0",
   "metadata": {
    "scrolled": false
   },
   "outputs": [
    {
     "name": "stdout",
     "output_type": "stream",
     "text": [
      "<class 'pandas.core.frame.DataFrame'>\n",
      "Int64Index: 9551 entries, 0 to 9550\n",
      "Data columns (total 18 columns):\n",
      " #   Column             Non-Null Count  Dtype  \n",
      "---  ------             --------------  -----  \n",
      " 0   restaurant_id      9551 non-null   int64  \n",
      " 1   restaurant_name    9551 non-null   object \n",
      " 2   country_code       9551 non-null   int64  \n",
      " 3   City               9551 non-null   object \n",
      " 4   Locality           9551 non-null   object \n",
      " 5   Cuisines           9542 non-null   object \n",
      " 6   average_cost_two   9551 non-null   int64  \n",
      " 7   Currency           9551 non-null   object \n",
      " 8   table_booking      9551 non-null   object \n",
      " 9   online_delivery    9551 non-null   object \n",
      " 10  is_delivering_now  9551 non-null   object \n",
      " 11  switch_to_order    9551 non-null   object \n",
      " 12  price_range        9551 non-null   int64  \n",
      " 13  agg_rating         9551 non-null   float64\n",
      " 14  rating_color       9551 non-null   object \n",
      " 15  rating_text        9551 non-null   object \n",
      " 16  Votes              9551 non-null   int64  \n",
      " 17  Country            9551 non-null   object \n",
      "dtypes: float64(1), int64(5), object(12)\n",
      "memory usage: 1.4+ MB\n"
     ]
    }
   ],
   "source": [
    "df_zomato.info()"
   ]
  },
  {
   "cell_type": "markdown",
   "id": "512d7995",
   "metadata": {},
   "source": [
    "First we will see where our data is concentrated. To find this we will make a pie chart to see where the major proportion of restaurants in dataset are situated"
   ]
  },
  {
   "cell_type": "markdown",
   "id": "531f9dfb",
   "metadata": {},
   "source": [
    "### Checking For null values"
   ]
  },
  {
   "cell_type": "code",
   "execution_count": 79,
   "id": "0cccf526",
   "metadata": {
    "scrolled": true
   },
   "outputs": [
    {
     "data": {
      "text/plain": [
       "restaurant_id        0\n",
       "restaurant_name      0\n",
       "country_code         0\n",
       "City                 0\n",
       "Locality             0\n",
       "Cuisines             9\n",
       "average_cost_two     0\n",
       "Currency             0\n",
       "table_booking        0\n",
       "online_delivery      0\n",
       "is_delivering_now    0\n",
       "switch_to_order      0\n",
       "price_range          0\n",
       "agg_rating           0\n",
       "rating_color         0\n",
       "rating_text          0\n",
       "Votes                0\n",
       "Country              0\n",
       "dtype: int64"
      ]
     },
     "execution_count": 79,
     "metadata": {},
     "output_type": "execute_result"
    }
   ],
   "source": [
    "df_zomato.isnull().sum()"
   ]
  },
  {
   "cell_type": "markdown",
   "id": "906722d2",
   "metadata": {},
   "source": [
    "Observation: \n",
    "    **There are No null values in the dataset**  \n",
    "### Checking for duplicates: "
   ]
  },
  {
   "cell_type": "code",
   "execution_count": 84,
   "id": "00dcd0d3",
   "metadata": {},
   "outputs": [
    {
     "data": {
      "text/plain": [
       "0"
      ]
     },
     "execution_count": 84,
     "metadata": {},
     "output_type": "execute_result"
    }
   ],
   "source": [
    "df_zomato.duplicated().sum()"
   ]
  },
  {
   "cell_type": "markdown",
   "id": "4cf5ffd3",
   "metadata": {},
   "source": [
    "observation: There are __No duplicated rows__ in the dataframe"
   ]
  },
  {
   "cell_type": "markdown",
   "id": "51a0a947",
   "metadata": {},
   "source": [
    "#### Proportion of resturants in diff countries and cities: "
   ]
  },
  {
   "cell_type": "code",
   "execution_count": 43,
   "id": "f7a2cf06",
   "metadata": {},
   "outputs": [],
   "source": [
    "# Grouping resturants based on Country \n",
    "Restaurants=df_zomato[\"Country\"].value_counts().reset_index()\n",
    "Restaurants[\"C_Country\"]=Restaurants.apply(lambda x:x[\"index\"] if x[\"Country\"]>=60 else \"Other Countries\" ,axis=1)\n",
    "Restaurants.rename(columns={\"Country\":\"Count\",\"C_Country\":\"Country\"},inplace=True)\n",
    "Final_Restaurants=Restaurants.groupby(\"Country\").agg(Count=(\"Count\",\"sum\"))"
   ]
  },
  {
   "cell_type": "code",
   "execution_count": 65,
   "id": "e2f66cb8",
   "metadata": {},
   "outputs": [
    {
     "data": {
      "application/vnd.plotly.v1+json": {
       "config": {
        "plotlyServerURL": "https://plot.ly"
       },
       "data": [
        {
         "customdata": [
          60,
          8652,
          205,
          60,
          60,
          80,
          434
         ],
         "direction": "counterclockwise",
         "hovertemplate": "%{label}<br>Restaurant Count:%{customdata}",
         "labels": [
          "Brazil",
          "India",
          "Other Countries",
          "South Africa",
          "UAE",
          "United Kingdom",
          "United States"
         ],
         "textfont": {
          "size": 10
         },
         "textinfo": "percent",
         "type": "pie",
         "values": [
          60,
          8652,
          205,
          60,
          60,
          80,
          434
         ]
        }
       ],
       "layout": {
        "template": {
         "data": {
          "bar": [
           {
            "error_x": {
             "color": "#2a3f5f"
            },
            "error_y": {
             "color": "#2a3f5f"
            },
            "marker": {
             "line": {
              "color": "#E5ECF6",
              "width": 0.5
             },
             "pattern": {
              "fillmode": "overlay",
              "size": 10,
              "solidity": 0.2
             }
            },
            "type": "bar"
           }
          ],
          "barpolar": [
           {
            "marker": {
             "line": {
              "color": "#E5ECF6",
              "width": 0.5
             },
             "pattern": {
              "fillmode": "overlay",
              "size": 10,
              "solidity": 0.2
             }
            },
            "type": "barpolar"
           }
          ],
          "carpet": [
           {
            "aaxis": {
             "endlinecolor": "#2a3f5f",
             "gridcolor": "white",
             "linecolor": "white",
             "minorgridcolor": "white",
             "startlinecolor": "#2a3f5f"
            },
            "baxis": {
             "endlinecolor": "#2a3f5f",
             "gridcolor": "white",
             "linecolor": "white",
             "minorgridcolor": "white",
             "startlinecolor": "#2a3f5f"
            },
            "type": "carpet"
           }
          ],
          "choropleth": [
           {
            "colorbar": {
             "outlinewidth": 0,
             "ticks": ""
            },
            "type": "choropleth"
           }
          ],
          "contour": [
           {
            "colorbar": {
             "outlinewidth": 0,
             "ticks": ""
            },
            "colorscale": [
             [
              0,
              "#0d0887"
             ],
             [
              0.1111111111111111,
              "#46039f"
             ],
             [
              0.2222222222222222,
              "#7201a8"
             ],
             [
              0.3333333333333333,
              "#9c179e"
             ],
             [
              0.4444444444444444,
              "#bd3786"
             ],
             [
              0.5555555555555556,
              "#d8576b"
             ],
             [
              0.6666666666666666,
              "#ed7953"
             ],
             [
              0.7777777777777778,
              "#fb9f3a"
             ],
             [
              0.8888888888888888,
              "#fdca26"
             ],
             [
              1,
              "#f0f921"
             ]
            ],
            "type": "contour"
           }
          ],
          "contourcarpet": [
           {
            "colorbar": {
             "outlinewidth": 0,
             "ticks": ""
            },
            "type": "contourcarpet"
           }
          ],
          "heatmap": [
           {
            "colorbar": {
             "outlinewidth": 0,
             "ticks": ""
            },
            "colorscale": [
             [
              0,
              "#0d0887"
             ],
             [
              0.1111111111111111,
              "#46039f"
             ],
             [
              0.2222222222222222,
              "#7201a8"
             ],
             [
              0.3333333333333333,
              "#9c179e"
             ],
             [
              0.4444444444444444,
              "#bd3786"
             ],
             [
              0.5555555555555556,
              "#d8576b"
             ],
             [
              0.6666666666666666,
              "#ed7953"
             ],
             [
              0.7777777777777778,
              "#fb9f3a"
             ],
             [
              0.8888888888888888,
              "#fdca26"
             ],
             [
              1,
              "#f0f921"
             ]
            ],
            "type": "heatmap"
           }
          ],
          "heatmapgl": [
           {
            "colorbar": {
             "outlinewidth": 0,
             "ticks": ""
            },
            "colorscale": [
             [
              0,
              "#0d0887"
             ],
             [
              0.1111111111111111,
              "#46039f"
             ],
             [
              0.2222222222222222,
              "#7201a8"
             ],
             [
              0.3333333333333333,
              "#9c179e"
             ],
             [
              0.4444444444444444,
              "#bd3786"
             ],
             [
              0.5555555555555556,
              "#d8576b"
             ],
             [
              0.6666666666666666,
              "#ed7953"
             ],
             [
              0.7777777777777778,
              "#fb9f3a"
             ],
             [
              0.8888888888888888,
              "#fdca26"
             ],
             [
              1,
              "#f0f921"
             ]
            ],
            "type": "heatmapgl"
           }
          ],
          "histogram": [
           {
            "marker": {
             "pattern": {
              "fillmode": "overlay",
              "size": 10,
              "solidity": 0.2
             }
            },
            "type": "histogram"
           }
          ],
          "histogram2d": [
           {
            "colorbar": {
             "outlinewidth": 0,
             "ticks": ""
            },
            "colorscale": [
             [
              0,
              "#0d0887"
             ],
             [
              0.1111111111111111,
              "#46039f"
             ],
             [
              0.2222222222222222,
              "#7201a8"
             ],
             [
              0.3333333333333333,
              "#9c179e"
             ],
             [
              0.4444444444444444,
              "#bd3786"
             ],
             [
              0.5555555555555556,
              "#d8576b"
             ],
             [
              0.6666666666666666,
              "#ed7953"
             ],
             [
              0.7777777777777778,
              "#fb9f3a"
             ],
             [
              0.8888888888888888,
              "#fdca26"
             ],
             [
              1,
              "#f0f921"
             ]
            ],
            "type": "histogram2d"
           }
          ],
          "histogram2dcontour": [
           {
            "colorbar": {
             "outlinewidth": 0,
             "ticks": ""
            },
            "colorscale": [
             [
              0,
              "#0d0887"
             ],
             [
              0.1111111111111111,
              "#46039f"
             ],
             [
              0.2222222222222222,
              "#7201a8"
             ],
             [
              0.3333333333333333,
              "#9c179e"
             ],
             [
              0.4444444444444444,
              "#bd3786"
             ],
             [
              0.5555555555555556,
              "#d8576b"
             ],
             [
              0.6666666666666666,
              "#ed7953"
             ],
             [
              0.7777777777777778,
              "#fb9f3a"
             ],
             [
              0.8888888888888888,
              "#fdca26"
             ],
             [
              1,
              "#f0f921"
             ]
            ],
            "type": "histogram2dcontour"
           }
          ],
          "mesh3d": [
           {
            "colorbar": {
             "outlinewidth": 0,
             "ticks": ""
            },
            "type": "mesh3d"
           }
          ],
          "parcoords": [
           {
            "line": {
             "colorbar": {
              "outlinewidth": 0,
              "ticks": ""
             }
            },
            "type": "parcoords"
           }
          ],
          "pie": [
           {
            "automargin": true,
            "type": "pie"
           }
          ],
          "scatter": [
           {
            "marker": {
             "colorbar": {
              "outlinewidth": 0,
              "ticks": ""
             }
            },
            "type": "scatter"
           }
          ],
          "scatter3d": [
           {
            "line": {
             "colorbar": {
              "outlinewidth": 0,
              "ticks": ""
             }
            },
            "marker": {
             "colorbar": {
              "outlinewidth": 0,
              "ticks": ""
             }
            },
            "type": "scatter3d"
           }
          ],
          "scattercarpet": [
           {
            "marker": {
             "colorbar": {
              "outlinewidth": 0,
              "ticks": ""
             }
            },
            "type": "scattercarpet"
           }
          ],
          "scattergeo": [
           {
            "marker": {
             "colorbar": {
              "outlinewidth": 0,
              "ticks": ""
             }
            },
            "type": "scattergeo"
           }
          ],
          "scattergl": [
           {
            "marker": {
             "colorbar": {
              "outlinewidth": 0,
              "ticks": ""
             }
            },
            "type": "scattergl"
           }
          ],
          "scattermapbox": [
           {
            "marker": {
             "colorbar": {
              "outlinewidth": 0,
              "ticks": ""
             }
            },
            "type": "scattermapbox"
           }
          ],
          "scatterpolar": [
           {
            "marker": {
             "colorbar": {
              "outlinewidth": 0,
              "ticks": ""
             }
            },
            "type": "scatterpolar"
           }
          ],
          "scatterpolargl": [
           {
            "marker": {
             "colorbar": {
              "outlinewidth": 0,
              "ticks": ""
             }
            },
            "type": "scatterpolargl"
           }
          ],
          "scatterternary": [
           {
            "marker": {
             "colorbar": {
              "outlinewidth": 0,
              "ticks": ""
             }
            },
            "type": "scatterternary"
           }
          ],
          "surface": [
           {
            "colorbar": {
             "outlinewidth": 0,
             "ticks": ""
            },
            "colorscale": [
             [
              0,
              "#0d0887"
             ],
             [
              0.1111111111111111,
              "#46039f"
             ],
             [
              0.2222222222222222,
              "#7201a8"
             ],
             [
              0.3333333333333333,
              "#9c179e"
             ],
             [
              0.4444444444444444,
              "#bd3786"
             ],
             [
              0.5555555555555556,
              "#d8576b"
             ],
             [
              0.6666666666666666,
              "#ed7953"
             ],
             [
              0.7777777777777778,
              "#fb9f3a"
             ],
             [
              0.8888888888888888,
              "#fdca26"
             ],
             [
              1,
              "#f0f921"
             ]
            ],
            "type": "surface"
           }
          ],
          "table": [
           {
            "cells": {
             "fill": {
              "color": "#EBF0F8"
             },
             "line": {
              "color": "white"
             }
            },
            "header": {
             "fill": {
              "color": "#C8D4E3"
             },
             "line": {
              "color": "white"
             }
            },
            "type": "table"
           }
          ]
         },
         "layout": {
          "annotationdefaults": {
           "arrowcolor": "#2a3f5f",
           "arrowhead": 0,
           "arrowwidth": 1
          },
          "autotypenumbers": "strict",
          "coloraxis": {
           "colorbar": {
            "outlinewidth": 0,
            "ticks": ""
           }
          },
          "colorscale": {
           "diverging": [
            [
             0,
             "#8e0152"
            ],
            [
             0.1,
             "#c51b7d"
            ],
            [
             0.2,
             "#de77ae"
            ],
            [
             0.3,
             "#f1b6da"
            ],
            [
             0.4,
             "#fde0ef"
            ],
            [
             0.5,
             "#f7f7f7"
            ],
            [
             0.6,
             "#e6f5d0"
            ],
            [
             0.7,
             "#b8e186"
            ],
            [
             0.8,
             "#7fbc41"
            ],
            [
             0.9,
             "#4d9221"
            ],
            [
             1,
             "#276419"
            ]
           ],
           "sequential": [
            [
             0,
             "#0d0887"
            ],
            [
             0.1111111111111111,
             "#46039f"
            ],
            [
             0.2222222222222222,
             "#7201a8"
            ],
            [
             0.3333333333333333,
             "#9c179e"
            ],
            [
             0.4444444444444444,
             "#bd3786"
            ],
            [
             0.5555555555555556,
             "#d8576b"
            ],
            [
             0.6666666666666666,
             "#ed7953"
            ],
            [
             0.7777777777777778,
             "#fb9f3a"
            ],
            [
             0.8888888888888888,
             "#fdca26"
            ],
            [
             1,
             "#f0f921"
            ]
           ],
           "sequentialminus": [
            [
             0,
             "#0d0887"
            ],
            [
             0.1111111111111111,
             "#46039f"
            ],
            [
             0.2222222222222222,
             "#7201a8"
            ],
            [
             0.3333333333333333,
             "#9c179e"
            ],
            [
             0.4444444444444444,
             "#bd3786"
            ],
            [
             0.5555555555555556,
             "#d8576b"
            ],
            [
             0.6666666666666666,
             "#ed7953"
            ],
            [
             0.7777777777777778,
             "#fb9f3a"
            ],
            [
             0.8888888888888888,
             "#fdca26"
            ],
            [
             1,
             "#f0f921"
            ]
           ]
          },
          "colorway": [
           "#636efa",
           "#EF553B",
           "#00cc96",
           "#ab63fa",
           "#FFA15A",
           "#19d3f3",
           "#FF6692",
           "#B6E880",
           "#FF97FF",
           "#FECB52"
          ],
          "font": {
           "color": "#2a3f5f"
          },
          "geo": {
           "bgcolor": "white",
           "lakecolor": "white",
           "landcolor": "#E5ECF6",
           "showlakes": true,
           "showland": true,
           "subunitcolor": "white"
          },
          "hoverlabel": {
           "align": "left"
          },
          "hovermode": "closest",
          "mapbox": {
           "style": "light"
          },
          "paper_bgcolor": "white",
          "plot_bgcolor": "#E5ECF6",
          "polar": {
           "angularaxis": {
            "gridcolor": "white",
            "linecolor": "white",
            "ticks": ""
           },
           "bgcolor": "#E5ECF6",
           "radialaxis": {
            "gridcolor": "white",
            "linecolor": "white",
            "ticks": ""
           }
          },
          "scene": {
           "xaxis": {
            "backgroundcolor": "#E5ECF6",
            "gridcolor": "white",
            "gridwidth": 2,
            "linecolor": "white",
            "showbackground": true,
            "ticks": "",
            "zerolinecolor": "white"
           },
           "yaxis": {
            "backgroundcolor": "#E5ECF6",
            "gridcolor": "white",
            "gridwidth": 2,
            "linecolor": "white",
            "showbackground": true,
            "ticks": "",
            "zerolinecolor": "white"
           },
           "zaxis": {
            "backgroundcolor": "#E5ECF6",
            "gridcolor": "white",
            "gridwidth": 2,
            "linecolor": "white",
            "showbackground": true,
            "ticks": "",
            "zerolinecolor": "white"
           }
          },
          "shapedefaults": {
           "line": {
            "color": "#2a3f5f"
           }
          },
          "ternary": {
           "aaxis": {
            "gridcolor": "white",
            "linecolor": "white",
            "ticks": ""
           },
           "baxis": {
            "gridcolor": "white",
            "linecolor": "white",
            "ticks": ""
           },
           "bgcolor": "#E5ECF6",
           "caxis": {
            "gridcolor": "white",
            "linecolor": "white",
            "ticks": ""
           }
          },
          "title": {
           "x": 0.05
          },
          "xaxis": {
           "automargin": true,
           "gridcolor": "white",
           "linecolor": "white",
           "ticks": "",
           "title": {
            "standoff": 15
           },
           "zerolinecolor": "white",
           "zerolinewidth": 2
          },
          "yaxis": {
           "automargin": true,
           "gridcolor": "white",
           "linecolor": "white",
           "ticks": "",
           "title": {
            "standoff": 15
           },
           "zerolinecolor": "white",
           "zerolinewidth": 2
          }
         }
        },
        "title": {
         "font": {
          "color": "darkred",
          "family": "Verdana",
          "size": 25
         },
         "text": "Propotion of Restaurants in Different Countries"
        }
       }
      },
      "text/html": [
       "<div>                            <div id=\"5c1e4035-f738-4001-a4ca-44a135260836\" class=\"plotly-graph-div\" style=\"height:525px; width:100%;\"></div>            <script type=\"text/javascript\">                require([\"plotly\"], function(Plotly) {                    window.PLOTLYENV=window.PLOTLYENV || {};                                    if (document.getElementById(\"5c1e4035-f738-4001-a4ca-44a135260836\")) {                    Plotly.newPlot(                        \"5c1e4035-f738-4001-a4ca-44a135260836\",                        [{\"customdata\":[60,8652,205,60,60,80,434],\"direction\":\"counterclockwise\",\"hovertemplate\":\"%{label}<br>Restaurant Count:%{customdata}\",\"labels\":[\"Brazil\",\"India\",\"Other Countries\",\"South Africa\",\"UAE\",\"United Kingdom\",\"United States\"],\"values\":[60,8652,205,60,60,80,434],\"type\":\"pie\",\"textfont\":{\"size\":10},\"textinfo\":\"percent\"}],                        {\"template\":{\"data\":{\"bar\":[{\"error_x\":{\"color\":\"#2a3f5f\"},\"error_y\":{\"color\":\"#2a3f5f\"},\"marker\":{\"line\":{\"color\":\"#E5ECF6\",\"width\":0.5},\"pattern\":{\"fillmode\":\"overlay\",\"size\":10,\"solidity\":0.2}},\"type\":\"bar\"}],\"barpolar\":[{\"marker\":{\"line\":{\"color\":\"#E5ECF6\",\"width\":0.5},\"pattern\":{\"fillmode\":\"overlay\",\"size\":10,\"solidity\":0.2}},\"type\":\"barpolar\"}],\"carpet\":[{\"aaxis\":{\"endlinecolor\":\"#2a3f5f\",\"gridcolor\":\"white\",\"linecolor\":\"white\",\"minorgridcolor\":\"white\",\"startlinecolor\":\"#2a3f5f\"},\"baxis\":{\"endlinecolor\":\"#2a3f5f\",\"gridcolor\":\"white\",\"linecolor\":\"white\",\"minorgridcolor\":\"white\",\"startlinecolor\":\"#2a3f5f\"},\"type\":\"carpet\"}],\"choropleth\":[{\"colorbar\":{\"outlinewidth\":0,\"ticks\":\"\"},\"type\":\"choropleth\"}],\"contour\":[{\"colorbar\":{\"outlinewidth\":0,\"ticks\":\"\"},\"colorscale\":[[0.0,\"#0d0887\"],[0.1111111111111111,\"#46039f\"],[0.2222222222222222,\"#7201a8\"],[0.3333333333333333,\"#9c179e\"],[0.4444444444444444,\"#bd3786\"],[0.5555555555555556,\"#d8576b\"],[0.6666666666666666,\"#ed7953\"],[0.7777777777777778,\"#fb9f3a\"],[0.8888888888888888,\"#fdca26\"],[1.0,\"#f0f921\"]],\"type\":\"contour\"}],\"contourcarpet\":[{\"colorbar\":{\"outlinewidth\":0,\"ticks\":\"\"},\"type\":\"contourcarpet\"}],\"heatmap\":[{\"colorbar\":{\"outlinewidth\":0,\"ticks\":\"\"},\"colorscale\":[[0.0,\"#0d0887\"],[0.1111111111111111,\"#46039f\"],[0.2222222222222222,\"#7201a8\"],[0.3333333333333333,\"#9c179e\"],[0.4444444444444444,\"#bd3786\"],[0.5555555555555556,\"#d8576b\"],[0.6666666666666666,\"#ed7953\"],[0.7777777777777778,\"#fb9f3a\"],[0.8888888888888888,\"#fdca26\"],[1.0,\"#f0f921\"]],\"type\":\"heatmap\"}],\"heatmapgl\":[{\"colorbar\":{\"outlinewidth\":0,\"ticks\":\"\"},\"colorscale\":[[0.0,\"#0d0887\"],[0.1111111111111111,\"#46039f\"],[0.2222222222222222,\"#7201a8\"],[0.3333333333333333,\"#9c179e\"],[0.4444444444444444,\"#bd3786\"],[0.5555555555555556,\"#d8576b\"],[0.6666666666666666,\"#ed7953\"],[0.7777777777777778,\"#fb9f3a\"],[0.8888888888888888,\"#fdca26\"],[1.0,\"#f0f921\"]],\"type\":\"heatmapgl\"}],\"histogram\":[{\"marker\":{\"pattern\":{\"fillmode\":\"overlay\",\"size\":10,\"solidity\":0.2}},\"type\":\"histogram\"}],\"histogram2d\":[{\"colorbar\":{\"outlinewidth\":0,\"ticks\":\"\"},\"colorscale\":[[0.0,\"#0d0887\"],[0.1111111111111111,\"#46039f\"],[0.2222222222222222,\"#7201a8\"],[0.3333333333333333,\"#9c179e\"],[0.4444444444444444,\"#bd3786\"],[0.5555555555555556,\"#d8576b\"],[0.6666666666666666,\"#ed7953\"],[0.7777777777777778,\"#fb9f3a\"],[0.8888888888888888,\"#fdca26\"],[1.0,\"#f0f921\"]],\"type\":\"histogram2d\"}],\"histogram2dcontour\":[{\"colorbar\":{\"outlinewidth\":0,\"ticks\":\"\"},\"colorscale\":[[0.0,\"#0d0887\"],[0.1111111111111111,\"#46039f\"],[0.2222222222222222,\"#7201a8\"],[0.3333333333333333,\"#9c179e\"],[0.4444444444444444,\"#bd3786\"],[0.5555555555555556,\"#d8576b\"],[0.6666666666666666,\"#ed7953\"],[0.7777777777777778,\"#fb9f3a\"],[0.8888888888888888,\"#fdca26\"],[1.0,\"#f0f921\"]],\"type\":\"histogram2dcontour\"}],\"mesh3d\":[{\"colorbar\":{\"outlinewidth\":0,\"ticks\":\"\"},\"type\":\"mesh3d\"}],\"parcoords\":[{\"line\":{\"colorbar\":{\"outlinewidth\":0,\"ticks\":\"\"}},\"type\":\"parcoords\"}],\"pie\":[{\"automargin\":true,\"type\":\"pie\"}],\"scatter\":[{\"marker\":{\"colorbar\":{\"outlinewidth\":0,\"ticks\":\"\"}},\"type\":\"scatter\"}],\"scatter3d\":[{\"line\":{\"colorbar\":{\"outlinewidth\":0,\"ticks\":\"\"}},\"marker\":{\"colorbar\":{\"outlinewidth\":0,\"ticks\":\"\"}},\"type\":\"scatter3d\"}],\"scattercarpet\":[{\"marker\":{\"colorbar\":{\"outlinewidth\":0,\"ticks\":\"\"}},\"type\":\"scattercarpet\"}],\"scattergeo\":[{\"marker\":{\"colorbar\":{\"outlinewidth\":0,\"ticks\":\"\"}},\"type\":\"scattergeo\"}],\"scattergl\":[{\"marker\":{\"colorbar\":{\"outlinewidth\":0,\"ticks\":\"\"}},\"type\":\"scattergl\"}],\"scattermapbox\":[{\"marker\":{\"colorbar\":{\"outlinewidth\":0,\"ticks\":\"\"}},\"type\":\"scattermapbox\"}],\"scatterpolar\":[{\"marker\":{\"colorbar\":{\"outlinewidth\":0,\"ticks\":\"\"}},\"type\":\"scatterpolar\"}],\"scatterpolargl\":[{\"marker\":{\"colorbar\":{\"outlinewidth\":0,\"ticks\":\"\"}},\"type\":\"scatterpolargl\"}],\"scatterternary\":[{\"marker\":{\"colorbar\":{\"outlinewidth\":0,\"ticks\":\"\"}},\"type\":\"scatterternary\"}],\"surface\":[{\"colorbar\":{\"outlinewidth\":0,\"ticks\":\"\"},\"colorscale\":[[0.0,\"#0d0887\"],[0.1111111111111111,\"#46039f\"],[0.2222222222222222,\"#7201a8\"],[0.3333333333333333,\"#9c179e\"],[0.4444444444444444,\"#bd3786\"],[0.5555555555555556,\"#d8576b\"],[0.6666666666666666,\"#ed7953\"],[0.7777777777777778,\"#fb9f3a\"],[0.8888888888888888,\"#fdca26\"],[1.0,\"#f0f921\"]],\"type\":\"surface\"}],\"table\":[{\"cells\":{\"fill\":{\"color\":\"#EBF0F8\"},\"line\":{\"color\":\"white\"}},\"header\":{\"fill\":{\"color\":\"#C8D4E3\"},\"line\":{\"color\":\"white\"}},\"type\":\"table\"}]},\"layout\":{\"annotationdefaults\":{\"arrowcolor\":\"#2a3f5f\",\"arrowhead\":0,\"arrowwidth\":1},\"autotypenumbers\":\"strict\",\"coloraxis\":{\"colorbar\":{\"outlinewidth\":0,\"ticks\":\"\"}},\"colorscale\":{\"diverging\":[[0,\"#8e0152\"],[0.1,\"#c51b7d\"],[0.2,\"#de77ae\"],[0.3,\"#f1b6da\"],[0.4,\"#fde0ef\"],[0.5,\"#f7f7f7\"],[0.6,\"#e6f5d0\"],[0.7,\"#b8e186\"],[0.8,\"#7fbc41\"],[0.9,\"#4d9221\"],[1,\"#276419\"]],\"sequential\":[[0.0,\"#0d0887\"],[0.1111111111111111,\"#46039f\"],[0.2222222222222222,\"#7201a8\"],[0.3333333333333333,\"#9c179e\"],[0.4444444444444444,\"#bd3786\"],[0.5555555555555556,\"#d8576b\"],[0.6666666666666666,\"#ed7953\"],[0.7777777777777778,\"#fb9f3a\"],[0.8888888888888888,\"#fdca26\"],[1.0,\"#f0f921\"]],\"sequentialminus\":[[0.0,\"#0d0887\"],[0.1111111111111111,\"#46039f\"],[0.2222222222222222,\"#7201a8\"],[0.3333333333333333,\"#9c179e\"],[0.4444444444444444,\"#bd3786\"],[0.5555555555555556,\"#d8576b\"],[0.6666666666666666,\"#ed7953\"],[0.7777777777777778,\"#fb9f3a\"],[0.8888888888888888,\"#fdca26\"],[1.0,\"#f0f921\"]]},\"colorway\":[\"#636efa\",\"#EF553B\",\"#00cc96\",\"#ab63fa\",\"#FFA15A\",\"#19d3f3\",\"#FF6692\",\"#B6E880\",\"#FF97FF\",\"#FECB52\"],\"font\":{\"color\":\"#2a3f5f\"},\"geo\":{\"bgcolor\":\"white\",\"lakecolor\":\"white\",\"landcolor\":\"#E5ECF6\",\"showlakes\":true,\"showland\":true,\"subunitcolor\":\"white\"},\"hoverlabel\":{\"align\":\"left\"},\"hovermode\":\"closest\",\"mapbox\":{\"style\":\"light\"},\"paper_bgcolor\":\"white\",\"plot_bgcolor\":\"#E5ECF6\",\"polar\":{\"angularaxis\":{\"gridcolor\":\"white\",\"linecolor\":\"white\",\"ticks\":\"\"},\"bgcolor\":\"#E5ECF6\",\"radialaxis\":{\"gridcolor\":\"white\",\"linecolor\":\"white\",\"ticks\":\"\"}},\"scene\":{\"xaxis\":{\"backgroundcolor\":\"#E5ECF6\",\"gridcolor\":\"white\",\"gridwidth\":2,\"linecolor\":\"white\",\"showbackground\":true,\"ticks\":\"\",\"zerolinecolor\":\"white\"},\"yaxis\":{\"backgroundcolor\":\"#E5ECF6\",\"gridcolor\":\"white\",\"gridwidth\":2,\"linecolor\":\"white\",\"showbackground\":true,\"ticks\":\"\",\"zerolinecolor\":\"white\"},\"zaxis\":{\"backgroundcolor\":\"#E5ECF6\",\"gridcolor\":\"white\",\"gridwidth\":2,\"linecolor\":\"white\",\"showbackground\":true,\"ticks\":\"\",\"zerolinecolor\":\"white\"}},\"shapedefaults\":{\"line\":{\"color\":\"#2a3f5f\"}},\"ternary\":{\"aaxis\":{\"gridcolor\":\"white\",\"linecolor\":\"white\",\"ticks\":\"\"},\"baxis\":{\"gridcolor\":\"white\",\"linecolor\":\"white\",\"ticks\":\"\"},\"bgcolor\":\"#E5ECF6\",\"caxis\":{\"gridcolor\":\"white\",\"linecolor\":\"white\",\"ticks\":\"\"}},\"title\":{\"x\":0.05},\"xaxis\":{\"automargin\":true,\"gridcolor\":\"white\",\"linecolor\":\"white\",\"ticks\":\"\",\"title\":{\"standoff\":15},\"zerolinecolor\":\"white\",\"zerolinewidth\":2},\"yaxis\":{\"automargin\":true,\"gridcolor\":\"white\",\"linecolor\":\"white\",\"ticks\":\"\",\"title\":{\"standoff\":15},\"zerolinecolor\":\"white\",\"zerolinewidth\":2}}},\"title\":{\"font\":{\"size\":25,\"family\":\"Verdana\",\"color\":\"darkred\"},\"text\":\"Propotion of Restaurants in Different Countries\"}},                        {\"responsive\": true}                    ).then(function(){\n",
       "                            \n",
       "var gd = document.getElementById('5c1e4035-f738-4001-a4ca-44a135260836');\n",
       "var x = new MutationObserver(function (mutations, observer) {{\n",
       "        var display = window.getComputedStyle(gd).display;\n",
       "        if (!display || display === 'none') {{\n",
       "            console.log([gd, 'removed!']);\n",
       "            Plotly.purge(gd);\n",
       "            observer.disconnect();\n",
       "        }}\n",
       "}});\n",
       "\n",
       "// Listen for the removal of the full notebook cells\n",
       "var notebookContainer = gd.closest('#notebook-container');\n",
       "if (notebookContainer) {{\n",
       "    x.observe(notebookContainer, {childList: true});\n",
       "}}\n",
       "\n",
       "// Listen for the clearing of the current output cell\n",
       "var outputEl = gd.closest('.output');\n",
       "if (outputEl) {{\n",
       "    x.observe(outputEl, {childList: true});\n",
       "}}\n",
       "\n",
       "                        })                };                });            </script>        </div>"
      ]
     },
     "metadata": {},
     "output_type": "display_data"
    }
   ],
   "source": [
    "# Creating Piechart for proportion of countries: \n",
    "\n",
    "\n",
    "fig1 = go.Figure(data = go.Pie(values = Final_Restaurants[\"Count\"], \n",
    "                               labels = Final_Restaurants.index,\n",
    "                               customdata = Final_Restaurants[\"Count\"],\n",
    "                               hovertemplate =\"%{label}<br>Restaurant Count:%{customdata}\",\n",
    "                               direction = 'counterclockwise'\n",
    "                           ))\n",
    "\n",
    "fig1.update_traces(textinfo='percent' ,textfont_size=10 )\n",
    "fig1.update_layout(title_text = 'Propotion of Restaurants in Different Countries',title_font = dict(size=25,family='Verdana', \n",
    "                                     color='darkred'))\n",
    "\n",
    "fig1.show()"
   ]
  },
  {
   "cell_type": "markdown",
   "id": "57108953",
   "metadata": {},
   "source": [
    "Observation :  \n",
    "**More than 90% of orders are from India followed by US and UK.**"
   ]
  },
  {
   "cell_type": "code",
   "execution_count": 66,
   "id": "b83a845a",
   "metadata": {},
   "outputs": [
    {
     "data": {
      "text/plain": [
       "New Delhi           5473\n",
       "Gurgaon             1118\n",
       "Noida               1080\n",
       "Faridabad            251\n",
       "Ghaziabad             25\n",
       "                    ... \n",
       "Panchkula              1\n",
       "Mc Millan              1\n",
       "Mayfield               1\n",
       "Macedon                1\n",
       "Vineland Station       1\n",
       "Name: City, Length: 141, dtype: int64"
      ]
     },
     "execution_count": 66,
     "metadata": {},
     "output_type": "execute_result"
    }
   ],
   "source": [
    "# Grouping Resturants based on city\n",
    "df_zomato[\"City\"].value_counts()"
   ]
  },
  {
   "cell_type": "code",
   "execution_count": 68,
   "id": "ef8bef67",
   "metadata": {},
   "outputs": [
    {
     "data": {
      "application/vnd.plotly.v1+json": {
       "config": {
        "plotlyServerURL": "https://plot.ly"
       },
       "data": [
        {
         "customdata": [
          251,
          25,
          1118,
          5473,
          1080,
          1604
         ],
         "direction": "counterclockwise",
         "hovertemplate": "%{label}<br>Restaurant Count:%{customdata}",
         "labels": [
          "Faridabad",
          "Ghaziabad",
          "Gurgaon",
          "New Delhi",
          "Noida",
          "Other Cities"
         ],
         "textfont": {
          "size": 10
         },
         "textinfo": "label+percent",
         "type": "pie",
         "values": [
          251,
          25,
          1118,
          5473,
          1080,
          1604
         ]
        }
       ],
       "layout": {
        "template": {
         "data": {
          "bar": [
           {
            "error_x": {
             "color": "#2a3f5f"
            },
            "error_y": {
             "color": "#2a3f5f"
            },
            "marker": {
             "line": {
              "color": "#E5ECF6",
              "width": 0.5
             },
             "pattern": {
              "fillmode": "overlay",
              "size": 10,
              "solidity": 0.2
             }
            },
            "type": "bar"
           }
          ],
          "barpolar": [
           {
            "marker": {
             "line": {
              "color": "#E5ECF6",
              "width": 0.5
             },
             "pattern": {
              "fillmode": "overlay",
              "size": 10,
              "solidity": 0.2
             }
            },
            "type": "barpolar"
           }
          ],
          "carpet": [
           {
            "aaxis": {
             "endlinecolor": "#2a3f5f",
             "gridcolor": "white",
             "linecolor": "white",
             "minorgridcolor": "white",
             "startlinecolor": "#2a3f5f"
            },
            "baxis": {
             "endlinecolor": "#2a3f5f",
             "gridcolor": "white",
             "linecolor": "white",
             "minorgridcolor": "white",
             "startlinecolor": "#2a3f5f"
            },
            "type": "carpet"
           }
          ],
          "choropleth": [
           {
            "colorbar": {
             "outlinewidth": 0,
             "ticks": ""
            },
            "type": "choropleth"
           }
          ],
          "contour": [
           {
            "colorbar": {
             "outlinewidth": 0,
             "ticks": ""
            },
            "colorscale": [
             [
              0,
              "#0d0887"
             ],
             [
              0.1111111111111111,
              "#46039f"
             ],
             [
              0.2222222222222222,
              "#7201a8"
             ],
             [
              0.3333333333333333,
              "#9c179e"
             ],
             [
              0.4444444444444444,
              "#bd3786"
             ],
             [
              0.5555555555555556,
              "#d8576b"
             ],
             [
              0.6666666666666666,
              "#ed7953"
             ],
             [
              0.7777777777777778,
              "#fb9f3a"
             ],
             [
              0.8888888888888888,
              "#fdca26"
             ],
             [
              1,
              "#f0f921"
             ]
            ],
            "type": "contour"
           }
          ],
          "contourcarpet": [
           {
            "colorbar": {
             "outlinewidth": 0,
             "ticks": ""
            },
            "type": "contourcarpet"
           }
          ],
          "heatmap": [
           {
            "colorbar": {
             "outlinewidth": 0,
             "ticks": ""
            },
            "colorscale": [
             [
              0,
              "#0d0887"
             ],
             [
              0.1111111111111111,
              "#46039f"
             ],
             [
              0.2222222222222222,
              "#7201a8"
             ],
             [
              0.3333333333333333,
              "#9c179e"
             ],
             [
              0.4444444444444444,
              "#bd3786"
             ],
             [
              0.5555555555555556,
              "#d8576b"
             ],
             [
              0.6666666666666666,
              "#ed7953"
             ],
             [
              0.7777777777777778,
              "#fb9f3a"
             ],
             [
              0.8888888888888888,
              "#fdca26"
             ],
             [
              1,
              "#f0f921"
             ]
            ],
            "type": "heatmap"
           }
          ],
          "heatmapgl": [
           {
            "colorbar": {
             "outlinewidth": 0,
             "ticks": ""
            },
            "colorscale": [
             [
              0,
              "#0d0887"
             ],
             [
              0.1111111111111111,
              "#46039f"
             ],
             [
              0.2222222222222222,
              "#7201a8"
             ],
             [
              0.3333333333333333,
              "#9c179e"
             ],
             [
              0.4444444444444444,
              "#bd3786"
             ],
             [
              0.5555555555555556,
              "#d8576b"
             ],
             [
              0.6666666666666666,
              "#ed7953"
             ],
             [
              0.7777777777777778,
              "#fb9f3a"
             ],
             [
              0.8888888888888888,
              "#fdca26"
             ],
             [
              1,
              "#f0f921"
             ]
            ],
            "type": "heatmapgl"
           }
          ],
          "histogram": [
           {
            "marker": {
             "pattern": {
              "fillmode": "overlay",
              "size": 10,
              "solidity": 0.2
             }
            },
            "type": "histogram"
           }
          ],
          "histogram2d": [
           {
            "colorbar": {
             "outlinewidth": 0,
             "ticks": ""
            },
            "colorscale": [
             [
              0,
              "#0d0887"
             ],
             [
              0.1111111111111111,
              "#46039f"
             ],
             [
              0.2222222222222222,
              "#7201a8"
             ],
             [
              0.3333333333333333,
              "#9c179e"
             ],
             [
              0.4444444444444444,
              "#bd3786"
             ],
             [
              0.5555555555555556,
              "#d8576b"
             ],
             [
              0.6666666666666666,
              "#ed7953"
             ],
             [
              0.7777777777777778,
              "#fb9f3a"
             ],
             [
              0.8888888888888888,
              "#fdca26"
             ],
             [
              1,
              "#f0f921"
             ]
            ],
            "type": "histogram2d"
           }
          ],
          "histogram2dcontour": [
           {
            "colorbar": {
             "outlinewidth": 0,
             "ticks": ""
            },
            "colorscale": [
             [
              0,
              "#0d0887"
             ],
             [
              0.1111111111111111,
              "#46039f"
             ],
             [
              0.2222222222222222,
              "#7201a8"
             ],
             [
              0.3333333333333333,
              "#9c179e"
             ],
             [
              0.4444444444444444,
              "#bd3786"
             ],
             [
              0.5555555555555556,
              "#d8576b"
             ],
             [
              0.6666666666666666,
              "#ed7953"
             ],
             [
              0.7777777777777778,
              "#fb9f3a"
             ],
             [
              0.8888888888888888,
              "#fdca26"
             ],
             [
              1,
              "#f0f921"
             ]
            ],
            "type": "histogram2dcontour"
           }
          ],
          "mesh3d": [
           {
            "colorbar": {
             "outlinewidth": 0,
             "ticks": ""
            },
            "type": "mesh3d"
           }
          ],
          "parcoords": [
           {
            "line": {
             "colorbar": {
              "outlinewidth": 0,
              "ticks": ""
             }
            },
            "type": "parcoords"
           }
          ],
          "pie": [
           {
            "automargin": true,
            "type": "pie"
           }
          ],
          "scatter": [
           {
            "marker": {
             "colorbar": {
              "outlinewidth": 0,
              "ticks": ""
             }
            },
            "type": "scatter"
           }
          ],
          "scatter3d": [
           {
            "line": {
             "colorbar": {
              "outlinewidth": 0,
              "ticks": ""
             }
            },
            "marker": {
             "colorbar": {
              "outlinewidth": 0,
              "ticks": ""
             }
            },
            "type": "scatter3d"
           }
          ],
          "scattercarpet": [
           {
            "marker": {
             "colorbar": {
              "outlinewidth": 0,
              "ticks": ""
             }
            },
            "type": "scattercarpet"
           }
          ],
          "scattergeo": [
           {
            "marker": {
             "colorbar": {
              "outlinewidth": 0,
              "ticks": ""
             }
            },
            "type": "scattergeo"
           }
          ],
          "scattergl": [
           {
            "marker": {
             "colorbar": {
              "outlinewidth": 0,
              "ticks": ""
             }
            },
            "type": "scattergl"
           }
          ],
          "scattermapbox": [
           {
            "marker": {
             "colorbar": {
              "outlinewidth": 0,
              "ticks": ""
             }
            },
            "type": "scattermapbox"
           }
          ],
          "scatterpolar": [
           {
            "marker": {
             "colorbar": {
              "outlinewidth": 0,
              "ticks": ""
             }
            },
            "type": "scatterpolar"
           }
          ],
          "scatterpolargl": [
           {
            "marker": {
             "colorbar": {
              "outlinewidth": 0,
              "ticks": ""
             }
            },
            "type": "scatterpolargl"
           }
          ],
          "scatterternary": [
           {
            "marker": {
             "colorbar": {
              "outlinewidth": 0,
              "ticks": ""
             }
            },
            "type": "scatterternary"
           }
          ],
          "surface": [
           {
            "colorbar": {
             "outlinewidth": 0,
             "ticks": ""
            },
            "colorscale": [
             [
              0,
              "#0d0887"
             ],
             [
              0.1111111111111111,
              "#46039f"
             ],
             [
              0.2222222222222222,
              "#7201a8"
             ],
             [
              0.3333333333333333,
              "#9c179e"
             ],
             [
              0.4444444444444444,
              "#bd3786"
             ],
             [
              0.5555555555555556,
              "#d8576b"
             ],
             [
              0.6666666666666666,
              "#ed7953"
             ],
             [
              0.7777777777777778,
              "#fb9f3a"
             ],
             [
              0.8888888888888888,
              "#fdca26"
             ],
             [
              1,
              "#f0f921"
             ]
            ],
            "type": "surface"
           }
          ],
          "table": [
           {
            "cells": {
             "fill": {
              "color": "#EBF0F8"
             },
             "line": {
              "color": "white"
             }
            },
            "header": {
             "fill": {
              "color": "#C8D4E3"
             },
             "line": {
              "color": "white"
             }
            },
            "type": "table"
           }
          ]
         },
         "layout": {
          "annotationdefaults": {
           "arrowcolor": "#2a3f5f",
           "arrowhead": 0,
           "arrowwidth": 1
          },
          "autotypenumbers": "strict",
          "coloraxis": {
           "colorbar": {
            "outlinewidth": 0,
            "ticks": ""
           }
          },
          "colorscale": {
           "diverging": [
            [
             0,
             "#8e0152"
            ],
            [
             0.1,
             "#c51b7d"
            ],
            [
             0.2,
             "#de77ae"
            ],
            [
             0.3,
             "#f1b6da"
            ],
            [
             0.4,
             "#fde0ef"
            ],
            [
             0.5,
             "#f7f7f7"
            ],
            [
             0.6,
             "#e6f5d0"
            ],
            [
             0.7,
             "#b8e186"
            ],
            [
             0.8,
             "#7fbc41"
            ],
            [
             0.9,
             "#4d9221"
            ],
            [
             1,
             "#276419"
            ]
           ],
           "sequential": [
            [
             0,
             "#0d0887"
            ],
            [
             0.1111111111111111,
             "#46039f"
            ],
            [
             0.2222222222222222,
             "#7201a8"
            ],
            [
             0.3333333333333333,
             "#9c179e"
            ],
            [
             0.4444444444444444,
             "#bd3786"
            ],
            [
             0.5555555555555556,
             "#d8576b"
            ],
            [
             0.6666666666666666,
             "#ed7953"
            ],
            [
             0.7777777777777778,
             "#fb9f3a"
            ],
            [
             0.8888888888888888,
             "#fdca26"
            ],
            [
             1,
             "#f0f921"
            ]
           ],
           "sequentialminus": [
            [
             0,
             "#0d0887"
            ],
            [
             0.1111111111111111,
             "#46039f"
            ],
            [
             0.2222222222222222,
             "#7201a8"
            ],
            [
             0.3333333333333333,
             "#9c179e"
            ],
            [
             0.4444444444444444,
             "#bd3786"
            ],
            [
             0.5555555555555556,
             "#d8576b"
            ],
            [
             0.6666666666666666,
             "#ed7953"
            ],
            [
             0.7777777777777778,
             "#fb9f3a"
            ],
            [
             0.8888888888888888,
             "#fdca26"
            ],
            [
             1,
             "#f0f921"
            ]
           ]
          },
          "colorway": [
           "#636efa",
           "#EF553B",
           "#00cc96",
           "#ab63fa",
           "#FFA15A",
           "#19d3f3",
           "#FF6692",
           "#B6E880",
           "#FF97FF",
           "#FECB52"
          ],
          "font": {
           "color": "#2a3f5f"
          },
          "geo": {
           "bgcolor": "white",
           "lakecolor": "white",
           "landcolor": "#E5ECF6",
           "showlakes": true,
           "showland": true,
           "subunitcolor": "white"
          },
          "hoverlabel": {
           "align": "left"
          },
          "hovermode": "closest",
          "mapbox": {
           "style": "light"
          },
          "paper_bgcolor": "white",
          "plot_bgcolor": "#E5ECF6",
          "polar": {
           "angularaxis": {
            "gridcolor": "white",
            "linecolor": "white",
            "ticks": ""
           },
           "bgcolor": "#E5ECF6",
           "radialaxis": {
            "gridcolor": "white",
            "linecolor": "white",
            "ticks": ""
           }
          },
          "scene": {
           "xaxis": {
            "backgroundcolor": "#E5ECF6",
            "gridcolor": "white",
            "gridwidth": 2,
            "linecolor": "white",
            "showbackground": true,
            "ticks": "",
            "zerolinecolor": "white"
           },
           "yaxis": {
            "backgroundcolor": "#E5ECF6",
            "gridcolor": "white",
            "gridwidth": 2,
            "linecolor": "white",
            "showbackground": true,
            "ticks": "",
            "zerolinecolor": "white"
           },
           "zaxis": {
            "backgroundcolor": "#E5ECF6",
            "gridcolor": "white",
            "gridwidth": 2,
            "linecolor": "white",
            "showbackground": true,
            "ticks": "",
            "zerolinecolor": "white"
           }
          },
          "shapedefaults": {
           "line": {
            "color": "#2a3f5f"
           }
          },
          "ternary": {
           "aaxis": {
            "gridcolor": "white",
            "linecolor": "white",
            "ticks": ""
           },
           "baxis": {
            "gridcolor": "white",
            "linecolor": "white",
            "ticks": ""
           },
           "bgcolor": "#E5ECF6",
           "caxis": {
            "gridcolor": "white",
            "linecolor": "white",
            "ticks": ""
           }
          },
          "title": {
           "x": 0.05
          },
          "xaxis": {
           "automargin": true,
           "gridcolor": "white",
           "linecolor": "white",
           "ticks": "",
           "title": {
            "standoff": 15
           },
           "zerolinecolor": "white",
           "zerolinewidth": 2
          },
          "yaxis": {
           "automargin": true,
           "gridcolor": "white",
           "linecolor": "white",
           "ticks": "",
           "title": {
            "standoff": 15
           },
           "zerolinecolor": "white",
           "zerolinewidth": 2
          }
         }
        },
        "title": {
         "font": {
          "color": "darkred",
          "family": "Verdana",
          "size": 25
         },
         "text": "Propotion of Restaurants in Different Cities"
        }
       }
      },
      "text/html": [
       "<div>                            <div id=\"d48f8a2d-4aae-4329-9855-9f0520155118\" class=\"plotly-graph-div\" style=\"height:525px; width:100%;\"></div>            <script type=\"text/javascript\">                require([\"plotly\"], function(Plotly) {                    window.PLOTLYENV=window.PLOTLYENV || {};                                    if (document.getElementById(\"d48f8a2d-4aae-4329-9855-9f0520155118\")) {                    Plotly.newPlot(                        \"d48f8a2d-4aae-4329-9855-9f0520155118\",                        [{\"customdata\":[251,25,1118,5473,1080,1604],\"direction\":\"counterclockwise\",\"hovertemplate\":\"%{label}<br>Restaurant Count:%{customdata}\",\"labels\":[\"Faridabad\",\"Ghaziabad\",\"Gurgaon\",\"New Delhi\",\"Noida\",\"Other Cities\"],\"values\":[251,25,1118,5473,1080,1604],\"type\":\"pie\",\"textfont\":{\"size\":10},\"textinfo\":\"label+percent\"}],                        {\"template\":{\"data\":{\"bar\":[{\"error_x\":{\"color\":\"#2a3f5f\"},\"error_y\":{\"color\":\"#2a3f5f\"},\"marker\":{\"line\":{\"color\":\"#E5ECF6\",\"width\":0.5},\"pattern\":{\"fillmode\":\"overlay\",\"size\":10,\"solidity\":0.2}},\"type\":\"bar\"}],\"barpolar\":[{\"marker\":{\"line\":{\"color\":\"#E5ECF6\",\"width\":0.5},\"pattern\":{\"fillmode\":\"overlay\",\"size\":10,\"solidity\":0.2}},\"type\":\"barpolar\"}],\"carpet\":[{\"aaxis\":{\"endlinecolor\":\"#2a3f5f\",\"gridcolor\":\"white\",\"linecolor\":\"white\",\"minorgridcolor\":\"white\",\"startlinecolor\":\"#2a3f5f\"},\"baxis\":{\"endlinecolor\":\"#2a3f5f\",\"gridcolor\":\"white\",\"linecolor\":\"white\",\"minorgridcolor\":\"white\",\"startlinecolor\":\"#2a3f5f\"},\"type\":\"carpet\"}],\"choropleth\":[{\"colorbar\":{\"outlinewidth\":0,\"ticks\":\"\"},\"type\":\"choropleth\"}],\"contour\":[{\"colorbar\":{\"outlinewidth\":0,\"ticks\":\"\"},\"colorscale\":[[0.0,\"#0d0887\"],[0.1111111111111111,\"#46039f\"],[0.2222222222222222,\"#7201a8\"],[0.3333333333333333,\"#9c179e\"],[0.4444444444444444,\"#bd3786\"],[0.5555555555555556,\"#d8576b\"],[0.6666666666666666,\"#ed7953\"],[0.7777777777777778,\"#fb9f3a\"],[0.8888888888888888,\"#fdca26\"],[1.0,\"#f0f921\"]],\"type\":\"contour\"}],\"contourcarpet\":[{\"colorbar\":{\"outlinewidth\":0,\"ticks\":\"\"},\"type\":\"contourcarpet\"}],\"heatmap\":[{\"colorbar\":{\"outlinewidth\":0,\"ticks\":\"\"},\"colorscale\":[[0.0,\"#0d0887\"],[0.1111111111111111,\"#46039f\"],[0.2222222222222222,\"#7201a8\"],[0.3333333333333333,\"#9c179e\"],[0.4444444444444444,\"#bd3786\"],[0.5555555555555556,\"#d8576b\"],[0.6666666666666666,\"#ed7953\"],[0.7777777777777778,\"#fb9f3a\"],[0.8888888888888888,\"#fdca26\"],[1.0,\"#f0f921\"]],\"type\":\"heatmap\"}],\"heatmapgl\":[{\"colorbar\":{\"outlinewidth\":0,\"ticks\":\"\"},\"colorscale\":[[0.0,\"#0d0887\"],[0.1111111111111111,\"#46039f\"],[0.2222222222222222,\"#7201a8\"],[0.3333333333333333,\"#9c179e\"],[0.4444444444444444,\"#bd3786\"],[0.5555555555555556,\"#d8576b\"],[0.6666666666666666,\"#ed7953\"],[0.7777777777777778,\"#fb9f3a\"],[0.8888888888888888,\"#fdca26\"],[1.0,\"#f0f921\"]],\"type\":\"heatmapgl\"}],\"histogram\":[{\"marker\":{\"pattern\":{\"fillmode\":\"overlay\",\"size\":10,\"solidity\":0.2}},\"type\":\"histogram\"}],\"histogram2d\":[{\"colorbar\":{\"outlinewidth\":0,\"ticks\":\"\"},\"colorscale\":[[0.0,\"#0d0887\"],[0.1111111111111111,\"#46039f\"],[0.2222222222222222,\"#7201a8\"],[0.3333333333333333,\"#9c179e\"],[0.4444444444444444,\"#bd3786\"],[0.5555555555555556,\"#d8576b\"],[0.6666666666666666,\"#ed7953\"],[0.7777777777777778,\"#fb9f3a\"],[0.8888888888888888,\"#fdca26\"],[1.0,\"#f0f921\"]],\"type\":\"histogram2d\"}],\"histogram2dcontour\":[{\"colorbar\":{\"outlinewidth\":0,\"ticks\":\"\"},\"colorscale\":[[0.0,\"#0d0887\"],[0.1111111111111111,\"#46039f\"],[0.2222222222222222,\"#7201a8\"],[0.3333333333333333,\"#9c179e\"],[0.4444444444444444,\"#bd3786\"],[0.5555555555555556,\"#d8576b\"],[0.6666666666666666,\"#ed7953\"],[0.7777777777777778,\"#fb9f3a\"],[0.8888888888888888,\"#fdca26\"],[1.0,\"#f0f921\"]],\"type\":\"histogram2dcontour\"}],\"mesh3d\":[{\"colorbar\":{\"outlinewidth\":0,\"ticks\":\"\"},\"type\":\"mesh3d\"}],\"parcoords\":[{\"line\":{\"colorbar\":{\"outlinewidth\":0,\"ticks\":\"\"}},\"type\":\"parcoords\"}],\"pie\":[{\"automargin\":true,\"type\":\"pie\"}],\"scatter\":[{\"marker\":{\"colorbar\":{\"outlinewidth\":0,\"ticks\":\"\"}},\"type\":\"scatter\"}],\"scatter3d\":[{\"line\":{\"colorbar\":{\"outlinewidth\":0,\"ticks\":\"\"}},\"marker\":{\"colorbar\":{\"outlinewidth\":0,\"ticks\":\"\"}},\"type\":\"scatter3d\"}],\"scattercarpet\":[{\"marker\":{\"colorbar\":{\"outlinewidth\":0,\"ticks\":\"\"}},\"type\":\"scattercarpet\"}],\"scattergeo\":[{\"marker\":{\"colorbar\":{\"outlinewidth\":0,\"ticks\":\"\"}},\"type\":\"scattergeo\"}],\"scattergl\":[{\"marker\":{\"colorbar\":{\"outlinewidth\":0,\"ticks\":\"\"}},\"type\":\"scattergl\"}],\"scattermapbox\":[{\"marker\":{\"colorbar\":{\"outlinewidth\":0,\"ticks\":\"\"}},\"type\":\"scattermapbox\"}],\"scatterpolar\":[{\"marker\":{\"colorbar\":{\"outlinewidth\":0,\"ticks\":\"\"}},\"type\":\"scatterpolar\"}],\"scatterpolargl\":[{\"marker\":{\"colorbar\":{\"outlinewidth\":0,\"ticks\":\"\"}},\"type\":\"scatterpolargl\"}],\"scatterternary\":[{\"marker\":{\"colorbar\":{\"outlinewidth\":0,\"ticks\":\"\"}},\"type\":\"scatterternary\"}],\"surface\":[{\"colorbar\":{\"outlinewidth\":0,\"ticks\":\"\"},\"colorscale\":[[0.0,\"#0d0887\"],[0.1111111111111111,\"#46039f\"],[0.2222222222222222,\"#7201a8\"],[0.3333333333333333,\"#9c179e\"],[0.4444444444444444,\"#bd3786\"],[0.5555555555555556,\"#d8576b\"],[0.6666666666666666,\"#ed7953\"],[0.7777777777777778,\"#fb9f3a\"],[0.8888888888888888,\"#fdca26\"],[1.0,\"#f0f921\"]],\"type\":\"surface\"}],\"table\":[{\"cells\":{\"fill\":{\"color\":\"#EBF0F8\"},\"line\":{\"color\":\"white\"}},\"header\":{\"fill\":{\"color\":\"#C8D4E3\"},\"line\":{\"color\":\"white\"}},\"type\":\"table\"}]},\"layout\":{\"annotationdefaults\":{\"arrowcolor\":\"#2a3f5f\",\"arrowhead\":0,\"arrowwidth\":1},\"autotypenumbers\":\"strict\",\"coloraxis\":{\"colorbar\":{\"outlinewidth\":0,\"ticks\":\"\"}},\"colorscale\":{\"diverging\":[[0,\"#8e0152\"],[0.1,\"#c51b7d\"],[0.2,\"#de77ae\"],[0.3,\"#f1b6da\"],[0.4,\"#fde0ef\"],[0.5,\"#f7f7f7\"],[0.6,\"#e6f5d0\"],[0.7,\"#b8e186\"],[0.8,\"#7fbc41\"],[0.9,\"#4d9221\"],[1,\"#276419\"]],\"sequential\":[[0.0,\"#0d0887\"],[0.1111111111111111,\"#46039f\"],[0.2222222222222222,\"#7201a8\"],[0.3333333333333333,\"#9c179e\"],[0.4444444444444444,\"#bd3786\"],[0.5555555555555556,\"#d8576b\"],[0.6666666666666666,\"#ed7953\"],[0.7777777777777778,\"#fb9f3a\"],[0.8888888888888888,\"#fdca26\"],[1.0,\"#f0f921\"]],\"sequentialminus\":[[0.0,\"#0d0887\"],[0.1111111111111111,\"#46039f\"],[0.2222222222222222,\"#7201a8\"],[0.3333333333333333,\"#9c179e\"],[0.4444444444444444,\"#bd3786\"],[0.5555555555555556,\"#d8576b\"],[0.6666666666666666,\"#ed7953\"],[0.7777777777777778,\"#fb9f3a\"],[0.8888888888888888,\"#fdca26\"],[1.0,\"#f0f921\"]]},\"colorway\":[\"#636efa\",\"#EF553B\",\"#00cc96\",\"#ab63fa\",\"#FFA15A\",\"#19d3f3\",\"#FF6692\",\"#B6E880\",\"#FF97FF\",\"#FECB52\"],\"font\":{\"color\":\"#2a3f5f\"},\"geo\":{\"bgcolor\":\"white\",\"lakecolor\":\"white\",\"landcolor\":\"#E5ECF6\",\"showlakes\":true,\"showland\":true,\"subunitcolor\":\"white\"},\"hoverlabel\":{\"align\":\"left\"},\"hovermode\":\"closest\",\"mapbox\":{\"style\":\"light\"},\"paper_bgcolor\":\"white\",\"plot_bgcolor\":\"#E5ECF6\",\"polar\":{\"angularaxis\":{\"gridcolor\":\"white\",\"linecolor\":\"white\",\"ticks\":\"\"},\"bgcolor\":\"#E5ECF6\",\"radialaxis\":{\"gridcolor\":\"white\",\"linecolor\":\"white\",\"ticks\":\"\"}},\"scene\":{\"xaxis\":{\"backgroundcolor\":\"#E5ECF6\",\"gridcolor\":\"white\",\"gridwidth\":2,\"linecolor\":\"white\",\"showbackground\":true,\"ticks\":\"\",\"zerolinecolor\":\"white\"},\"yaxis\":{\"backgroundcolor\":\"#E5ECF6\",\"gridcolor\":\"white\",\"gridwidth\":2,\"linecolor\":\"white\",\"showbackground\":true,\"ticks\":\"\",\"zerolinecolor\":\"white\"},\"zaxis\":{\"backgroundcolor\":\"#E5ECF6\",\"gridcolor\":\"white\",\"gridwidth\":2,\"linecolor\":\"white\",\"showbackground\":true,\"ticks\":\"\",\"zerolinecolor\":\"white\"}},\"shapedefaults\":{\"line\":{\"color\":\"#2a3f5f\"}},\"ternary\":{\"aaxis\":{\"gridcolor\":\"white\",\"linecolor\":\"white\",\"ticks\":\"\"},\"baxis\":{\"gridcolor\":\"white\",\"linecolor\":\"white\",\"ticks\":\"\"},\"bgcolor\":\"#E5ECF6\",\"caxis\":{\"gridcolor\":\"white\",\"linecolor\":\"white\",\"ticks\":\"\"}},\"title\":{\"x\":0.05},\"xaxis\":{\"automargin\":true,\"gridcolor\":\"white\",\"linecolor\":\"white\",\"ticks\":\"\",\"title\":{\"standoff\":15},\"zerolinecolor\":\"white\",\"zerolinewidth\":2},\"yaxis\":{\"automargin\":true,\"gridcolor\":\"white\",\"linecolor\":\"white\",\"ticks\":\"\",\"title\":{\"standoff\":15},\"zerolinecolor\":\"white\",\"zerolinewidth\":2}}},\"title\":{\"font\":{\"size\":25,\"family\":\"Verdana\",\"color\":\"darkred\"},\"text\":\"Propotion of Restaurants in Different Cities\"}},                        {\"responsive\": true}                    ).then(function(){\n",
       "                            \n",
       "var gd = document.getElementById('d48f8a2d-4aae-4329-9855-9f0520155118');\n",
       "var x = new MutationObserver(function (mutations, observer) {{\n",
       "        var display = window.getComputedStyle(gd).display;\n",
       "        if (!display || display === 'none') {{\n",
       "            console.log([gd, 'removed!']);\n",
       "            Plotly.purge(gd);\n",
       "            observer.disconnect();\n",
       "        }}\n",
       "}});\n",
       "\n",
       "// Listen for the removal of the full notebook cells\n",
       "var notebookContainer = gd.closest('#notebook-container');\n",
       "if (notebookContainer) {{\n",
       "    x.observe(notebookContainer, {childList: true});\n",
       "}}\n",
       "\n",
       "// Listen for the clearing of the current output cell\n",
       "var outputEl = gd.closest('.output');\n",
       "if (outputEl) {{\n",
       "    x.observe(outputEl, {childList: true});\n",
       "}}\n",
       "\n",
       "                        })                };                });            </script>        </div>"
      ]
     },
     "metadata": {},
     "output_type": "display_data"
    }
   ],
   "source": [
    "Restaurants_city=df_zomato[\"City\"].value_counts().reset_index()\n",
    "Restaurants_city[\"C_City\"]=Restaurants_city.apply(lambda x:x[\"index\"] if x[\"City\"]>=25 else \"Other Cities\" ,axis=1)\n",
    "Restaurants_city.rename(columns={\"City\":\"Count\",\"C_City\":\"City\"},inplace=True)\n",
    "Final_Restaurants_city=Restaurants_city.groupby(\"City\").agg(Count=(\"Count\",\"sum\"))\n",
    "\n",
    "\n",
    "# Creating Piechart for proportion of countries: \n",
    "\n",
    "\n",
    "fig1 = go.Figure(data = go.Pie(values = Final_Restaurants_city[\"Count\"], \n",
    "                               labels = Final_Restaurants_city.index,\n",
    "                               customdata = Final_Restaurants_city[\"Count\"],\n",
    "                               hovertemplate =\"%{label}<br>Restaurant Count:%{customdata}\",\n",
    "                               direction = 'counterclockwise'\n",
    "                           ))\n",
    "\n",
    "fig1.update_traces(textinfo='label+percent' ,textfont_size=10 )\n",
    "fig1.update_layout(title_text = 'Propotion of Restaurants in Different Cities',title_font = dict(size=25,family='Verdana', \n",
    "                                     color='darkred'))\n",
    "\n",
    "fig1.show()"
   ]
  },
  {
   "cell_type": "markdown",
   "id": "565d6528",
   "metadata": {},
   "source": [
    "observation:   \n",
    "    **After analysis we found that most of the restaurants are located in National Capital Region (NCR) in India. The NCR region consists of New Delhi and surrounding cities i.e Ghaziabad, Faridabad, Gurgaon and Noida. From the following Pie Chart we can see that only 16.8% of restaurants in the data come from cities NOT PRESENT in the NCR Region.**\n",
    "    "
   ]
  },
  {
   "cell_type": "markdown",
   "id": "33992459",
   "metadata": {},
   "source": [
    "#### Rating Color and Avg Ratings: "
   ]
  },
  {
   "cell_type": "code",
   "execution_count": 118,
   "id": "1132d225",
   "metadata": {},
   "outputs": [],
   "source": [
    "rating = df_zomato.groupby(['agg_rating' ,'rating_color','rating_text']).size().to_frame().reset_index().rename(columns = {0 :'rating_count'})"
   ]
  },
  {
   "cell_type": "code",
   "execution_count": 119,
   "id": "cd9ec35e",
   "metadata": {},
   "outputs": [
    {
     "data": {
      "text/html": [
       "<div>\n",
       "<style scoped>\n",
       "    .dataframe tbody tr th:only-of-type {\n",
       "        vertical-align: middle;\n",
       "    }\n",
       "\n",
       "    .dataframe tbody tr th {\n",
       "        vertical-align: top;\n",
       "    }\n",
       "\n",
       "    .dataframe thead th {\n",
       "        text-align: right;\n",
       "    }\n",
       "</style>\n",
       "<table border=\"1\" class=\"dataframe\">\n",
       "  <thead>\n",
       "    <tr style=\"text-align: right;\">\n",
       "      <th></th>\n",
       "      <th>agg_rating</th>\n",
       "      <th>rating_color</th>\n",
       "      <th>rating_text</th>\n",
       "      <th>rating_count</th>\n",
       "    </tr>\n",
       "  </thead>\n",
       "  <tbody>\n",
       "    <tr>\n",
       "      <th>0</th>\n",
       "      <td>0.0</td>\n",
       "      <td>White</td>\n",
       "      <td>Not rated</td>\n",
       "      <td>2148</td>\n",
       "    </tr>\n",
       "    <tr>\n",
       "      <th>1</th>\n",
       "      <td>1.8</td>\n",
       "      <td>Red</td>\n",
       "      <td>Poor</td>\n",
       "      <td>1</td>\n",
       "    </tr>\n",
       "    <tr>\n",
       "      <th>2</th>\n",
       "      <td>1.9</td>\n",
       "      <td>Red</td>\n",
       "      <td>Poor</td>\n",
       "      <td>2</td>\n",
       "    </tr>\n",
       "    <tr>\n",
       "      <th>3</th>\n",
       "      <td>2.0</td>\n",
       "      <td>Red</td>\n",
       "      <td>Poor</td>\n",
       "      <td>7</td>\n",
       "    </tr>\n",
       "    <tr>\n",
       "      <th>4</th>\n",
       "      <td>2.1</td>\n",
       "      <td>Red</td>\n",
       "      <td>Poor</td>\n",
       "      <td>15</td>\n",
       "    </tr>\n",
       "    <tr>\n",
       "      <th>5</th>\n",
       "      <td>2.2</td>\n",
       "      <td>Red</td>\n",
       "      <td>Poor</td>\n",
       "      <td>27</td>\n",
       "    </tr>\n",
       "    <tr>\n",
       "      <th>6</th>\n",
       "      <td>2.3</td>\n",
       "      <td>Red</td>\n",
       "      <td>Poor</td>\n",
       "      <td>47</td>\n",
       "    </tr>\n",
       "    <tr>\n",
       "      <th>7</th>\n",
       "      <td>2.4</td>\n",
       "      <td>Red</td>\n",
       "      <td>Poor</td>\n",
       "      <td>87</td>\n",
       "    </tr>\n",
       "    <tr>\n",
       "      <th>8</th>\n",
       "      <td>2.5</td>\n",
       "      <td>Orange</td>\n",
       "      <td>Average</td>\n",
       "      <td>110</td>\n",
       "    </tr>\n",
       "    <tr>\n",
       "      <th>9</th>\n",
       "      <td>2.6</td>\n",
       "      <td>Orange</td>\n",
       "      <td>Average</td>\n",
       "      <td>191</td>\n",
       "    </tr>\n",
       "    <tr>\n",
       "      <th>10</th>\n",
       "      <td>2.7</td>\n",
       "      <td>Orange</td>\n",
       "      <td>Average</td>\n",
       "      <td>250</td>\n",
       "    </tr>\n",
       "    <tr>\n",
       "      <th>11</th>\n",
       "      <td>2.8</td>\n",
       "      <td>Orange</td>\n",
       "      <td>Average</td>\n",
       "      <td>315</td>\n",
       "    </tr>\n",
       "    <tr>\n",
       "      <th>12</th>\n",
       "      <td>2.9</td>\n",
       "      <td>Orange</td>\n",
       "      <td>Average</td>\n",
       "      <td>381</td>\n",
       "    </tr>\n",
       "    <tr>\n",
       "      <th>13</th>\n",
       "      <td>3.0</td>\n",
       "      <td>Orange</td>\n",
       "      <td>Average</td>\n",
       "      <td>468</td>\n",
       "    </tr>\n",
       "    <tr>\n",
       "      <th>14</th>\n",
       "      <td>3.1</td>\n",
       "      <td>Orange</td>\n",
       "      <td>Average</td>\n",
       "      <td>519</td>\n",
       "    </tr>\n",
       "    <tr>\n",
       "      <th>15</th>\n",
       "      <td>3.2</td>\n",
       "      <td>Orange</td>\n",
       "      <td>Average</td>\n",
       "      <td>522</td>\n",
       "    </tr>\n",
       "    <tr>\n",
       "      <th>16</th>\n",
       "      <td>3.3</td>\n",
       "      <td>Orange</td>\n",
       "      <td>Average</td>\n",
       "      <td>483</td>\n",
       "    </tr>\n",
       "    <tr>\n",
       "      <th>17</th>\n",
       "      <td>3.4</td>\n",
       "      <td>Orange</td>\n",
       "      <td>Average</td>\n",
       "      <td>498</td>\n",
       "    </tr>\n",
       "    <tr>\n",
       "      <th>18</th>\n",
       "      <td>3.5</td>\n",
       "      <td>Yellow</td>\n",
       "      <td>Good</td>\n",
       "      <td>480</td>\n",
       "    </tr>\n",
       "    <tr>\n",
       "      <th>19</th>\n",
       "      <td>3.6</td>\n",
       "      <td>Yellow</td>\n",
       "      <td>Good</td>\n",
       "      <td>458</td>\n",
       "    </tr>\n",
       "    <tr>\n",
       "      <th>20</th>\n",
       "      <td>3.7</td>\n",
       "      <td>Yellow</td>\n",
       "      <td>Good</td>\n",
       "      <td>427</td>\n",
       "    </tr>\n",
       "    <tr>\n",
       "      <th>21</th>\n",
       "      <td>3.8</td>\n",
       "      <td>Yellow</td>\n",
       "      <td>Good</td>\n",
       "      <td>400</td>\n",
       "    </tr>\n",
       "    <tr>\n",
       "      <th>22</th>\n",
       "      <td>3.9</td>\n",
       "      <td>Yellow</td>\n",
       "      <td>Good</td>\n",
       "      <td>335</td>\n",
       "    </tr>\n",
       "    <tr>\n",
       "      <th>23</th>\n",
       "      <td>4.0</td>\n",
       "      <td>Green</td>\n",
       "      <td>Very Good</td>\n",
       "      <td>266</td>\n",
       "    </tr>\n",
       "    <tr>\n",
       "      <th>24</th>\n",
       "      <td>4.1</td>\n",
       "      <td>Green</td>\n",
       "      <td>Very Good</td>\n",
       "      <td>274</td>\n",
       "    </tr>\n",
       "    <tr>\n",
       "      <th>25</th>\n",
       "      <td>4.2</td>\n",
       "      <td>Green</td>\n",
       "      <td>Very Good</td>\n",
       "      <td>221</td>\n",
       "    </tr>\n",
       "    <tr>\n",
       "      <th>26</th>\n",
       "      <td>4.3</td>\n",
       "      <td>Green</td>\n",
       "      <td>Very Good</td>\n",
       "      <td>174</td>\n",
       "    </tr>\n",
       "    <tr>\n",
       "      <th>27</th>\n",
       "      <td>4.4</td>\n",
       "      <td>Green</td>\n",
       "      <td>Very Good</td>\n",
       "      <td>144</td>\n",
       "    </tr>\n",
       "    <tr>\n",
       "      <th>28</th>\n",
       "      <td>4.5</td>\n",
       "      <td>Dark Green</td>\n",
       "      <td>Excellent</td>\n",
       "      <td>95</td>\n",
       "    </tr>\n",
       "    <tr>\n",
       "      <th>29</th>\n",
       "      <td>4.6</td>\n",
       "      <td>Dark Green</td>\n",
       "      <td>Excellent</td>\n",
       "      <td>78</td>\n",
       "    </tr>\n",
       "    <tr>\n",
       "      <th>30</th>\n",
       "      <td>4.7</td>\n",
       "      <td>Dark Green</td>\n",
       "      <td>Excellent</td>\n",
       "      <td>42</td>\n",
       "    </tr>\n",
       "    <tr>\n",
       "      <th>31</th>\n",
       "      <td>4.8</td>\n",
       "      <td>Dark Green</td>\n",
       "      <td>Excellent</td>\n",
       "      <td>25</td>\n",
       "    </tr>\n",
       "    <tr>\n",
       "      <th>32</th>\n",
       "      <td>4.9</td>\n",
       "      <td>Dark Green</td>\n",
       "      <td>Excellent</td>\n",
       "      <td>61</td>\n",
       "    </tr>\n",
       "  </tbody>\n",
       "</table>\n",
       "</div>"
      ],
      "text/plain": [
       "    agg_rating rating_color rating_text  rating_count\n",
       "0          0.0        White   Not rated          2148\n",
       "1          1.8          Red        Poor             1\n",
       "2          1.9          Red        Poor             2\n",
       "3          2.0          Red        Poor             7\n",
       "4          2.1          Red        Poor            15\n",
       "5          2.2          Red        Poor            27\n",
       "6          2.3          Red        Poor            47\n",
       "7          2.4          Red        Poor            87\n",
       "8          2.5       Orange     Average           110\n",
       "9          2.6       Orange     Average           191\n",
       "10         2.7       Orange     Average           250\n",
       "11         2.8       Orange     Average           315\n",
       "12         2.9       Orange     Average           381\n",
       "13         3.0       Orange     Average           468\n",
       "14         3.1       Orange     Average           519\n",
       "15         3.2       Orange     Average           522\n",
       "16         3.3       Orange     Average           483\n",
       "17         3.4       Orange     Average           498\n",
       "18         3.5       Yellow        Good           480\n",
       "19         3.6       Yellow        Good           458\n",
       "20         3.7       Yellow        Good           427\n",
       "21         3.8       Yellow        Good           400\n",
       "22         3.9       Yellow        Good           335\n",
       "23         4.0        Green   Very Good           266\n",
       "24         4.1        Green   Very Good           274\n",
       "25         4.2        Green   Very Good           221\n",
       "26         4.3        Green   Very Good           174\n",
       "27         4.4        Green   Very Good           144\n",
       "28         4.5   Dark Green   Excellent            95\n",
       "29         4.6   Dark Green   Excellent            78\n",
       "30         4.7   Dark Green   Excellent            42\n",
       "31         4.8   Dark Green   Excellent            25\n",
       "32         4.9   Dark Green   Excellent            61"
      ]
     },
     "execution_count": 119,
     "metadata": {},
     "output_type": "execute_result"
    }
   ],
   "source": [
    "rating"
   ]
  },
  {
   "cell_type": "markdown",
   "id": "9e124971",
   "metadata": {},
   "source": [
    "Observation:  \n",
    "* Rating between 4.5-5.0 => Excellent Rating == > Dark Green color\n",
    "* Rating between 4.0-4.5 => Very Good Rating == > Green color\n",
    "* Rating between 3.5-4.0 => Good Rating == > Yellow color\n",
    "* Rating between 2.5-3.5 => Average Rating == > Orange color\n",
    "* Rating between 1.5-2.5 => Poor Rating == > Red color\n",
    "* Rating between 0.0 => No Rating == > White color\n"
   ]
  },
  {
   "cell_type": "code",
   "execution_count": 126,
   "id": "e6cac1b4",
   "metadata": {},
   "outputs": [
    {
     "data": {
      "text/plain": [
       "<AxesSubplot:xlabel='agg_rating', ylabel='rating_count'>"
      ]
     },
     "execution_count": 126,
     "metadata": {},
     "output_type": "execute_result"
    },
    {
     "data": {
      "image/png": "[encoded data removed]",
      "text/plain": [
       "<Figure size 720x720 with 1 Axes>"
      ]
     },
     "metadata": {
      "needs_background": "light"
     },
     "output_type": "display_data"
    }
   ],
   "source": [
    "# Bar chart for Aggeregate Rating vs Rating count based on rating_text\n",
    "\n",
    "plt.figure(figsize=(10,10))\n",
    "sns.barplot(x= 'agg_rating' , y = 'rating_count' , data = rating , hue = 'rating_text' , )"
   ]
  },
  {
   "cell_type": "code",
   "execution_count": 129,
   "id": "81107e71",
   "metadata": {},
   "outputs": [
    {
     "data": {
      "text/plain": [
       "<AxesSubplot:xlabel='agg_rating', ylabel='rating_count'>"
      ]
     },
     "execution_count": 129,
     "metadata": {},
     "output_type": "execute_result"
    },
    {
     "data": {
      "image/png": "[encoded data removed]",
      "text/plain": [
       "<Figure size 720x720 with 1 Axes>"
      ]
     },
     "metadata": {
      "needs_background": "light"
     },
     "output_type": "display_data"
    }
   ],
   "source": [
    "##Adjusting Bar Plot layout with the help hue() & palette() properties.\n",
    "\n",
    "plt.figure(figsize=(10,10))\n",
    "sns.barplot(x = 'agg_rating', y = 'rating_count',hue ='rating_color' ,data= rating, palette =['blue', 'red','orange','yellow','green','green'])"
   ]
  },
  {
   "cell_type": "code",
   "execution_count": 132,
   "id": "213acdb8",
   "metadata": {},
   "outputs": [
    {
     "data": {
      "text/plain": [
       "<AxesSubplot:xlabel='rating_color', ylabel='rating_count'>"
      ]
     },
     "execution_count": 132,
     "metadata": {},
     "output_type": "execute_result"
    },
    {
     "data": {
      "image/png": "[encoded data removed]",
      "text/plain": [
       "<Figure size 720x720 with 1 Axes>"
      ]
     },
     "metadata": {
      "needs_background": "light"
     },
     "output_type": "display_data"
    }
   ],
   "source": [
    "# Count Plot based on ratings: \n",
    "\n",
    "plt.figure(figsize=(10,10))\n",
    "sns.barplot(x='rating_color', y = 'rating_count', data = rating, palette =['blue', 'red','orange','yellow','green','green'])"
   ]
  },
  {
   "cell_type": "markdown",
   "id": "fdeb5b94",
   "metadata": {},
   "source": [
    "Observation:   \n",
    "  * There are __2148__ non rated entries. \n",
    "  * Max ratings are between 2.5-3.5 i.e. Averagely Rated"
   ]
  },
  {
   "cell_type": "code",
   "execution_count": 134,
   "id": "2ae9ebb3",
   "metadata": {},
   "outputs": [
    {
     "data": {
      "text/plain": [
       "Index(['restaurant_id', 'restaurant_name', 'country_code', 'City', 'Locality',\n",
       "       'Cuisines', 'average_cost_two', 'Currency', 'table_booking',\n",
       "       'online_delivery', 'is_delivering_now', 'switch_to_order',\n",
       "       'price_range', 'agg_rating', 'rating_color', 'rating_text', 'Votes',\n",
       "       'Country'],\n",
       "      dtype='object')"
      ]
     },
     "execution_count": 134,
     "metadata": {},
     "output_type": "execute_result"
    }
   ],
   "source": [
    "df_zomato.columns"
   ]
  },
  {
   "cell_type": "markdown",
   "id": "9c193ad7",
   "metadata": {},
   "source": [
    "## Factors affecting votes recieved by restaurants \n",
    "Votes are the number of individual ratings that are given to restaurants."
   ]
  },
  {
   "cell_type": "markdown",
   "id": "0ae108b5",
   "metadata": {},
   "source": [
    "#### 1. Votes\n",
    "- How many restaurants offer Online Delivery to their customers?\n",
    "- Is there difference in average number of votes recieved by restaurant offering online delivery vs restaurant not offering online delivery?"
   ]
  },
  {
   "cell_type": "code",
   "execution_count": 168,
   "id": "0b18b4f5",
   "metadata": {},
   "outputs": [],
   "source": [
    "Total_Restaurants_Delivery=df_zomato.groupby(\"online_delivery\").agg(Total_Restaurants=(\"restaurant_id\",\"count\"))\n",
    "Avg_Votes=df_zomato.groupby(\"online_delivery\").agg(Average_Votes=(\"Votes\",\"mean\"))"
   ]
  },
  {
   "cell_type": "code",
   "execution_count": 171,
   "id": "486fe0d1",
   "metadata": {},
   "outputs": [
    {
     "data": {
      "application/vnd.plotly.v1+json": {
       "config": {
        "plotlyServerURL": "https://plot.ly"
       },
       "data": [
        {
         "domain": {
          "x": [
           0,
           0.35
          ],
          "y": [
           0,
           1
          ]
         },
         "hovertemplate": "%{label}<br>Restaurant Count:%{value}",
         "labels": [
          "No",
          "Yes"
         ],
         "marker": {
          "colors": [
           "orangered",
           "lightgreen"
          ]
         },
         "showlegend": true,
         "textfont": {
          "size": 15
         },
         "texttemplate": "%{label}<br>%{percent}",
         "type": "pie",
         "values": [
          7100,
          2451
         ]
        },
        {
         "hovertemplate": "%{label}<br>Average Votes:%{value}",
         "marker": {
          "color": [
           "orangered",
           "lightgreen"
          ]
         },
         "showlegend": false,
         "textfont": {
          "size": 15
         },
         "texttemplate": "Average Votes<br>%{value}",
         "type": "bar",
         "x": [
          "No",
          "Yes"
         ],
         "xaxis": "x",
         "y": [
          138.13112676056338,
          211.30722154222767
         ],
         "yaxis": "y"
        }
       ],
       "layout": {
        "annotations": [
         {
          "font": {
           "size": 16
          },
          "showarrow": false,
          "text": "Percentage Of Restaurants Offering Delivery",
          "x": 0.175,
          "xanchor": "center",
          "xref": "paper",
          "y": 1,
          "yanchor": "bottom",
          "yref": "paper"
         },
         {
          "font": {
           "size": 16
          },
          "showarrow": false,
          "text": "Average Votes vs Online Delivery",
          "x": 0.825,
          "xanchor": "center",
          "xref": "paper",
          "y": 1,
          "yanchor": "bottom",
          "yref": "paper"
         }
        ],
        "template": {
         "data": {
          "bar": [
           {
            "error_x": {
             "color": "#2a3f5f"
            },
            "error_y": {
             "color": "#2a3f5f"
            },
            "marker": {
             "line": {
              "color": "#E5ECF6",
              "width": 0.5
             },
             "pattern": {
              "fillmode": "overlay",
              "size": 10,
              "solidity": 0.2
             }
            },
            "type": "bar"
           }
          ],
          "barpolar": [
           {
            "marker": {
             "line": {
              "color": "#E5ECF6",
              "width": 0.5
             },
             "pattern": {
              "fillmode": "overlay",
              "size": 10,
              "solidity": 0.2
             }
            },
            "type": "barpolar"
           }
          ],
          "carpet": [
           {
            "aaxis": {
             "endlinecolor": "#2a3f5f",
             "gridcolor": "white",
             "linecolor": "white",
             "minorgridcolor": "white",
             "startlinecolor": "#2a3f5f"
            },
            "baxis": {
             "endlinecolor": "#2a3f5f",
             "gridcolor": "white",
             "linecolor": "white",
             "minorgridcolor": "white",
             "startlinecolor": "#2a3f5f"
            },
            "type": "carpet"
           }
          ],
          "choropleth": [
           {
            "colorbar": {
             "outlinewidth": 0,
             "ticks": ""
            },
            "type": "choropleth"
           }
          ],
          "contour": [
           {
            "colorbar": {
             "outlinewidth": 0,
             "ticks": ""
            },
            "colorscale": [
             [
              0,
              "#0d0887"
             ],
             [
              0.1111111111111111,
              "#46039f"
             ],
             [
              0.2222222222222222,
              "#7201a8"
             ],
             [
              0.3333333333333333,
              "#9c179e"
             ],
             [
              0.4444444444444444,
              "#bd3786"
             ],
             [
              0.5555555555555556,
              "#d8576b"
             ],
             [
              0.6666666666666666,
              "#ed7953"
             ],
             [
              0.7777777777777778,
              "#fb9f3a"
             ],
             [
              0.8888888888888888,
              "#fdca26"
             ],
             [
              1,
              "#f0f921"
             ]
            ],
            "type": "contour"
           }
          ],
          "contourcarpet": [
           {
            "colorbar": {
             "outlinewidth": 0,
             "ticks": ""
            },
            "type": "contourcarpet"
           }
          ],
          "heatmap": [
           {
            "colorbar": {
             "outlinewidth": 0,
             "ticks": ""
            },
            "colorscale": [
             [
              0,
              "#0d0887"
             ],
             [
              0.1111111111111111,
              "#46039f"
             ],
             [
              0.2222222222222222,
              "#7201a8"
             ],
             [
              0.3333333333333333,
              "#9c179e"
             ],
             [
              0.4444444444444444,
              "#bd3786"
             ],
             [
              0.5555555555555556,
              "#d8576b"
             ],
             [
              0.6666666666666666,
              "#ed7953"
             ],
             [
              0.7777777777777778,
              "#fb9f3a"
             ],
             [
              0.8888888888888888,
              "#fdca26"
             ],
             [
              1,
              "#f0f921"
             ]
            ],
            "type": "heatmap"
           }
          ],
          "heatmapgl": [
           {
            "colorbar": {
             "outlinewidth": 0,
             "ticks": ""
            },
            "colorscale": [
             [
              0,
              "#0d0887"
             ],
             [
              0.1111111111111111,
              "#46039f"
             ],
             [
              0.2222222222222222,
              "#7201a8"
             ],
             [
              0.3333333333333333,
              "#9c179e"
             ],
             [
              0.4444444444444444,
              "#bd3786"
             ],
             [
              0.5555555555555556,
              "#d8576b"
             ],
             [
              0.6666666666666666,
              "#ed7953"
             ],
             [
              0.7777777777777778,
              "#fb9f3a"
             ],
             [
              0.8888888888888888,
              "#fdca26"
             ],
             [
              1,
              "#f0f921"
             ]
            ],
            "type": "heatmapgl"
           }
          ],
          "histogram": [
           {
            "marker": {
             "pattern": {
              "fillmode": "overlay",
              "size": 10,
              "solidity": 0.2
             }
            },
            "type": "histogram"
           }
          ],
          "histogram2d": [
           {
            "colorbar": {
             "outlinewidth": 0,
             "ticks": ""
            },
            "colorscale": [
             [
              0,
              "#0d0887"
             ],
             [
              0.1111111111111111,
              "#46039f"
             ],
             [
              0.2222222222222222,
              "#7201a8"
             ],
             [
              0.3333333333333333,
              "#9c179e"
             ],
             [
              0.4444444444444444,
              "#bd3786"
             ],
             [
              0.5555555555555556,
              "#d8576b"
             ],
             [
              0.6666666666666666,
              "#ed7953"
             ],
             [
              0.7777777777777778,
              "#fb9f3a"
             ],
             [
              0.8888888888888888,
              "#fdca26"
             ],
             [
              1,
              "#f0f921"
             ]
            ],
            "type": "histogram2d"
           }
          ],
          "histogram2dcontour": [
           {
            "colorbar": {
             "outlinewidth": 0,
             "ticks": ""
            },
            "colorscale": [
             [
              0,
              "#0d0887"
             ],
             [
              0.1111111111111111,
              "#46039f"
             ],
             [
              0.2222222222222222,
              "#7201a8"
             ],
             [
              0.3333333333333333,
              "#9c179e"
             ],
             [
              0.4444444444444444,
              "#bd3786"
             ],
             [
              0.5555555555555556,
              "#d8576b"
             ],
             [
              0.6666666666666666,
              "#ed7953"
             ],
             [
              0.7777777777777778,
              "#fb9f3a"
             ],
             [
              0.8888888888888888,
              "#fdca26"
             ],
             [
              1,
              "#f0f921"
             ]
            ],
            "type": "histogram2dcontour"
           }
          ],
          "mesh3d": [
           {
            "colorbar": {
             "outlinewidth": 0,
             "ticks": ""
            },
            "type": "mesh3d"
           }
          ],
          "parcoords": [
           {
            "line": {
             "colorbar": {
              "outlinewidth": 0,
              "ticks": ""
             }
            },
            "type": "parcoords"
           }
          ],
          "pie": [
           {
            "automargin": true,
            "type": "pie"
           }
          ],
          "scatter": [
           {
            "marker": {
             "colorbar": {
              "outlinewidth": 0,
              "ticks": ""
             }
            },
            "type": "scatter"
           }
          ],
          "scatter3d": [
           {
            "line": {
             "colorbar": {
              "outlinewidth": 0,
              "ticks": ""
             }
            },
            "marker": {
             "colorbar": {
              "outlinewidth": 0,
              "ticks": ""
             }
            },
            "type": "scatter3d"
           }
          ],
          "scattercarpet": [
           {
            "marker": {
             "colorbar": {
              "outlinewidth": 0,
              "ticks": ""
             }
            },
            "type": "scattercarpet"
           }
          ],
          "scattergeo": [
           {
            "marker": {
             "colorbar": {
              "outlinewidth": 0,
              "ticks": ""
             }
            },
            "type": "scattergeo"
           }
          ],
          "scattergl": [
           {
            "marker": {
             "colorbar": {
              "outlinewidth": 0,
              "ticks": ""
             }
            },
            "type": "scattergl"
           }
          ],
          "scattermapbox": [
           {
            "marker": {
             "colorbar": {
              "outlinewidth": 0,
              "ticks": ""
             }
            },
            "type": "scattermapbox"
           }
          ],
          "scatterpolar": [
           {
            "marker": {
             "colorbar": {
              "outlinewidth": 0,
              "ticks": ""
             }
            },
            "type": "scatterpolar"
           }
          ],
          "scatterpolargl": [
           {
            "marker": {
             "colorbar": {
              "outlinewidth": 0,
              "ticks": ""
             }
            },
            "type": "scatterpolargl"
           }
          ],
          "scatterternary": [
           {
            "marker": {
             "colorbar": {
              "outlinewidth": 0,
              "ticks": ""
             }
            },
            "type": "scatterternary"
           }
          ],
          "surface": [
           {
            "colorbar": {
             "outlinewidth": 0,
             "ticks": ""
            },
            "colorscale": [
             [
              0,
              "#0d0887"
             ],
             [
              0.1111111111111111,
              "#46039f"
             ],
             [
              0.2222222222222222,
              "#7201a8"
             ],
             [
              0.3333333333333333,
              "#9c179e"
             ],
             [
              0.4444444444444444,
              "#bd3786"
             ],
             [
              0.5555555555555556,
              "#d8576b"
             ],
             [
              0.6666666666666666,
              "#ed7953"
             ],
             [
              0.7777777777777778,
              "#fb9f3a"
             ],
             [
              0.8888888888888888,
              "#fdca26"
             ],
             [
              1,
              "#f0f921"
             ]
            ],
            "type": "surface"
           }
          ],
          "table": [
           {
            "cells": {
             "fill": {
              "color": "#EBF0F8"
             },
             "line": {
              "color": "white"
             }
            },
            "header": {
             "fill": {
              "color": "#C8D4E3"
             },
             "line": {
              "color": "white"
             }
            },
            "type": "table"
           }
          ]
         },
         "layout": {
          "annotationdefaults": {
           "arrowcolor": "#2a3f5f",
           "arrowhead": 0,
           "arrowwidth": 1
          },
          "autotypenumbers": "strict",
          "coloraxis": {
           "colorbar": {
            "outlinewidth": 0,
            "ticks": ""
           }
          },
          "colorscale": {
           "diverging": [
            [
             0,
             "#8e0152"
            ],
            [
             0.1,
             "#c51b7d"
            ],
            [
             0.2,
             "#de77ae"
            ],
            [
             0.3,
             "#f1b6da"
            ],
            [
             0.4,
             "#fde0ef"
            ],
            [
             0.5,
             "#f7f7f7"
            ],
            [
             0.6,
             "#e6f5d0"
            ],
            [
             0.7,
             "#b8e186"
            ],
            [
             0.8,
             "#7fbc41"
            ],
            [
             0.9,
             "#4d9221"
            ],
            [
             1,
             "#276419"
            ]
           ],
           "sequential": [
            [
             0,
             "#0d0887"
            ],
            [
             0.1111111111111111,
             "#46039f"
            ],
            [
             0.2222222222222222,
             "#7201a8"
            ],
            [
             0.3333333333333333,
             "#9c179e"
            ],
            [
             0.4444444444444444,
             "#bd3786"
            ],
            [
             0.5555555555555556,
             "#d8576b"
            ],
            [
             0.6666666666666666,
             "#ed7953"
            ],
            [
             0.7777777777777778,
             "#fb9f3a"
            ],
            [
             0.8888888888888888,
             "#fdca26"
            ],
            [
             1,
             "#f0f921"
            ]
           ],
           "sequentialminus": [
            [
             0,
             "#0d0887"
            ],
            [
             0.1111111111111111,
             "#46039f"
            ],
            [
             0.2222222222222222,
             "#7201a8"
            ],
            [
             0.3333333333333333,
             "#9c179e"
            ],
            [
             0.4444444444444444,
             "#bd3786"
            ],
            [
             0.5555555555555556,
             "#d8576b"
            ],
            [
             0.6666666666666666,
             "#ed7953"
            ],
            [
             0.7777777777777778,
             "#fb9f3a"
            ],
            [
             0.8888888888888888,
             "#fdca26"
            ],
            [
             1,
             "#f0f921"
            ]
           ]
          },
          "colorway": [
           "#636efa",
           "#EF553B",
           "#00cc96",
           "#ab63fa",
           "#FFA15A",
           "#19d3f3",
           "#FF6692",
           "#B6E880",
           "#FF97FF",
           "#FECB52"
          ],
          "font": {
           "color": "#2a3f5f"
          },
          "geo": {
           "bgcolor": "white",
           "lakecolor": "white",
           "landcolor": "#E5ECF6",
           "showlakes": true,
           "showland": true,
           "subunitcolor": "white"
          },
          "hoverlabel": {
           "align": "left"
          },
          "hovermode": "closest",
          "mapbox": {
           "style": "light"
          },
          "paper_bgcolor": "white",
          "plot_bgcolor": "#E5ECF6",
          "polar": {
           "angularaxis": {
            "gridcolor": "white",
            "linecolor": "white",
            "ticks": ""
           },
           "bgcolor": "#E5ECF6",
           "radialaxis": {
            "gridcolor": "white",
            "linecolor": "white",
            "ticks": ""
           }
          },
          "scene": {
           "xaxis": {
            "backgroundcolor": "#E5ECF6",
            "gridcolor": "white",
            "gridwidth": 2,
            "linecolor": "white",
            "showbackground": true,
            "ticks": "",
            "zerolinecolor": "white"
           },
           "yaxis": {
            "backgroundcolor": "#E5ECF6",
            "gridcolor": "white",
            "gridwidth": 2,
            "linecolor": "white",
            "showbackground": true,
            "ticks": "",
            "zerolinecolor": "white"
           },
           "zaxis": {
            "backgroundcolor": "#E5ECF6",
            "gridcolor": "white",
            "gridwidth": 2,
            "linecolor": "white",
            "showbackground": true,
            "ticks": "",
            "zerolinecolor": "white"
           }
          },
          "shapedefaults": {
           "line": {
            "color": "#2a3f5f"
           }
          },
          "ternary": {
           "aaxis": {
            "gridcolor": "white",
            "linecolor": "white",
            "ticks": ""
           },
           "baxis": {
            "gridcolor": "white",
            "linecolor": "white",
            "ticks": ""
           },
           "bgcolor": "#E5ECF6",
           "caxis": {
            "gridcolor": "white",
            "linecolor": "white",
            "ticks": ""
           }
          },
          "title": {
           "x": 0.05
          },
          "xaxis": {
           "automargin": true,
           "gridcolor": "white",
           "linecolor": "white",
           "ticks": "",
           "title": {
            "standoff": 15
           },
           "zerolinecolor": "white",
           "zerolinewidth": 2
          },
          "yaxis": {
           "automargin": true,
           "gridcolor": "white",
           "linecolor": "white",
           "ticks": "",
           "title": {
            "standoff": 15
           },
           "zerolinecolor": "white",
           "zerolinewidth": 2
          }
         }
        },
        "title": {
         "font": {
          "color": "darkred",
          "family": "Verdana",
          "size": 25
         },
         "text": "Graphs showing relation between votes and online delivery"
        },
        "width": 800,
        "xaxis": {
         "anchor": "y",
         "domain": [
          0.6499999999999999,
          0.9999999999999999
         ],
         "title": {
          "text": "Has Online Delivery?"
         }
        },
        "yaxis": {
         "anchor": "x",
         "domain": [
          0,
          1
         ],
         "title": {
          "text": "Average Votes"
         }
        }
       }
      },
      "text/html": [
       "<div>                            <div id=\"dcfc61b7-e13c-4e55-9a72-d0bd9b5ef1da\" class=\"plotly-graph-div\" style=\"height:525px; width:800px;\"></div>            <script type=\"text/javascript\">                require([\"plotly\"], function(Plotly) {                    window.PLOTLYENV=window.PLOTLYENV || {};                                    if (document.getElementById(\"dcfc61b7-e13c-4e55-9a72-d0bd9b5ef1da\")) {                    Plotly.newPlot(                        \"dcfc61b7-e13c-4e55-9a72-d0bd9b5ef1da\",                        [{\"hovertemplate\":\"%{label}<br>Restaurant Count:%{value}\",\"labels\":[\"No\",\"Yes\"],\"marker\":{\"colors\":[\"orangered\",\"lightgreen\"]},\"showlegend\":true,\"texttemplate\":\"%{label}<br>%{percent}\",\"values\":[7100,2451],\"type\":\"pie\",\"domain\":{\"x\":[0.0,0.35],\"y\":[0.0,1.0]},\"textfont\":{\"size\":15}},{\"hovertemplate\":\"%{label}<br>Average Votes:%{value}\",\"marker\":{\"color\":[\"orangered\",\"lightgreen\"]},\"showlegend\":false,\"texttemplate\":\"Average Votes<br>%{value}\",\"x\":[\"No\",\"Yes\"],\"y\":[138.13112676056338,211.30722154222767],\"type\":\"bar\",\"xaxis\":\"x\",\"yaxis\":\"y\",\"textfont\":{\"size\":15}}],                        {\"template\":{\"data\":{\"bar\":[{\"error_x\":{\"color\":\"#2a3f5f\"},\"error_y\":{\"color\":\"#2a3f5f\"},\"marker\":{\"line\":{\"color\":\"#E5ECF6\",\"width\":0.5},\"pattern\":{\"fillmode\":\"overlay\",\"size\":10,\"solidity\":0.2}},\"type\":\"bar\"}],\"barpolar\":[{\"marker\":{\"line\":{\"color\":\"#E5ECF6\",\"width\":0.5},\"pattern\":{\"fillmode\":\"overlay\",\"size\":10,\"solidity\":0.2}},\"type\":\"barpolar\"}],\"carpet\":[{\"aaxis\":{\"endlinecolor\":\"#2a3f5f\",\"gridcolor\":\"white\",\"linecolor\":\"white\",\"minorgridcolor\":\"white\",\"startlinecolor\":\"#2a3f5f\"},\"baxis\":{\"endlinecolor\":\"#2a3f5f\",\"gridcolor\":\"white\",\"linecolor\":\"white\",\"minorgridcolor\":\"white\",\"startlinecolor\":\"#2a3f5f\"},\"type\":\"carpet\"}],\"choropleth\":[{\"colorbar\":{\"outlinewidth\":0,\"ticks\":\"\"},\"type\":\"choropleth\"}],\"contour\":[{\"colorbar\":{\"outlinewidth\":0,\"ticks\":\"\"},\"colorscale\":[[0.0,\"#0d0887\"],[0.1111111111111111,\"#46039f\"],[0.2222222222222222,\"#7201a8\"],[0.3333333333333333,\"#9c179e\"],[0.4444444444444444,\"#bd3786\"],[0.5555555555555556,\"#d8576b\"],[0.6666666666666666,\"#ed7953\"],[0.7777777777777778,\"#fb9f3a\"],[0.8888888888888888,\"#fdca26\"],[1.0,\"#f0f921\"]],\"type\":\"contour\"}],\"contourcarpet\":[{\"colorbar\":{\"outlinewidth\":0,\"ticks\":\"\"},\"type\":\"contourcarpet\"}],\"heatmap\":[{\"colorbar\":{\"outlinewidth\":0,\"ticks\":\"\"},\"colorscale\":[[0.0,\"#0d0887\"],[0.1111111111111111,\"#46039f\"],[0.2222222222222222,\"#7201a8\"],[0.3333333333333333,\"#9c179e\"],[0.4444444444444444,\"#bd3786\"],[0.5555555555555556,\"#d8576b\"],[0.6666666666666666,\"#ed7953\"],[0.7777777777777778,\"#fb9f3a\"],[0.8888888888888888,\"#fdca26\"],[1.0,\"#f0f921\"]],\"type\":\"heatmap\"}],\"heatmapgl\":[{\"colorbar\":{\"outlinewidth\":0,\"ticks\":\"\"},\"colorscale\":[[0.0,\"#0d0887\"],[0.1111111111111111,\"#46039f\"],[0.2222222222222222,\"#7201a8\"],[0.3333333333333333,\"#9c179e\"],[0.4444444444444444,\"#bd3786\"],[0.5555555555555556,\"#d8576b\"],[0.6666666666666666,\"#ed7953\"],[0.7777777777777778,\"#fb9f3a\"],[0.8888888888888888,\"#fdca26\"],[1.0,\"#f0f921\"]],\"type\":\"heatmapgl\"}],\"histogram\":[{\"marker\":{\"pattern\":{\"fillmode\":\"overlay\",\"size\":10,\"solidity\":0.2}},\"type\":\"histogram\"}],\"histogram2d\":[{\"colorbar\":{\"outlinewidth\":0,\"ticks\":\"\"},\"colorscale\":[[0.0,\"#0d0887\"],[0.1111111111111111,\"#46039f\"],[0.2222222222222222,\"#7201a8\"],[0.3333333333333333,\"#9c179e\"],[0.4444444444444444,\"#bd3786\"],[0.5555555555555556,\"#d8576b\"],[0.6666666666666666,\"#ed7953\"],[0.7777777777777778,\"#fb9f3a\"],[0.8888888888888888,\"#fdca26\"],[1.0,\"#f0f921\"]],\"type\":\"histogram2d\"}],\"histogram2dcontour\":[{\"colorbar\":{\"outlinewidth\":0,\"ticks\":\"\"},\"colorscale\":[[0.0,\"#0d0887\"],[0.1111111111111111,\"#46039f\"],[0.2222222222222222,\"#7201a8\"],[0.3333333333333333,\"#9c179e\"],[0.4444444444444444,\"#bd3786\"],[0.5555555555555556,\"#d8576b\"],[0.6666666666666666,\"#ed7953\"],[0.7777777777777778,\"#fb9f3a\"],[0.8888888888888888,\"#fdca26\"],[1.0,\"#f0f921\"]],\"type\":\"histogram2dcontour\"}],\"mesh3d\":[{\"colorbar\":{\"outlinewidth\":0,\"ticks\":\"\"},\"type\":\"mesh3d\"}],\"parcoords\":[{\"line\":{\"colorbar\":{\"outlinewidth\":0,\"ticks\":\"\"}},\"type\":\"parcoords\"}],\"pie\":[{\"automargin\":true,\"type\":\"pie\"}],\"scatter\":[{\"marker\":{\"colorbar\":{\"outlinewidth\":0,\"ticks\":\"\"}},\"type\":\"scatter\"}],\"scatter3d\":[{\"line\":{\"colorbar\":{\"outlinewidth\":0,\"ticks\":\"\"}},\"marker\":{\"colorbar\":{\"outlinewidth\":0,\"ticks\":\"\"}},\"type\":\"scatter3d\"}],\"scattercarpet\":[{\"marker\":{\"colorbar\":{\"outlinewidth\":0,\"ticks\":\"\"}},\"type\":\"scattercarpet\"}],\"scattergeo\":[{\"marker\":{\"colorbar\":{\"outlinewidth\":0,\"ticks\":\"\"}},\"type\":\"scattergeo\"}],\"scattergl\":[{\"marker\":{\"colorbar\":{\"outlinewidth\":0,\"ticks\":\"\"}},\"type\":\"scattergl\"}],\"scattermapbox\":[{\"marker\":{\"colorbar\":{\"outlinewidth\":0,\"ticks\":\"\"}},\"type\":\"scattermapbox\"}],\"scatterpolar\":[{\"marker\":{\"colorbar\":{\"outlinewidth\":0,\"ticks\":\"\"}},\"type\":\"scatterpolar\"}],\"scatterpolargl\":[{\"marker\":{\"colorbar\":{\"outlinewidth\":0,\"ticks\":\"\"}},\"type\":\"scatterpolargl\"}],\"scatterternary\":[{\"marker\":{\"colorbar\":{\"outlinewidth\":0,\"ticks\":\"\"}},\"type\":\"scatterternary\"}],\"surface\":[{\"colorbar\":{\"outlinewidth\":0,\"ticks\":\"\"},\"colorscale\":[[0.0,\"#0d0887\"],[0.1111111111111111,\"#46039f\"],[0.2222222222222222,\"#7201a8\"],[0.3333333333333333,\"#9c179e\"],[0.4444444444444444,\"#bd3786\"],[0.5555555555555556,\"#d8576b\"],[0.6666666666666666,\"#ed7953\"],[0.7777777777777778,\"#fb9f3a\"],[0.8888888888888888,\"#fdca26\"],[1.0,\"#f0f921\"]],\"type\":\"surface\"}],\"table\":[{\"cells\":{\"fill\":{\"color\":\"#EBF0F8\"},\"line\":{\"color\":\"white\"}},\"header\":{\"fill\":{\"color\":\"#C8D4E3\"},\"line\":{\"color\":\"white\"}},\"type\":\"table\"}]},\"layout\":{\"annotationdefaults\":{\"arrowcolor\":\"#2a3f5f\",\"arrowhead\":0,\"arrowwidth\":1},\"autotypenumbers\":\"strict\",\"coloraxis\":{\"colorbar\":{\"outlinewidth\":0,\"ticks\":\"\"}},\"colorscale\":{\"diverging\":[[0,\"#8e0152\"],[0.1,\"#c51b7d\"],[0.2,\"#de77ae\"],[0.3,\"#f1b6da\"],[0.4,\"#fde0ef\"],[0.5,\"#f7f7f7\"],[0.6,\"#e6f5d0\"],[0.7,\"#b8e186\"],[0.8,\"#7fbc41\"],[0.9,\"#4d9221\"],[1,\"#276419\"]],\"sequential\":[[0.0,\"#0d0887\"],[0.1111111111111111,\"#46039f\"],[0.2222222222222222,\"#7201a8\"],[0.3333333333333333,\"#9c179e\"],[0.4444444444444444,\"#bd3786\"],[0.5555555555555556,\"#d8576b\"],[0.6666666666666666,\"#ed7953\"],[0.7777777777777778,\"#fb9f3a\"],[0.8888888888888888,\"#fdca26\"],[1.0,\"#f0f921\"]],\"sequentialminus\":[[0.0,\"#0d0887\"],[0.1111111111111111,\"#46039f\"],[0.2222222222222222,\"#7201a8\"],[0.3333333333333333,\"#9c179e\"],[0.4444444444444444,\"#bd3786\"],[0.5555555555555556,\"#d8576b\"],[0.6666666666666666,\"#ed7953\"],[0.7777777777777778,\"#fb9f3a\"],[0.8888888888888888,\"#fdca26\"],[1.0,\"#f0f921\"]]},\"colorway\":[\"#636efa\",\"#EF553B\",\"#00cc96\",\"#ab63fa\",\"#FFA15A\",\"#19d3f3\",\"#FF6692\",\"#B6E880\",\"#FF97FF\",\"#FECB52\"],\"font\":{\"color\":\"#2a3f5f\"},\"geo\":{\"bgcolor\":\"white\",\"lakecolor\":\"white\",\"landcolor\":\"#E5ECF6\",\"showlakes\":true,\"showland\":true,\"subunitcolor\":\"white\"},\"hoverlabel\":{\"align\":\"left\"},\"hovermode\":\"closest\",\"mapbox\":{\"style\":\"light\"},\"paper_bgcolor\":\"white\",\"plot_bgcolor\":\"#E5ECF6\",\"polar\":{\"angularaxis\":{\"gridcolor\":\"white\",\"linecolor\":\"white\",\"ticks\":\"\"},\"bgcolor\":\"#E5ECF6\",\"radialaxis\":{\"gridcolor\":\"white\",\"linecolor\":\"white\",\"ticks\":\"\"}},\"scene\":{\"xaxis\":{\"backgroundcolor\":\"#E5ECF6\",\"gridcolor\":\"white\",\"gridwidth\":2,\"linecolor\":\"white\",\"showbackground\":true,\"ticks\":\"\",\"zerolinecolor\":\"white\"},\"yaxis\":{\"backgroundcolor\":\"#E5ECF6\",\"gridcolor\":\"white\",\"gridwidth\":2,\"linecolor\":\"white\",\"showbackground\":true,\"ticks\":\"\",\"zerolinecolor\":\"white\"},\"zaxis\":{\"backgroundcolor\":\"#E5ECF6\",\"gridcolor\":\"white\",\"gridwidth\":2,\"linecolor\":\"white\",\"showbackground\":true,\"ticks\":\"\",\"zerolinecolor\":\"white\"}},\"shapedefaults\":{\"line\":{\"color\":\"#2a3f5f\"}},\"ternary\":{\"aaxis\":{\"gridcolor\":\"white\",\"linecolor\":\"white\",\"ticks\":\"\"},\"baxis\":{\"gridcolor\":\"white\",\"linecolor\":\"white\",\"ticks\":\"\"},\"bgcolor\":\"#E5ECF6\",\"caxis\":{\"gridcolor\":\"white\",\"linecolor\":\"white\",\"ticks\":\"\"}},\"title\":{\"x\":0.05},\"xaxis\":{\"automargin\":true,\"gridcolor\":\"white\",\"linecolor\":\"white\",\"ticks\":\"\",\"title\":{\"standoff\":15},\"zerolinecolor\":\"white\",\"zerolinewidth\":2},\"yaxis\":{\"automargin\":true,\"gridcolor\":\"white\",\"linecolor\":\"white\",\"ticks\":\"\",\"title\":{\"standoff\":15},\"zerolinecolor\":\"white\",\"zerolinewidth\":2}}},\"xaxis\":{\"anchor\":\"y\",\"domain\":[0.6499999999999999,0.9999999999999999],\"title\":{\"text\":\"Has Online Delivery?\"}},\"yaxis\":{\"anchor\":\"x\",\"domain\":[0.0,1.0],\"title\":{\"text\":\"Average Votes\"}},\"annotations\":[{\"font\":{\"size\":16},\"showarrow\":false,\"text\":\"Percentage Of Restaurants Offering Delivery\",\"x\":0.175,\"xanchor\":\"center\",\"xref\":\"paper\",\"y\":1.0,\"yanchor\":\"bottom\",\"yref\":\"paper\"},{\"font\":{\"size\":16},\"showarrow\":false,\"text\":\"Average Votes vs Online Delivery\",\"x\":0.825,\"xanchor\":\"center\",\"xref\":\"paper\",\"y\":1.0,\"yanchor\":\"bottom\",\"yref\":\"paper\"}],\"title\":{\"font\":{\"size\":25,\"family\":\"Verdana\",\"color\":\"darkred\"},\"text\":\"Graphs showing relation between votes and online delivery\"},\"width\":800},                        {\"responsive\": true}                    ).then(function(){\n",
       "                            \n",
       "var gd = document.getElementById('dcfc61b7-e13c-4e55-9a72-d0bd9b5ef1da');\n",
       "var x = new MutationObserver(function (mutations, observer) {{\n",
       "        var display = window.getComputedStyle(gd).display;\n",
       "        if (!display || display === 'none') {{\n",
       "            console.log([gd, 'removed!']);\n",
       "            Plotly.purge(gd);\n",
       "            observer.disconnect();\n",
       "        }}\n",
       "}});\n",
       "\n",
       "// Listen for the removal of the full notebook cells\n",
       "var notebookContainer = gd.closest('#notebook-container');\n",
       "if (notebookContainer) {{\n",
       "    x.observe(notebookContainer, {childList: true});\n",
       "}}\n",
       "\n",
       "// Listen for the clearing of the current output cell\n",
       "var outputEl = gd.closest('.output');\n",
       "if (outputEl) {{\n",
       "    x.observe(outputEl, {childList: true});\n",
       "}}\n",
       "\n",
       "                        })                };                });            </script>        </div>"
      ]
     },
     "metadata": {},
     "output_type": "display_data"
    }
   ],
   "source": [
    "fig2=make_subplots(rows=1, cols=2,\n",
    "                   specs=[[{\"type\":\"domain\"},{\"type\":\"bar\"}]],\n",
    "                   subplot_titles=('Percentage Of Restaurants Offering Delivery','Average Votes vs Online Delivery') ,horizontal_spacing=0.3)\n",
    "\n",
    "fig2.add_trace(go.Pie(labels=Total_Restaurants_Delivery.index,\n",
    "                      values=Total_Restaurants_Delivery.Total_Restaurants,\n",
    "                      hovertemplate =\"%{label}<br>Restaurant Count:%{value}\",\n",
    "                      hoverinfo=None,\n",
    "                      texttemplate = \"%{label}<br>%{percent}\",\n",
    "                      marker=dict(colors=[\"orangered\",\"lightgreen\"]),\n",
    "                      showlegend=True),row=1,col=1)\n",
    "\n",
    "fig2.add_trace(go.Bar(x=Avg_Votes.index,\n",
    "                      y=Avg_Votes[\"Average_Votes\"],\n",
    "                     hovertemplate =\"%{label}<br>Average Votes:%{value}\",\n",
    "                     texttemplate = \"Average Votes<br>%{value}\",\n",
    "                     marker=dict(color=[\"orangered\",\"lightgreen\"]),\n",
    "                     showlegend=False),row=1,col=2)\n",
    "\n",
    "fig2.update_xaxes(title_text=\"Has Online Delivery?\", row=1, col=2)\n",
    "fig2.update_yaxes(title_text=\"Average Votes\", row=1, col=2)\n",
    "\n",
    "\n",
    "fig2.update_traces(textfont_size=15)\n",
    "fig2.update_layout(title_text = 'Graphs showing relation between votes and online delivery',title_font = dict(size=25,family='Verdana', \n",
    "                                     color='darkred'), width=800)"
   ]
  },
  {
   "cell_type": "markdown",
   "id": "1a554508",
   "metadata": {},
   "source": [
    "__Observation__:  \n",
    "The majority of restaurants do not offer online delivery facility to their customers. Only 25.7% of restaurants offer this facility to their customers.  \n",
    "  \n",
    "__In conclusion, on an average, Restaurants offering online delivery to their customers received more votes than the restaurants which don’t offer one. This could be attributed to multiple reasons.__  \n",
    "  \n",
    "One probable reason can be that people ordering food online are more tech-savvy and generally give their review for food they ordered.  \n",
    "Another reason could be that online food delivery apps prompt their users to review the food they ordered after some time.\n",
    "Having online delivery facilities could also increase the reach of the restaurants which would result in more people consuming the services of restaurant and voting on the same.\n",
    "More data would be required to confirm the reasons behind this situation."
   ]
  },
  {
   "cell_type": "markdown",
   "id": "bdc683e5",
   "metadata": {},
   "source": [
    "#### 2. Table Booking\n",
    "- How many restaurants offer Table Booking to their customers?\n",
    "- Is there difference in average number of votes recieved by restaurant offering Table Booking vs restaurant not offering online delivery?"
   ]
  },
  {
   "cell_type": "code",
   "execution_count": 172,
   "id": "692684de",
   "metadata": {},
   "outputs": [],
   "source": [
    "Total_Restaurants_Booking=df_zomato.groupby(\"table_booking\").agg(Total_Restaurants=(\"restaurant_id\",\"count\"))\n",
    "Avg_Votes_Booking=df_zomato.groupby(\"table_booking\").agg(Average_Votes=(\"Votes\",\"mean\"))"
   ]
  },
  {
   "cell_type": "code",
   "execution_count": 175,
   "id": "c67183c3",
   "metadata": {},
   "outputs": [
    {
     "data": {
      "application/vnd.plotly.v1+json": {
       "config": {
        "plotlyServerURL": "https://plot.ly"
       },
       "data": [
        {
         "domain": {
          "x": [
           0,
           0.35
          ],
          "y": [
           0,
           1
          ]
         },
         "hovertemplate": "%{label}<br>Restaurant Count:%{value}",
         "labels": [
          "No",
          "Yes"
         ],
         "marker": {
          "colors": [
           "orangered",
           "lightgreen"
          ]
         },
         "showlegend": true,
         "textfont": {
          "size": 15
         },
         "texttemplate": "%{label}<br>%{percent}",
         "type": "pie",
         "values": [
          8393,
          1158
         ]
        },
        {
         "hovertemplate": "%{label}<br>Average Votes:%{value}",
         "marker": {
          "color": [
           "orangered",
           "lightgreen"
          ]
         },
         "showlegend": false,
         "textfont": {
          "size": 15
         },
         "texttemplate": "Average Votes<br>%{value}",
         "type": "bar",
         "x": [
          "No",
          "Yes"
         ],
         "xaxis": "x",
         "y": [
          129.84010484927916,
          353.1062176165803
         ],
         "yaxis": "y"
        }
       ],
       "layout": {
        "annotations": [
         {
          "font": {
           "size": 16
          },
          "showarrow": false,
          "text": "    Percentage Of Restaurants Offering Table Booking",
          "x": 0.175,
          "xanchor": "center",
          "xref": "paper",
          "y": 1,
          "yanchor": "bottom",
          "yref": "paper"
         },
         {
          "font": {
           "size": 16
          },
          "showarrow": false,
          "text": "Average Votes vs Table Booking",
          "x": 0.825,
          "xanchor": "center",
          "xref": "paper",
          "y": 1,
          "yanchor": "bottom",
          "yref": "paper"
         }
        ],
        "template": {
         "data": {
          "bar": [
           {
            "error_x": {
             "color": "#2a3f5f"
            },
            "error_y": {
             "color": "#2a3f5f"
            },
            "marker": {
             "line": {
              "color": "#E5ECF6",
              "width": 0.5
             },
             "pattern": {
              "fillmode": "overlay",
              "size": 10,
              "solidity": 0.2
             }
            },
            "type": "bar"
           }
          ],
          "barpolar": [
           {
            "marker": {
             "line": {
              "color": "#E5ECF6",
              "width": 0.5
             },
             "pattern": {
              "fillmode": "overlay",
              "size": 10,
              "solidity": 0.2
             }
            },
            "type": "barpolar"
           }
          ],
          "carpet": [
           {
            "aaxis": {
             "endlinecolor": "#2a3f5f",
             "gridcolor": "white",
             "linecolor": "white",
             "minorgridcolor": "white",
             "startlinecolor": "#2a3f5f"
            },
            "baxis": {
             "endlinecolor": "#2a3f5f",
             "gridcolor": "white",
             "linecolor": "white",
             "minorgridcolor": "white",
             "startlinecolor": "#2a3f5f"
            },
            "type": "carpet"
           }
          ],
          "choropleth": [
           {
            "colorbar": {
             "outlinewidth": 0,
             "ticks": ""
            },
            "type": "choropleth"
           }
          ],
          "contour": [
           {
            "colorbar": {
             "outlinewidth": 0,
             "ticks": ""
            },
            "colorscale": [
             [
              0,
              "#0d0887"
             ],
             [
              0.1111111111111111,
              "#46039f"
             ],
             [
              0.2222222222222222,
              "#7201a8"
             ],
             [
              0.3333333333333333,
              "#9c179e"
             ],
             [
              0.4444444444444444,
              "#bd3786"
             ],
             [
              0.5555555555555556,
              "#d8576b"
             ],
             [
              0.6666666666666666,
              "#ed7953"
             ],
             [
              0.7777777777777778,
              "#fb9f3a"
             ],
             [
              0.8888888888888888,
              "#fdca26"
             ],
             [
              1,
              "#f0f921"
             ]
            ],
            "type": "contour"
           }
          ],
          "contourcarpet": [
           {
            "colorbar": {
             "outlinewidth": 0,
             "ticks": ""
            },
            "type": "contourcarpet"
           }
          ],
          "heatmap": [
           {
            "colorbar": {
             "outlinewidth": 0,
             "ticks": ""
            },
            "colorscale": [
             [
              0,
              "#0d0887"
             ],
             [
              0.1111111111111111,
              "#46039f"
             ],
             [
              0.2222222222222222,
              "#7201a8"
             ],
             [
              0.3333333333333333,
              "#9c179e"
             ],
             [
              0.4444444444444444,
              "#bd3786"
             ],
             [
              0.5555555555555556,
              "#d8576b"
             ],
             [
              0.6666666666666666,
              "#ed7953"
             ],
             [
              0.7777777777777778,
              "#fb9f3a"
             ],
             [
              0.8888888888888888,
              "#fdca26"
             ],
             [
              1,
              "#f0f921"
             ]
            ],
            "type": "heatmap"
           }
          ],
          "heatmapgl": [
           {
            "colorbar": {
             "outlinewidth": 0,
             "ticks": ""
            },
            "colorscale": [
             [
              0,
              "#0d0887"
             ],
             [
              0.1111111111111111,
              "#46039f"
             ],
             [
              0.2222222222222222,
              "#7201a8"
             ],
             [
              0.3333333333333333,
              "#9c179e"
             ],
             [
              0.4444444444444444,
              "#bd3786"
             ],
             [
              0.5555555555555556,
              "#d8576b"
             ],
             [
              0.6666666666666666,
              "#ed7953"
             ],
             [
              0.7777777777777778,
              "#fb9f3a"
             ],
             [
              0.8888888888888888,
              "#fdca26"
             ],
             [
              1,
              "#f0f921"
             ]
            ],
            "type": "heatmapgl"
           }
          ],
          "histogram": [
           {
            "marker": {
             "pattern": {
              "fillmode": "overlay",
              "size": 10,
              "solidity": 0.2
             }
            },
            "type": "histogram"
           }
          ],
          "histogram2d": [
           {
            "colorbar": {
             "outlinewidth": 0,
             "ticks": ""
            },
            "colorscale": [
             [
              0,
              "#0d0887"
             ],
             [
              0.1111111111111111,
              "#46039f"
             ],
             [
              0.2222222222222222,
              "#7201a8"
             ],
             [
              0.3333333333333333,
              "#9c179e"
             ],
             [
              0.4444444444444444,
              "#bd3786"
             ],
             [
              0.5555555555555556,
              "#d8576b"
             ],
             [
              0.6666666666666666,
              "#ed7953"
             ],
             [
              0.7777777777777778,
              "#fb9f3a"
             ],
             [
              0.8888888888888888,
              "#fdca26"
             ],
             [
              1,
              "#f0f921"
             ]
            ],
            "type": "histogram2d"
           }
          ],
          "histogram2dcontour": [
           {
            "colorbar": {
             "outlinewidth": 0,
             "ticks": ""
            },
            "colorscale": [
             [
              0,
              "#0d0887"
             ],
             [
              0.1111111111111111,
              "#46039f"
             ],
             [
              0.2222222222222222,
              "#7201a8"
             ],
             [
              0.3333333333333333,
              "#9c179e"
             ],
             [
              0.4444444444444444,
              "#bd3786"
             ],
             [
              0.5555555555555556,
              "#d8576b"
             ],
             [
              0.6666666666666666,
              "#ed7953"
             ],
             [
              0.7777777777777778,
              "#fb9f3a"
             ],
             [
              0.8888888888888888,
              "#fdca26"
             ],
             [
              1,
              "#f0f921"
             ]
            ],
            "type": "histogram2dcontour"
           }
          ],
          "mesh3d": [
           {
            "colorbar": {
             "outlinewidth": 0,
             "ticks": ""
            },
            "type": "mesh3d"
           }
          ],
          "parcoords": [
           {
            "line": {
             "colorbar": {
              "outlinewidth": 0,
              "ticks": ""
             }
            },
            "type": "parcoords"
           }
          ],
          "pie": [
           {
            "automargin": true,
            "type": "pie"
           }
          ],
          "scatter": [
           {
            "marker": {
             "colorbar": {
              "outlinewidth": 0,
              "ticks": ""
             }
            },
            "type": "scatter"
           }
          ],
          "scatter3d": [
           {
            "line": {
             "colorbar": {
              "outlinewidth": 0,
              "ticks": ""
             }
            },
            "marker": {
             "colorbar": {
              "outlinewidth": 0,
              "ticks": ""
             }
            },
            "type": "scatter3d"
           }
          ],
          "scattercarpet": [
           {
            "marker": {
             "colorbar": {
              "outlinewidth": 0,
              "ticks": ""
             }
            },
            "type": "scattercarpet"
           }
          ],
          "scattergeo": [
           {
            "marker": {
             "colorbar": {
              "outlinewidth": 0,
              "ticks": ""
             }
            },
            "type": "scattergeo"
           }
          ],
          "scattergl": [
           {
            "marker": {
             "colorbar": {
              "outlinewidth": 0,
              "ticks": ""
             }
            },
            "type": "scattergl"
           }
          ],
          "scattermapbox": [
           {
            "marker": {
             "colorbar": {
              "outlinewidth": 0,
              "ticks": ""
             }
            },
            "type": "scattermapbox"
           }
          ],
          "scatterpolar": [
           {
            "marker": {
             "colorbar": {
              "outlinewidth": 0,
              "ticks": ""
             }
            },
            "type": "scatterpolar"
           }
          ],
          "scatterpolargl": [
           {
            "marker": {
             "colorbar": {
              "outlinewidth": 0,
              "ticks": ""
             }
            },
            "type": "scatterpolargl"
           }
          ],
          "scatterternary": [
           {
            "marker": {
             "colorbar": {
              "outlinewidth": 0,
              "ticks": ""
             }
            },
            "type": "scatterternary"
           }
          ],
          "surface": [
           {
            "colorbar": {
             "outlinewidth": 0,
             "ticks": ""
            },
            "colorscale": [
             [
              0,
              "#0d0887"
             ],
             [
              0.1111111111111111,
              "#46039f"
             ],
             [
              0.2222222222222222,
              "#7201a8"
             ],
             [
              0.3333333333333333,
              "#9c179e"
             ],
             [
              0.4444444444444444,
              "#bd3786"
             ],
             [
              0.5555555555555556,
              "#d8576b"
             ],
             [
              0.6666666666666666,
              "#ed7953"
             ],
             [
              0.7777777777777778,
              "#fb9f3a"
             ],
             [
              0.8888888888888888,
              "#fdca26"
             ],
             [
              1,
              "#f0f921"
             ]
            ],
            "type": "surface"
           }
          ],
          "table": [
           {
            "cells": {
             "fill": {
              "color": "#EBF0F8"
             },
             "line": {
              "color": "white"
             }
            },
            "header": {
             "fill": {
              "color": "#C8D4E3"
             },
             "line": {
              "color": "white"
             }
            },
            "type": "table"
           }
          ]
         },
         "layout": {
          "annotationdefaults": {
           "arrowcolor": "#2a3f5f",
           "arrowhead": 0,
           "arrowwidth": 1
          },
          "autotypenumbers": "strict",
          "coloraxis": {
           "colorbar": {
            "outlinewidth": 0,
            "ticks": ""
           }
          },
          "colorscale": {
           "diverging": [
            [
             0,
             "#8e0152"
            ],
            [
             0.1,
             "#c51b7d"
            ],
            [
             0.2,
             "#de77ae"
            ],
            [
             0.3,
             "#f1b6da"
            ],
            [
             0.4,
             "#fde0ef"
            ],
            [
             0.5,
             "#f7f7f7"
            ],
            [
             0.6,
             "#e6f5d0"
            ],
            [
             0.7,
             "#b8e186"
            ],
            [
             0.8,
             "#7fbc41"
            ],
            [
             0.9,
             "#4d9221"
            ],
            [
             1,
             "#276419"
            ]
           ],
           "sequential": [
            [
             0,
             "#0d0887"
            ],
            [
             0.1111111111111111,
             "#46039f"
            ],
            [
             0.2222222222222222,
             "#7201a8"
            ],
            [
             0.3333333333333333,
             "#9c179e"
            ],
            [
             0.4444444444444444,
             "#bd3786"
            ],
            [
             0.5555555555555556,
             "#d8576b"
            ],
            [
             0.6666666666666666,
             "#ed7953"
            ],
            [
             0.7777777777777778,
             "#fb9f3a"
            ],
            [
             0.8888888888888888,
             "#fdca26"
            ],
            [
             1,
             "#f0f921"
            ]
           ],
           "sequentialminus": [
            [
             0,
             "#0d0887"
            ],
            [
             0.1111111111111111,
             "#46039f"
            ],
            [
             0.2222222222222222,
             "#7201a8"
            ],
            [
             0.3333333333333333,
             "#9c179e"
            ],
            [
             0.4444444444444444,
             "#bd3786"
            ],
            [
             0.5555555555555556,
             "#d8576b"
            ],
            [
             0.6666666666666666,
             "#ed7953"
            ],
            [
             0.7777777777777778,
             "#fb9f3a"
            ],
            [
             0.8888888888888888,
             "#fdca26"
            ],
            [
             1,
             "#f0f921"
            ]
           ]
          },
          "colorway": [
           "#636efa",
           "#EF553B",
           "#00cc96",
           "#ab63fa",
           "#FFA15A",
           "#19d3f3",
           "#FF6692",
           "#B6E880",
           "#FF97FF",
           "#FECB52"
          ],
          "font": {
           "color": "#2a3f5f"
          },
          "geo": {
           "bgcolor": "white",
           "lakecolor": "white",
           "landcolor": "#E5ECF6",
           "showlakes": true,
           "showland": true,
           "subunitcolor": "white"
          },
          "hoverlabel": {
           "align": "left"
          },
          "hovermode": "closest",
          "mapbox": {
           "style": "light"
          },
          "paper_bgcolor": "white",
          "plot_bgcolor": "#E5ECF6",
          "polar": {
           "angularaxis": {
            "gridcolor": "white",
            "linecolor": "white",
            "ticks": ""
           },
           "bgcolor": "#E5ECF6",
           "radialaxis": {
            "gridcolor": "white",
            "linecolor": "white",
            "ticks": ""
           }
          },
          "scene": {
           "xaxis": {
            "backgroundcolor": "#E5ECF6",
            "gridcolor": "white",
            "gridwidth": 2,
            "linecolor": "white",
            "showbackground": true,
            "ticks": "",
            "zerolinecolor": "white"
           },
           "yaxis": {
            "backgroundcolor": "#E5ECF6",
            "gridcolor": "white",
            "gridwidth": 2,
            "linecolor": "white",
            "showbackground": true,
            "ticks": "",
            "zerolinecolor": "white"
           },
           "zaxis": {
            "backgroundcolor": "#E5ECF6",
            "gridcolor": "white",
            "gridwidth": 2,
            "linecolor": "white",
            "showbackground": true,
            "ticks": "",
            "zerolinecolor": "white"
           }
          },
          "shapedefaults": {
           "line": {
            "color": "#2a3f5f"
           }
          },
          "ternary": {
           "aaxis": {
            "gridcolor": "white",
            "linecolor": "white",
            "ticks": ""
           },
           "baxis": {
            "gridcolor": "white",
            "linecolor": "white",
            "ticks": ""
           },
           "bgcolor": "#E5ECF6",
           "caxis": {
            "gridcolor": "white",
            "linecolor": "white",
            "ticks": ""
           }
          },
          "title": {
           "x": 0.05
          },
          "xaxis": {
           "automargin": true,
           "gridcolor": "white",
           "linecolor": "white",
           "ticks": "",
           "title": {
            "standoff": 15
           },
           "zerolinecolor": "white",
           "zerolinewidth": 2
          },
          "yaxis": {
           "automargin": true,
           "gridcolor": "white",
           "linecolor": "white",
           "ticks": "",
           "title": {
            "standoff": 15
           },
           "zerolinecolor": "white",
           "zerolinewidth": 2
          }
         }
        },
        "title": {
         "font": {
          "color": "darkred",
          "family": "Verdana",
          "size": 25
         },
         "text": "Graphs showing relation between votes and Table Booking"
        },
        "width": 800,
        "xaxis": {
         "anchor": "y",
         "domain": [
          0.6499999999999999,
          0.9999999999999999
         ],
         "title": {
          "text": "Has Table Booking?"
         }
        },
        "yaxis": {
         "anchor": "x",
         "domain": [
          0,
          1
         ],
         "title": {
          "text": "Average Votes"
         }
        }
       }
      },
      "text/html": [
       "<div>                            <div id=\"19ee7ace-b441-41c5-87ef-05918bc90560\" class=\"plotly-graph-div\" style=\"height:525px; width:800px;\"></div>            <script type=\"text/javascript\">                require([\"plotly\"], function(Plotly) {                    window.PLOTLYENV=window.PLOTLYENV || {};                                    if (document.getElementById(\"19ee7ace-b441-41c5-87ef-05918bc90560\")) {                    Plotly.newPlot(                        \"19ee7ace-b441-41c5-87ef-05918bc90560\",                        [{\"hovertemplate\":\"%{label}<br>Restaurant Count:%{value}\",\"labels\":[\"No\",\"Yes\"],\"marker\":{\"colors\":[\"orangered\",\"lightgreen\"]},\"showlegend\":true,\"texttemplate\":\"%{label}<br>%{percent}\",\"values\":[8393,1158],\"type\":\"pie\",\"domain\":{\"x\":[0.0,0.35],\"y\":[0.0,1.0]},\"textfont\":{\"size\":15}},{\"hovertemplate\":\"%{label}<br>Average Votes:%{value}\",\"marker\":{\"color\":[\"orangered\",\"lightgreen\"]},\"showlegend\":false,\"texttemplate\":\"Average Votes<br>%{value}\",\"x\":[\"No\",\"Yes\"],\"y\":[129.84010484927916,353.1062176165803],\"type\":\"bar\",\"xaxis\":\"x\",\"yaxis\":\"y\",\"textfont\":{\"size\":15}}],                        {\"template\":{\"data\":{\"bar\":[{\"error_x\":{\"color\":\"#2a3f5f\"},\"error_y\":{\"color\":\"#2a3f5f\"},\"marker\":{\"line\":{\"color\":\"#E5ECF6\",\"width\":0.5},\"pattern\":{\"fillmode\":\"overlay\",\"size\":10,\"solidity\":0.2}},\"type\":\"bar\"}],\"barpolar\":[{\"marker\":{\"line\":{\"color\":\"#E5ECF6\",\"width\":0.5},\"pattern\":{\"fillmode\":\"overlay\",\"size\":10,\"solidity\":0.2}},\"type\":\"barpolar\"}],\"carpet\":[{\"aaxis\":{\"endlinecolor\":\"#2a3f5f\",\"gridcolor\":\"white\",\"linecolor\":\"white\",\"minorgridcolor\":\"white\",\"startlinecolor\":\"#2a3f5f\"},\"baxis\":{\"endlinecolor\":\"#2a3f5f\",\"gridcolor\":\"white\",\"linecolor\":\"white\",\"minorgridcolor\":\"white\",\"startlinecolor\":\"#2a3f5f\"},\"type\":\"carpet\"}],\"choropleth\":[{\"colorbar\":{\"outlinewidth\":0,\"ticks\":\"\"},\"type\":\"choropleth\"}],\"contour\":[{\"colorbar\":{\"outlinewidth\":0,\"ticks\":\"\"},\"colorscale\":[[0.0,\"#0d0887\"],[0.1111111111111111,\"#46039f\"],[0.2222222222222222,\"#7201a8\"],[0.3333333333333333,\"#9c179e\"],[0.4444444444444444,\"#bd3786\"],[0.5555555555555556,\"#d8576b\"],[0.6666666666666666,\"#ed7953\"],[0.7777777777777778,\"#fb9f3a\"],[0.8888888888888888,\"#fdca26\"],[1.0,\"#f0f921\"]],\"type\":\"contour\"}],\"contourcarpet\":[{\"colorbar\":{\"outlinewidth\":0,\"ticks\":\"\"},\"type\":\"contourcarpet\"}],\"heatmap\":[{\"colorbar\":{\"outlinewidth\":0,\"ticks\":\"\"},\"colorscale\":[[0.0,\"#0d0887\"],[0.1111111111111111,\"#46039f\"],[0.2222222222222222,\"#7201a8\"],[0.3333333333333333,\"#9c179e\"],[0.4444444444444444,\"#bd3786\"],[0.5555555555555556,\"#d8576b\"],[0.6666666666666666,\"#ed7953\"],[0.7777777777777778,\"#fb9f3a\"],[0.8888888888888888,\"#fdca26\"],[1.0,\"#f0f921\"]],\"type\":\"heatmap\"}],\"heatmapgl\":[{\"colorbar\":{\"outlinewidth\":0,\"ticks\":\"\"},\"colorscale\":[[0.0,\"#0d0887\"],[0.1111111111111111,\"#46039f\"],[0.2222222222222222,\"#7201a8\"],[0.3333333333333333,\"#9c179e\"],[0.4444444444444444,\"#bd3786\"],[0.5555555555555556,\"#d8576b\"],[0.6666666666666666,\"#ed7953\"],[0.7777777777777778,\"#fb9f3a\"],[0.8888888888888888,\"#fdca26\"],[1.0,\"#f0f921\"]],\"type\":\"heatmapgl\"}],\"histogram\":[{\"marker\":{\"pattern\":{\"fillmode\":\"overlay\",\"size\":10,\"solidity\":0.2}},\"type\":\"histogram\"}],\"histogram2d\":[{\"colorbar\":{\"outlinewidth\":0,\"ticks\":\"\"},\"colorscale\":[[0.0,\"#0d0887\"],[0.1111111111111111,\"#46039f\"],[0.2222222222222222,\"#7201a8\"],[0.3333333333333333,\"#9c179e\"],[0.4444444444444444,\"#bd3786\"],[0.5555555555555556,\"#d8576b\"],[0.6666666666666666,\"#ed7953\"],[0.7777777777777778,\"#fb9f3a\"],[0.8888888888888888,\"#fdca26\"],[1.0,\"#f0f921\"]],\"type\":\"histogram2d\"}],\"histogram2dcontour\":[{\"colorbar\":{\"outlinewidth\":0,\"ticks\":\"\"},\"colorscale\":[[0.0,\"#0d0887\"],[0.1111111111111111,\"#46039f\"],[0.2222222222222222,\"#7201a8\"],[0.3333333333333333,\"#9c179e\"],[0.4444444444444444,\"#bd3786\"],[0.5555555555555556,\"#d8576b\"],[0.6666666666666666,\"#ed7953\"],[0.7777777777777778,\"#fb9f3a\"],[0.8888888888888888,\"#fdca26\"],[1.0,\"#f0f921\"]],\"type\":\"histogram2dcontour\"}],\"mesh3d\":[{\"colorbar\":{\"outlinewidth\":0,\"ticks\":\"\"},\"type\":\"mesh3d\"}],\"parcoords\":[{\"line\":{\"colorbar\":{\"outlinewidth\":0,\"ticks\":\"\"}},\"type\":\"parcoords\"}],\"pie\":[{\"automargin\":true,\"type\":\"pie\"}],\"scatter\":[{\"marker\":{\"colorbar\":{\"outlinewidth\":0,\"ticks\":\"\"}},\"type\":\"scatter\"}],\"scatter3d\":[{\"line\":{\"colorbar\":{\"outlinewidth\":0,\"ticks\":\"\"}},\"marker\":{\"colorbar\":{\"outlinewidth\":0,\"ticks\":\"\"}},\"type\":\"scatter3d\"}],\"scattercarpet\":[{\"marker\":{\"colorbar\":{\"outlinewidth\":0,\"ticks\":\"\"}},\"type\":\"scattercarpet\"}],\"scattergeo\":[{\"marker\":{\"colorbar\":{\"outlinewidth\":0,\"ticks\":\"\"}},\"type\":\"scattergeo\"}],\"scattergl\":[{\"marker\":{\"colorbar\":{\"outlinewidth\":0,\"ticks\":\"\"}},\"type\":\"scattergl\"}],\"scattermapbox\":[{\"marker\":{\"colorbar\":{\"outlinewidth\":0,\"ticks\":\"\"}},\"type\":\"scattermapbox\"}],\"scatterpolar\":[{\"marker\":{\"colorbar\":{\"outlinewidth\":0,\"ticks\":\"\"}},\"type\":\"scatterpolar\"}],\"scatterpolargl\":[{\"marker\":{\"colorbar\":{\"outlinewidth\":0,\"ticks\":\"\"}},\"type\":\"scatterpolargl\"}],\"scatterternary\":[{\"marker\":{\"colorbar\":{\"outlinewidth\":0,\"ticks\":\"\"}},\"type\":\"scatterternary\"}],\"surface\":[{\"colorbar\":{\"outlinewidth\":0,\"ticks\":\"\"},\"colorscale\":[[0.0,\"#0d0887\"],[0.1111111111111111,\"#46039f\"],[0.2222222222222222,\"#7201a8\"],[0.3333333333333333,\"#9c179e\"],[0.4444444444444444,\"#bd3786\"],[0.5555555555555556,\"#d8576b\"],[0.6666666666666666,\"#ed7953\"],[0.7777777777777778,\"#fb9f3a\"],[0.8888888888888888,\"#fdca26\"],[1.0,\"#f0f921\"]],\"type\":\"surface\"}],\"table\":[{\"cells\":{\"fill\":{\"color\":\"#EBF0F8\"},\"line\":{\"color\":\"white\"}},\"header\":{\"fill\":{\"color\":\"#C8D4E3\"},\"line\":{\"color\":\"white\"}},\"type\":\"table\"}]},\"layout\":{\"annotationdefaults\":{\"arrowcolor\":\"#2a3f5f\",\"arrowhead\":0,\"arrowwidth\":1},\"autotypenumbers\":\"strict\",\"coloraxis\":{\"colorbar\":{\"outlinewidth\":0,\"ticks\":\"\"}},\"colorscale\":{\"diverging\":[[0,\"#8e0152\"],[0.1,\"#c51b7d\"],[0.2,\"#de77ae\"],[0.3,\"#f1b6da\"],[0.4,\"#fde0ef\"],[0.5,\"#f7f7f7\"],[0.6,\"#e6f5d0\"],[0.7,\"#b8e186\"],[0.8,\"#7fbc41\"],[0.9,\"#4d9221\"],[1,\"#276419\"]],\"sequential\":[[0.0,\"#0d0887\"],[0.1111111111111111,\"#46039f\"],[0.2222222222222222,\"#7201a8\"],[0.3333333333333333,\"#9c179e\"],[0.4444444444444444,\"#bd3786\"],[0.5555555555555556,\"#d8576b\"],[0.6666666666666666,\"#ed7953\"],[0.7777777777777778,\"#fb9f3a\"],[0.8888888888888888,\"#fdca26\"],[1.0,\"#f0f921\"]],\"sequentialminus\":[[0.0,\"#0d0887\"],[0.1111111111111111,\"#46039f\"],[0.2222222222222222,\"#7201a8\"],[0.3333333333333333,\"#9c179e\"],[0.4444444444444444,\"#bd3786\"],[0.5555555555555556,\"#d8576b\"],[0.6666666666666666,\"#ed7953\"],[0.7777777777777778,\"#fb9f3a\"],[0.8888888888888888,\"#fdca26\"],[1.0,\"#f0f921\"]]},\"colorway\":[\"#636efa\",\"#EF553B\",\"#00cc96\",\"#ab63fa\",\"#FFA15A\",\"#19d3f3\",\"#FF6692\",\"#B6E880\",\"#FF97FF\",\"#FECB52\"],\"font\":{\"color\":\"#2a3f5f\"},\"geo\":{\"bgcolor\":\"white\",\"lakecolor\":\"white\",\"landcolor\":\"#E5ECF6\",\"showlakes\":true,\"showland\":true,\"subunitcolor\":\"white\"},\"hoverlabel\":{\"align\":\"left\"},\"hovermode\":\"closest\",\"mapbox\":{\"style\":\"light\"},\"paper_bgcolor\":\"white\",\"plot_bgcolor\":\"#E5ECF6\",\"polar\":{\"angularaxis\":{\"gridcolor\":\"white\",\"linecolor\":\"white\",\"ticks\":\"\"},\"bgcolor\":\"#E5ECF6\",\"radialaxis\":{\"gridcolor\":\"white\",\"linecolor\":\"white\",\"ticks\":\"\"}},\"scene\":{\"xaxis\":{\"backgroundcolor\":\"#E5ECF6\",\"gridcolor\":\"white\",\"gridwidth\":2,\"linecolor\":\"white\",\"showbackground\":true,\"ticks\":\"\",\"zerolinecolor\":\"white\"},\"yaxis\":{\"backgroundcolor\":\"#E5ECF6\",\"gridcolor\":\"white\",\"gridwidth\":2,\"linecolor\":\"white\",\"showbackground\":true,\"ticks\":\"\",\"zerolinecolor\":\"white\"},\"zaxis\":{\"backgroundcolor\":\"#E5ECF6\",\"gridcolor\":\"white\",\"gridwidth\":2,\"linecolor\":\"white\",\"showbackground\":true,\"ticks\":\"\",\"zerolinecolor\":\"white\"}},\"shapedefaults\":{\"line\":{\"color\":\"#2a3f5f\"}},\"ternary\":{\"aaxis\":{\"gridcolor\":\"white\",\"linecolor\":\"white\",\"ticks\":\"\"},\"baxis\":{\"gridcolor\":\"white\",\"linecolor\":\"white\",\"ticks\":\"\"},\"bgcolor\":\"#E5ECF6\",\"caxis\":{\"gridcolor\":\"white\",\"linecolor\":\"white\",\"ticks\":\"\"}},\"title\":{\"x\":0.05},\"xaxis\":{\"automargin\":true,\"gridcolor\":\"white\",\"linecolor\":\"white\",\"ticks\":\"\",\"title\":{\"standoff\":15},\"zerolinecolor\":\"white\",\"zerolinewidth\":2},\"yaxis\":{\"automargin\":true,\"gridcolor\":\"white\",\"linecolor\":\"white\",\"ticks\":\"\",\"title\":{\"standoff\":15},\"zerolinecolor\":\"white\",\"zerolinewidth\":2}}},\"xaxis\":{\"anchor\":\"y\",\"domain\":[0.6499999999999999,0.9999999999999999],\"title\":{\"text\":\"Has Table Booking?\"}},\"yaxis\":{\"anchor\":\"x\",\"domain\":[0.0,1.0],\"title\":{\"text\":\"Average Votes\"}},\"annotations\":[{\"font\":{\"size\":16},\"showarrow\":false,\"text\":\"    Percentage Of Restaurants Offering Table Booking\",\"x\":0.175,\"xanchor\":\"center\",\"xref\":\"paper\",\"y\":1.0,\"yanchor\":\"bottom\",\"yref\":\"paper\"},{\"font\":{\"size\":16},\"showarrow\":false,\"text\":\"Average Votes vs Table Booking\",\"x\":0.825,\"xanchor\":\"center\",\"xref\":\"paper\",\"y\":1.0,\"yanchor\":\"bottom\",\"yref\":\"paper\"}],\"title\":{\"font\":{\"size\":25,\"family\":\"Verdana\",\"color\":\"darkred\"},\"text\":\"Graphs showing relation between votes and Table Booking\"},\"width\":800},                        {\"responsive\": true}                    ).then(function(){\n",
       "                            \n",
       "var gd = document.getElementById('19ee7ace-b441-41c5-87ef-05918bc90560');\n",
       "var x = new MutationObserver(function (mutations, observer) {{\n",
       "        var display = window.getComputedStyle(gd).display;\n",
       "        if (!display || display === 'none') {{\n",
       "            console.log([gd, 'removed!']);\n",
       "            Plotly.purge(gd);\n",
       "            observer.disconnect();\n",
       "        }}\n",
       "}});\n",
       "\n",
       "// Listen for the removal of the full notebook cells\n",
       "var notebookContainer = gd.closest('#notebook-container');\n",
       "if (notebookContainer) {{\n",
       "    x.observe(notebookContainer, {childList: true});\n",
       "}}\n",
       "\n",
       "// Listen for the clearing of the current output cell\n",
       "var outputEl = gd.closest('.output');\n",
       "if (outputEl) {{\n",
       "    x.observe(outputEl, {childList: true});\n",
       "}}\n",
       "\n",
       "                        })                };                });            </script>        </div>"
      ]
     },
     "metadata": {},
     "output_type": "display_data"
    }
   ],
   "source": [
    "fig2=make_subplots(rows=1, cols=2,\n",
    "                   specs=[[{\"type\":\"domain\"},{\"type\":\"bar\"}]],\n",
    "                   subplot_titles=('    Percentage Of Restaurants Offering Table Booking','Average Votes vs Table Booking'), horizontal_spacing=0.3)\n",
    "\n",
    "fig2.add_trace(go.Pie(labels=Total_Restaurants_Booking.index,\n",
    "                      values=Total_Restaurants_Booking.Total_Restaurants,\n",
    "                      hovertemplate =\"%{label}<br>Restaurant Count:%{value}\",\n",
    "                      hoverinfo=None,\n",
    "                      texttemplate = \"%{label}<br>%{percent}\",\n",
    "                      marker=dict(colors=[\"orangered\",\"lightgreen\"]),\n",
    "                      showlegend=True),row=1,col=1)\n",
    "\n",
    "fig2.add_trace(go.Bar(x=Avg_Votes_Booking.index,\n",
    "                      y=Avg_Votes_Booking[\"Average_Votes\"],\n",
    "                     hovertemplate =\"%{label}<br>Average Votes:%{value}\",\n",
    "                     texttemplate = \"Average Votes<br>%{value}\",\n",
    "                     marker=dict(color=[\"orangered\",\"lightgreen\"]),\n",
    "                     showlegend=False),row=1,col=2)\n",
    "\n",
    "fig2.update_xaxes(title_text=\"Has Table Booking?\", row=1, col=2)\n",
    "fig2.update_yaxes(title_text=\"Average Votes\", row=1, col=2)\n",
    "\n",
    "fig2.update_traces(textfont_size=15)\n",
    "fig2.update_layout(title_text = 'Graphs showing relation between votes and Table Booking',\n",
    "                   title_font = dict(size=25,family='Verdana', color='darkred'),width=800)"
   ]
  },
  {
   "cell_type": "markdown",
   "id": "bd138afc",
   "metadata": {},
   "source": [
    "Only __12.10%__ of restaurants offer Table Booking to their customers. Majority of restaurants do not have facility to reserve table for their customers. However, Restaurants offering table booking received significantly more votes than the ones who don’t offer this service. We can infer this from the above visuals."
   ]
  },
  {
   "cell_type": "markdown",
   "id": "12c022c6",
   "metadata": {},
   "source": [
    "#### 3. Total Number Of Cuisines\n",
    "We will see if having more cuisines could affect the number of votes recieved by an restaurants. First we will need to write a logic so that we can count the number of cuisines each restaurant has."
   ]
  },
  {
   "cell_type": "code",
   "execution_count": 179,
   "id": "5f011e2d",
   "metadata": {},
   "outputs": [],
   "source": [
    "df_zomato[\"Total_Cuisines\"]=df_zomato.apply((lambda x: len(str(x[\"Cuisines\"]).split(','))),axis=1)"
   ]
  },
  {
   "cell_type": "code",
   "execution_count": 180,
   "id": "86fe14c1",
   "metadata": {},
   "outputs": [
    {
     "data": {
      "text/plain": [
       "2    3444\n",
       "1    3403\n",
       "3    1840\n",
       "4     584\n",
       "5     164\n",
       "6      74\n",
       "7      28\n",
       "8      14\n",
       "Name: Total_Cuisines, dtype: int64"
      ]
     },
     "execution_count": 180,
     "metadata": {},
     "output_type": "execute_result"
    }
   ],
   "source": [
    "df_zomato[\"Total_Cuisines\"].value_counts()"
   ]
  },
  {
   "cell_type": "markdown",
   "id": "225f24ee",
   "metadata": {},
   "source": [
    "As we can see that restaurants that have 6 or more cuisines are very less in number. We will merge this segment into one so that insights that we gain from this are more statistically significant and not skewed in one direction because of few bad restaurants or few good restaurants."
   ]
  },
  {
   "cell_type": "code",
   "execution_count": 181,
   "id": "71ff3386",
   "metadata": {},
   "outputs": [
    {
     "data": {
      "application/vnd.plotly.v1+json": {
       "config": {
        "plotlyServerURL": "https://plot.ly"
       },
       "data": [
        {
         "hovertemplate": "Total Cuisines:%{label}<br>Average Votes:%{value}",
         "name": "Average Votes",
         "textfont": {
          "size": 15
         },
         "type": "bar",
         "x": [
          "1",
          "2",
          "3",
          "4",
          "5",
          "6 or More"
         ],
         "y": [
          88.00440787540406,
          137.06271777003485,
          220.16684782608695,
          369.9777397260274,
          336.0487804878049,
          438.2413793103448
         ]
        },
        {
         "hovertemplate": "Total Cuisines:%{label}<br>Median Votes:%{value}",
         "name": "Median Votes",
         "textfont": {
          "size": 15
         },
         "type": "bar",
         "x": [
          "1",
          "2",
          "3",
          "4",
          "5",
          "6 or More"
         ],
         "y": [
          12,
          29,
          68,
          145,
          153.5,
          182
         ]
        }
       ],
       "layout": {
        "barmode": "group",
        "template": {
         "data": {
          "bar": [
           {
            "error_x": {
             "color": "#2a3f5f"
            },
            "error_y": {
             "color": "#2a3f5f"
            },
            "marker": {
             "line": {
              "color": "#E5ECF6",
              "width": 0.5
             },
             "pattern": {
              "fillmode": "overlay",
              "size": 10,
              "solidity": 0.2
             }
            },
            "type": "bar"
           }
          ],
          "barpolar": [
           {
            "marker": {
             "line": {
              "color": "#E5ECF6",
              "width": 0.5
             },
             "pattern": {
              "fillmode": "overlay",
              "size": 10,
              "solidity": 0.2
             }
            },
            "type": "barpolar"
           }
          ],
          "carpet": [
           {
            "aaxis": {
             "endlinecolor": "#2a3f5f",
             "gridcolor": "white",
             "linecolor": "white",
             "minorgridcolor": "white",
             "startlinecolor": "#2a3f5f"
            },
            "baxis": {
             "endlinecolor": "#2a3f5f",
             "gridcolor": "white",
             "linecolor": "white",
             "minorgridcolor": "white",
             "startlinecolor": "#2a3f5f"
            },
            "type": "carpet"
           }
          ],
          "choropleth": [
           {
            "colorbar": {
             "outlinewidth": 0,
             "ticks": ""
            },
            "type": "choropleth"
           }
          ],
          "contour": [
           {
            "colorbar": {
             "outlinewidth": 0,
             "ticks": ""
            },
            "colorscale": [
             [
              0,
              "#0d0887"
             ],
             [
              0.1111111111111111,
              "#46039f"
             ],
             [
              0.2222222222222222,
              "#7201a8"
             ],
             [
              0.3333333333333333,
              "#9c179e"
             ],
             [
              0.4444444444444444,
              "#bd3786"
             ],
             [
              0.5555555555555556,
              "#d8576b"
             ],
             [
              0.6666666666666666,
              "#ed7953"
             ],
             [
              0.7777777777777778,
              "#fb9f3a"
             ],
             [
              0.8888888888888888,
              "#fdca26"
             ],
             [
              1,
              "#f0f921"
             ]
            ],
            "type": "contour"
           }
          ],
          "contourcarpet": [
           {
            "colorbar": {
             "outlinewidth": 0,
             "ticks": ""
            },
            "type": "contourcarpet"
           }
          ],
          "heatmap": [
           {
            "colorbar": {
             "outlinewidth": 0,
             "ticks": ""
            },
            "colorscale": [
             [
              0,
              "#0d0887"
             ],
             [
              0.1111111111111111,
              "#46039f"
             ],
             [
              0.2222222222222222,
              "#7201a8"
             ],
             [
              0.3333333333333333,
              "#9c179e"
             ],
             [
              0.4444444444444444,
              "#bd3786"
             ],
             [
              0.5555555555555556,
              "#d8576b"
             ],
             [
              0.6666666666666666,
              "#ed7953"
             ],
             [
              0.7777777777777778,
              "#fb9f3a"
             ],
             [
              0.8888888888888888,
              "#fdca26"
             ],
             [
              1,
              "#f0f921"
             ]
            ],
            "type": "heatmap"
           }
          ],
          "heatmapgl": [
           {
            "colorbar": {
             "outlinewidth": 0,
             "ticks": ""
            },
            "colorscale": [
             [
              0,
              "#0d0887"
             ],
             [
              0.1111111111111111,
              "#46039f"
             ],
             [
              0.2222222222222222,
              "#7201a8"
             ],
             [
              0.3333333333333333,
              "#9c179e"
             ],
             [
              0.4444444444444444,
              "#bd3786"
             ],
             [
              0.5555555555555556,
              "#d8576b"
             ],
             [
              0.6666666666666666,
              "#ed7953"
             ],
             [
              0.7777777777777778,
              "#fb9f3a"
             ],
             [
              0.8888888888888888,
              "#fdca26"
             ],
             [
              1,
              "#f0f921"
             ]
            ],
            "type": "heatmapgl"
           }
          ],
          "histogram": [
           {
            "marker": {
             "pattern": {
              "fillmode": "overlay",
              "size": 10,
              "solidity": 0.2
             }
            },
            "type": "histogram"
           }
          ],
          "histogram2d": [
           {
            "colorbar": {
             "outlinewidth": 0,
             "ticks": ""
            },
            "colorscale": [
             [
              0,
              "#0d0887"
             ],
             [
              0.1111111111111111,
              "#46039f"
             ],
             [
              0.2222222222222222,
              "#7201a8"
             ],
             [
              0.3333333333333333,
              "#9c179e"
             ],
             [
              0.4444444444444444,
              "#bd3786"
             ],
             [
              0.5555555555555556,
              "#d8576b"
             ],
             [
              0.6666666666666666,
              "#ed7953"
             ],
             [
              0.7777777777777778,
              "#fb9f3a"
             ],
             [
              0.8888888888888888,
              "#fdca26"
             ],
             [
              1,
              "#f0f921"
             ]
            ],
            "type": "histogram2d"
           }
          ],
          "histogram2dcontour": [
           {
            "colorbar": {
             "outlinewidth": 0,
             "ticks": ""
            },
            "colorscale": [
             [
              0,
              "#0d0887"
             ],
             [
              0.1111111111111111,
              "#46039f"
             ],
             [
              0.2222222222222222,
              "#7201a8"
             ],
             [
              0.3333333333333333,
              "#9c179e"
             ],
             [
              0.4444444444444444,
              "#bd3786"
             ],
             [
              0.5555555555555556,
              "#d8576b"
             ],
             [
              0.6666666666666666,
              "#ed7953"
             ],
             [
              0.7777777777777778,
              "#fb9f3a"
             ],
             [
              0.8888888888888888,
              "#fdca26"
             ],
             [
              1,
              "#f0f921"
             ]
            ],
            "type": "histogram2dcontour"
           }
          ],
          "mesh3d": [
           {
            "colorbar": {
             "outlinewidth": 0,
             "ticks": ""
            },
            "type": "mesh3d"
           }
          ],
          "parcoords": [
           {
            "line": {
             "colorbar": {
              "outlinewidth": 0,
              "ticks": ""
             }
            },
            "type": "parcoords"
           }
          ],
          "pie": [
           {
            "automargin": true,
            "type": "pie"
           }
          ],
          "scatter": [
           {
            "marker": {
             "colorbar": {
              "outlinewidth": 0,
              "ticks": ""
             }
            },
            "type": "scatter"
           }
          ],
          "scatter3d": [
           {
            "line": {
             "colorbar": {
              "outlinewidth": 0,
              "ticks": ""
             }
            },
            "marker": {
             "colorbar": {
              "outlinewidth": 0,
              "ticks": ""
             }
            },
            "type": "scatter3d"
           }
          ],
          "scattercarpet": [
           {
            "marker": {
             "colorbar": {
              "outlinewidth": 0,
              "ticks": ""
             }
            },
            "type": "scattercarpet"
           }
          ],
          "scattergeo": [
           {
            "marker": {
             "colorbar": {
              "outlinewidth": 0,
              "ticks": ""
             }
            },
            "type": "scattergeo"
           }
          ],
          "scattergl": [
           {
            "marker": {
             "colorbar": {
              "outlinewidth": 0,
              "ticks": ""
             }
            },
            "type": "scattergl"
           }
          ],
          "scattermapbox": [
           {
            "marker": {
             "colorbar": {
              "outlinewidth": 0,
              "ticks": ""
             }
            },
            "type": "scattermapbox"
           }
          ],
          "scatterpolar": [
           {
            "marker": {
             "colorbar": {
              "outlinewidth": 0,
              "ticks": ""
             }
            },
            "type": "scatterpolar"
           }
          ],
          "scatterpolargl": [
           {
            "marker": {
             "colorbar": {
              "outlinewidth": 0,
              "ticks": ""
             }
            },
            "type": "scatterpolargl"
           }
          ],
          "scatterternary": [
           {
            "marker": {
             "colorbar": {
              "outlinewidth": 0,
              "ticks": ""
             }
            },
            "type": "scatterternary"
           }
          ],
          "surface": [
           {
            "colorbar": {
             "outlinewidth": 0,
             "ticks": ""
            },
            "colorscale": [
             [
              0,
              "#0d0887"
             ],
             [
              0.1111111111111111,
              "#46039f"
             ],
             [
              0.2222222222222222,
              "#7201a8"
             ],
             [
              0.3333333333333333,
              "#9c179e"
             ],
             [
              0.4444444444444444,
              "#bd3786"
             ],
             [
              0.5555555555555556,
              "#d8576b"
             ],
             [
              0.6666666666666666,
              "#ed7953"
             ],
             [
              0.7777777777777778,
              "#fb9f3a"
             ],
             [
              0.8888888888888888,
              "#fdca26"
             ],
             [
              1,
              "#f0f921"
             ]
            ],
            "type": "surface"
           }
          ],
          "table": [
           {
            "cells": {
             "fill": {
              "color": "#EBF0F8"
             },
             "line": {
              "color": "white"
             }
            },
            "header": {
             "fill": {
              "color": "#C8D4E3"
             },
             "line": {
              "color": "white"
             }
            },
            "type": "table"
           }
          ]
         },
         "layout": {
          "annotationdefaults": {
           "arrowcolor": "#2a3f5f",
           "arrowhead": 0,
           "arrowwidth": 1
          },
          "autotypenumbers": "strict",
          "coloraxis": {
           "colorbar": {
            "outlinewidth": 0,
            "ticks": ""
           }
          },
          "colorscale": {
           "diverging": [
            [
             0,
             "#8e0152"
            ],
            [
             0.1,
             "#c51b7d"
            ],
            [
             0.2,
             "#de77ae"
            ],
            [
             0.3,
             "#f1b6da"
            ],
            [
             0.4,
             "#fde0ef"
            ],
            [
             0.5,
             "#f7f7f7"
            ],
            [
             0.6,
             "#e6f5d0"
            ],
            [
             0.7,
             "#b8e186"
            ],
            [
             0.8,
             "#7fbc41"
            ],
            [
             0.9,
             "#4d9221"
            ],
            [
             1,
             "#276419"
            ]
           ],
           "sequential": [
            [
             0,
             "#0d0887"
            ],
            [
             0.1111111111111111,
             "#46039f"
            ],
            [
             0.2222222222222222,
             "#7201a8"
            ],
            [
             0.3333333333333333,
             "#9c179e"
            ],
            [
             0.4444444444444444,
             "#bd3786"
            ],
            [
             0.5555555555555556,
             "#d8576b"
            ],
            [
             0.6666666666666666,
             "#ed7953"
            ],
            [
             0.7777777777777778,
             "#fb9f3a"
            ],
            [
             0.8888888888888888,
             "#fdca26"
            ],
            [
             1,
             "#f0f921"
            ]
           ],
           "sequentialminus": [
            [
             0,
             "#0d0887"
            ],
            [
             0.1111111111111111,
             "#46039f"
            ],
            [
             0.2222222222222222,
             "#7201a8"
            ],
            [
             0.3333333333333333,
             "#9c179e"
            ],
            [
             0.4444444444444444,
             "#bd3786"
            ],
            [
             0.5555555555555556,
             "#d8576b"
            ],
            [
             0.6666666666666666,
             "#ed7953"
            ],
            [
             0.7777777777777778,
             "#fb9f3a"
            ],
            [
             0.8888888888888888,
             "#fdca26"
            ],
            [
             1,
             "#f0f921"
            ]
           ]
          },
          "colorway": [
           "#636efa",
           "#EF553B",
           "#00cc96",
           "#ab63fa",
           "#FFA15A",
           "#19d3f3",
           "#FF6692",
           "#B6E880",
           "#FF97FF",
           "#FECB52"
          ],
          "font": {
           "color": "#2a3f5f"
          },
          "geo": {
           "bgcolor": "white",
           "lakecolor": "white",
           "landcolor": "#E5ECF6",
           "showlakes": true,
           "showland": true,
           "subunitcolor": "white"
          },
          "hoverlabel": {
           "align": "left"
          },
          "hovermode": "closest",
          "mapbox": {
           "style": "light"
          },
          "paper_bgcolor": "white",
          "plot_bgcolor": "#E5ECF6",
          "polar": {
           "angularaxis": {
            "gridcolor": "white",
            "linecolor": "white",
            "ticks": ""
           },
           "bgcolor": "#E5ECF6",
           "radialaxis": {
            "gridcolor": "white",
            "linecolor": "white",
            "ticks": ""
           }
          },
          "scene": {
           "xaxis": {
            "backgroundcolor": "#E5ECF6",
            "gridcolor": "white",
            "gridwidth": 2,
            "linecolor": "white",
            "showbackground": true,
            "ticks": "",
            "zerolinecolor": "white"
           },
           "yaxis": {
            "backgroundcolor": "#E5ECF6",
            "gridcolor": "white",
            "gridwidth": 2,
            "linecolor": "white",
            "showbackground": true,
            "ticks": "",
            "zerolinecolor": "white"
           },
           "zaxis": {
            "backgroundcolor": "#E5ECF6",
            "gridcolor": "white",
            "gridwidth": 2,
            "linecolor": "white",
            "showbackground": true,
            "ticks": "",
            "zerolinecolor": "white"
           }
          },
          "shapedefaults": {
           "line": {
            "color": "#2a3f5f"
           }
          },
          "ternary": {
           "aaxis": {
            "gridcolor": "white",
            "linecolor": "white",
            "ticks": ""
           },
           "baxis": {
            "gridcolor": "white",
            "linecolor": "white",
            "ticks": ""
           },
           "bgcolor": "#E5ECF6",
           "caxis": {
            "gridcolor": "white",
            "linecolor": "white",
            "ticks": ""
           }
          },
          "title": {
           "x": 0.05
          },
          "xaxis": {
           "automargin": true,
           "gridcolor": "white",
           "linecolor": "white",
           "ticks": "",
           "title": {
            "standoff": 15
           },
           "zerolinecolor": "white",
           "zerolinewidth": 2
          },
          "yaxis": {
           "automargin": true,
           "gridcolor": "white",
           "linecolor": "white",
           "ticks": "",
           "title": {
            "standoff": 15
           },
           "zerolinecolor": "white",
           "zerolinewidth": 2
          }
         }
        },
        "xaxis": {
         "title": {
          "text": "Number Of Cuisines"
         }
        },
        "yaxis": {
         "title": {
          "text": "Votes"
         }
        }
       }
      },
      "text/html": [
       "<div>                            <div id=\"bc3d290a-8635-4b47-b172-9efd3d75240c\" class=\"plotly-graph-div\" style=\"height:525px; width:100%;\"></div>            <script type=\"text/javascript\">                require([\"plotly\"], function(Plotly) {                    window.PLOTLYENV=window.PLOTLYENV || {};                                    if (document.getElementById(\"bc3d290a-8635-4b47-b172-9efd3d75240c\")) {                    Plotly.newPlot(                        \"bc3d290a-8635-4b47-b172-9efd3d75240c\",                        [{\"hovertemplate\":\"Total Cuisines:%{label}<br>Average Votes:%{value}\",\"name\":\"Average Votes\",\"x\":[\"1\",\"2\",\"3\",\"4\",\"5\",\"6 or More\"],\"y\":[88.00440787540406,137.06271777003485,220.16684782608695,369.9777397260274,336.0487804878049,438.2413793103448],\"type\":\"bar\",\"textfont\":{\"size\":15}},{\"hovertemplate\":\"Total Cuisines:%{label}<br>Median Votes:%{value}\",\"name\":\"Median Votes\",\"x\":[\"1\",\"2\",\"3\",\"4\",\"5\",\"6 or More\"],\"y\":[12.0,29.0,68.0,145.0,153.5,182.0],\"type\":\"bar\",\"textfont\":{\"size\":15}}],                        {\"template\":{\"data\":{\"bar\":[{\"error_x\":{\"color\":\"#2a3f5f\"},\"error_y\":{\"color\":\"#2a3f5f\"},\"marker\":{\"line\":{\"color\":\"#E5ECF6\",\"width\":0.5},\"pattern\":{\"fillmode\":\"overlay\",\"size\":10,\"solidity\":0.2}},\"type\":\"bar\"}],\"barpolar\":[{\"marker\":{\"line\":{\"color\":\"#E5ECF6\",\"width\":0.5},\"pattern\":{\"fillmode\":\"overlay\",\"size\":10,\"solidity\":0.2}},\"type\":\"barpolar\"}],\"carpet\":[{\"aaxis\":{\"endlinecolor\":\"#2a3f5f\",\"gridcolor\":\"white\",\"linecolor\":\"white\",\"minorgridcolor\":\"white\",\"startlinecolor\":\"#2a3f5f\"},\"baxis\":{\"endlinecolor\":\"#2a3f5f\",\"gridcolor\":\"white\",\"linecolor\":\"white\",\"minorgridcolor\":\"white\",\"startlinecolor\":\"#2a3f5f\"},\"type\":\"carpet\"}],\"choropleth\":[{\"colorbar\":{\"outlinewidth\":0,\"ticks\":\"\"},\"type\":\"choropleth\"}],\"contour\":[{\"colorbar\":{\"outlinewidth\":0,\"ticks\":\"\"},\"colorscale\":[[0.0,\"#0d0887\"],[0.1111111111111111,\"#46039f\"],[0.2222222222222222,\"#7201a8\"],[0.3333333333333333,\"#9c179e\"],[0.4444444444444444,\"#bd3786\"],[0.5555555555555556,\"#d8576b\"],[0.6666666666666666,\"#ed7953\"],[0.7777777777777778,\"#fb9f3a\"],[0.8888888888888888,\"#fdca26\"],[1.0,\"#f0f921\"]],\"type\":\"contour\"}],\"contourcarpet\":[{\"colorbar\":{\"outlinewidth\":0,\"ticks\":\"\"},\"type\":\"contourcarpet\"}],\"heatmap\":[{\"colorbar\":{\"outlinewidth\":0,\"ticks\":\"\"},\"colorscale\":[[0.0,\"#0d0887\"],[0.1111111111111111,\"#46039f\"],[0.2222222222222222,\"#7201a8\"],[0.3333333333333333,\"#9c179e\"],[0.4444444444444444,\"#bd3786\"],[0.5555555555555556,\"#d8576b\"],[0.6666666666666666,\"#ed7953\"],[0.7777777777777778,\"#fb9f3a\"],[0.8888888888888888,\"#fdca26\"],[1.0,\"#f0f921\"]],\"type\":\"heatmap\"}],\"heatmapgl\":[{\"colorbar\":{\"outlinewidth\":0,\"ticks\":\"\"},\"colorscale\":[[0.0,\"#0d0887\"],[0.1111111111111111,\"#46039f\"],[0.2222222222222222,\"#7201a8\"],[0.3333333333333333,\"#9c179e\"],[0.4444444444444444,\"#bd3786\"],[0.5555555555555556,\"#d8576b\"],[0.6666666666666666,\"#ed7953\"],[0.7777777777777778,\"#fb9f3a\"],[0.8888888888888888,\"#fdca26\"],[1.0,\"#f0f921\"]],\"type\":\"heatmapgl\"}],\"histogram\":[{\"marker\":{\"pattern\":{\"fillmode\":\"overlay\",\"size\":10,\"solidity\":0.2}},\"type\":\"histogram\"}],\"histogram2d\":[{\"colorbar\":{\"outlinewidth\":0,\"ticks\":\"\"},\"colorscale\":[[0.0,\"#0d0887\"],[0.1111111111111111,\"#46039f\"],[0.2222222222222222,\"#7201a8\"],[0.3333333333333333,\"#9c179e\"],[0.4444444444444444,\"#bd3786\"],[0.5555555555555556,\"#d8576b\"],[0.6666666666666666,\"#ed7953\"],[0.7777777777777778,\"#fb9f3a\"],[0.8888888888888888,\"#fdca26\"],[1.0,\"#f0f921\"]],\"type\":\"histogram2d\"}],\"histogram2dcontour\":[{\"colorbar\":{\"outlinewidth\":0,\"ticks\":\"\"},\"colorscale\":[[0.0,\"#0d0887\"],[0.1111111111111111,\"#46039f\"],[0.2222222222222222,\"#7201a8\"],[0.3333333333333333,\"#9c179e\"],[0.4444444444444444,\"#bd3786\"],[0.5555555555555556,\"#d8576b\"],[0.6666666666666666,\"#ed7953\"],[0.7777777777777778,\"#fb9f3a\"],[0.8888888888888888,\"#fdca26\"],[1.0,\"#f0f921\"]],\"type\":\"histogram2dcontour\"}],\"mesh3d\":[{\"colorbar\":{\"outlinewidth\":0,\"ticks\":\"\"},\"type\":\"mesh3d\"}],\"parcoords\":[{\"line\":{\"colorbar\":{\"outlinewidth\":0,\"ticks\":\"\"}},\"type\":\"parcoords\"}],\"pie\":[{\"automargin\":true,\"type\":\"pie\"}],\"scatter\":[{\"marker\":{\"colorbar\":{\"outlinewidth\":0,\"ticks\":\"\"}},\"type\":\"scatter\"}],\"scatter3d\":[{\"line\":{\"colorbar\":{\"outlinewidth\":0,\"ticks\":\"\"}},\"marker\":{\"colorbar\":{\"outlinewidth\":0,\"ticks\":\"\"}},\"type\":\"scatter3d\"}],\"scattercarpet\":[{\"marker\":{\"colorbar\":{\"outlinewidth\":0,\"ticks\":\"\"}},\"type\":\"scattercarpet\"}],\"scattergeo\":[{\"marker\":{\"colorbar\":{\"outlinewidth\":0,\"ticks\":\"\"}},\"type\":\"scattergeo\"}],\"scattergl\":[{\"marker\":{\"colorbar\":{\"outlinewidth\":0,\"ticks\":\"\"}},\"type\":\"scattergl\"}],\"scattermapbox\":[{\"marker\":{\"colorbar\":{\"outlinewidth\":0,\"ticks\":\"\"}},\"type\":\"scattermapbox\"}],\"scatterpolar\":[{\"marker\":{\"colorbar\":{\"outlinewidth\":0,\"ticks\":\"\"}},\"type\":\"scatterpolar\"}],\"scatterpolargl\":[{\"marker\":{\"colorbar\":{\"outlinewidth\":0,\"ticks\":\"\"}},\"type\":\"scatterpolargl\"}],\"scatterternary\":[{\"marker\":{\"colorbar\":{\"outlinewidth\":0,\"ticks\":\"\"}},\"type\":\"scatterternary\"}],\"surface\":[{\"colorbar\":{\"outlinewidth\":0,\"ticks\":\"\"},\"colorscale\":[[0.0,\"#0d0887\"],[0.1111111111111111,\"#46039f\"],[0.2222222222222222,\"#7201a8\"],[0.3333333333333333,\"#9c179e\"],[0.4444444444444444,\"#bd3786\"],[0.5555555555555556,\"#d8576b\"],[0.6666666666666666,\"#ed7953\"],[0.7777777777777778,\"#fb9f3a\"],[0.8888888888888888,\"#fdca26\"],[1.0,\"#f0f921\"]],\"type\":\"surface\"}],\"table\":[{\"cells\":{\"fill\":{\"color\":\"#EBF0F8\"},\"line\":{\"color\":\"white\"}},\"header\":{\"fill\":{\"color\":\"#C8D4E3\"},\"line\":{\"color\":\"white\"}},\"type\":\"table\"}]},\"layout\":{\"annotationdefaults\":{\"arrowcolor\":\"#2a3f5f\",\"arrowhead\":0,\"arrowwidth\":1},\"autotypenumbers\":\"strict\",\"coloraxis\":{\"colorbar\":{\"outlinewidth\":0,\"ticks\":\"\"}},\"colorscale\":{\"diverging\":[[0,\"#8e0152\"],[0.1,\"#c51b7d\"],[0.2,\"#de77ae\"],[0.3,\"#f1b6da\"],[0.4,\"#fde0ef\"],[0.5,\"#f7f7f7\"],[0.6,\"#e6f5d0\"],[0.7,\"#b8e186\"],[0.8,\"#7fbc41\"],[0.9,\"#4d9221\"],[1,\"#276419\"]],\"sequential\":[[0.0,\"#0d0887\"],[0.1111111111111111,\"#46039f\"],[0.2222222222222222,\"#7201a8\"],[0.3333333333333333,\"#9c179e\"],[0.4444444444444444,\"#bd3786\"],[0.5555555555555556,\"#d8576b\"],[0.6666666666666666,\"#ed7953\"],[0.7777777777777778,\"#fb9f3a\"],[0.8888888888888888,\"#fdca26\"],[1.0,\"#f0f921\"]],\"sequentialminus\":[[0.0,\"#0d0887\"],[0.1111111111111111,\"#46039f\"],[0.2222222222222222,\"#7201a8\"],[0.3333333333333333,\"#9c179e\"],[0.4444444444444444,\"#bd3786\"],[0.5555555555555556,\"#d8576b\"],[0.6666666666666666,\"#ed7953\"],[0.7777777777777778,\"#fb9f3a\"],[0.8888888888888888,\"#fdca26\"],[1.0,\"#f0f921\"]]},\"colorway\":[\"#636efa\",\"#EF553B\",\"#00cc96\",\"#ab63fa\",\"#FFA15A\",\"#19d3f3\",\"#FF6692\",\"#B6E880\",\"#FF97FF\",\"#FECB52\"],\"font\":{\"color\":\"#2a3f5f\"},\"geo\":{\"bgcolor\":\"white\",\"lakecolor\":\"white\",\"landcolor\":\"#E5ECF6\",\"showlakes\":true,\"showland\":true,\"subunitcolor\":\"white\"},\"hoverlabel\":{\"align\":\"left\"},\"hovermode\":\"closest\",\"mapbox\":{\"style\":\"light\"},\"paper_bgcolor\":\"white\",\"plot_bgcolor\":\"#E5ECF6\",\"polar\":{\"angularaxis\":{\"gridcolor\":\"white\",\"linecolor\":\"white\",\"ticks\":\"\"},\"bgcolor\":\"#E5ECF6\",\"radialaxis\":{\"gridcolor\":\"white\",\"linecolor\":\"white\",\"ticks\":\"\"}},\"scene\":{\"xaxis\":{\"backgroundcolor\":\"#E5ECF6\",\"gridcolor\":\"white\",\"gridwidth\":2,\"linecolor\":\"white\",\"showbackground\":true,\"ticks\":\"\",\"zerolinecolor\":\"white\"},\"yaxis\":{\"backgroundcolor\":\"#E5ECF6\",\"gridcolor\":\"white\",\"gridwidth\":2,\"linecolor\":\"white\",\"showbackground\":true,\"ticks\":\"\",\"zerolinecolor\":\"white\"},\"zaxis\":{\"backgroundcolor\":\"#E5ECF6\",\"gridcolor\":\"white\",\"gridwidth\":2,\"linecolor\":\"white\",\"showbackground\":true,\"ticks\":\"\",\"zerolinecolor\":\"white\"}},\"shapedefaults\":{\"line\":{\"color\":\"#2a3f5f\"}},\"ternary\":{\"aaxis\":{\"gridcolor\":\"white\",\"linecolor\":\"white\",\"ticks\":\"\"},\"baxis\":{\"gridcolor\":\"white\",\"linecolor\":\"white\",\"ticks\":\"\"},\"bgcolor\":\"#E5ECF6\",\"caxis\":{\"gridcolor\":\"white\",\"linecolor\":\"white\",\"ticks\":\"\"}},\"title\":{\"x\":0.05},\"xaxis\":{\"automargin\":true,\"gridcolor\":\"white\",\"linecolor\":\"white\",\"ticks\":\"\",\"title\":{\"standoff\":15},\"zerolinecolor\":\"white\",\"zerolinewidth\":2},\"yaxis\":{\"automargin\":true,\"gridcolor\":\"white\",\"linecolor\":\"white\",\"ticks\":\"\",\"title\":{\"standoff\":15},\"zerolinecolor\":\"white\",\"zerolinewidth\":2}}},\"barmode\":\"group\",\"xaxis\":{\"title\":{\"text\":\"Number Of Cuisines\"}},\"yaxis\":{\"title\":{\"text\":\"Votes\"}}},                        {\"responsive\": true}                    ).then(function(){\n",
       "                            \n",
       "var gd = document.getElementById('bc3d290a-8635-4b47-b172-9efd3d75240c');\n",
       "var x = new MutationObserver(function (mutations, observer) {{\n",
       "        var display = window.getComputedStyle(gd).display;\n",
       "        if (!display || display === 'none') {{\n",
       "            console.log([gd, 'removed!']);\n",
       "            Plotly.purge(gd);\n",
       "            observer.disconnect();\n",
       "        }}\n",
       "}});\n",
       "\n",
       "// Listen for the removal of the full notebook cells\n",
       "var notebookContainer = gd.closest('#notebook-container');\n",
       "if (notebookContainer) {{\n",
       "    x.observe(notebookContainer, {childList: true});\n",
       "}}\n",
       "\n",
       "// Listen for the clearing of the current output cell\n",
       "var outputEl = gd.closest('.output');\n",
       "if (outputEl) {{\n",
       "    x.observe(outputEl, {childList: true});\n",
       "}}\n",
       "\n",
       "                        })                };                });            </script>        </div>"
      ]
     },
     "metadata": {},
     "output_type": "display_data"
    }
   ],
   "source": [
    "df_zomato[\"Total_Cuisines\"]=df_zomato.apply(lambda x: 6 if x[\"Total_Cuisines\"]>5 else x[\"Total_Cuisines\"],axis=1 )\n",
    "aggTotalCsn=df_zomato.groupby(\"Total_Cuisines\").agg(Avg_Votes=(\"Votes\",\"mean\"),Median_Votes=(\"Votes\",\"median\"))\n",
    "aggTotalCsn[\"Cuisines_Number\"]=aggTotalCsn.index.astype(str)\n",
    "aggTotalCsn.loc[6,\"Cuisines_Number\"]=\"6 or More\"  \n",
    "\n",
    "\n",
    "fig3= go.Figure(data=[\n",
    "    go.Bar(name='Average Votes', x=aggTotalCsn.Cuisines_Number, y=aggTotalCsn[\"Avg_Votes\"],\n",
    "           hovertemplate =\"Total Cuisines:%{label}<br>Average Votes:%{value}\",hoverinfo=None),\n",
    "    \n",
    "    go.Bar(name='Median Votes', x=aggTotalCsn.Cuisines_Number, y=aggTotalCsn[\"Median_Votes\"],\n",
    "          hovertemplate =\"Total Cuisines:%{label}<br>Median Votes:%{value}\",hoverinfo=None)])\n",
    "\n",
    "fig3.update_traces(textfont_size=15)\n",
    "fig3.update_layout(barmode='group',\n",
    "                    xaxis=dict(title=\"Number Of Cuisines\" ),\n",
    "                    yaxis=dict(title=\"Votes\"))\n",
    "fig3.show()"
   ]
  },
  {
   "cell_type": "markdown",
   "id": "e7273a8b",
   "metadata": {},
   "source": [
    "__Observation:__  \n",
    "- The average as well as median number of votes increases as the number of cuisines increases. The average number of votes increases from 88 for restaurants offering 1 cuisine to 438 for restaurants offering 6 or more cuisines. One reason could be that restaurants offering multiple cuisines cater more type of people in general, which in turn increases the votes received by them on average.\n",
    "- We consider both average and median number of votes in our analysis to remove out the scenario where averages become don’t represent populations because of few extreme results. The trend appears to be same for both measures of centrality which provides supports to the above relationship between Total Cuisines and Number of Votes.\n"
   ]
  },
  {
   "cell_type": "markdown",
   "id": "a3585a1b",
   "metadata": {},
   "source": [
    "## Factors Affecting Restaurants Rating\n",
    "\n",
    "Restaurant ratings depend on many factors such as Portion Size, Ambience, Waiting Time, and also on different facilities that are provided by restaurants such as Valet Parking, Online Delivery, Table booking etc. We will see if having facilities like online delivery and table booking affect ratings. We will also see if there is a relation between number of cuisines and ratings \n",
    "  \n",
    "    \n",
    "Aggregate Ratings are the averages of all individual ratings which are given to restaurants. These ratings are measured on the scale of 5. Ratings also have color and text associated with them. We will define the range of different rating colors and rating text in terms of aggregate rating.  "
   ]
  },
  {
   "cell_type": "code",
   "execution_count": 182,
   "id": "e8479918",
   "metadata": {},
   "outputs": [
    {
     "data": {
      "text/plain": [
       "<Figure size 432x432 with 0 Axes>"
      ]
     },
     "metadata": {},
     "output_type": "display_data"
    },
    {
     "data": {
      "image/png": "[encoded data removed]",
      "text/plain": [
       "<Figure size 360x360 with 1 Axes>"
      ]
     },
     "metadata": {
      "needs_background": "light"
     },
     "output_type": "display_data"
    }
   ],
   "source": [
    "plt.figure(figsize=(6,6))\n",
    "sns.displot(df_zomato[df_zomato[\"rating_text\"]!=\"Not rated\"]['agg_rating'],kde=True)\n",
    "plt.show()"
   ]
  },
  {
   "cell_type": "markdown",
   "id": "0974337b",
   "metadata": {},
   "source": [
    "#### 1. Does having more variety of Food to eat affect the restaurant Ratings.?\n",
    "\n",
    "In the following code we will group the restaurants based on total number of cuisines they are serving and then find proportion of restaurants in different rating segments for each group. We plot this information on a stacked bar graph."
   ]
  },
  {
   "cell_type": "code",
   "execution_count": 218,
   "id": "a02625cd",
   "metadata": {},
   "outputs": [],
   "source": [
    "df_zomato[\"Total_Cuisines\"]=df_zomato.apply(lambda x: 6 if x[\"Total_Cuisines\"]>5 else x[\"Total_Cuisines\"],axis=1 )\n",
    "aggTotalCsn=df_zomato.groupby(\"Total_Cuisines\").agg(Avg_Votes=(\"Votes\",\"mean\"),Median_Votes=(\"Votes\",\"median\"))\n",
    "aggTotalCsn[\"Cuisines_Number\"]=aggTotalCsn.index.astype(str)\n",
    "aggTotalCsn.loc[6,\"Cuisines_Number\"]=\"6 or More\"\n",
    "\n",
    "\n",
    "aggTotalCsnR=df_zomato[df_zomato[\"rating_text\"]!=\"Not rated\"].groupby([\"Total_Cuisines\",\"rating_text\"]).agg(Restaurant_Count=(\"restaurant_id\",\"count\")).reset_index()\n",
    "aggTotalCsnR[\"Cuisines_Number\"]=aggTotalCsnR.apply(lambda x: str(x[\"Total_Cuisines\"]) if x[\"Total_Cuisines\"]<6 else \"6 or more\",axis=1)"
   ]
  },
  {
   "cell_type": "code",
   "execution_count": 219,
   "id": "62fd3861",
   "metadata": {},
   "outputs": [
    {
     "data": {
      "application/vnd.plotly.v1+json": {
       "config": {
        "plotlyServerURL": "https://plot.ly"
       },
       "data": [
        {
         "marker": {
          "color": "red"
         },
         "name": "Poor",
         "type": "bar",
         "width": [
          0.6,
          0.6,
          0.6,
          0.6,
          0.6,
          0.6
         ],
         "x": [
          "1",
          "2",
          "3",
          "4",
          "5",
          "6 or more"
         ],
         "y": [
          1.7913121361397222,
          2.813299232736573,
          3.1815346225826575,
          2.154398563734291,
          1.875,
          2.6548672566371683
         ]
        },
        {
         "marker": {
          "color": "orange"
         },
         "name": "Average",
         "type": "bar",
         "width": [
          0.6,
          0.6,
          0.6,
          0.6,
          0.6,
          0.6
         ],
         "x": [
          "1",
          "2",
          "3",
          "4",
          "5",
          "6 or more"
         ],
         "y": [
          56.29198387819078,
          54.439166971136274,
          44.79101684341859,
          35.5475763016158,
          31.874999999999996,
          20.353982300884958
         ]
        },
        {
         "marker": {
          "color": "yellow"
         },
         "name": "Good",
         "type": "bar",
         "width": [
          0.6,
          0.6,
          0.6,
          0.6,
          0.6,
          0.6
         ],
         "x": [
          "1",
          "2",
          "3",
          "4",
          "5",
          "6 or more"
         ],
         "y": [
          25.52619793999104,
          26.89075630252101,
          29.819089207735495,
          36.08617594254937,
          40.625,
          44.24778761061947
         ]
        },
        {
         "marker": {
          "color": "lightgreen"
         },
         "name": "Very Good",
         "type": "bar",
         "width": [
          0.6,
          0.6,
          0.6,
          0.6,
          0.6,
          0.6
         ],
         "x": [
          "1",
          "2",
          "3",
          "4",
          "5",
          "6 or more"
         ],
         "y": [
          12.225705329153605,
          12.239678480087687,
          17.654398003742983,
          21.903052064631957,
          23.125,
          25.663716814159294
         ]
        },
        {
         "marker": {
          "color": "darkgreen"
         },
         "name": "Excellent",
         "type": "bar",
         "width": [
          0.6,
          0.6,
          0.6,
          0.6,
          0.6,
          0.6
         ],
         "x": [
          "1",
          "2",
          "3",
          "4",
          "5",
          "6 or more"
         ],
         "y": [
          4.164800716524854,
          3.617099013518451,
          4.553961322520275,
          4.308797127468582,
          2.5,
          7.079646017699115
         ]
        },
        {
         "line": {
          "color": "blue",
          "width": 3
         },
         "mode": "lines",
         "name": "Average Rating",
         "type": "scatter",
         "x": [
          "1",
          "2",
          "3",
          "4",
          "5",
          "6 or more"
         ],
         "y": [
          3.4060456784594715,
          3.389002557544757,
          3.4885839051777916,
          3.581149012567325,
          3.5981250000000005,
          3.7389380530973453
         ],
         "yaxis": "y2"
        },
        {
         "line": {
          "color": "lightblue",
          "width": 3
         },
         "mode": "lines",
         "name": "Median Rating",
         "type": "scatter",
         "x": [
          "1",
          "2",
          "3",
          "4",
          "5",
          "6 or more"
         ],
         "y": [
          3.3,
          3.3,
          3.5,
          3.6,
          3.7,
          3.8
         ],
         "yaxis": "y2"
        }
       ],
       "layout": {
        "barmode": "stack",
        "legend": {
         "x": 1.05,
         "y": 1
        },
        "template": {
         "data": {
          "bar": [
           {
            "error_x": {
             "color": "#2a3f5f"
            },
            "error_y": {
             "color": "#2a3f5f"
            },
            "marker": {
             "line": {
              "color": "#E5ECF6",
              "width": 0.5
             },
             "pattern": {
              "fillmode": "overlay",
              "size": 10,
              "solidity": 0.2
             }
            },
            "type": "bar"
           }
          ],
          "barpolar": [
           {
            "marker": {
             "line": {
              "color": "#E5ECF6",
              "width": 0.5
             },
             "pattern": {
              "fillmode": "overlay",
              "size": 10,
              "solidity": 0.2
             }
            },
            "type": "barpolar"
           }
          ],
          "carpet": [
           {
            "aaxis": {
             "endlinecolor": "#2a3f5f",
             "gridcolor": "white",
             "linecolor": "white",
             "minorgridcolor": "white",
             "startlinecolor": "#2a3f5f"
            },
            "baxis": {
             "endlinecolor": "#2a3f5f",
             "gridcolor": "white",
             "linecolor": "white",
             "minorgridcolor": "white",
             "startlinecolor": "#2a3f5f"
            },
            "type": "carpet"
           }
          ],
          "choropleth": [
           {
            "colorbar": {
             "outlinewidth": 0,
             "ticks": ""
            },
            "type": "choropleth"
           }
          ],
          "contour": [
           {
            "colorbar": {
             "outlinewidth": 0,
             "ticks": ""
            },
            "colorscale": [
             [
              0,
              "#0d0887"
             ],
             [
              0.1111111111111111,
              "#46039f"
             ],
             [
              0.2222222222222222,
              "#7201a8"
             ],
             [
              0.3333333333333333,
              "#9c179e"
             ],
             [
              0.4444444444444444,
              "#bd3786"
             ],
             [
              0.5555555555555556,
              "#d8576b"
             ],
             [
              0.6666666666666666,
              "#ed7953"
             ],
             [
              0.7777777777777778,
              "#fb9f3a"
             ],
             [
              0.8888888888888888,
              "#fdca26"
             ],
             [
              1,
              "#f0f921"
             ]
            ],
            "type": "contour"
           }
          ],
          "contourcarpet": [
           {
            "colorbar": {
             "outlinewidth": 0,
             "ticks": ""
            },
            "type": "contourcarpet"
           }
          ],
          "heatmap": [
           {
            "colorbar": {
             "outlinewidth": 0,
             "ticks": ""
            },
            "colorscale": [
             [
              0,
              "#0d0887"
             ],
             [
              0.1111111111111111,
              "#46039f"
             ],
             [
              0.2222222222222222,
              "#7201a8"
             ],
             [
              0.3333333333333333,
              "#9c179e"
             ],
             [
              0.4444444444444444,
              "#bd3786"
             ],
             [
              0.5555555555555556,
              "#d8576b"
             ],
             [
              0.6666666666666666,
              "#ed7953"
             ],
             [
              0.7777777777777778,
              "#fb9f3a"
             ],
             [
              0.8888888888888888,
              "#fdca26"
             ],
             [
              1,
              "#f0f921"
             ]
            ],
            "type": "heatmap"
           }
          ],
          "heatmapgl": [
           {
            "colorbar": {
             "outlinewidth": 0,
             "ticks": ""
            },
            "colorscale": [
             [
              0,
              "#0d0887"
             ],
             [
              0.1111111111111111,
              "#46039f"
             ],
             [
              0.2222222222222222,
              "#7201a8"
             ],
             [
              0.3333333333333333,
              "#9c179e"
             ],
             [
              0.4444444444444444,
              "#bd3786"
             ],
             [
              0.5555555555555556,
              "#d8576b"
             ],
             [
              0.6666666666666666,
              "#ed7953"
             ],
             [
              0.7777777777777778,
              "#fb9f3a"
             ],
             [
              0.8888888888888888,
              "#fdca26"
             ],
             [
              1,
              "#f0f921"
             ]
            ],
            "type": "heatmapgl"
           }
          ],
          "histogram": [
           {
            "marker": {
             "pattern": {
              "fillmode": "overlay",
              "size": 10,
              "solidity": 0.2
             }
            },
            "type": "histogram"
           }
          ],
          "histogram2d": [
           {
            "colorbar": {
             "outlinewidth": 0,
             "ticks": ""
            },
            "colorscale": [
             [
              0,
              "#0d0887"
             ],
             [
              0.1111111111111111,
              "#46039f"
             ],
             [
              0.2222222222222222,
              "#7201a8"
             ],
             [
              0.3333333333333333,
              "#9c179e"
             ],
             [
              0.4444444444444444,
              "#bd3786"
             ],
             [
              0.5555555555555556,
              "#d8576b"
             ],
             [
              0.6666666666666666,
              "#ed7953"
             ],
             [
              0.7777777777777778,
              "#fb9f3a"
             ],
             [
              0.8888888888888888,
              "#fdca26"
             ],
             [
              1,
              "#f0f921"
             ]
            ],
            "type": "histogram2d"
           }
          ],
          "histogram2dcontour": [
           {
            "colorbar": {
             "outlinewidth": 0,
             "ticks": ""
            },
            "colorscale": [
             [
              0,
              "#0d0887"
             ],
             [
              0.1111111111111111,
              "#46039f"
             ],
             [
              0.2222222222222222,
              "#7201a8"
             ],
             [
              0.3333333333333333,
              "#9c179e"
             ],
             [
              0.4444444444444444,
              "#bd3786"
             ],
             [
              0.5555555555555556,
              "#d8576b"
             ],
             [
              0.6666666666666666,
              "#ed7953"
             ],
             [
              0.7777777777777778,
              "#fb9f3a"
             ],
             [
              0.8888888888888888,
              "#fdca26"
             ],
             [
              1,
              "#f0f921"
             ]
            ],
            "type": "histogram2dcontour"
           }
          ],
          "mesh3d": [
           {
            "colorbar": {
             "outlinewidth": 0,
             "ticks": ""
            },
            "type": "mesh3d"
           }
          ],
          "parcoords": [
           {
            "line": {
             "colorbar": {
              "outlinewidth": 0,
              "ticks": ""
             }
            },
            "type": "parcoords"
           }
          ],
          "pie": [
           {
            "automargin": true,
            "type": "pie"
           }
          ],
          "scatter": [
           {
            "marker": {
             "colorbar": {
              "outlinewidth": 0,
              "ticks": ""
             }
            },
            "type": "scatter"
           }
          ],
          "scatter3d": [
           {
            "line": {
             "colorbar": {
              "outlinewidth": 0,
              "ticks": ""
             }
            },
            "marker": {
             "colorbar": {
              "outlinewidth": 0,
              "ticks": ""
             }
            },
            "type": "scatter3d"
           }
          ],
          "scattercarpet": [
           {
            "marker": {
             "colorbar": {
              "outlinewidth": 0,
              "ticks": ""
             }
            },
            "type": "scattercarpet"
           }
          ],
          "scattergeo": [
           {
            "marker": {
             "colorbar": {
              "outlinewidth": 0,
              "ticks": ""
             }
            },
            "type": "scattergeo"
           }
          ],
          "scattergl": [
           {
            "marker": {
             "colorbar": {
              "outlinewidth": 0,
              "ticks": ""
             }
            },
            "type": "scattergl"
           }
          ],
          "scattermapbox": [
           {
            "marker": {
             "colorbar": {
              "outlinewidth": 0,
              "ticks": ""
             }
            },
            "type": "scattermapbox"
           }
          ],
          "scatterpolar": [
           {
            "marker": {
             "colorbar": {
              "outlinewidth": 0,
              "ticks": ""
             }
            },
            "type": "scatterpolar"
           }
          ],
          "scatterpolargl": [
           {
            "marker": {
             "colorbar": {
              "outlinewidth": 0,
              "ticks": ""
             }
            },
            "type": "scatterpolargl"
           }
          ],
          "scatterternary": [
           {
            "marker": {
             "colorbar": {
              "outlinewidth": 0,
              "ticks": ""
             }
            },
            "type": "scatterternary"
           }
          ],
          "surface": [
           {
            "colorbar": {
             "outlinewidth": 0,
             "ticks": ""
            },
            "colorscale": [
             [
              0,
              "#0d0887"
             ],
             [
              0.1111111111111111,
              "#46039f"
             ],
             [
              0.2222222222222222,
              "#7201a8"
             ],
             [
              0.3333333333333333,
              "#9c179e"
             ],
             [
              0.4444444444444444,
              "#bd3786"
             ],
             [
              0.5555555555555556,
              "#d8576b"
             ],
             [
              0.6666666666666666,
              "#ed7953"
             ],
             [
              0.7777777777777778,
              "#fb9f3a"
             ],
             [
              0.8888888888888888,
              "#fdca26"
             ],
             [
              1,
              "#f0f921"
             ]
            ],
            "type": "surface"
           }
          ],
          "table": [
           {
            "cells": {
             "fill": {
              "color": "#EBF0F8"
             },
             "line": {
              "color": "white"
             }
            },
            "header": {
             "fill": {
              "color": "#C8D4E3"
             },
             "line": {
              "color": "white"
             }
            },
            "type": "table"
           }
          ]
         },
         "layout": {
          "annotationdefaults": {
           "arrowcolor": "#2a3f5f",
           "arrowhead": 0,
           "arrowwidth": 1
          },
          "autotypenumbers": "strict",
          "coloraxis": {
           "colorbar": {
            "outlinewidth": 0,
            "ticks": ""
           }
          },
          "colorscale": {
           "diverging": [
            [
             0,
             "#8e0152"
            ],
            [
             0.1,
             "#c51b7d"
            ],
            [
             0.2,
             "#de77ae"
            ],
            [
             0.3,
             "#f1b6da"
            ],
            [
             0.4,
             "#fde0ef"
            ],
            [
             0.5,
             "#f7f7f7"
            ],
            [
             0.6,
             "#e6f5d0"
            ],
            [
             0.7,
             "#b8e186"
            ],
            [
             0.8,
             "#7fbc41"
            ],
            [
             0.9,
             "#4d9221"
            ],
            [
             1,
             "#276419"
            ]
           ],
           "sequential": [
            [
             0,
             "#0d0887"
            ],
            [
             0.1111111111111111,
             "#46039f"
            ],
            [
             0.2222222222222222,
             "#7201a8"
            ],
            [
             0.3333333333333333,
             "#9c179e"
            ],
            [
             0.4444444444444444,
             "#bd3786"
            ],
            [
             0.5555555555555556,
             "#d8576b"
            ],
            [
             0.6666666666666666,
             "#ed7953"
            ],
            [
             0.7777777777777778,
             "#fb9f3a"
            ],
            [
             0.8888888888888888,
             "#fdca26"
            ],
            [
             1,
             "#f0f921"
            ]
           ],
           "sequentialminus": [
            [
             0,
             "#0d0887"
            ],
            [
             0.1111111111111111,
             "#46039f"
            ],
            [
             0.2222222222222222,
             "#7201a8"
            ],
            [
             0.3333333333333333,
             "#9c179e"
            ],
            [
             0.4444444444444444,
             "#bd3786"
            ],
            [
             0.5555555555555556,
             "#d8576b"
            ],
            [
             0.6666666666666666,
             "#ed7953"
            ],
            [
             0.7777777777777778,
             "#fb9f3a"
            ],
            [
             0.8888888888888888,
             "#fdca26"
            ],
            [
             1,
             "#f0f921"
            ]
           ]
          },
          "colorway": [
           "#636efa",
           "#EF553B",
           "#00cc96",
           "#ab63fa",
           "#FFA15A",
           "#19d3f3",
           "#FF6692",
           "#B6E880",
           "#FF97FF",
           "#FECB52"
          ],
          "font": {
           "color": "#2a3f5f"
          },
          "geo": {
           "bgcolor": "white",
           "lakecolor": "white",
           "landcolor": "#E5ECF6",
           "showlakes": true,
           "showland": true,
           "subunitcolor": "white"
          },
          "hoverlabel": {
           "align": "left"
          },
          "hovermode": "closest",
          "mapbox": {
           "style": "light"
          },
          "paper_bgcolor": "white",
          "plot_bgcolor": "#E5ECF6",
          "polar": {
           "angularaxis": {
            "gridcolor": "white",
            "linecolor": "white",
            "ticks": ""
           },
           "bgcolor": "#E5ECF6",
           "radialaxis": {
            "gridcolor": "white",
            "linecolor": "white",
            "ticks": ""
           }
          },
          "scene": {
           "xaxis": {
            "backgroundcolor": "#E5ECF6",
            "gridcolor": "white",
            "gridwidth": 2,
            "linecolor": "white",
            "showbackground": true,
            "ticks": "",
            "zerolinecolor": "white"
           },
           "yaxis": {
            "backgroundcolor": "#E5ECF6",
            "gridcolor": "white",
            "gridwidth": 2,
            "linecolor": "white",
            "showbackground": true,
            "ticks": "",
            "zerolinecolor": "white"
           },
           "zaxis": {
            "backgroundcolor": "#E5ECF6",
            "gridcolor": "white",
            "gridwidth": 2,
            "linecolor": "white",
            "showbackground": true,
            "ticks": "",
            "zerolinecolor": "white"
           }
          },
          "shapedefaults": {
           "line": {
            "color": "#2a3f5f"
           }
          },
          "ternary": {
           "aaxis": {
            "gridcolor": "white",
            "linecolor": "white",
            "ticks": ""
           },
           "baxis": {
            "gridcolor": "white",
            "linecolor": "white",
            "ticks": ""
           },
           "bgcolor": "#E5ECF6",
           "caxis": {
            "gridcolor": "white",
            "linecolor": "white",
            "ticks": ""
           }
          },
          "title": {
           "x": 0.05
          },
          "xaxis": {
           "automargin": true,
           "gridcolor": "white",
           "linecolor": "white",
           "ticks": "",
           "title": {
            "standoff": 15
           },
           "zerolinecolor": "white",
           "zerolinewidth": 2
          },
          "yaxis": {
           "automargin": true,
           "gridcolor": "white",
           "linecolor": "white",
           "ticks": "",
           "title": {
            "standoff": 15
           },
           "zerolinecolor": "white",
           "zerolinewidth": 2
          }
         }
        },
        "title": {
         "text": "Percentage of Restaurants in different Rating Segments vs Number of Cuisines"
        },
        "xaxis": {
         "title": {
          "text": "Number Of Cuisines"
         }
        },
        "yaxis": {
         "title": {
          "text": "Percent Of Restaurants"
         }
        },
        "yaxis2": {
         "anchor": "x",
         "overlaying": "y",
         "range": [
          0,
          5.25
         ],
         "side": "right",
         "title": {
          "text": "Ratings"
         }
        }
       }
      },
      "text/html": [
       "<div>                            <div id=\"8c7d19a9-3d51-4e5c-bb85-1e99e4083ab8\" class=\"plotly-graph-div\" style=\"height:525px; width:100%;\"></div>            <script type=\"text/javascript\">                require([\"plotly\"], function(Plotly) {                    window.PLOTLYENV=window.PLOTLYENV || {};                                    if (document.getElementById(\"8c7d19a9-3d51-4e5c-bb85-1e99e4083ab8\")) {                    Plotly.newPlot(                        \"8c7d19a9-3d51-4e5c-bb85-1e99e4083ab8\",                        [{\"marker\":{\"color\":\"red\"},\"name\":\"Poor\",\"width\":[0.6,0.6,0.6,0.6,0.6,0.6],\"x\":[\"1\",\"2\",\"3\",\"4\",\"5\",\"6 or more\"],\"y\":[1.7913121361397222,2.813299232736573,3.1815346225826575,2.154398563734291,1.875,2.6548672566371683],\"type\":\"bar\"},{\"marker\":{\"color\":\"orange\"},\"name\":\"Average\",\"width\":[0.6,0.6,0.6,0.6,0.6,0.6],\"x\":[\"1\",\"2\",\"3\",\"4\",\"5\",\"6 or more\"],\"y\":[56.29198387819078,54.439166971136274,44.79101684341859,35.5475763016158,31.874999999999996,20.353982300884958],\"type\":\"bar\"},{\"marker\":{\"color\":\"yellow\"},\"name\":\"Good\",\"width\":[0.6,0.6,0.6,0.6,0.6,0.6],\"x\":[\"1\",\"2\",\"3\",\"4\",\"5\",\"6 or more\"],\"y\":[25.52619793999104,26.89075630252101,29.819089207735495,36.08617594254937,40.625,44.24778761061947],\"type\":\"bar\"},{\"marker\":{\"color\":\"lightgreen\"},\"name\":\"Very Good\",\"width\":[0.6,0.6,0.6,0.6,0.6,0.6],\"x\":[\"1\",\"2\",\"3\",\"4\",\"5\",\"6 or more\"],\"y\":[12.225705329153605,12.239678480087687,17.654398003742983,21.903052064631957,23.125,25.663716814159294],\"type\":\"bar\"},{\"marker\":{\"color\":\"darkgreen\"},\"name\":\"Excellent\",\"width\":[0.6,0.6,0.6,0.6,0.6,0.6],\"x\":[\"1\",\"2\",\"3\",\"4\",\"5\",\"6 or more\"],\"y\":[4.164800716524854,3.617099013518451,4.553961322520275,4.308797127468582,2.5,7.079646017699115],\"type\":\"bar\"},{\"line\":{\"color\":\"blue\",\"width\":3},\"mode\":\"lines\",\"name\":\"Average Rating\",\"x\":[\"1\",\"2\",\"3\",\"4\",\"5\",\"6 or more\"],\"y\":[3.4060456784594715,3.389002557544757,3.4885839051777916,3.581149012567325,3.5981250000000005,3.7389380530973453],\"yaxis\":\"y2\",\"type\":\"scatter\"},{\"line\":{\"color\":\"lightblue\",\"width\":3},\"mode\":\"lines\",\"name\":\"Median Rating\",\"x\":[\"1\",\"2\",\"3\",\"4\",\"5\",\"6 or more\"],\"y\":[3.3,3.3,3.5,3.6,3.7,3.8],\"yaxis\":\"y2\",\"type\":\"scatter\"}],                        {\"template\":{\"data\":{\"bar\":[{\"error_x\":{\"color\":\"#2a3f5f\"},\"error_y\":{\"color\":\"#2a3f5f\"},\"marker\":{\"line\":{\"color\":\"#E5ECF6\",\"width\":0.5},\"pattern\":{\"fillmode\":\"overlay\",\"size\":10,\"solidity\":0.2}},\"type\":\"bar\"}],\"barpolar\":[{\"marker\":{\"line\":{\"color\":\"#E5ECF6\",\"width\":0.5},\"pattern\":{\"fillmode\":\"overlay\",\"size\":10,\"solidity\":0.2}},\"type\":\"barpolar\"}],\"carpet\":[{\"aaxis\":{\"endlinecolor\":\"#2a3f5f\",\"gridcolor\":\"white\",\"linecolor\":\"white\",\"minorgridcolor\":\"white\",\"startlinecolor\":\"#2a3f5f\"},\"baxis\":{\"endlinecolor\":\"#2a3f5f\",\"gridcolor\":\"white\",\"linecolor\":\"white\",\"minorgridcolor\":\"white\",\"startlinecolor\":\"#2a3f5f\"},\"type\":\"carpet\"}],\"choropleth\":[{\"colorbar\":{\"outlinewidth\":0,\"ticks\":\"\"},\"type\":\"choropleth\"}],\"contour\":[{\"colorbar\":{\"outlinewidth\":0,\"ticks\":\"\"},\"colorscale\":[[0.0,\"#0d0887\"],[0.1111111111111111,\"#46039f\"],[0.2222222222222222,\"#7201a8\"],[0.3333333333333333,\"#9c179e\"],[0.4444444444444444,\"#bd3786\"],[0.5555555555555556,\"#d8576b\"],[0.6666666666666666,\"#ed7953\"],[0.7777777777777778,\"#fb9f3a\"],[0.8888888888888888,\"#fdca26\"],[1.0,\"#f0f921\"]],\"type\":\"contour\"}],\"contourcarpet\":[{\"colorbar\":{\"outlinewidth\":0,\"ticks\":\"\"},\"type\":\"contourcarpet\"}],\"heatmap\":[{\"colorbar\":{\"outlinewidth\":0,\"ticks\":\"\"},\"colorscale\":[[0.0,\"#0d0887\"],[0.1111111111111111,\"#46039f\"],[0.2222222222222222,\"#7201a8\"],[0.3333333333333333,\"#9c179e\"],[0.4444444444444444,\"#bd3786\"],[0.5555555555555556,\"#d8576b\"],[0.6666666666666666,\"#ed7953\"],[0.7777777777777778,\"#fb9f3a\"],[0.8888888888888888,\"#fdca26\"],[1.0,\"#f0f921\"]],\"type\":\"heatmap\"}],\"heatmapgl\":[{\"colorbar\":{\"outlinewidth\":0,\"ticks\":\"\"},\"colorscale\":[[0.0,\"#0d0887\"],[0.1111111111111111,\"#46039f\"],[0.2222222222222222,\"#7201a8\"],[0.3333333333333333,\"#9c179e\"],[0.4444444444444444,\"#bd3786\"],[0.5555555555555556,\"#d8576b\"],[0.6666666666666666,\"#ed7953\"],[0.7777777777777778,\"#fb9f3a\"],[0.8888888888888888,\"#fdca26\"],[1.0,\"#f0f921\"]],\"type\":\"heatmapgl\"}],\"histogram\":[{\"marker\":{\"pattern\":{\"fillmode\":\"overlay\",\"size\":10,\"solidity\":0.2}},\"type\":\"histogram\"}],\"histogram2d\":[{\"colorbar\":{\"outlinewidth\":0,\"ticks\":\"\"},\"colorscale\":[[0.0,\"#0d0887\"],[0.1111111111111111,\"#46039f\"],[0.2222222222222222,\"#7201a8\"],[0.3333333333333333,\"#9c179e\"],[0.4444444444444444,\"#bd3786\"],[0.5555555555555556,\"#d8576b\"],[0.6666666666666666,\"#ed7953\"],[0.7777777777777778,\"#fb9f3a\"],[0.8888888888888888,\"#fdca26\"],[1.0,\"#f0f921\"]],\"type\":\"histogram2d\"}],\"histogram2dcontour\":[{\"colorbar\":{\"outlinewidth\":0,\"ticks\":\"\"},\"colorscale\":[[0.0,\"#0d0887\"],[0.1111111111111111,\"#46039f\"],[0.2222222222222222,\"#7201a8\"],[0.3333333333333333,\"#9c179e\"],[0.4444444444444444,\"#bd3786\"],[0.5555555555555556,\"#d8576b\"],[0.6666666666666666,\"#ed7953\"],[0.7777777777777778,\"#fb9f3a\"],[0.8888888888888888,\"#fdca26\"],[1.0,\"#f0f921\"]],\"type\":\"histogram2dcontour\"}],\"mesh3d\":[{\"colorbar\":{\"outlinewidth\":0,\"ticks\":\"\"},\"type\":\"mesh3d\"}],\"parcoords\":[{\"line\":{\"colorbar\":{\"outlinewidth\":0,\"ticks\":\"\"}},\"type\":\"parcoords\"}],\"pie\":[{\"automargin\":true,\"type\":\"pie\"}],\"scatter\":[{\"marker\":{\"colorbar\":{\"outlinewidth\":0,\"ticks\":\"\"}},\"type\":\"scatter\"}],\"scatter3d\":[{\"line\":{\"colorbar\":{\"outlinewidth\":0,\"ticks\":\"\"}},\"marker\":{\"colorbar\":{\"outlinewidth\":0,\"ticks\":\"\"}},\"type\":\"scatter3d\"}],\"scattercarpet\":[{\"marker\":{\"colorbar\":{\"outlinewidth\":0,\"ticks\":\"\"}},\"type\":\"scattercarpet\"}],\"scattergeo\":[{\"marker\":{\"colorbar\":{\"outlinewidth\":0,\"ticks\":\"\"}},\"type\":\"scattergeo\"}],\"scattergl\":[{\"marker\":{\"colorbar\":{\"outlinewidth\":0,\"ticks\":\"\"}},\"type\":\"scattergl\"}],\"scattermapbox\":[{\"marker\":{\"colorbar\":{\"outlinewidth\":0,\"ticks\":\"\"}},\"type\":\"scattermapbox\"}],\"scatterpolar\":[{\"marker\":{\"colorbar\":{\"outlinewidth\":0,\"ticks\":\"\"}},\"type\":\"scatterpolar\"}],\"scatterpolargl\":[{\"marker\":{\"colorbar\":{\"outlinewidth\":0,\"ticks\":\"\"}},\"type\":\"scatterpolargl\"}],\"scatterternary\":[{\"marker\":{\"colorbar\":{\"outlinewidth\":0,\"ticks\":\"\"}},\"type\":\"scatterternary\"}],\"surface\":[{\"colorbar\":{\"outlinewidth\":0,\"ticks\":\"\"},\"colorscale\":[[0.0,\"#0d0887\"],[0.1111111111111111,\"#46039f\"],[0.2222222222222222,\"#7201a8\"],[0.3333333333333333,\"#9c179e\"],[0.4444444444444444,\"#bd3786\"],[0.5555555555555556,\"#d8576b\"],[0.6666666666666666,\"#ed7953\"],[0.7777777777777778,\"#fb9f3a\"],[0.8888888888888888,\"#fdca26\"],[1.0,\"#f0f921\"]],\"type\":\"surface\"}],\"table\":[{\"cells\":{\"fill\":{\"color\":\"#EBF0F8\"},\"line\":{\"color\":\"white\"}},\"header\":{\"fill\":{\"color\":\"#C8D4E3\"},\"line\":{\"color\":\"white\"}},\"type\":\"table\"}]},\"layout\":{\"annotationdefaults\":{\"arrowcolor\":\"#2a3f5f\",\"arrowhead\":0,\"arrowwidth\":1},\"autotypenumbers\":\"strict\",\"coloraxis\":{\"colorbar\":{\"outlinewidth\":0,\"ticks\":\"\"}},\"colorscale\":{\"diverging\":[[0,\"#8e0152\"],[0.1,\"#c51b7d\"],[0.2,\"#de77ae\"],[0.3,\"#f1b6da\"],[0.4,\"#fde0ef\"],[0.5,\"#f7f7f7\"],[0.6,\"#e6f5d0\"],[0.7,\"#b8e186\"],[0.8,\"#7fbc41\"],[0.9,\"#4d9221\"],[1,\"#276419\"]],\"sequential\":[[0.0,\"#0d0887\"],[0.1111111111111111,\"#46039f\"],[0.2222222222222222,\"#7201a8\"],[0.3333333333333333,\"#9c179e\"],[0.4444444444444444,\"#bd3786\"],[0.5555555555555556,\"#d8576b\"],[0.6666666666666666,\"#ed7953\"],[0.7777777777777778,\"#fb9f3a\"],[0.8888888888888888,\"#fdca26\"],[1.0,\"#f0f921\"]],\"sequentialminus\":[[0.0,\"#0d0887\"],[0.1111111111111111,\"#46039f\"],[0.2222222222222222,\"#7201a8\"],[0.3333333333333333,\"#9c179e\"],[0.4444444444444444,\"#bd3786\"],[0.5555555555555556,\"#d8576b\"],[0.6666666666666666,\"#ed7953\"],[0.7777777777777778,\"#fb9f3a\"],[0.8888888888888888,\"#fdca26\"],[1.0,\"#f0f921\"]]},\"colorway\":[\"#636efa\",\"#EF553B\",\"#00cc96\",\"#ab63fa\",\"#FFA15A\",\"#19d3f3\",\"#FF6692\",\"#B6E880\",\"#FF97FF\",\"#FECB52\"],\"font\":{\"color\":\"#2a3f5f\"},\"geo\":{\"bgcolor\":\"white\",\"lakecolor\":\"white\",\"landcolor\":\"#E5ECF6\",\"showlakes\":true,\"showland\":true,\"subunitcolor\":\"white\"},\"hoverlabel\":{\"align\":\"left\"},\"hovermode\":\"closest\",\"mapbox\":{\"style\":\"light\"},\"paper_bgcolor\":\"white\",\"plot_bgcolor\":\"#E5ECF6\",\"polar\":{\"angularaxis\":{\"gridcolor\":\"white\",\"linecolor\":\"white\",\"ticks\":\"\"},\"bgcolor\":\"#E5ECF6\",\"radialaxis\":{\"gridcolor\":\"white\",\"linecolor\":\"white\",\"ticks\":\"\"}},\"scene\":{\"xaxis\":{\"backgroundcolor\":\"#E5ECF6\",\"gridcolor\":\"white\",\"gridwidth\":2,\"linecolor\":\"white\",\"showbackground\":true,\"ticks\":\"\",\"zerolinecolor\":\"white\"},\"yaxis\":{\"backgroundcolor\":\"#E5ECF6\",\"gridcolor\":\"white\",\"gridwidth\":2,\"linecolor\":\"white\",\"showbackground\":true,\"ticks\":\"\",\"zerolinecolor\":\"white\"},\"zaxis\":{\"backgroundcolor\":\"#E5ECF6\",\"gridcolor\":\"white\",\"gridwidth\":2,\"linecolor\":\"white\",\"showbackground\":true,\"ticks\":\"\",\"zerolinecolor\":\"white\"}},\"shapedefaults\":{\"line\":{\"color\":\"#2a3f5f\"}},\"ternary\":{\"aaxis\":{\"gridcolor\":\"white\",\"linecolor\":\"white\",\"ticks\":\"\"},\"baxis\":{\"gridcolor\":\"white\",\"linecolor\":\"white\",\"ticks\":\"\"},\"bgcolor\":\"#E5ECF6\",\"caxis\":{\"gridcolor\":\"white\",\"linecolor\":\"white\",\"ticks\":\"\"}},\"title\":{\"x\":0.05},\"xaxis\":{\"automargin\":true,\"gridcolor\":\"white\",\"linecolor\":\"white\",\"ticks\":\"\",\"title\":{\"standoff\":15},\"zerolinecolor\":\"white\",\"zerolinewidth\":2},\"yaxis\":{\"automargin\":true,\"gridcolor\":\"white\",\"linecolor\":\"white\",\"ticks\":\"\",\"title\":{\"standoff\":15},\"zerolinecolor\":\"white\",\"zerolinewidth\":2}}},\"yaxis2\":{\"title\":{\"text\":\"Ratings\"},\"anchor\":\"x\",\"overlaying\":\"y\",\"side\":\"right\",\"range\":[0,5.25]},\"legend\":{\"x\":1.05,\"y\":1},\"barmode\":\"stack\",\"title\":{\"text\":\"Percentage of Restaurants in different Rating Segments vs Number of Cuisines\"},\"xaxis\":{\"title\":{\"text\":\"Number Of Cuisines\"}},\"yaxis\":{\"title\":{\"text\":\"Percent Of Restaurants\"}}},                        {\"responsive\": true}                    ).then(function(){\n",
       "                            \n",
       "var gd = document.getElementById('8c7d19a9-3d51-4e5c-bb85-1e99e4083ab8');\n",
       "var x = new MutationObserver(function (mutations, observer) {{\n",
       "        var display = window.getComputedStyle(gd).display;\n",
       "        if (!display || display === 'none') {{\n",
       "            console.log([gd, 'removed!']);\n",
       "            Plotly.purge(gd);\n",
       "            observer.disconnect();\n",
       "        }}\n",
       "}});\n",
       "\n",
       "// Listen for the removal of the full notebook cells\n",
       "var notebookContainer = gd.closest('#notebook-container');\n",
       "if (notebookContainer) {{\n",
       "    x.observe(notebookContainer, {childList: true});\n",
       "}}\n",
       "\n",
       "// Listen for the clearing of the current output cell\n",
       "var outputEl = gd.closest('.output');\n",
       "if (outputEl) {{\n",
       "    x.observe(outputEl, {childList: true});\n",
       "}}\n",
       "\n",
       "                        })                };                });            </script>        </div>"
      ]
     },
     "metadata": {},
     "output_type": "display_data"
    }
   ],
   "source": [
    "x1=aggTotalCsnR.Cuisines_Number.unique()\n",
    "aggTotalCsnR=aggTotalCsnR.set_index([\"Total_Cuisines\",\"rating_text\"])\n",
    "fig4=go.Figure()\n",
    "\n",
    "fig4.add_trace(go.Bar(name=\"Poor\",\n",
    "                      x=x1,\n",
    "                      y=(np.array(aggTotalCsnR[\"Restaurant_Count\"][:,\"Poor\"])/np.array(aggTotalCsnR[\"Restaurant_Count\"].groupby(\"Total_Cuisines\").sum()))*100, \n",
    "                      marker=dict(color=\"red\"),\n",
    "                      width=[0.6]*6,\n",
    "                      hoverinfo=None))\n",
    "\n",
    "fig4.add_trace(go.Bar(name=\"Average\",\n",
    "                      x=x1,\n",
    "                      y=(np.array(aggTotalCsnR[\"Restaurant_Count\"][:,\"Average\"])/np.array(aggTotalCsnR[\"Restaurant_Count\"].groupby(\"Total_Cuisines\").sum()))*100,marker=dict(color=\"orange\"),\n",
    "                      width=[0.6]*6,\n",
    "                      hoverinfo=None))\n",
    "\n",
    "fig4.add_trace(go.Bar(name=\"Good\",\n",
    "                      x=x1,\n",
    "                      y=(np.array(aggTotalCsnR[\"Restaurant_Count\"][:,\"Good\"])/np.array(aggTotalCsnR[\"Restaurant_Count\"].groupby(\"Total_Cuisines\").sum()))*100, \n",
    "                      marker=dict(color=\"yellow\"),\n",
    "                      width=[0.6]*6 ,\n",
    "                      hoverinfo=None))\n",
    "\n",
    "fig4.add_trace(go.Bar(name=\"Very Good\",\n",
    "                      x=x1,\n",
    "                      y=(np.array(aggTotalCsnR[\"Restaurant_Count\"][:,\"Very Good\"])/np.array(aggTotalCsnR[\"Restaurant_Count\"].groupby(\"Total_Cuisines\").sum()))*100, \n",
    "                      marker=dict(color=\"lightgreen\"),\n",
    "                      width=[0.6]*6,\n",
    "                      hoverinfo=None))\n",
    "\n",
    "fig4.add_trace(go.Bar(name=\"Excellent\",\n",
    "                      x=x1,\n",
    "                      y=(np.array(aggTotalCsnR[\"Restaurant_Count\"][:,\"Excellent\"])/np.array(aggTotalCsnR[\"Restaurant_Count\"].groupby(\"Total_Cuisines\").sum()))*100, \n",
    "                      marker=dict(color=\"darkgreen\"),\n",
    "                      width=[0.6]*6,\n",
    "                      hoverinfo=None))\n",
    "fig4.add_trace(                             \n",
    "    go.Scatter(                          \n",
    "    x=x1,\n",
    "    y=df_zomato[df_zomato[\"rating_text\"]!=\"Not rated\"].groupby([\"Total_Cuisines\"]).agg(Avg=(\"agg_rating\",\"mean\"))[\"Avg\"],\n",
    "    name=\"Average Rating\",\n",
    "    mode='lines',                                        \n",
    "    line = dict(color='blue', width=3),   \n",
    "    yaxis=\"y2\" ),                        \n",
    "    )  \n",
    "fig4.add_trace(                          \n",
    "    go.Scatter(                          \n",
    "    x=x1,\n",
    "    y=df_zomato[df_zomato[\"rating_text\"]!=\"Not rated\"].groupby([\"Total_Cuisines\"]).agg(Median=(\"agg_rating\",\"median\"))[\"Median\"],\n",
    "    name=\"Median Rating\",\n",
    "    mode='lines',                                                       \n",
    "    line = dict(color='lightblue', width=3),   \n",
    "    yaxis=\"y2\" ),                        \n",
    "    ) \n",
    "fig4.update_layout(barmode='stack',\n",
    "                   title=\"Percentage of Restaurants in different Rating Segments vs Number of Cuisines\",\n",
    "                   xaxis=dict(title=\"Number Of Cuisines\" ),\n",
    "                   yaxis=dict(title=\"Percent Of Restaurants\"),\n",
    "                   yaxis2=dict(title=\"Ratings\", anchor=\"x\", overlaying=\"y\",side=\"right\",range=(0,5.25)),\n",
    "                   legend = dict(x = 1.05, y = 1))\n",
    "fig4.show()"
   ]
  },
  {
   "cell_type": "markdown",
   "id": "0813ef17",
   "metadata": {},
   "source": [
    "As the total number of cuisines offered by the restaurant increases, the propotion of restaurant which have an above average rating in that group also increases. For example, around 75% of restaurants that offered 6 cuisines or more received an above average ratings.\n",
    "\n",
    "The Median and Average Ratings doesn't increase significantly. For example, the average rating increases from 3.29 for restaurants offering 1 cuisine to 3.71 for restaurants 6 or more cuisines. \n",
    "\n",
    "From this we can make an calculated hypothesis that _if an restaurants has more cuisine it is more likely that it will have an above average rating._"
   ]
  },
  {
   "cell_type": "markdown",
   "id": "d5d9d2d9",
   "metadata": {},
   "source": [
    "#### 2. Total Restaurant count for different Rating Segments"
   ]
  },
  {
   "cell_type": "code",
   "execution_count": 220,
   "id": "884b7443",
   "metadata": {},
   "outputs": [
    {
     "data": {
      "application/vnd.plotly.v1+json": {
       "config": {
        "plotlyServerURL": "https://plot.ly"
       },
       "data": [
        {
         "hovertemplate": "Restaurant Count:%{value}",
         "marker": {
          "color": [
           "orange",
           "darkgreen",
           "yellow",
           "lightgray",
           "red",
           "lightgreen"
          ]
         },
         "texttemplate": "Restaurant Count<br>%{value}",
         "type": "bar",
         "x": [
          "Average",
          "Excellent",
          "Good",
          "Not rated",
          "Poor",
          "Very Good"
         ],
         "y": [
          3737,
          301,
          2100,
          2148,
          186,
          1079
         ]
        }
       ],
       "layout": {
        "template": {
         "data": {
          "bar": [
           {
            "error_x": {
             "color": "#2a3f5f"
            },
            "error_y": {
             "color": "#2a3f5f"
            },
            "marker": {
             "line": {
              "color": "#E5ECF6",
              "width": 0.5
             },
             "pattern": {
              "fillmode": "overlay",
              "size": 10,
              "solidity": 0.2
             }
            },
            "type": "bar"
           }
          ],
          "barpolar": [
           {
            "marker": {
             "line": {
              "color": "#E5ECF6",
              "width": 0.5
             },
             "pattern": {
              "fillmode": "overlay",
              "size": 10,
              "solidity": 0.2
             }
            },
            "type": "barpolar"
           }
          ],
          "carpet": [
           {
            "aaxis": {
             "endlinecolor": "#2a3f5f",
             "gridcolor": "white",
             "linecolor": "white",
             "minorgridcolor": "white",
             "startlinecolor": "#2a3f5f"
            },
            "baxis": {
             "endlinecolor": "#2a3f5f",
             "gridcolor": "white",
             "linecolor": "white",
             "minorgridcolor": "white",
             "startlinecolor": "#2a3f5f"
            },
            "type": "carpet"
           }
          ],
          "choropleth": [
           {
            "colorbar": {
             "outlinewidth": 0,
             "ticks": ""
            },
            "type": "choropleth"
           }
          ],
          "contour": [
           {
            "colorbar": {
             "outlinewidth": 0,
             "ticks": ""
            },
            "colorscale": [
             [
              0,
              "#0d0887"
             ],
             [
              0.1111111111111111,
              "#46039f"
             ],
             [
              0.2222222222222222,
              "#7201a8"
             ],
             [
              0.3333333333333333,
              "#9c179e"
             ],
             [
              0.4444444444444444,
              "#bd3786"
             ],
             [
              0.5555555555555556,
              "#d8576b"
             ],
             [
              0.6666666666666666,
              "#ed7953"
             ],
             [
              0.7777777777777778,
              "#fb9f3a"
             ],
             [
              0.8888888888888888,
              "#fdca26"
             ],
             [
              1,
              "#f0f921"
             ]
            ],
            "type": "contour"
           }
          ],
          "contourcarpet": [
           {
            "colorbar": {
             "outlinewidth": 0,
             "ticks": ""
            },
            "type": "contourcarpet"
           }
          ],
          "heatmap": [
           {
            "colorbar": {
             "outlinewidth": 0,
             "ticks": ""
            },
            "colorscale": [
             [
              0,
              "#0d0887"
             ],
             [
              0.1111111111111111,
              "#46039f"
             ],
             [
              0.2222222222222222,
              "#7201a8"
             ],
             [
              0.3333333333333333,
              "#9c179e"
             ],
             [
              0.4444444444444444,
              "#bd3786"
             ],
             [
              0.5555555555555556,
              "#d8576b"
             ],
             [
              0.6666666666666666,
              "#ed7953"
             ],
             [
              0.7777777777777778,
              "#fb9f3a"
             ],
             [
              0.8888888888888888,
              "#fdca26"
             ],
             [
              1,
              "#f0f921"
             ]
            ],
            "type": "heatmap"
           }
          ],
          "heatmapgl": [
           {
            "colorbar": {
             "outlinewidth": 0,
             "ticks": ""
            },
            "colorscale": [
             [
              0,
              "#0d0887"
             ],
             [
              0.1111111111111111,
              "#46039f"
             ],
             [
              0.2222222222222222,
              "#7201a8"
             ],
             [
              0.3333333333333333,
              "#9c179e"
             ],
             [
              0.4444444444444444,
              "#bd3786"
             ],
             [
              0.5555555555555556,
              "#d8576b"
             ],
             [
              0.6666666666666666,
              "#ed7953"
             ],
             [
              0.7777777777777778,
              "#fb9f3a"
             ],
             [
              0.8888888888888888,
              "#fdca26"
             ],
             [
              1,
              "#f0f921"
             ]
            ],
            "type": "heatmapgl"
           }
          ],
          "histogram": [
           {
            "marker": {
             "pattern": {
              "fillmode": "overlay",
              "size": 10,
              "solidity": 0.2
             }
            },
            "type": "histogram"
           }
          ],
          "histogram2d": [
           {
            "colorbar": {
             "outlinewidth": 0,
             "ticks": ""
            },
            "colorscale": [
             [
              0,
              "#0d0887"
             ],
             [
              0.1111111111111111,
              "#46039f"
             ],
             [
              0.2222222222222222,
              "#7201a8"
             ],
             [
              0.3333333333333333,
              "#9c179e"
             ],
             [
              0.4444444444444444,
              "#bd3786"
             ],
             [
              0.5555555555555556,
              "#d8576b"
             ],
             [
              0.6666666666666666,
              "#ed7953"
             ],
             [
              0.7777777777777778,
              "#fb9f3a"
             ],
             [
              0.8888888888888888,
              "#fdca26"
             ],
             [
              1,
              "#f0f921"
             ]
            ],
            "type": "histogram2d"
           }
          ],
          "histogram2dcontour": [
           {
            "colorbar": {
             "outlinewidth": 0,
             "ticks": ""
            },
            "colorscale": [
             [
              0,
              "#0d0887"
             ],
             [
              0.1111111111111111,
              "#46039f"
             ],
             [
              0.2222222222222222,
              "#7201a8"
             ],
             [
              0.3333333333333333,
              "#9c179e"
             ],
             [
              0.4444444444444444,
              "#bd3786"
             ],
             [
              0.5555555555555556,
              "#d8576b"
             ],
             [
              0.6666666666666666,
              "#ed7953"
             ],
             [
              0.7777777777777778,
              "#fb9f3a"
             ],
             [
              0.8888888888888888,
              "#fdca26"
             ],
             [
              1,
              "#f0f921"
             ]
            ],
            "type": "histogram2dcontour"
           }
          ],
          "mesh3d": [
           {
            "colorbar": {
             "outlinewidth": 0,
             "ticks": ""
            },
            "type": "mesh3d"
           }
          ],
          "parcoords": [
           {
            "line": {
             "colorbar": {
              "outlinewidth": 0,
              "ticks": ""
             }
            },
            "type": "parcoords"
           }
          ],
          "pie": [
           {
            "automargin": true,
            "type": "pie"
           }
          ],
          "scatter": [
           {
            "marker": {
             "colorbar": {
              "outlinewidth": 0,
              "ticks": ""
             }
            },
            "type": "scatter"
           }
          ],
          "scatter3d": [
           {
            "line": {
             "colorbar": {
              "outlinewidth": 0,
              "ticks": ""
             }
            },
            "marker": {
             "colorbar": {
              "outlinewidth": 0,
              "ticks": ""
             }
            },
            "type": "scatter3d"
           }
          ],
          "scattercarpet": [
           {
            "marker": {
             "colorbar": {
              "outlinewidth": 0,
              "ticks": ""
             }
            },
            "type": "scattercarpet"
           }
          ],
          "scattergeo": [
           {
            "marker": {
             "colorbar": {
              "outlinewidth": 0,
              "ticks": ""
             }
            },
            "type": "scattergeo"
           }
          ],
          "scattergl": [
           {
            "marker": {
             "colorbar": {
              "outlinewidth": 0,
              "ticks": ""
             }
            },
            "type": "scattergl"
           }
          ],
          "scattermapbox": [
           {
            "marker": {
             "colorbar": {
              "outlinewidth": 0,
              "ticks": ""
             }
            },
            "type": "scattermapbox"
           }
          ],
          "scatterpolar": [
           {
            "marker": {
             "colorbar": {
              "outlinewidth": 0,
              "ticks": ""
             }
            },
            "type": "scatterpolar"
           }
          ],
          "scatterpolargl": [
           {
            "marker": {
             "colorbar": {
              "outlinewidth": 0,
              "ticks": ""
             }
            },
            "type": "scatterpolargl"
           }
          ],
          "scatterternary": [
           {
            "marker": {
             "colorbar": {
              "outlinewidth": 0,
              "ticks": ""
             }
            },
            "type": "scatterternary"
           }
          ],
          "surface": [
           {
            "colorbar": {
             "outlinewidth": 0,
             "ticks": ""
            },
            "colorscale": [
             [
              0,
              "#0d0887"
             ],
             [
              0.1111111111111111,
              "#46039f"
             ],
             [
              0.2222222222222222,
              "#7201a8"
             ],
             [
              0.3333333333333333,
              "#9c179e"
             ],
             [
              0.4444444444444444,
              "#bd3786"
             ],
             [
              0.5555555555555556,
              "#d8576b"
             ],
             [
              0.6666666666666666,
              "#ed7953"
             ],
             [
              0.7777777777777778,
              "#fb9f3a"
             ],
             [
              0.8888888888888888,
              "#fdca26"
             ],
             [
              1,
              "#f0f921"
             ]
            ],
            "type": "surface"
           }
          ],
          "table": [
           {
            "cells": {
             "fill": {
              "color": "#EBF0F8"
             },
             "line": {
              "color": "white"
             }
            },
            "header": {
             "fill": {
              "color": "#C8D4E3"
             },
             "line": {
              "color": "white"
             }
            },
            "type": "table"
           }
          ]
         },
         "layout": {
          "annotationdefaults": {
           "arrowcolor": "#2a3f5f",
           "arrowhead": 0,
           "arrowwidth": 1
          },
          "autotypenumbers": "strict",
          "coloraxis": {
           "colorbar": {
            "outlinewidth": 0,
            "ticks": ""
           }
          },
          "colorscale": {
           "diverging": [
            [
             0,
             "#8e0152"
            ],
            [
             0.1,
             "#c51b7d"
            ],
            [
             0.2,
             "#de77ae"
            ],
            [
             0.3,
             "#f1b6da"
            ],
            [
             0.4,
             "#fde0ef"
            ],
            [
             0.5,
             "#f7f7f7"
            ],
            [
             0.6,
             "#e6f5d0"
            ],
            [
             0.7,
             "#b8e186"
            ],
            [
             0.8,
             "#7fbc41"
            ],
            [
             0.9,
             "#4d9221"
            ],
            [
             1,
             "#276419"
            ]
           ],
           "sequential": [
            [
             0,
             "#0d0887"
            ],
            [
             0.1111111111111111,
             "#46039f"
            ],
            [
             0.2222222222222222,
             "#7201a8"
            ],
            [
             0.3333333333333333,
             "#9c179e"
            ],
            [
             0.4444444444444444,
             "#bd3786"
            ],
            [
             0.5555555555555556,
             "#d8576b"
            ],
            [
             0.6666666666666666,
             "#ed7953"
            ],
            [
             0.7777777777777778,
             "#fb9f3a"
            ],
            [
             0.8888888888888888,
             "#fdca26"
            ],
            [
             1,
             "#f0f921"
            ]
           ],
           "sequentialminus": [
            [
             0,
             "#0d0887"
            ],
            [
             0.1111111111111111,
             "#46039f"
            ],
            [
             0.2222222222222222,
             "#7201a8"
            ],
            [
             0.3333333333333333,
             "#9c179e"
            ],
            [
             0.4444444444444444,
             "#bd3786"
            ],
            [
             0.5555555555555556,
             "#d8576b"
            ],
            [
             0.6666666666666666,
             "#ed7953"
            ],
            [
             0.7777777777777778,
             "#fb9f3a"
            ],
            [
             0.8888888888888888,
             "#fdca26"
            ],
            [
             1,
             "#f0f921"
            ]
           ]
          },
          "colorway": [
           "#636efa",
           "#EF553B",
           "#00cc96",
           "#ab63fa",
           "#FFA15A",
           "#19d3f3",
           "#FF6692",
           "#B6E880",
           "#FF97FF",
           "#FECB52"
          ],
          "font": {
           "color": "#2a3f5f"
          },
          "geo": {
           "bgcolor": "white",
           "lakecolor": "white",
           "landcolor": "#E5ECF6",
           "showlakes": true,
           "showland": true,
           "subunitcolor": "white"
          },
          "hoverlabel": {
           "align": "left"
          },
          "hovermode": "closest",
          "mapbox": {
           "style": "light"
          },
          "paper_bgcolor": "white",
          "plot_bgcolor": "#E5ECF6",
          "polar": {
           "angularaxis": {
            "gridcolor": "white",
            "linecolor": "white",
            "ticks": ""
           },
           "bgcolor": "#E5ECF6",
           "radialaxis": {
            "gridcolor": "white",
            "linecolor": "white",
            "ticks": ""
           }
          },
          "scene": {
           "xaxis": {
            "backgroundcolor": "#E5ECF6",
            "gridcolor": "white",
            "gridwidth": 2,
            "linecolor": "white",
            "showbackground": true,
            "ticks": "",
            "zerolinecolor": "white"
           },
           "yaxis": {
            "backgroundcolor": "#E5ECF6",
            "gridcolor": "white",
            "gridwidth": 2,
            "linecolor": "white",
            "showbackground": true,
            "ticks": "",
            "zerolinecolor": "white"
           },
           "zaxis": {
            "backgroundcolor": "#E5ECF6",
            "gridcolor": "white",
            "gridwidth": 2,
            "linecolor": "white",
            "showbackground": true,
            "ticks": "",
            "zerolinecolor": "white"
           }
          },
          "shapedefaults": {
           "line": {
            "color": "#2a3f5f"
           }
          },
          "ternary": {
           "aaxis": {
            "gridcolor": "white",
            "linecolor": "white",
            "ticks": ""
           },
           "baxis": {
            "gridcolor": "white",
            "linecolor": "white",
            "ticks": ""
           },
           "bgcolor": "#E5ECF6",
           "caxis": {
            "gridcolor": "white",
            "linecolor": "white",
            "ticks": ""
           }
          },
          "title": {
           "x": 0.05
          },
          "xaxis": {
           "automargin": true,
           "gridcolor": "white",
           "linecolor": "white",
           "ticks": "",
           "title": {
            "standoff": 15
           },
           "zerolinecolor": "white",
           "zerolinewidth": 2
          },
          "yaxis": {
           "automargin": true,
           "gridcolor": "white",
           "linecolor": "white",
           "ticks": "",
           "title": {
            "standoff": 15
           },
           "zerolinecolor": "white",
           "zerolinewidth": 2
          }
         }
        },
        "xaxis": {
         "title": {
          "text": "Rating Text"
         }
        },
        "yaxis": {
         "title": {
          "text": "Number of Restaurants"
         }
        }
       }
      },
      "text/html": [
       "<div>                            <div id=\"50da712a-fd6d-4af9-83f7-124a96a9fdca\" class=\"plotly-graph-div\" style=\"height:525px; width:100%;\"></div>            <script type=\"text/javascript\">                require([\"plotly\"], function(Plotly) {                    window.PLOTLYENV=window.PLOTLYENV || {};                                    if (document.getElementById(\"50da712a-fd6d-4af9-83f7-124a96a9fdca\")) {                    Plotly.newPlot(                        \"50da712a-fd6d-4af9-83f7-124a96a9fdca\",                        [{\"hovertemplate\":\"Restaurant Count:%{value}\",\"marker\":{\"color\":[\"orange\",\"darkgreen\",\"yellow\",\"lightgray\",\"red\",\"lightgreen\"]},\"texttemplate\":\"Restaurant Count<br>%{value}\",\"x\":[\"Average\",\"Excellent\",\"Good\",\"Not rated\",\"Poor\",\"Very Good\"],\"y\":[3737,301,2100,2148,186,1079],\"type\":\"bar\"}],                        {\"template\":{\"data\":{\"bar\":[{\"error_x\":{\"color\":\"#2a3f5f\"},\"error_y\":{\"color\":\"#2a3f5f\"},\"marker\":{\"line\":{\"color\":\"#E5ECF6\",\"width\":0.5},\"pattern\":{\"fillmode\":\"overlay\",\"size\":10,\"solidity\":0.2}},\"type\":\"bar\"}],\"barpolar\":[{\"marker\":{\"line\":{\"color\":\"#E5ECF6\",\"width\":0.5},\"pattern\":{\"fillmode\":\"overlay\",\"size\":10,\"solidity\":0.2}},\"type\":\"barpolar\"}],\"carpet\":[{\"aaxis\":{\"endlinecolor\":\"#2a3f5f\",\"gridcolor\":\"white\",\"linecolor\":\"white\",\"minorgridcolor\":\"white\",\"startlinecolor\":\"#2a3f5f\"},\"baxis\":{\"endlinecolor\":\"#2a3f5f\",\"gridcolor\":\"white\",\"linecolor\":\"white\",\"minorgridcolor\":\"white\",\"startlinecolor\":\"#2a3f5f\"},\"type\":\"carpet\"}],\"choropleth\":[{\"colorbar\":{\"outlinewidth\":0,\"ticks\":\"\"},\"type\":\"choropleth\"}],\"contour\":[{\"colorbar\":{\"outlinewidth\":0,\"ticks\":\"\"},\"colorscale\":[[0.0,\"#0d0887\"],[0.1111111111111111,\"#46039f\"],[0.2222222222222222,\"#7201a8\"],[0.3333333333333333,\"#9c179e\"],[0.4444444444444444,\"#bd3786\"],[0.5555555555555556,\"#d8576b\"],[0.6666666666666666,\"#ed7953\"],[0.7777777777777778,\"#fb9f3a\"],[0.8888888888888888,\"#fdca26\"],[1.0,\"#f0f921\"]],\"type\":\"contour\"}],\"contourcarpet\":[{\"colorbar\":{\"outlinewidth\":0,\"ticks\":\"\"},\"type\":\"contourcarpet\"}],\"heatmap\":[{\"colorbar\":{\"outlinewidth\":0,\"ticks\":\"\"},\"colorscale\":[[0.0,\"#0d0887\"],[0.1111111111111111,\"#46039f\"],[0.2222222222222222,\"#7201a8\"],[0.3333333333333333,\"#9c179e\"],[0.4444444444444444,\"#bd3786\"],[0.5555555555555556,\"#d8576b\"],[0.6666666666666666,\"#ed7953\"],[0.7777777777777778,\"#fb9f3a\"],[0.8888888888888888,\"#fdca26\"],[1.0,\"#f0f921\"]],\"type\":\"heatmap\"}],\"heatmapgl\":[{\"colorbar\":{\"outlinewidth\":0,\"ticks\":\"\"},\"colorscale\":[[0.0,\"#0d0887\"],[0.1111111111111111,\"#46039f\"],[0.2222222222222222,\"#7201a8\"],[0.3333333333333333,\"#9c179e\"],[0.4444444444444444,\"#bd3786\"],[0.5555555555555556,\"#d8576b\"],[0.6666666666666666,\"#ed7953\"],[0.7777777777777778,\"#fb9f3a\"],[0.8888888888888888,\"#fdca26\"],[1.0,\"#f0f921\"]],\"type\":\"heatmapgl\"}],\"histogram\":[{\"marker\":{\"pattern\":{\"fillmode\":\"overlay\",\"size\":10,\"solidity\":0.2}},\"type\":\"histogram\"}],\"histogram2d\":[{\"colorbar\":{\"outlinewidth\":0,\"ticks\":\"\"},\"colorscale\":[[0.0,\"#0d0887\"],[0.1111111111111111,\"#46039f\"],[0.2222222222222222,\"#7201a8\"],[0.3333333333333333,\"#9c179e\"],[0.4444444444444444,\"#bd3786\"],[0.5555555555555556,\"#d8576b\"],[0.6666666666666666,\"#ed7953\"],[0.7777777777777778,\"#fb9f3a\"],[0.8888888888888888,\"#fdca26\"],[1.0,\"#f0f921\"]],\"type\":\"histogram2d\"}],\"histogram2dcontour\":[{\"colorbar\":{\"outlinewidth\":0,\"ticks\":\"\"},\"colorscale\":[[0.0,\"#0d0887\"],[0.1111111111111111,\"#46039f\"],[0.2222222222222222,\"#7201a8\"],[0.3333333333333333,\"#9c179e\"],[0.4444444444444444,\"#bd3786\"],[0.5555555555555556,\"#d8576b\"],[0.6666666666666666,\"#ed7953\"],[0.7777777777777778,\"#fb9f3a\"],[0.8888888888888888,\"#fdca26\"],[1.0,\"#f0f921\"]],\"type\":\"histogram2dcontour\"}],\"mesh3d\":[{\"colorbar\":{\"outlinewidth\":0,\"ticks\":\"\"},\"type\":\"mesh3d\"}],\"parcoords\":[{\"line\":{\"colorbar\":{\"outlinewidth\":0,\"ticks\":\"\"}},\"type\":\"parcoords\"}],\"pie\":[{\"automargin\":true,\"type\":\"pie\"}],\"scatter\":[{\"marker\":{\"colorbar\":{\"outlinewidth\":0,\"ticks\":\"\"}},\"type\":\"scatter\"}],\"scatter3d\":[{\"line\":{\"colorbar\":{\"outlinewidth\":0,\"ticks\":\"\"}},\"marker\":{\"colorbar\":{\"outlinewidth\":0,\"ticks\":\"\"}},\"type\":\"scatter3d\"}],\"scattercarpet\":[{\"marker\":{\"colorbar\":{\"outlinewidth\":0,\"ticks\":\"\"}},\"type\":\"scattercarpet\"}],\"scattergeo\":[{\"marker\":{\"colorbar\":{\"outlinewidth\":0,\"ticks\":\"\"}},\"type\":\"scattergeo\"}],\"scattergl\":[{\"marker\":{\"colorbar\":{\"outlinewidth\":0,\"ticks\":\"\"}},\"type\":\"scattergl\"}],\"scattermapbox\":[{\"marker\":{\"colorbar\":{\"outlinewidth\":0,\"ticks\":\"\"}},\"type\":\"scattermapbox\"}],\"scatterpolar\":[{\"marker\":{\"colorbar\":{\"outlinewidth\":0,\"ticks\":\"\"}},\"type\":\"scatterpolar\"}],\"scatterpolargl\":[{\"marker\":{\"colorbar\":{\"outlinewidth\":0,\"ticks\":\"\"}},\"type\":\"scatterpolargl\"}],\"scatterternary\":[{\"marker\":{\"colorbar\":{\"outlinewidth\":0,\"ticks\":\"\"}},\"type\":\"scatterternary\"}],\"surface\":[{\"colorbar\":{\"outlinewidth\":0,\"ticks\":\"\"},\"colorscale\":[[0.0,\"#0d0887\"],[0.1111111111111111,\"#46039f\"],[0.2222222222222222,\"#7201a8\"],[0.3333333333333333,\"#9c179e\"],[0.4444444444444444,\"#bd3786\"],[0.5555555555555556,\"#d8576b\"],[0.6666666666666666,\"#ed7953\"],[0.7777777777777778,\"#fb9f3a\"],[0.8888888888888888,\"#fdca26\"],[1.0,\"#f0f921\"]],\"type\":\"surface\"}],\"table\":[{\"cells\":{\"fill\":{\"color\":\"#EBF0F8\"},\"line\":{\"color\":\"white\"}},\"header\":{\"fill\":{\"color\":\"#C8D4E3\"},\"line\":{\"color\":\"white\"}},\"type\":\"table\"}]},\"layout\":{\"annotationdefaults\":{\"arrowcolor\":\"#2a3f5f\",\"arrowhead\":0,\"arrowwidth\":1},\"autotypenumbers\":\"strict\",\"coloraxis\":{\"colorbar\":{\"outlinewidth\":0,\"ticks\":\"\"}},\"colorscale\":{\"diverging\":[[0,\"#8e0152\"],[0.1,\"#c51b7d\"],[0.2,\"#de77ae\"],[0.3,\"#f1b6da\"],[0.4,\"#fde0ef\"],[0.5,\"#f7f7f7\"],[0.6,\"#e6f5d0\"],[0.7,\"#b8e186\"],[0.8,\"#7fbc41\"],[0.9,\"#4d9221\"],[1,\"#276419\"]],\"sequential\":[[0.0,\"#0d0887\"],[0.1111111111111111,\"#46039f\"],[0.2222222222222222,\"#7201a8\"],[0.3333333333333333,\"#9c179e\"],[0.4444444444444444,\"#bd3786\"],[0.5555555555555556,\"#d8576b\"],[0.6666666666666666,\"#ed7953\"],[0.7777777777777778,\"#fb9f3a\"],[0.8888888888888888,\"#fdca26\"],[1.0,\"#f0f921\"]],\"sequentialminus\":[[0.0,\"#0d0887\"],[0.1111111111111111,\"#46039f\"],[0.2222222222222222,\"#7201a8\"],[0.3333333333333333,\"#9c179e\"],[0.4444444444444444,\"#bd3786\"],[0.5555555555555556,\"#d8576b\"],[0.6666666666666666,\"#ed7953\"],[0.7777777777777778,\"#fb9f3a\"],[0.8888888888888888,\"#fdca26\"],[1.0,\"#f0f921\"]]},\"colorway\":[\"#636efa\",\"#EF553B\",\"#00cc96\",\"#ab63fa\",\"#FFA15A\",\"#19d3f3\",\"#FF6692\",\"#B6E880\",\"#FF97FF\",\"#FECB52\"],\"font\":{\"color\":\"#2a3f5f\"},\"geo\":{\"bgcolor\":\"white\",\"lakecolor\":\"white\",\"landcolor\":\"#E5ECF6\",\"showlakes\":true,\"showland\":true,\"subunitcolor\":\"white\"},\"hoverlabel\":{\"align\":\"left\"},\"hovermode\":\"closest\",\"mapbox\":{\"style\":\"light\"},\"paper_bgcolor\":\"white\",\"plot_bgcolor\":\"#E5ECF6\",\"polar\":{\"angularaxis\":{\"gridcolor\":\"white\",\"linecolor\":\"white\",\"ticks\":\"\"},\"bgcolor\":\"#E5ECF6\",\"radialaxis\":{\"gridcolor\":\"white\",\"linecolor\":\"white\",\"ticks\":\"\"}},\"scene\":{\"xaxis\":{\"backgroundcolor\":\"#E5ECF6\",\"gridcolor\":\"white\",\"gridwidth\":2,\"linecolor\":\"white\",\"showbackground\":true,\"ticks\":\"\",\"zerolinecolor\":\"white\"},\"yaxis\":{\"backgroundcolor\":\"#E5ECF6\",\"gridcolor\":\"white\",\"gridwidth\":2,\"linecolor\":\"white\",\"showbackground\":true,\"ticks\":\"\",\"zerolinecolor\":\"white\"},\"zaxis\":{\"backgroundcolor\":\"#E5ECF6\",\"gridcolor\":\"white\",\"gridwidth\":2,\"linecolor\":\"white\",\"showbackground\":true,\"ticks\":\"\",\"zerolinecolor\":\"white\"}},\"shapedefaults\":{\"line\":{\"color\":\"#2a3f5f\"}},\"ternary\":{\"aaxis\":{\"gridcolor\":\"white\",\"linecolor\":\"white\",\"ticks\":\"\"},\"baxis\":{\"gridcolor\":\"white\",\"linecolor\":\"white\",\"ticks\":\"\"},\"bgcolor\":\"#E5ECF6\",\"caxis\":{\"gridcolor\":\"white\",\"linecolor\":\"white\",\"ticks\":\"\"}},\"title\":{\"x\":0.05},\"xaxis\":{\"automargin\":true,\"gridcolor\":\"white\",\"linecolor\":\"white\",\"ticks\":\"\",\"title\":{\"standoff\":15},\"zerolinecolor\":\"white\",\"zerolinewidth\":2},\"yaxis\":{\"automargin\":true,\"gridcolor\":\"white\",\"linecolor\":\"white\",\"ticks\":\"\",\"title\":{\"standoff\":15},\"zerolinecolor\":\"white\",\"zerolinewidth\":2}}},\"xaxis\":{\"title\":{\"text\":\"Rating Text\"}},\"yaxis\":{\"title\":{\"text\":\"Number of Restaurants\"}}},                        {\"responsive\": true}                    ).then(function(){\n",
       "                            \n",
       "var gd = document.getElementById('50da712a-fd6d-4af9-83f7-124a96a9fdca');\n",
       "var x = new MutationObserver(function (mutations, observer) {{\n",
       "        var display = window.getComputedStyle(gd).display;\n",
       "        if (!display || display === 'none') {{\n",
       "            console.log([gd, 'removed!']);\n",
       "            Plotly.purge(gd);\n",
       "            observer.disconnect();\n",
       "        }}\n",
       "}});\n",
       "\n",
       "// Listen for the removal of the full notebook cells\n",
       "var notebookContainer = gd.closest('#notebook-container');\n",
       "if (notebookContainer) {{\n",
       "    x.observe(notebookContainer, {childList: true});\n",
       "}}\n",
       "\n",
       "// Listen for the clearing of the current output cell\n",
       "var outputEl = gd.closest('.output');\n",
       "if (outputEl) {{\n",
       "    x.observe(outputEl, {childList: true});\n",
       "}}\n",
       "\n",
       "                        })                };                });            </script>        </div>"
      ]
     },
     "metadata": {},
     "output_type": "display_data"
    }
   ],
   "source": [
    "tempdata=df_zomato.groupby(\"rating_text\").agg(count=(\"restaurant_id\",\"count\"))\n",
    "fig5=go.Figure()\n",
    "fig5.add_trace(go.Bar(x=tempdata.index,\n",
    "                      y=tempdata[\"count\"],\n",
    "                     hovertemplate =\"Restaurant Count:%{value}\",\n",
    "                     texttemplate = \"Restaurant Count<br>%{value}\",\n",
    "                     marker=dict(color=[\"orange\",\"darkgreen\",\"yellow\",\"lightgray\",\"red\",\"lightgreen\"])))\n",
    "fig5.update_layout( xaxis=dict(title=\"Rating Text\" ),\n",
    "                    yaxis=dict(title=\"Number of Restaurants\"))"
   ]
  },
  {
   "cell_type": "markdown",
   "id": "70d4c61d",
   "metadata": {},
   "source": [
    "#### 3. Location of 'Not Rated' Restaurants"
   ]
  },
  {
   "cell_type": "code",
   "execution_count": 224,
   "id": "f8dedd2a",
   "metadata": {},
   "outputs": [],
   "source": [
    "Total_Restaurants_Not_Rated=df_zomato[df_zomato[\"rating_text\"]==\"Not rated\"].groupby(\"City\").agg(Total_Restaurants=(\"restaurant_id\",\"count\"))"
   ]
  },
  {
   "cell_type": "code",
   "execution_count": 225,
   "id": "5c000fe4",
   "metadata": {},
   "outputs": [
    {
     "data": {
      "application/vnd.plotly.v1+json": {
       "config": {
        "plotlyServerURL": "https://plot.ly"
       },
       "data": [
        {
         "hole": 0.5,
         "hovertemplate": "%{label}<br>Restaurant Count:%{value}",
         "labels": [
          "Birmingham",
          "Brasí_lia",
          "Davenport",
          "Faridabad",
          "Ghaziabad",
          "Gurgaon",
          "New Delhi",
          "Noida",
          "Pocatello",
          "Rio de Janeiro",
          "Sí£o Paulo"
         ],
         "showlegend": true,
         "texttemplate": "%{label}<br>%{percent}",
         "type": "pie",
         "values": [
          1,
          1,
          2,
          100,
          2,
          228,
          1425,
          384,
          1,
          1,
          3
         ]
        }
       ],
       "layout": {
        "annotations": [
         {
          "font": {
           "size": 12
          },
          "showarrow": false,
          "text": "Total Number of Restaurants:<br>2148",
          "x": 0.5,
          "y": 0.5
         }
        ],
        "template": {
         "data": {
          "bar": [
           {
            "error_x": {
             "color": "#2a3f5f"
            },
            "error_y": {
             "color": "#2a3f5f"
            },
            "marker": {
             "line": {
              "color": "#E5ECF6",
              "width": 0.5
             },
             "pattern": {
              "fillmode": "overlay",
              "size": 10,
              "solidity": 0.2
             }
            },
            "type": "bar"
           }
          ],
          "barpolar": [
           {
            "marker": {
             "line": {
              "color": "#E5ECF6",
              "width": 0.5
             },
             "pattern": {
              "fillmode": "overlay",
              "size": 10,
              "solidity": 0.2
             }
            },
            "type": "barpolar"
           }
          ],
          "carpet": [
           {
            "aaxis": {
             "endlinecolor": "#2a3f5f",
             "gridcolor": "white",
             "linecolor": "white",
             "minorgridcolor": "white",
             "startlinecolor": "#2a3f5f"
            },
            "baxis": {
             "endlinecolor": "#2a3f5f",
             "gridcolor": "white",
             "linecolor": "white",
             "minorgridcolor": "white",
             "startlinecolor": "#2a3f5f"
            },
            "type": "carpet"
           }
          ],
          "choropleth": [
           {
            "colorbar": {
             "outlinewidth": 0,
             "ticks": ""
            },
            "type": "choropleth"
           }
          ],
          "contour": [
           {
            "colorbar": {
             "outlinewidth": 0,
             "ticks": ""
            },
            "colorscale": [
             [
              0,
              "#0d0887"
             ],
             [
              0.1111111111111111,
              "#46039f"
             ],
             [
              0.2222222222222222,
              "#7201a8"
             ],
             [
              0.3333333333333333,
              "#9c179e"
             ],
             [
              0.4444444444444444,
              "#bd3786"
             ],
             [
              0.5555555555555556,
              "#d8576b"
             ],
             [
              0.6666666666666666,
              "#ed7953"
             ],
             [
              0.7777777777777778,
              "#fb9f3a"
             ],
             [
              0.8888888888888888,
              "#fdca26"
             ],
             [
              1,
              "#f0f921"
             ]
            ],
            "type": "contour"
           }
          ],
          "contourcarpet": [
           {
            "colorbar": {
             "outlinewidth": 0,
             "ticks": ""
            },
            "type": "contourcarpet"
           }
          ],
          "heatmap": [
           {
            "colorbar": {
             "outlinewidth": 0,
             "ticks": ""
            },
            "colorscale": [
             [
              0,
              "#0d0887"
             ],
             [
              0.1111111111111111,
              "#46039f"
             ],
             [
              0.2222222222222222,
              "#7201a8"
             ],
             [
              0.3333333333333333,
              "#9c179e"
             ],
             [
              0.4444444444444444,
              "#bd3786"
             ],
             [
              0.5555555555555556,
              "#d8576b"
             ],
             [
              0.6666666666666666,
              "#ed7953"
             ],
             [
              0.7777777777777778,
              "#fb9f3a"
             ],
             [
              0.8888888888888888,
              "#fdca26"
             ],
             [
              1,
              "#f0f921"
             ]
            ],
            "type": "heatmap"
           }
          ],
          "heatmapgl": [
           {
            "colorbar": {
             "outlinewidth": 0,
             "ticks": ""
            },
            "colorscale": [
             [
              0,
              "#0d0887"
             ],
             [
              0.1111111111111111,
              "#46039f"
             ],
             [
              0.2222222222222222,
              "#7201a8"
             ],
             [
              0.3333333333333333,
              "#9c179e"
             ],
             [
              0.4444444444444444,
              "#bd3786"
             ],
             [
              0.5555555555555556,
              "#d8576b"
             ],
             [
              0.6666666666666666,
              "#ed7953"
             ],
             [
              0.7777777777777778,
              "#fb9f3a"
             ],
             [
              0.8888888888888888,
              "#fdca26"
             ],
             [
              1,
              "#f0f921"
             ]
            ],
            "type": "heatmapgl"
           }
          ],
          "histogram": [
           {
            "marker": {
             "pattern": {
              "fillmode": "overlay",
              "size": 10,
              "solidity": 0.2
             }
            },
            "type": "histogram"
           }
          ],
          "histogram2d": [
           {
            "colorbar": {
             "outlinewidth": 0,
             "ticks": ""
            },
            "colorscale": [
             [
              0,
              "#0d0887"
             ],
             [
              0.1111111111111111,
              "#46039f"
             ],
             [
              0.2222222222222222,
              "#7201a8"
             ],
             [
              0.3333333333333333,
              "#9c179e"
             ],
             [
              0.4444444444444444,
              "#bd3786"
             ],
             [
              0.5555555555555556,
              "#d8576b"
             ],
             [
              0.6666666666666666,
              "#ed7953"
             ],
             [
              0.7777777777777778,
              "#fb9f3a"
             ],
             [
              0.8888888888888888,
              "#fdca26"
             ],
             [
              1,
              "#f0f921"
             ]
            ],
            "type": "histogram2d"
           }
          ],
          "histogram2dcontour": [
           {
            "colorbar": {
             "outlinewidth": 0,
             "ticks": ""
            },
            "colorscale": [
             [
              0,
              "#0d0887"
             ],
             [
              0.1111111111111111,
              "#46039f"
             ],
             [
              0.2222222222222222,
              "#7201a8"
             ],
             [
              0.3333333333333333,
              "#9c179e"
             ],
             [
              0.4444444444444444,
              "#bd3786"
             ],
             [
              0.5555555555555556,
              "#d8576b"
             ],
             [
              0.6666666666666666,
              "#ed7953"
             ],
             [
              0.7777777777777778,
              "#fb9f3a"
             ],
             [
              0.8888888888888888,
              "#fdca26"
             ],
             [
              1,
              "#f0f921"
             ]
            ],
            "type": "histogram2dcontour"
           }
          ],
          "mesh3d": [
           {
            "colorbar": {
             "outlinewidth": 0,
             "ticks": ""
            },
            "type": "mesh3d"
           }
          ],
          "parcoords": [
           {
            "line": {
             "colorbar": {
              "outlinewidth": 0,
              "ticks": ""
             }
            },
            "type": "parcoords"
           }
          ],
          "pie": [
           {
            "automargin": true,
            "type": "pie"
           }
          ],
          "scatter": [
           {
            "marker": {
             "colorbar": {
              "outlinewidth": 0,
              "ticks": ""
             }
            },
            "type": "scatter"
           }
          ],
          "scatter3d": [
           {
            "line": {
             "colorbar": {
              "outlinewidth": 0,
              "ticks": ""
             }
            },
            "marker": {
             "colorbar": {
              "outlinewidth": 0,
              "ticks": ""
             }
            },
            "type": "scatter3d"
           }
          ],
          "scattercarpet": [
           {
            "marker": {
             "colorbar": {
              "outlinewidth": 0,
              "ticks": ""
             }
            },
            "type": "scattercarpet"
           }
          ],
          "scattergeo": [
           {
            "marker": {
             "colorbar": {
              "outlinewidth": 0,
              "ticks": ""
             }
            },
            "type": "scattergeo"
           }
          ],
          "scattergl": [
           {
            "marker": {
             "colorbar": {
              "outlinewidth": 0,
              "ticks": ""
             }
            },
            "type": "scattergl"
           }
          ],
          "scattermapbox": [
           {
            "marker": {
             "colorbar": {
              "outlinewidth": 0,
              "ticks": ""
             }
            },
            "type": "scattermapbox"
           }
          ],
          "scatterpolar": [
           {
            "marker": {
             "colorbar": {
              "outlinewidth": 0,
              "ticks": ""
             }
            },
            "type": "scatterpolar"
           }
          ],
          "scatterpolargl": [
           {
            "marker": {
             "colorbar": {
              "outlinewidth": 0,
              "ticks": ""
             }
            },
            "type": "scatterpolargl"
           }
          ],
          "scatterternary": [
           {
            "marker": {
             "colorbar": {
              "outlinewidth": 0,
              "ticks": ""
             }
            },
            "type": "scatterternary"
           }
          ],
          "surface": [
           {
            "colorbar": {
             "outlinewidth": 0,
             "ticks": ""
            },
            "colorscale": [
             [
              0,
              "#0d0887"
             ],
             [
              0.1111111111111111,
              "#46039f"
             ],
             [
              0.2222222222222222,
              "#7201a8"
             ],
             [
              0.3333333333333333,
              "#9c179e"
             ],
             [
              0.4444444444444444,
              "#bd3786"
             ],
             [
              0.5555555555555556,
              "#d8576b"
             ],
             [
              0.6666666666666666,
              "#ed7953"
             ],
             [
              0.7777777777777778,
              "#fb9f3a"
             ],
             [
              0.8888888888888888,
              "#fdca26"
             ],
             [
              1,
              "#f0f921"
             ]
            ],
            "type": "surface"
           }
          ],
          "table": [
           {
            "cells": {
             "fill": {
              "color": "#EBF0F8"
             },
             "line": {
              "color": "white"
             }
            },
            "header": {
             "fill": {
              "color": "#C8D4E3"
             },
             "line": {
              "color": "white"
             }
            },
            "type": "table"
           }
          ]
         },
         "layout": {
          "annotationdefaults": {
           "arrowcolor": "#2a3f5f",
           "arrowhead": 0,
           "arrowwidth": 1
          },
          "autotypenumbers": "strict",
          "coloraxis": {
           "colorbar": {
            "outlinewidth": 0,
            "ticks": ""
           }
          },
          "colorscale": {
           "diverging": [
            [
             0,
             "#8e0152"
            ],
            [
             0.1,
             "#c51b7d"
            ],
            [
             0.2,
             "#de77ae"
            ],
            [
             0.3,
             "#f1b6da"
            ],
            [
             0.4,
             "#fde0ef"
            ],
            [
             0.5,
             "#f7f7f7"
            ],
            [
             0.6,
             "#e6f5d0"
            ],
            [
             0.7,
             "#b8e186"
            ],
            [
             0.8,
             "#7fbc41"
            ],
            [
             0.9,
             "#4d9221"
            ],
            [
             1,
             "#276419"
            ]
           ],
           "sequential": [
            [
             0,
             "#0d0887"
            ],
            [
             0.1111111111111111,
             "#46039f"
            ],
            [
             0.2222222222222222,
             "#7201a8"
            ],
            [
             0.3333333333333333,
             "#9c179e"
            ],
            [
             0.4444444444444444,
             "#bd3786"
            ],
            [
             0.5555555555555556,
             "#d8576b"
            ],
            [
             0.6666666666666666,
             "#ed7953"
            ],
            [
             0.7777777777777778,
             "#fb9f3a"
            ],
            [
             0.8888888888888888,
             "#fdca26"
            ],
            [
             1,
             "#f0f921"
            ]
           ],
           "sequentialminus": [
            [
             0,
             "#0d0887"
            ],
            [
             0.1111111111111111,
             "#46039f"
            ],
            [
             0.2222222222222222,
             "#7201a8"
            ],
            [
             0.3333333333333333,
             "#9c179e"
            ],
            [
             0.4444444444444444,
             "#bd3786"
            ],
            [
             0.5555555555555556,
             "#d8576b"
            ],
            [
             0.6666666666666666,
             "#ed7953"
            ],
            [
             0.7777777777777778,
             "#fb9f3a"
            ],
            [
             0.8888888888888888,
             "#fdca26"
            ],
            [
             1,
             "#f0f921"
            ]
           ]
          },
          "colorway": [
           "#636efa",
           "#EF553B",
           "#00cc96",
           "#ab63fa",
           "#FFA15A",
           "#19d3f3",
           "#FF6692",
           "#B6E880",
           "#FF97FF",
           "#FECB52"
          ],
          "font": {
           "color": "#2a3f5f"
          },
          "geo": {
           "bgcolor": "white",
           "lakecolor": "white",
           "landcolor": "#E5ECF6",
           "showlakes": true,
           "showland": true,
           "subunitcolor": "white"
          },
          "hoverlabel": {
           "align": "left"
          },
          "hovermode": "closest",
          "mapbox": {
           "style": "light"
          },
          "paper_bgcolor": "white",
          "plot_bgcolor": "#E5ECF6",
          "polar": {
           "angularaxis": {
            "gridcolor": "white",
            "linecolor": "white",
            "ticks": ""
           },
           "bgcolor": "#E5ECF6",
           "radialaxis": {
            "gridcolor": "white",
            "linecolor": "white",
            "ticks": ""
           }
          },
          "scene": {
           "xaxis": {
            "backgroundcolor": "#E5ECF6",
            "gridcolor": "white",
            "gridwidth": 2,
            "linecolor": "white",
            "showbackground": true,
            "ticks": "",
            "zerolinecolor": "white"
           },
           "yaxis": {
            "backgroundcolor": "#E5ECF6",
            "gridcolor": "white",
            "gridwidth": 2,
            "linecolor": "white",
            "showbackground": true,
            "ticks": "",
            "zerolinecolor": "white"
           },
           "zaxis": {
            "backgroundcolor": "#E5ECF6",
            "gridcolor": "white",
            "gridwidth": 2,
            "linecolor": "white",
            "showbackground": true,
            "ticks": "",
            "zerolinecolor": "white"
           }
          },
          "shapedefaults": {
           "line": {
            "color": "#2a3f5f"
           }
          },
          "ternary": {
           "aaxis": {
            "gridcolor": "white",
            "linecolor": "white",
            "ticks": ""
           },
           "baxis": {
            "gridcolor": "white",
            "linecolor": "white",
            "ticks": ""
           },
           "bgcolor": "#E5ECF6",
           "caxis": {
            "gridcolor": "white",
            "linecolor": "white",
            "ticks": ""
           }
          },
          "title": {
           "x": 0.05
          },
          "xaxis": {
           "automargin": true,
           "gridcolor": "white",
           "linecolor": "white",
           "ticks": "",
           "title": {
            "standoff": 15
           },
           "zerolinecolor": "white",
           "zerolinewidth": 2
          },
          "yaxis": {
           "automargin": true,
           "gridcolor": "white",
           "linecolor": "white",
           "ticks": "",
           "title": {
            "standoff": 15
           },
           "zerolinecolor": "white",
           "zerolinewidth": 2
          }
         }
        },
        "title": {
         "font": {
          "color": "darkred",
          "family": "Verdana",
          "size": 25
         },
         "text": "Cities Having Not Rated Restaurants"
        },
        "width": 600
       }
      },
      "text/html": [
       "<div>                            <div id=\"658a9043-b643-49e0-ace3-2f52a2a718fc\" class=\"plotly-graph-div\" style=\"height:525px; width:600px;\"></div>            <script type=\"text/javascript\">                require([\"plotly\"], function(Plotly) {                    window.PLOTLYENV=window.PLOTLYENV || {};                                    if (document.getElementById(\"658a9043-b643-49e0-ace3-2f52a2a718fc\")) {                    Plotly.newPlot(                        \"658a9043-b643-49e0-ace3-2f52a2a718fc\",                        [{\"hole\":0.5,\"hovertemplate\":\"%{label}<br>Restaurant Count:%{value}\",\"labels\":[\"Birmingham\",\"Bras\\u00ed_lia\",\"Davenport\",\"Faridabad\",\"Ghaziabad\",\"Gurgaon\",\"New Delhi\",\"Noida\",\"Pocatello\",\"Rio de Janeiro\",\"S\\u00ed\\u00a3o Paulo\"],\"showlegend\":true,\"texttemplate\":\"%{label}<br>%{percent}\",\"values\":[1,1,2,100,2,228,1425,384,1,1,3],\"type\":\"pie\"}],                        {\"template\":{\"data\":{\"bar\":[{\"error_x\":{\"color\":\"#2a3f5f\"},\"error_y\":{\"color\":\"#2a3f5f\"},\"marker\":{\"line\":{\"color\":\"#E5ECF6\",\"width\":0.5},\"pattern\":{\"fillmode\":\"overlay\",\"size\":10,\"solidity\":0.2}},\"type\":\"bar\"}],\"barpolar\":[{\"marker\":{\"line\":{\"color\":\"#E5ECF6\",\"width\":0.5},\"pattern\":{\"fillmode\":\"overlay\",\"size\":10,\"solidity\":0.2}},\"type\":\"barpolar\"}],\"carpet\":[{\"aaxis\":{\"endlinecolor\":\"#2a3f5f\",\"gridcolor\":\"white\",\"linecolor\":\"white\",\"minorgridcolor\":\"white\",\"startlinecolor\":\"#2a3f5f\"},\"baxis\":{\"endlinecolor\":\"#2a3f5f\",\"gridcolor\":\"white\",\"linecolor\":\"white\",\"minorgridcolor\":\"white\",\"startlinecolor\":\"#2a3f5f\"},\"type\":\"carpet\"}],\"choropleth\":[{\"colorbar\":{\"outlinewidth\":0,\"ticks\":\"\"},\"type\":\"choropleth\"}],\"contour\":[{\"colorbar\":{\"outlinewidth\":0,\"ticks\":\"\"},\"colorscale\":[[0.0,\"#0d0887\"],[0.1111111111111111,\"#46039f\"],[0.2222222222222222,\"#7201a8\"],[0.3333333333333333,\"#9c179e\"],[0.4444444444444444,\"#bd3786\"],[0.5555555555555556,\"#d8576b\"],[0.6666666666666666,\"#ed7953\"],[0.7777777777777778,\"#fb9f3a\"],[0.8888888888888888,\"#fdca26\"],[1.0,\"#f0f921\"]],\"type\":\"contour\"}],\"contourcarpet\":[{\"colorbar\":{\"outlinewidth\":0,\"ticks\":\"\"},\"type\":\"contourcarpet\"}],\"heatmap\":[{\"colorbar\":{\"outlinewidth\":0,\"ticks\":\"\"},\"colorscale\":[[0.0,\"#0d0887\"],[0.1111111111111111,\"#46039f\"],[0.2222222222222222,\"#7201a8\"],[0.3333333333333333,\"#9c179e\"],[0.4444444444444444,\"#bd3786\"],[0.5555555555555556,\"#d8576b\"],[0.6666666666666666,\"#ed7953\"],[0.7777777777777778,\"#fb9f3a\"],[0.8888888888888888,\"#fdca26\"],[1.0,\"#f0f921\"]],\"type\":\"heatmap\"}],\"heatmapgl\":[{\"colorbar\":{\"outlinewidth\":0,\"ticks\":\"\"},\"colorscale\":[[0.0,\"#0d0887\"],[0.1111111111111111,\"#46039f\"],[0.2222222222222222,\"#7201a8\"],[0.3333333333333333,\"#9c179e\"],[0.4444444444444444,\"#bd3786\"],[0.5555555555555556,\"#d8576b\"],[0.6666666666666666,\"#ed7953\"],[0.7777777777777778,\"#fb9f3a\"],[0.8888888888888888,\"#fdca26\"],[1.0,\"#f0f921\"]],\"type\":\"heatmapgl\"}],\"histogram\":[{\"marker\":{\"pattern\":{\"fillmode\":\"overlay\",\"size\":10,\"solidity\":0.2}},\"type\":\"histogram\"}],\"histogram2d\":[{\"colorbar\":{\"outlinewidth\":0,\"ticks\":\"\"},\"colorscale\":[[0.0,\"#0d0887\"],[0.1111111111111111,\"#46039f\"],[0.2222222222222222,\"#7201a8\"],[0.3333333333333333,\"#9c179e\"],[0.4444444444444444,\"#bd3786\"],[0.5555555555555556,\"#d8576b\"],[0.6666666666666666,\"#ed7953\"],[0.7777777777777778,\"#fb9f3a\"],[0.8888888888888888,\"#fdca26\"],[1.0,\"#f0f921\"]],\"type\":\"histogram2d\"}],\"histogram2dcontour\":[{\"colorbar\":{\"outlinewidth\":0,\"ticks\":\"\"},\"colorscale\":[[0.0,\"#0d0887\"],[0.1111111111111111,\"#46039f\"],[0.2222222222222222,\"#7201a8\"],[0.3333333333333333,\"#9c179e\"],[0.4444444444444444,\"#bd3786\"],[0.5555555555555556,\"#d8576b\"],[0.6666666666666666,\"#ed7953\"],[0.7777777777777778,\"#fb9f3a\"],[0.8888888888888888,\"#fdca26\"],[1.0,\"#f0f921\"]],\"type\":\"histogram2dcontour\"}],\"mesh3d\":[{\"colorbar\":{\"outlinewidth\":0,\"ticks\":\"\"},\"type\":\"mesh3d\"}],\"parcoords\":[{\"line\":{\"colorbar\":{\"outlinewidth\":0,\"ticks\":\"\"}},\"type\":\"parcoords\"}],\"pie\":[{\"automargin\":true,\"type\":\"pie\"}],\"scatter\":[{\"marker\":{\"colorbar\":{\"outlinewidth\":0,\"ticks\":\"\"}},\"type\":\"scatter\"}],\"scatter3d\":[{\"line\":{\"colorbar\":{\"outlinewidth\":0,\"ticks\":\"\"}},\"marker\":{\"colorbar\":{\"outlinewidth\":0,\"ticks\":\"\"}},\"type\":\"scatter3d\"}],\"scattercarpet\":[{\"marker\":{\"colorbar\":{\"outlinewidth\":0,\"ticks\":\"\"}},\"type\":\"scattercarpet\"}],\"scattergeo\":[{\"marker\":{\"colorbar\":{\"outlinewidth\":0,\"ticks\":\"\"}},\"type\":\"scattergeo\"}],\"scattergl\":[{\"marker\":{\"colorbar\":{\"outlinewidth\":0,\"ticks\":\"\"}},\"type\":\"scattergl\"}],\"scattermapbox\":[{\"marker\":{\"colorbar\":{\"outlinewidth\":0,\"ticks\":\"\"}},\"type\":\"scattermapbox\"}],\"scatterpolar\":[{\"marker\":{\"colorbar\":{\"outlinewidth\":0,\"ticks\":\"\"}},\"type\":\"scatterpolar\"}],\"scatterpolargl\":[{\"marker\":{\"colorbar\":{\"outlinewidth\":0,\"ticks\":\"\"}},\"type\":\"scatterpolargl\"}],\"scatterternary\":[{\"marker\":{\"colorbar\":{\"outlinewidth\":0,\"ticks\":\"\"}},\"type\":\"scatterternary\"}],\"surface\":[{\"colorbar\":{\"outlinewidth\":0,\"ticks\":\"\"},\"colorscale\":[[0.0,\"#0d0887\"],[0.1111111111111111,\"#46039f\"],[0.2222222222222222,\"#7201a8\"],[0.3333333333333333,\"#9c179e\"],[0.4444444444444444,\"#bd3786\"],[0.5555555555555556,\"#d8576b\"],[0.6666666666666666,\"#ed7953\"],[0.7777777777777778,\"#fb9f3a\"],[0.8888888888888888,\"#fdca26\"],[1.0,\"#f0f921\"]],\"type\":\"surface\"}],\"table\":[{\"cells\":{\"fill\":{\"color\":\"#EBF0F8\"},\"line\":{\"color\":\"white\"}},\"header\":{\"fill\":{\"color\":\"#C8D4E3\"},\"line\":{\"color\":\"white\"}},\"type\":\"table\"}]},\"layout\":{\"annotationdefaults\":{\"arrowcolor\":\"#2a3f5f\",\"arrowhead\":0,\"arrowwidth\":1},\"autotypenumbers\":\"strict\",\"coloraxis\":{\"colorbar\":{\"outlinewidth\":0,\"ticks\":\"\"}},\"colorscale\":{\"diverging\":[[0,\"#8e0152\"],[0.1,\"#c51b7d\"],[0.2,\"#de77ae\"],[0.3,\"#f1b6da\"],[0.4,\"#fde0ef\"],[0.5,\"#f7f7f7\"],[0.6,\"#e6f5d0\"],[0.7,\"#b8e186\"],[0.8,\"#7fbc41\"],[0.9,\"#4d9221\"],[1,\"#276419\"]],\"sequential\":[[0.0,\"#0d0887\"],[0.1111111111111111,\"#46039f\"],[0.2222222222222222,\"#7201a8\"],[0.3333333333333333,\"#9c179e\"],[0.4444444444444444,\"#bd3786\"],[0.5555555555555556,\"#d8576b\"],[0.6666666666666666,\"#ed7953\"],[0.7777777777777778,\"#fb9f3a\"],[0.8888888888888888,\"#fdca26\"],[1.0,\"#f0f921\"]],\"sequentialminus\":[[0.0,\"#0d0887\"],[0.1111111111111111,\"#46039f\"],[0.2222222222222222,\"#7201a8\"],[0.3333333333333333,\"#9c179e\"],[0.4444444444444444,\"#bd3786\"],[0.5555555555555556,\"#d8576b\"],[0.6666666666666666,\"#ed7953\"],[0.7777777777777778,\"#fb9f3a\"],[0.8888888888888888,\"#fdca26\"],[1.0,\"#f0f921\"]]},\"colorway\":[\"#636efa\",\"#EF553B\",\"#00cc96\",\"#ab63fa\",\"#FFA15A\",\"#19d3f3\",\"#FF6692\",\"#B6E880\",\"#FF97FF\",\"#FECB52\"],\"font\":{\"color\":\"#2a3f5f\"},\"geo\":{\"bgcolor\":\"white\",\"lakecolor\":\"white\",\"landcolor\":\"#E5ECF6\",\"showlakes\":true,\"showland\":true,\"subunitcolor\":\"white\"},\"hoverlabel\":{\"align\":\"left\"},\"hovermode\":\"closest\",\"mapbox\":{\"style\":\"light\"},\"paper_bgcolor\":\"white\",\"plot_bgcolor\":\"#E5ECF6\",\"polar\":{\"angularaxis\":{\"gridcolor\":\"white\",\"linecolor\":\"white\",\"ticks\":\"\"},\"bgcolor\":\"#E5ECF6\",\"radialaxis\":{\"gridcolor\":\"white\",\"linecolor\":\"white\",\"ticks\":\"\"}},\"scene\":{\"xaxis\":{\"backgroundcolor\":\"#E5ECF6\",\"gridcolor\":\"white\",\"gridwidth\":2,\"linecolor\":\"white\",\"showbackground\":true,\"ticks\":\"\",\"zerolinecolor\":\"white\"},\"yaxis\":{\"backgroundcolor\":\"#E5ECF6\",\"gridcolor\":\"white\",\"gridwidth\":2,\"linecolor\":\"white\",\"showbackground\":true,\"ticks\":\"\",\"zerolinecolor\":\"white\"},\"zaxis\":{\"backgroundcolor\":\"#E5ECF6\",\"gridcolor\":\"white\",\"gridwidth\":2,\"linecolor\":\"white\",\"showbackground\":true,\"ticks\":\"\",\"zerolinecolor\":\"white\"}},\"shapedefaults\":{\"line\":{\"color\":\"#2a3f5f\"}},\"ternary\":{\"aaxis\":{\"gridcolor\":\"white\",\"linecolor\":\"white\",\"ticks\":\"\"},\"baxis\":{\"gridcolor\":\"white\",\"linecolor\":\"white\",\"ticks\":\"\"},\"bgcolor\":\"#E5ECF6\",\"caxis\":{\"gridcolor\":\"white\",\"linecolor\":\"white\",\"ticks\":\"\"}},\"title\":{\"x\":0.05},\"xaxis\":{\"automargin\":true,\"gridcolor\":\"white\",\"linecolor\":\"white\",\"ticks\":\"\",\"title\":{\"standoff\":15},\"zerolinecolor\":\"white\",\"zerolinewidth\":2},\"yaxis\":{\"automargin\":true,\"gridcolor\":\"white\",\"linecolor\":\"white\",\"ticks\":\"\",\"title\":{\"standoff\":15},\"zerolinecolor\":\"white\",\"zerolinewidth\":2}}},\"title\":{\"font\":{\"size\":25,\"family\":\"Verdana\",\"color\":\"darkred\"},\"text\":\"Cities Having Not Rated Restaurants\"},\"annotations\":[{\"showarrow\":false,\"text\":\"Total Number of Restaurants:<br>2148\",\"x\":0.5,\"y\":0.5,\"font\":{\"size\":12}}],\"width\":600},                        {\"responsive\": true}                    ).then(function(){\n",
       "                            \n",
       "var gd = document.getElementById('658a9043-b643-49e0-ace3-2f52a2a718fc');\n",
       "var x = new MutationObserver(function (mutations, observer) {{\n",
       "        var display = window.getComputedStyle(gd).display;\n",
       "        if (!display || display === 'none') {{\n",
       "            console.log([gd, 'removed!']);\n",
       "            Plotly.purge(gd);\n",
       "            observer.disconnect();\n",
       "        }}\n",
       "}});\n",
       "\n",
       "// Listen for the removal of the full notebook cells\n",
       "var notebookContainer = gd.closest('#notebook-container');\n",
       "if (notebookContainer) {{\n",
       "    x.observe(notebookContainer, {childList: true});\n",
       "}}\n",
       "\n",
       "// Listen for the clearing of the current output cell\n",
       "var outputEl = gd.closest('.output');\n",
       "if (outputEl) {{\n",
       "    x.observe(outputEl, {childList: true});\n",
       "}}\n",
       "\n",
       "                        })                };                });            </script>        </div>"
      ]
     },
     "metadata": {},
     "output_type": "display_data"
    }
   ],
   "source": [
    "fig6=go.Figure(go.Pie(labels=Total_Restaurants_Not_Rated.index,\n",
    "                      values=Total_Restaurants_Not_Rated.Total_Restaurants,\n",
    "                      hovertemplate =\"%{label}<br>Restaurant Count:%{value}\",\n",
    "                      hoverinfo=None,\n",
    "                      texttemplate = \"%{label}<br>%{percent}\",\n",
    "                      showlegend=True,\n",
    "                      hole=0.5))\n",
    "fig6.update_layout(title_text = 'Cities Having Not Rated Restaurants',\n",
    "                   title_font = dict(size=25,family='Verdana',color='darkred'),\n",
    "                   annotations=[dict(text='Total Number of Restaurants:<br>'+str(Total_Restaurants_Not_Rated.sum()[0]), x=0.5, y=0.5, font_size=12, showarrow=False)],width=600)\n",
    "fig6.show()"
   ]
  },
  {
   "cell_type": "markdown",
   "id": "2e6a41d1",
   "metadata": {},
   "source": [
    "#### 4. Is there a relationship between Average cost and Ratings?"
   ]
  },
  {
   "cell_type": "code",
   "execution_count": 229,
   "id": "bb18121f",
   "metadata": {},
   "outputs": [
    {
     "data": {
      "application/vnd.plotly.v1+json": {
       "config": {
        "plotlyServerURL": "https://plot.ly"
       },
       "data": [
        {
         "hovertemplate": "rating_text=Excellent<br>average_cost_two=%{x}<br>agg_rating=%{y}<extra></extra>",
         "legendgroup": "Excellent",
         "marker": {
          "color": "#636efa",
          "symbol": "circle"
         },
         "mode": "markers",
         "name": "Excellent",
         "showlegend": true,
         "type": "scattergl",
         "x": [
          1100,
          1200,
          1500,
          1500,
          6000,
          1100,
          800,
          800,
          1200,
          600,
          3000,
          1800,
          230,
          100,
          60,
          90,
          60,
          100,
          90,
          120,
          170,
          250,
          300,
          85,
          250,
          300,
          120,
          70,
          40,
          10,
          10,
          40,
          40,
          25,
          20,
          25,
          25,
          25,
          10,
          10,
          25,
          25,
          25,
          10,
          25,
          25,
          40,
          25,
          25,
          25,
          40,
          40,
          25,
          25,
          25,
          10,
          25,
          10,
          25,
          25,
          25,
          45,
          35,
          40,
          100,
          35,
          40,
          25,
          35,
          25,
          40,
          10,
          10,
          10,
          25,
          35,
          10,
          30,
          10,
          10,
          70,
          10,
          40,
          40,
          10,
          40,
          25,
          25,
          25,
          70,
          10,
          40,
          40,
          40,
          40,
          40,
          10,
          190,
          260,
          180,
          100,
          330,
          500,
          200,
          150,
          200,
          160,
          500,
          160,
          300,
          140,
          500,
          270,
          60,
          150,
          0,
          300,
          350,
          950,
          2400,
          2000,
          600,
          950,
          800,
          1500,
          1400,
          600,
          1800,
          250,
          1200,
          600,
          1300,
          500,
          1700,
          350,
          1200,
          1500,
          1600,
          1400,
          800,
          350,
          350,
          1500,
          1000,
          800,
          1100,
          800,
          1100,
          600,
          1500,
          1500,
          1200,
          1800,
          500,
          500,
          2000,
          1000,
          1200,
          1500,
          1500,
          500,
          1800,
          800,
          600,
          1500,
          1500,
          1800,
          1800,
          1500,
          600,
          500,
          750,
          2300,
          2000,
          1000,
          1500,
          1400,
          1200,
          800,
          1600,
          1600,
          300,
          200,
          800,
          1600,
          800,
          1000,
          800,
          500,
          1500,
          600,
          1600,
          200,
          1500,
          150,
          1800,
          900,
          4000,
          1000,
          2000,
          150,
          1400,
          800,
          5000,
          150,
          2000,
          1500,
          1500,
          1200,
          700,
          3000,
          1300,
          1400,
          150,
          1500,
          2000,
          600,
          2000,
          1100,
          900,
          250,
          700,
          1500,
          1000,
          1800,
          1700,
          800,
          400,
          1300,
          600,
          1600,
          200000,
          165000,
          200000,
          800000,
          500000,
          200000,
          200000,
          20,
          50,
          90,
          60,
          25,
          45,
          55,
          190,
          120,
          25,
          70,
          50,
          40,
          120,
          30,
          35,
          45,
          80,
          45,
          35,
          55,
          55,
          90,
          60,
          230,
          100,
          40,
          20,
          120,
          45,
          35,
          40,
          50,
          35,
          80,
          300,
          250,
          250,
          400,
          350,
          110,
          230,
          1540,
          700,
          955,
          450,
          450,
          285,
          3210,
          450,
          545,
          1300,
          4000,
          70,
          100,
          80,
          40,
          40,
          50,
          30,
          130,
          35,
          40
         ],
         "xaxis": "x",
         "y": [
          4.8,
          4.5,
          4.9,
          4.8,
          4.9,
          4.8,
          4.9,
          4.8,
          4.5,
          4.5,
          4.7,
          4.5,
          4.9,
          4.8,
          4.7,
          4.5,
          4.8,
          4.9,
          4.6,
          4.9,
          4.6,
          4.6,
          4.7,
          4.6,
          4.5,
          4.8,
          4.6,
          4.6,
          4.5,
          4.5,
          4.6,
          4.6,
          4.9,
          4.5,
          4.6,
          4.5,
          4.6,
          4.5,
          4.9,
          4.5,
          4.7,
          4.6,
          4.5,
          4.9,
          4.6,
          4.6,
          4.5,
          4.9,
          4.5,
          4.9,
          4.5,
          4.5,
          4.6,
          4.8,
          4.9,
          4.6,
          4.5,
          4.9,
          4.6,
          4.5,
          4.5,
          4.5,
          4.7,
          4.6,
          4.6,
          4.6,
          4.8,
          4.9,
          4.9,
          4.7,
          4.9,
          4.6,
          4.5,
          4.7,
          4.5,
          4.7,
          4.7,
          4.5,
          4.5,
          4.6,
          4.9,
          4.9,
          4.6,
          4.7,
          4.6,
          4.5,
          4.5,
          4.6,
          4.6,
          4.7,
          4.9,
          4.5,
          4.9,
          4.5,
          4.7,
          4.8,
          4.5,
          4.6,
          4.6,
          4.6,
          4.5,
          4.9,
          4.7,
          4.6,
          4.5,
          4.5,
          4.9,
          4.9,
          4.8,
          4.5,
          4.5,
          4.9,
          4.7,
          4.8,
          4.5,
          4.9,
          4.5,
          4.6,
          4.5,
          4.7,
          4.8,
          4.6,
          4.7,
          4.7,
          4.5,
          4.6,
          4.6,
          4.5,
          4.9,
          4.6,
          4.5,
          4.5,
          4.5,
          4.8,
          4.6,
          4.6,
          4.5,
          4.9,
          4.6,
          4.6,
          4.5,
          4.9,
          4.9,
          4.5,
          4.5,
          4.8,
          4.6,
          4.6,
          4.5,
          4.7,
          4.6,
          4.6,
          4.5,
          4.6,
          4.9,
          4.6,
          4.6,
          4.7,
          4.8,
          4.8,
          4.5,
          4.5,
          4.6,
          4.7,
          4.9,
          4.9,
          4.7,
          4.6,
          4.9,
          4.8,
          4.7,
          4.7,
          4.5,
          4.9,
          4.6,
          4.5,
          4.6,
          4.8,
          4.6,
          4.9,
          4.9,
          4.9,
          4.5,
          4.6,
          4.7,
          4.6,
          4.7,
          4.5,
          4.6,
          4.9,
          4.5,
          4.9,
          4.5,
          4.7,
          4.9,
          4.7,
          4.6,
          4.9,
          4.5,
          4.6,
          4.5,
          4.5,
          4.5,
          4.9,
          4.5,
          4.5,
          4.5,
          4.6,
          4.5,
          4.6,
          4.5,
          4.6,
          4.8,
          4.7,
          4.5,
          4.6,
          4.7,
          4.7,
          4.6,
          4.6,
          4.5,
          4.5,
          4.5,
          4.8,
          4.5,
          4.5,
          4.6,
          4.5,
          4.6,
          4.6,
          4.9,
          4.9,
          4.6,
          4.6,
          4.6,
          4.9,
          4.9,
          4.9,
          4.7,
          4.9,
          4.8,
          4.6,
          4.9,
          4.5,
          4.5,
          4.7,
          4.6,
          4.5,
          4.5,
          4.6,
          4.6,
          4.5,
          4.5,
          4.6,
          4.7,
          4.7,
          4.5,
          4.9,
          4.9,
          4.5,
          4.7,
          4.6,
          4.7,
          4.5,
          4.5,
          4.9,
          4.8,
          4.5,
          4.7,
          4.6,
          4.9,
          4.5,
          4.5,
          4.6,
          4.9,
          4.7,
          4.5,
          4.5,
          4.5,
          4.8,
          4.9,
          4.9,
          4.5,
          4.7,
          4.5,
          4.5,
          4.9,
          4.8,
          4.6,
          4.5,
          4.9,
          4.6,
          4.5,
          4.9,
          4.6,
          4.7,
          4.7,
          4.9,
          4.9,
          4.5,
          4.7
         ],
         "yaxis": "y"
        },
        {
         "hovertemplate": "rating_text=Very Good<br>average_cost_two=%{x}<br>agg_rating=%{y}<extra></extra>",
         "legendgroup": "Very Good",
         "marker": {
          "color": "#EF553B",
          "symbol": "circle"
         },
         "mode": "markers",
         "name": "Very Good",
         "showlegend": true,
         "type": "scattergl",
         "x": [
          4000,
          1000,
          2000,
          2000,
          900,
          1000,
          700,
          850,
          1500,
          150,
          100,
          230,
          150,
          140,
          170,
          90,
          150,
          120,
          40,
          250,
          80,
          250,
          100,
          300,
          120,
          150,
          400,
          100,
          120,
          10,
          10,
          25,
          25,
          40,
          10,
          10,
          40,
          25,
          10,
          40,
          10,
          10,
          25,
          10,
          40,
          25,
          25,
          10,
          25,
          40,
          40,
          25,
          10,
          25,
          35,
          10,
          10,
          70,
          10,
          25,
          10,
          25,
          25,
          10,
          10,
          25,
          40,
          25,
          10,
          40,
          25,
          40,
          40,
          10,
          40,
          25,
          25,
          10,
          10,
          25,
          25,
          40,
          25,
          40,
          25,
          10,
          40,
          25,
          25,
          25,
          0,
          25,
          40,
          10,
          25,
          40,
          40,
          10,
          25,
          10,
          10,
          10,
          10,
          25,
          10,
          10,
          10,
          10,
          10,
          25,
          0,
          25,
          25,
          10,
          25,
          25,
          25,
          40,
          25,
          25,
          25,
          10,
          40,
          40,
          10,
          70,
          10,
          10,
          25,
          25,
          40,
          20,
          25,
          10,
          10,
          25,
          40,
          10,
          25,
          10,
          25,
          10,
          20,
          40,
          70,
          10,
          70,
          10,
          10,
          25,
          25,
          10,
          40,
          40,
          50,
          45,
          50,
          10,
          60,
          40,
          25,
          40,
          40,
          30,
          25,
          25,
          40,
          40,
          25,
          40,
          25,
          25,
          40,
          40,
          40,
          10,
          70,
          40,
          40,
          10,
          25,
          40,
          40,
          70,
          10,
          70,
          25,
          25,
          25,
          10,
          10,
          40,
          25,
          10,
          70,
          25,
          70,
          70,
          270,
          20,
          100,
          10,
          40,
          25,
          25,
          25,
          25,
          25,
          25,
          40,
          40,
          40,
          30,
          20,
          25,
          10,
          70,
          150,
          70,
          100,
          230,
          350,
          120,
          250,
          50,
          70,
          80,
          100,
          250,
          90,
          90,
          100,
          160,
          150,
          150,
          170,
          130,
          120,
          65,
          40,
          100,
          80,
          90,
          50,
          60,
          160,
          250,
          110,
          400,
          1000,
          2000,
          2500,
          2500,
          550,
          700,
          1000,
          700,
          900,
          800,
          900,
          500,
          1000,
          450,
          900,
          700,
          700,
          600,
          1200,
          1200,
          1200,
          100,
          100,
          500,
          150,
          1300,
          1500,
          800,
          600,
          1400,
          400,
          1200,
          1200,
          1500,
          500,
          1000,
          1000,
          650,
          500,
          400,
          400,
          1800,
          500,
          550,
          500,
          1400,
          900,
          400,
          800,
          300,
          900,
          1500,
          1600,
          1400,
          1600,
          1400,
          1200,
          1800,
          650,
          650,
          450,
          600,
          2200,
          600,
          800,
          750,
          850,
          450,
          1100,
          1500,
          1000,
          1200,
          850,
          850,
          2000,
          900,
          500,
          1200,
          1200,
          600,
          1000,
          1500,
          400,
          1400,
          700,
          300,
          1400,
          750,
          0,
          1250,
          500,
          350,
          1600,
          1200,
          500,
          500,
          600,
          1600,
          1300,
          650,
          2000,
          1400,
          1000,
          1600,
          1300,
          800,
          800,
          1100,
          2000,
          2000,
          1400,
          400,
          1500,
          1300,
          1500,
          1600,
          2000,
          1500,
          800,
          2000,
          2200,
          2500,
          900,
          1500,
          1200,
          1750,
          1300,
          1500,
          1800,
          400,
          800,
          2500,
          500,
          400,
          300,
          700,
          850,
          750,
          1300,
          600,
          650,
          650,
          600,
          3200,
          1400,
          500,
          1600,
          1000,
          3000,
          1600,
          2000,
          700,
          1200,
          1000,
          700,
          500,
          4000,
          600,
          2000,
          900,
          500,
          1400,
          1600,
          2100,
          1500,
          1800,
          400,
          2500,
          1200,
          1600,
          1500,
          3300,
          1250,
          1200,
          1850,
          800,
          400,
          650,
          2500,
          2000,
          1100,
          700,
          500,
          500,
          700,
          1100,
          1500,
          600,
          750,
          400,
          700,
          4000,
          500,
          1400,
          750,
          1300,
          1650,
          500,
          500,
          400,
          500,
          500,
          850,
          600,
          1000,
          700,
          700,
          1500,
          700,
          1900,
          1400,
          1200,
          2000,
          1200,
          1100,
          1800,
          1400,
          850,
          250,
          1950,
          1000,
          1200,
          850,
          1500,
          1500,
          400,
          1100,
          500,
          800,
          1400,
          750,
          1300,
          1000,
          1600,
          1000,
          1800,
          2500,
          650,
          700,
          800,
          1500,
          1000,
          1500,
          500,
          1000,
          1500,
          350,
          1400,
          600,
          600,
          1000,
          400,
          400,
          700,
          800,
          650,
          900,
          650,
          1000,
          700,
          1200,
          1000,
          1200,
          1400,
          1800,
          800,
          900,
          1000,
          1900,
          1600,
          1000,
          450,
          1200,
          400,
          1000,
          1300,
          1000,
          1000,
          400,
          400,
          1100,
          2000,
          1000,
          700,
          1400,
          1400,
          1500,
          2000,
          1100,
          800,
          1200,
          800,
          500,
          800,
          550,
          800,
          1000,
          1500,
          1000,
          1500,
          1500,
          1200,
          1000,
          300,
          1600,
          700,
          500,
          550,
          550,
          600,
          1100,
          750,
          1200,
          1000,
          1300,
          1000,
          1600,
          1200,
          1500,
          1500,
          1400,
          1800,
          1500,
          1400,
          350,
          200,
          150,
          50,
          3000,
          100,
          150,
          150,
          1500,
          1600,
          1800,
          2000,
          1600,
          800,
          1000,
          2000,
          1800,
          1200,
          2200,
          2000,
          800,
          1900,
          1400,
          1000,
          1600,
          1800,
          1200,
          500,
          1300,
          700,
          1500,
          1500,
          2100,
          2200,
          1600,
          400,
          400,
          1500,
          500,
          1750,
          1000,
          400,
          1500,
          1700,
          800,
          900,
          200,
          1600,
          1650,
          600,
          900,
          550,
          400,
          700,
          250,
          900,
          850,
          700,
          1500,
          400,
          400,
          500,
          1500,
          200,
          3500,
          2500,
          1800,
          1600,
          4800,
          200,
          3300,
          1600,
          1800,
          550,
          1000,
          1400,
          950,
          750,
          1000,
          600,
          850,
          1400,
          1900,
          800,
          500,
          450,
          800,
          500,
          3000,
          2000,
          550,
          1200,
          700,
          1000,
          900,
          550,
          1200,
          600,
          350,
          1000,
          1850,
          1600,
          200,
          2200,
          1700,
          500,
          1300,
          1600,
          4500,
          500,
          6500,
          7000,
          1200,
          100,
          200,
          800,
          200,
          700,
          1600,
          200,
          1550,
          1350,
          500,
          2000,
          1500,
          300,
          1500,
          600,
          400,
          100,
          250,
          300,
          500,
          200,
          1050,
          1700,
          400,
          1600,
          1550,
          2000,
          2000,
          1650,
          2100,
          1300,
          600,
          700,
          1800,
          150,
          400,
          800,
          4500,
          2900,
          2100,
          1000,
          2600,
          700,
          300,
          900,
          500,
          700,
          800,
          300,
          1000,
          250,
          1200,
          700,
          1600,
          1200,
          400,
          800,
          1400,
          1600,
          500,
          1000,
          400,
          1650,
          1200,
          1800,
          100,
          900,
          1600,
          1500,
          1500,
          750,
          250,
          1000,
          1400,
          1200,
          400,
          3000,
          3000,
          500,
          300,
          750,
          600,
          1400,
          1500,
          1000,
          1350,
          700,
          800,
          300,
          1200,
          1300,
          800,
          1100,
          1500,
          200,
          1000,
          1300,
          700,
          1300,
          1200,
          1000,
          1400,
          250,
          1200,
          2000,
          400,
          800,
          800,
          1800,
          900,
          350,
          250,
          1000,
          2000,
          1700,
          1800,
          1500,
          600,
          400,
          450,
          600,
          800,
          600,
          250,
          650,
          600,
          600,
          700,
          650,
          850,
          500,
          2000,
          500,
          1500,
          700,
          350,
          650,
          1950,
          1000,
          700,
          700,
          900,
          1000,
          1000,
          500,
          750,
          1000,
          350,
          2000,
          3800,
          4000,
          3000,
          3000,
          1300,
          800,
          1800,
          2200,
          1600,
          2500,
          4500,
          6000,
          3500,
          5500,
          4500,
          8000,
          1500,
          2500,
          700,
          700,
          650,
          900,
          2000,
          900,
          600,
          400,
          800,
          200,
          350,
          400,
          1500,
          1500,
          1500,
          1600,
          650,
          1350,
          1300,
          750,
          1300,
          700,
          2800,
          500,
          800,
          1300,
          1600,
          450,
          300,
          500,
          400,
          500,
          200,
          500,
          500,
          700,
          1300,
          500,
          1200,
          2000,
          400,
          300,
          150,
          2000,
          1500,
          1400,
          1000,
          1800,
          900,
          850,
          1500,
          1000,
          1500,
          1200,
          800,
          1000,
          1000,
          450,
          850,
          500,
          800,
          250,
          650,
          650,
          900,
          1400,
          1000,
          800,
          1500,
          1500,
          1000,
          1200,
          1500,
          600,
          600,
          700,
          600,
          1000,
          150,
          600,
          300,
          1300,
          1700,
          600,
          450,
          600,
          1400,
          150000,
          250000,
          800000,
          250000,
          200000,
          300000,
          450000,
          120000,
          100000,
          350000,
          40,
          65,
          90,
          50,
          35,
          60,
          90,
          50,
          60,
          50,
          60,
          55,
          50,
          100,
          50,
          50,
          40,
          105,
          200,
          50,
          80,
          40,
          80,
          110,
          90,
          60,
          45,
          50,
          30,
          80,
          45,
          20,
          90,
          50,
          40,
          40,
          15,
          25,
          100,
          20,
          20,
          55,
          30,
          100,
          30,
          50,
          85,
          55,
          70,
          40,
          30,
          45,
          30,
          25,
          55,
          160,
          60,
          170,
          50,
          150,
          250,
          550,
          445,
          300,
          180,
          150,
          200,
          250,
          535,
          125,
          320,
          270,
          570,
          300,
          350,
          350,
          350,
          515,
          360,
          320,
          500,
          300,
          200,
          320,
          600,
          410,
          400,
          250,
          250,
          200,
          250,
          400,
          250,
          400,
          400,
          330,
          300,
          450,
          2500,
          2500,
          4000,
          2400,
          1000,
          1000,
          3000,
          4500,
          3000,
          2000,
          1000,
          70,
          100,
          35,
          60,
          150,
          400,
          60,
          70,
          50,
          100,
          50,
          70,
          70,
          80,
          75,
          90,
          80,
          105,
          120,
          55
         ],
         "xaxis": "x",
         "y": [
          4.4,
          4.4,
          4,
          4.2,
          4.2,
          4.2,
          4.3,
          4,
          4.4,
          4.1,
          4.3,
          4.2,
          4,
          4,
          4.2,
          4.3,
          4,
          4.4,
          4.2,
          4.2,
          4.3,
          4.4,
          4.1,
          4.3,
          4.3,
          4.3,
          4.4,
          4.4,
          4.1,
          4.3,
          4.2,
          4,
          4.1,
          4.3,
          4.2,
          4.1,
          4.1,
          4.2,
          4.1,
          4.1,
          4.4,
          4.4,
          4.2,
          4.1,
          4.3,
          4.1,
          4.4,
          4,
          4,
          4.2,
          4,
          4,
          4.1,
          4,
          4.3,
          4.2,
          4.3,
          4.1,
          4.2,
          4.3,
          4.4,
          4.1,
          4.4,
          4.3,
          4.4,
          4.4,
          4,
          4.1,
          4.3,
          4,
          4,
          4.4,
          4.1,
          4.1,
          4.1,
          4.4,
          4.2,
          4.2,
          4.2,
          4.1,
          4.3,
          4.3,
          4.1,
          4,
          4.2,
          4.3,
          4.2,
          4.3,
          4,
          4,
          4,
          4.1,
          4.1,
          4.2,
          4.3,
          4,
          4.4,
          4.4,
          4.4,
          4.1,
          4.1,
          4.1,
          4.3,
          4.2,
          4.1,
          4.3,
          4.2,
          4.1,
          4,
          4.1,
          4.3,
          4,
          4.1,
          4.3,
          4,
          4.1,
          4.1,
          4.2,
          4.2,
          4.1,
          4,
          4.4,
          4.2,
          4.3,
          4.2,
          4.1,
          4.1,
          4,
          4.3,
          4,
          4.2,
          4.1,
          4.4,
          4.1,
          4.4,
          4.1,
          4.3,
          4.1,
          4.2,
          4.3,
          4.2,
          4,
          4.1,
          4.1,
          4,
          4.3,
          4.2,
          4.2,
          4.1,
          4,
          4.2,
          4,
          4.1,
          4.4,
          4.3,
          4.3,
          4.4,
          4.4,
          4.4,
          4.2,
          4.4,
          4.4,
          4.4,
          4.4,
          4.2,
          4.2,
          4.1,
          4.4,
          4.3,
          4,
          4.1,
          4.2,
          4.4,
          4.3,
          4.4,
          4.1,
          4,
          4.2,
          4.2,
          4.2,
          4.4,
          4.3,
          4.3,
          4.4,
          4,
          4.2,
          4.2,
          4.1,
          4.4,
          4.2,
          4.1,
          4.1,
          4.3,
          4.3,
          4,
          4.3,
          4.4,
          4.1,
          4,
          4.2,
          4.1,
          4,
          4,
          4,
          4.1,
          4.1,
          4.1,
          4.4,
          4.4,
          4.2,
          4,
          4.4,
          4.4,
          4.1,
          4.1,
          4.3,
          4.3,
          4.4,
          4.3,
          4.2,
          4.1,
          4.4,
          4,
          4,
          4,
          4,
          4.3,
          4,
          4.2,
          4.1,
          4.3,
          4.3,
          4.3,
          4.4,
          4.4,
          4.3,
          4.3,
          4.1,
          4.3,
          4.1,
          4.1,
          4.2,
          4.1,
          4.2,
          4.2,
          4.2,
          4.1,
          4.2,
          4,
          4.2,
          4,
          4.3,
          4,
          4.1,
          4.4,
          4.2,
          4.1,
          4.2,
          4.1,
          4.3,
          4.4,
          4.4,
          4.4,
          4.3,
          4.3,
          4,
          4.4,
          4.1,
          4.1,
          4,
          4,
          4.1,
          4.1,
          4.1,
          4.1,
          4.2,
          4,
          4.3,
          4.1,
          4.3,
          4.4,
          4.2,
          4.4,
          4.2,
          4,
          4,
          4.1,
          4.1,
          4.4,
          4.1,
          4.3,
          4.3,
          4.1,
          4,
          4.1,
          4,
          4,
          4.3,
          4.1,
          4.2,
          4.3,
          4.2,
          4.3,
          4.1,
          4,
          4,
          4.3,
          4.1,
          4.1,
          4,
          4.2,
          4.4,
          4,
          4.2,
          4.4,
          4.2,
          4.2,
          4.1,
          4,
          4.2,
          4.3,
          4.4,
          4.3,
          4.4,
          4,
          4.3,
          4.1,
          4.2,
          4,
          4,
          4,
          4.3,
          4.2,
          4.2,
          4.3,
          4.4,
          4.2,
          4.3,
          4,
          4,
          4.1,
          4.4,
          4,
          4.1,
          4.2,
          4.2,
          4,
          4.1,
          4.1,
          4.4,
          4.3,
          4.2,
          4.4,
          4.3,
          4.2,
          4.3,
          4.4,
          4.2,
          4.3,
          4,
          4.3,
          4,
          4.2,
          4.2,
          4.1,
          4,
          4.3,
          4,
          4,
          4.3,
          4.1,
          4,
          4,
          4,
          4.1,
          4,
          4,
          4.2,
          4.3,
          4,
          4.1,
          4,
          4.3,
          4,
          4.3,
          4.2,
          4.4,
          4.1,
          4,
          4.1,
          4.1,
          4.1,
          4.2,
          4.1,
          4.1,
          4,
          4.4,
          4.2,
          4.1,
          4,
          4.1,
          4.2,
          4,
          4,
          4,
          4.1,
          4.1,
          4.1,
          4,
          4.1,
          4,
          4.4,
          4.1,
          4.1,
          4.4,
          4.1,
          4.2,
          4,
          4.1,
          4.2,
          4.3,
          4.4,
          4.4,
          4,
          4,
          4.1,
          4,
          4.1,
          4,
          4.1,
          4.1,
          4.2,
          4.2,
          4,
          4.3,
          4,
          4,
          4,
          4,
          4,
          4,
          4.1,
          4.2,
          4.1,
          4.4,
          4.4,
          4.1,
          4,
          4.1,
          4.2,
          4.1,
          4.1,
          4.3,
          4,
          4.3,
          4.3,
          4.3,
          4,
          4.3,
          4.2,
          4.2,
          4.4,
          4.1,
          4.1,
          4.2,
          4.1,
          4.1,
          4.1,
          4.1,
          4.2,
          4,
          4,
          4.3,
          4,
          4.3,
          4.1,
          4.3,
          4,
          4,
          4.4,
          4.4,
          4,
          4.3,
          4.2,
          4,
          4.3,
          4.2,
          4.1,
          4.3,
          4.3,
          4,
          4,
          4.1,
          4.1,
          4.3,
          4.1,
          4,
          4.4,
          4.2,
          4.2,
          4,
          4,
          4.4,
          4,
          4.2,
          4.3,
          4.2,
          4.3,
          4.3,
          4.2,
          4.4,
          4.2,
          4.4,
          4,
          4.2,
          4.2,
          4.3,
          4.4,
          4.1,
          4,
          4.3,
          4.2,
          4.1,
          4.1,
          4.3,
          4.3,
          4,
          4.4,
          4.1,
          4.2,
          4.2,
          4.2,
          4,
          4.1,
          4.2,
          4.1,
          4.3,
          4.4,
          4.2,
          4.4,
          4.2,
          4.2,
          4.1,
          4.3,
          4,
          4,
          4.2,
          4.1,
          4.3,
          4.2,
          4,
          4.1,
          4.2,
          4,
          4,
          4,
          4.3,
          4,
          4.2,
          4.3,
          4,
          4.4,
          4,
          4.2,
          4,
          4,
          4.2,
          4.2,
          4.2,
          4.2,
          4.4,
          4,
          4.1,
          4,
          4.2,
          4.3,
          4.1,
          4.4,
          4.1,
          4.1,
          4.1,
          4,
          4.4,
          4,
          4.1,
          4.1,
          4.1,
          4,
          4.2,
          4.1,
          4,
          4.4,
          4,
          4,
          4.3,
          4,
          4,
          4.1,
          4,
          4.1,
          4.3,
          4.1,
          4.1,
          4.1,
          4.3,
          4,
          4.1,
          4,
          4.3,
          4.3,
          4.1,
          4.1,
          4.1,
          4.4,
          4.1,
          4,
          4.1,
          4.1,
          4.1,
          4,
          4.2,
          4,
          4,
          4.2,
          4.2,
          4.1,
          4.1,
          4.3,
          4.3,
          4.4,
          4.2,
          4.4,
          4.1,
          4.1,
          4,
          4.1,
          4.1,
          4,
          4.2,
          4,
          4.3,
          4.2,
          4.2,
          4.2,
          4,
          4.2,
          4.1,
          4.1,
          4.1,
          4.4,
          4,
          4.2,
          4,
          4.1,
          4.1,
          4.3,
          4.2,
          4,
          4.3,
          4.1,
          4.1,
          4.1,
          4.3,
          4.4,
          4.4,
          4.1,
          4,
          4,
          4.2,
          4.3,
          4.3,
          4,
          4,
          4.1,
          4.3,
          4.2,
          4.2,
          4,
          4.2,
          4.4,
          4.1,
          4,
          4.1,
          4.4,
          4.1,
          4.2,
          4.2,
          4,
          4,
          4.3,
          4.3,
          4,
          4.1,
          4.2,
          4.2,
          4.2,
          4.1,
          4.4,
          4.2,
          4.3,
          4.2,
          4,
          4.1,
          4,
          4,
          4,
          4,
          4.3,
          4.2,
          4,
          4.1,
          4,
          4,
          4.2,
          4,
          4.2,
          4.2,
          4,
          4.4,
          4.2,
          4.1,
          4.2,
          4.1,
          4,
          4.1,
          4.1,
          4.1,
          4.2,
          4.4,
          4,
          4,
          4,
          4.1,
          4,
          4.3,
          4,
          4.1,
          4.2,
          4.1,
          4.1,
          4.3,
          4.1,
          4.1,
          4.4,
          4.1,
          4,
          4.2,
          4.1,
          4,
          4,
          4.2,
          4.3,
          4.3,
          4.4,
          4.4,
          4.1,
          4,
          4.1,
          4,
          4.4,
          4.4,
          4.1,
          4.4,
          4.2,
          4.2,
          4.2,
          4.1,
          4.2,
          4.1,
          4.2,
          4,
          4,
          4.4,
          4.4,
          4.2,
          4,
          4.4,
          4.3,
          4.4,
          4.1,
          4,
          4.1,
          4,
          4.1,
          4.2,
          4.1,
          4,
          4.2,
          4.2,
          4.2,
          4.3,
          4,
          4,
          4.3,
          4.2,
          4.1,
          4.4,
          4.2,
          4.1,
          4,
          4.1,
          4.1,
          4.1,
          4.2,
          4.1,
          4.4,
          4,
          4.1,
          4,
          4,
          4,
          4.2,
          4.2,
          4,
          4.2,
          4.1,
          4.1,
          4.3,
          4.2,
          4,
          4,
          4,
          4,
          4.2,
          4.2,
          4,
          4,
          4,
          4.4,
          4,
          4.2,
          4.4,
          4.1,
          4,
          4.1,
          4.3,
          4,
          4,
          4.2,
          4,
          4.1,
          4,
          4,
          4.3,
          4.4,
          4.3,
          4,
          4,
          4,
          4.2,
          4,
          4,
          4.1,
          4.2,
          4.2,
          4.1,
          4.2,
          4.3,
          4.1,
          4.3,
          4.2,
          4.1,
          4.4,
          4,
          4.1,
          4.1,
          4.1,
          4.1,
          4.3,
          4,
          4,
          4,
          4.2,
          4.1,
          4,
          4.1,
          4,
          4,
          4.2,
          4.3,
          4.2,
          4,
          4.1,
          4.3,
          4.3,
          4.1,
          4,
          4.1,
          4.1,
          4.3,
          4.1,
          4,
          4.2,
          4.1,
          4.2,
          4.2,
          4.3,
          4.3,
          4.2,
          4.1,
          4.3,
          4.4,
          4.2,
          4.1,
          4,
          4.2,
          4.2,
          4.1,
          4.1,
          4.4,
          4,
          4.4,
          4.1,
          4.2,
          4,
          4,
          4.3,
          4.1,
          4.2,
          4.1,
          4.1,
          4.1,
          4.3,
          4.1,
          4,
          4.4,
          4,
          4.3,
          4.2,
          4.1,
          4.1,
          4.1,
          4.3,
          4.2,
          4.4,
          4.1,
          4.1,
          4,
          4.3,
          4.4,
          4.2,
          4,
          4.1,
          4.2,
          4.4,
          4.3,
          4.2,
          4.4,
          4,
          4.3,
          4.3,
          4.1,
          4.2,
          4.4,
          4.3,
          4,
          4.2,
          4,
          4,
          4.3,
          4.1,
          4.1,
          4.1,
          4.3,
          4,
          4.4,
          4.3,
          4.2,
          4.4,
          4.4,
          4.2,
          4.3,
          4.2,
          4.3,
          4.1,
          4,
          4.2,
          4,
          4.2,
          4.1,
          4,
          4,
          4.4,
          4.3,
          4,
          4,
          4.1,
          4.4,
          4.1,
          4.1,
          4,
          4.2,
          4.1,
          4.4,
          4.1,
          4.3,
          4,
          4.4,
          4.3,
          4,
          4.1,
          4.1,
          4.2,
          4.3,
          4.2,
          4.3,
          4,
          4.2,
          4.3,
          4,
          4,
          4.4,
          4.3,
          4.1,
          4.2,
          4.4,
          4,
          4.4,
          4,
          4.4,
          4.1,
          4.1,
          4.4,
          4.3,
          4.1,
          4,
          4.1,
          4.2,
          4.1,
          4.4,
          4.2,
          4.3,
          4.4,
          4.3,
          4.4,
          4,
          4.1,
          4,
          4.1,
          4.3,
          4,
          4.4,
          4.2,
          4.1,
          4.3,
          4.3,
          4.4,
          4.4,
          4,
          4,
          4,
          4.2,
          4.2,
          4.1,
          4.2,
          4,
          4.2,
          4.1,
          4.1,
          4.2,
          4.2,
          4.3,
          4.4,
          4.4,
          4.1,
          4.3,
          4.2,
          4.4,
          4.2,
          4.3,
          4.4,
          4.2,
          4.2,
          4.2,
          4.3,
          4.1,
          4.2,
          4,
          4
         ],
         "yaxis": "y"
        },
        {
         "hovertemplate": "rating_text=Good<br>average_cost_two=%{x}<br>agg_rating=%{y}<extra></extra>",
         "legendgroup": "Good",
         "marker": {
          "color": "#00cc96",
          "symbol": "circle"
         },
         "mode": "markers",
         "name": "Good",
         "showlegend": true,
         "type": "scattergl",
         "x": [
          800,
          30,
          45,
          60,
          90,
          200,
          60,
          100,
          50,
          75,
          120,
          230,
          10,
          10,
          25,
          70,
          25,
          10,
          10,
          25,
          25,
          40,
          40,
          40,
          10,
          20,
          10,
          10,
          10,
          25,
          40,
          25,
          25,
          70,
          40,
          25,
          25,
          40,
          25,
          25,
          25,
          40,
          10,
          40,
          40,
          25,
          10,
          25,
          40,
          10,
          25,
          10,
          25,
          10,
          70,
          25,
          7,
          25,
          10,
          0,
          25,
          40,
          25,
          40,
          10,
          10,
          25,
          40,
          25,
          10,
          25,
          70,
          10,
          30,
          20,
          25,
          40,
          10,
          25,
          25,
          40,
          10,
          20,
          7,
          7,
          7,
          10,
          20,
          20,
          25,
          40,
          25,
          25,
          10,
          25,
          30,
          25,
          40,
          25,
          40,
          25,
          25,
          40,
          40,
          20,
          10,
          45,
          10,
          0,
          40,
          30,
          10,
          10,
          10,
          25,
          10,
          25,
          40,
          0,
          25,
          25,
          25,
          40,
          25,
          25,
          40,
          40,
          10,
          500,
          430,
          315,
          40,
          220,
          300,
          50,
          40,
          40,
          10,
          10,
          10,
          40,
          25,
          25,
          25,
          10,
          10,
          10,
          10,
          40,
          10,
          25,
          40,
          70,
          40,
          70,
          40,
          40,
          35,
          25,
          10,
          40,
          25,
          10,
          25,
          40,
          10,
          25,
          25,
          70,
          25,
          25,
          40,
          20,
          25,
          10,
          10,
          25,
          10,
          40,
          25,
          40,
          10,
          25,
          25,
          25,
          25,
          40,
          10,
          25,
          10,
          10,
          25,
          25,
          60,
          280,
          250,
          85,
          70,
          110,
          130,
          250,
          50,
          850,
          700,
          500,
          800,
          3600,
          0,
          1500,
          0,
          900,
          1800,
          1000,
          1400,
          600,
          550,
          1000,
          200,
          500,
          500,
          400,
          300,
          150,
          300,
          400,
          700,
          200,
          500,
          500,
          500,
          400,
          500,
          1000,
          800,
          1000,
          300,
          450,
          1300,
          1400,
          700,
          600,
          500,
          550,
          500,
          350,
          500,
          900,
          500,
          500,
          850,
          450,
          600,
          450,
          500,
          450,
          500,
          400,
          850,
          700,
          800,
          900,
          600,
          400,
          600,
          450,
          1200,
          700,
          800,
          500,
          650,
          1000,
          550,
          700,
          600,
          600,
          400,
          1100,
          600,
          900,
          400,
          300,
          900,
          400,
          400,
          650,
          400,
          350,
          250,
          150,
          400,
          750,
          400,
          400,
          150,
          500,
          350,
          200,
          600,
          300,
          500,
          600,
          600,
          1500,
          1100,
          800,
          700,
          1500,
          500,
          1600,
          1400,
          600,
          1500,
          1800,
          2200,
          1700,
          800,
          1700,
          1000,
          3500,
          5000,
          1200,
          600,
          2500,
          200,
          400,
          1250,
          600,
          1800,
          1500,
          350,
          1100,
          1700,
          2000,
          600,
          2000,
          700,
          1400,
          1400,
          700,
          2300,
          550,
          1700,
          600,
          400,
          400,
          1500,
          300,
          350,
          700,
          350,
          650,
          900,
          400,
          800,
          700,
          500,
          2000,
          800,
          1500,
          200,
          700,
          1000,
          600,
          700,
          1300,
          500,
          200,
          300,
          550,
          400,
          800,
          300,
          500,
          250,
          300,
          400,
          500,
          1000,
          500,
          1000,
          700,
          800,
          600,
          800,
          1200,
          600,
          600,
          500,
          750,
          750,
          300,
          400,
          300,
          550,
          800,
          1100,
          1200,
          1800,
          350,
          1000,
          3000,
          150,
          550,
          1000,
          700,
          1000,
          1500,
          1250,
          1600,
          2200,
          500,
          900,
          500,
          1500,
          450,
          550,
          700,
          1500,
          2000,
          1700,
          2000,
          700,
          850,
          800,
          600,
          600,
          700,
          1500,
          1000,
          500,
          1000,
          4500,
          2000,
          1600,
          550,
          600,
          2500,
          200,
          1500,
          1500,
          650,
          700,
          600,
          600,
          400,
          1000,
          1500,
          900,
          2500,
          400,
          1400,
          550,
          100,
          800,
          400,
          1400,
          650,
          1700,
          600,
          1500,
          700,
          2200,
          3000,
          500,
          1500,
          600,
          150,
          200,
          500,
          400,
          850,
          900,
          2000,
          1400,
          550,
          1500,
          700,
          500,
          1500,
          1600,
          1500,
          500,
          1500,
          1500,
          1800,
          1200,
          700,
          1500,
          2000,
          650,
          600,
          250,
          650,
          600,
          500,
          400,
          400,
          650,
          1600,
          500,
          400,
          350,
          800,
          550,
          800,
          150,
          200,
          750,
          200,
          500,
          1250,
          400,
          300,
          1100,
          600,
          500,
          1600,
          500,
          700,
          950,
          300,
          450,
          400,
          400,
          300,
          800,
          300,
          800,
          600,
          300,
          550,
          250,
          200,
          300,
          600,
          150,
          500,
          600,
          850,
          650,
          2500,
          3000,
          3000,
          3000,
          3000,
          3000,
          400,
          2500,
          2500,
          600,
          750,
          600,
          400,
          550,
          500,
          500,
          1300,
          800,
          3500,
          200,
          600,
          250,
          500,
          400,
          1400,
          800,
          300,
          1500,
          1100,
          1300,
          700,
          800,
          2000,
          700,
          650,
          500,
          1650,
          1500,
          1200,
          800,
          400,
          600,
          0,
          500,
          0,
          1500,
          1000,
          850,
          3000,
          1500,
          350,
          800,
          1000,
          550,
          400,
          600,
          1000,
          1500,
          1050,
          1500,
          650,
          450,
          1000,
          1100,
          800,
          1500,
          400,
          800,
          1300,
          700,
          1200,
          1000,
          1400,
          1600,
          1500,
          600,
          200,
          900,
          700,
          600,
          1000,
          800,
          700,
          1500,
          500,
          750,
          600,
          1000,
          1600,
          1000,
          700,
          700,
          500,
          1100,
          1000,
          700,
          1000,
          1500,
          1000,
          1000,
          900,
          800,
          500,
          400,
          650,
          1700,
          500,
          700,
          1000,
          650,
          700,
          650,
          550,
          1000,
          1200,
          250,
          250,
          400,
          350,
          250,
          1000,
          400,
          1000,
          600,
          800,
          400,
          1500,
          400,
          500,
          500,
          1100,
          400,
          100,
          300,
          1500,
          1000,
          300,
          600,
          800,
          250,
          650,
          800,
          2200,
          2200,
          500,
          600,
          700,
          700,
          500,
          350,
          650,
          400,
          250,
          300,
          250,
          300,
          350,
          1000,
          2500,
          1500,
          700,
          350,
          400,
          1300,
          250,
          1300,
          1800,
          200,
          200,
          1200,
          500,
          750,
          400,
          600,
          400,
          800,
          300,
          450,
          1300,
          600,
          1000,
          500,
          1300,
          1100,
          800,
          400,
          450,
          600,
          200,
          100,
          100,
          150,
          150,
          600,
          300,
          100,
          400,
          150,
          100,
          100,
          150,
          150,
          100,
          100,
          200,
          100,
          300,
          300,
          100,
          200,
          150,
          100,
          150,
          100,
          100,
          100,
          600,
          500,
          650,
          100,
          1450,
          1200,
          300,
          150,
          1400,
          2400,
          550,
          1100,
          1100,
          500,
          500,
          700,
          1500,
          1200,
          1200,
          800,
          1400,
          500,
          400,
          1700,
          1800,
          1400,
          700,
          600,
          600,
          2000,
          1200,
          600,
          550,
          1300,
          250,
          1200,
          600,
          600,
          500,
          650,
          1600,
          450,
          1200,
          1500,
          2200,
          500,
          500,
          400,
          1400,
          650,
          1000,
          1200,
          900,
          1400,
          1700,
          2400,
          1000,
          1000,
          1100,
          5000,
          1100,
          1700,
          950,
          1350,
          600,
          400,
          300,
          2800,
          700,
          500,
          1600,
          1200,
          1200,
          1250,
          1500,
          1500,
          1400,
          450,
          1600,
          1600,
          1500,
          1800,
          1500,
          1600,
          300,
          600,
          2500,
          1000,
          3000,
          1000,
          550,
          400,
          500,
          700,
          500,
          500,
          600,
          1100,
          500,
          400,
          350,
          1500,
          700,
          1200,
          350,
          600,
          300,
          1000,
          400,
          300,
          600,
          800,
          1600,
          900,
          700,
          500,
          700,
          1400,
          300,
          1500,
          1200,
          1800,
          2000,
          1000,
          900,
          900,
          800,
          600,
          500,
          1500,
          1800,
          250,
          250,
          150,
          550,
          1000,
          800,
          550,
          250,
          650,
          500,
          800,
          350,
          450,
          400,
          250,
          800,
          450,
          400,
          600,
          800,
          300,
          500,
          1600,
          1500,
          400,
          850,
          600,
          700,
          350,
          2500,
          1200,
          750,
          400,
          400,
          700,
          600,
          400,
          350,
          400,
          450,
          700,
          1250,
          300,
          500,
          700,
          600,
          500,
          300,
          1100,
          700,
          350,
          800,
          500,
          350,
          400,
          1500,
          400,
          650,
          500,
          500,
          300,
          4000,
          3650,
          700,
          1800,
          200,
          500,
          600,
          1000,
          300,
          500,
          500,
          850,
          1000,
          2200,
          1000,
          400,
          1000,
          300,
          600,
          900,
          1500,
          300,
          400,
          2100,
          1600,
          700,
          1100,
          600,
          1700,
          450,
          1250,
          250,
          2000,
          700,
          1800,
          250,
          2000,
          200,
          500,
          400,
          1800,
          400,
          700,
          650,
          550,
          400,
          1800,
          1000,
          300,
          600,
          800,
          1000,
          400,
          2500,
          1650,
          1350,
          400,
          650,
          1800,
          1200,
          650,
          800,
          250,
          1100,
          900,
          250,
          700,
          1500,
          600,
          650,
          2200,
          1300,
          1550,
          700,
          1200,
          300,
          500,
          720,
          1800,
          600,
          450,
          2500,
          250,
          300,
          1200,
          600,
          1500,
          300,
          1200,
          500,
          250,
          1000,
          550,
          800,
          500,
          350,
          300,
          500,
          500,
          300,
          100,
          300,
          500,
          450,
          1300,
          200,
          600,
          300,
          300,
          1000,
          350,
          300,
          800,
          1200,
          400,
          1900,
          1600,
          1200,
          1800,
          1200,
          1800,
          1200,
          2400,
          800,
          1800,
          2000,
          1800,
          2000,
          2500,
          4000,
          2500,
          2000,
          3500,
          4500,
          2500,
          1000,
          4000,
          400,
          300,
          150,
          250,
          300,
          1200,
          3500,
          300,
          300,
          200,
          300,
          200,
          300,
          600,
          400,
          200,
          300,
          100,
          700,
          600,
          1250,
          350,
          300,
          400,
          700,
          400,
          400,
          500,
          500,
          700,
          600,
          300,
          1300,
          400,
          500,
          450,
          900,
          900,
          150,
          500,
          400,
          150,
          1200,
          700,
          650,
          200,
          1900,
          1200,
          2100,
          500,
          1200,
          150,
          1250,
          800,
          450,
          1000,
          500,
          600,
          550,
          3000,
          3000,
          2500,
          300,
          600,
          1550,
          700,
          600,
          600,
          800,
          600,
          750,
          800,
          600,
          400,
          200,
          900,
          150,
          1300,
          500,
          600,
          250,
          850,
          200,
          150,
          300,
          250,
          250,
          550,
          650,
          250,
          400,
          200,
          250,
          200,
          200,
          300,
          100,
          600,
          500,
          200,
          400,
          50,
          300,
          800,
          150,
          500,
          500,
          400,
          950,
          1900,
          150,
          300,
          500,
          300,
          100,
          800,
          1000,
          800,
          800,
          400,
          1600,
          1150,
          250,
          1300,
          250,
          750,
          400,
          450,
          650,
          900,
          200,
          700,
          300,
          600,
          50,
          500,
          650,
          150,
          250,
          600,
          600,
          200,
          500,
          700,
          350,
          700,
          350,
          350,
          350,
          1200,
          600,
          2000,
          2500,
          1000,
          1000,
          700,
          800,
          1700,
          650,
          1700,
          1400,
          2000,
          400,
          1200,
          2100,
          450,
          2000,
          500,
          800,
          1700,
          700,
          2500,
          2000,
          1200,
          650,
          250,
          500,
          1000,
          1200,
          150,
          600,
          750,
          550,
          450,
          2200,
          200,
          650,
          600,
          800,
          200,
          550,
          600,
          500,
          1000,
          550,
          550,
          500,
          600,
          500,
          200,
          600,
          800,
          500,
          5000,
          2000,
          3000,
          4500,
          1000,
          300,
          500,
          400,
          1000,
          2000,
          300,
          1800,
          600,
          300,
          2000,
          200,
          1000,
          450,
          700,
          600,
          900,
          500,
          1000,
          850,
          650,
          750,
          600,
          800,
          400,
          700,
          600,
          400,
          250,
          350,
          500,
          150,
          850,
          100,
          650,
          600,
          700,
          700,
          1500,
          450,
          700,
          1500,
          850,
          400,
          1500,
          1500,
          1000,
          650,
          950,
          800,
          350,
          600,
          150,
          500,
          250,
          500,
          550,
          300,
          50,
          150,
          400,
          200,
          500,
          400,
          450,
          500,
          1100,
          2200,
          350,
          100,
          300,
          300,
          300,
          500,
          300,
          300,
          350,
          250,
          1100,
          600,
          400,
          1200,
          600,
          350,
          100,
          500,
          200,
          150,
          700,
          400,
          400,
          400,
          400,
          550,
          4700,
          500,
          200,
          800,
          800,
          500,
          350,
          200,
          500,
          450,
          350,
          300,
          400,
          400,
          450,
          400,
          200,
          1200,
          450,
          400,
          150,
          500,
          400,
          700,
          300,
          1400,
          250,
          400,
          800,
          700,
          800,
          800,
          350,
          300,
          800,
          400,
          600,
          400,
          1600,
          2000,
          500,
          250,
          250,
          400,
          400,
          300,
          1500,
          1200,
          200,
          1700,
          1200,
          500,
          400,
          700,
          300,
          350,
          550,
          600,
          200,
          400,
          300,
          600,
          300,
          400,
          350,
          100,
          250,
          300,
          350,
          350,
          300,
          600,
          700,
          600,
          300,
          100,
          500,
          300,
          400,
          200,
          350,
          950,
          100,
          500,
          600,
          500,
          850,
          850,
          600,
          700,
          450,
          900,
          1200,
          1500,
          300,
          150,
          300,
          400,
          500,
          650,
          900,
          550,
          1800,
          950,
          1900,
          1200,
          500,
          450,
          500,
          300,
          1500,
          800,
          200,
          250,
          950,
          1000,
          1000,
          700,
          1200,
          300,
          300,
          400,
          400,
          650,
          100,
          550,
          700,
          700,
          500,
          400,
          100,
          400,
          1100,
          550,
          200,
          1100,
          1400,
          1650,
          1700,
          1100,
          700,
          1300,
          300,
          400,
          1700,
          1250,
          1250,
          800,
          1200,
          1500,
          2200,
          2000,
          500,
          500,
          550,
          250,
          800,
          250,
          700,
          2000,
          500,
          1400,
          1200,
          500,
          1600,
          1300,
          600,
          1500,
          600,
          400,
          350,
          700,
          250,
          250,
          600,
          400,
          500,
          800,
          400,
          500,
          200,
          700,
          200,
          250,
          350,
          400,
          450,
          3000,
          600,
          1300,
          500,
          600,
          600,
          600,
          400,
          800,
          1000,
          1000,
          600,
          2300,
          500,
          600,
          750,
          600,
          500,
          3000,
          200,
          200,
          500,
          1500,
          2000,
          700,
          400,
          100,
          200,
          800,
          1500,
          350,
          500,
          600,
          600,
          500,
          950,
          600,
          600,
          300,
          800,
          600,
          700,
          800,
          400,
          300,
          300,
          100,
          800,
          750,
          250,
          700,
          500,
          800,
          300,
          800,
          800,
          550,
          600,
          1000,
          150,
          650,
          400,
          200,
          800,
          650,
          650,
          1250,
          1600,
          1800,
          400,
          400,
          600,
          500,
          700,
          700,
          700,
          300,
          1100,
          1100,
          700,
          1200,
          400,
          1000,
          800,
          200,
          600,
          700,
          400,
          200,
          500,
          200,
          600,
          450,
          100,
          5000,
          5000,
          150,
          900,
          350,
          250,
          100,
          500,
          600,
          1100,
          800,
          450,
          900,
          500,
          1500,
          650,
          1000,
          1200,
          450,
          700,
          500,
          2200,
          550,
          700,
          1200,
          1000,
          600,
          700,
          500,
          500,
          3200,
          2500,
          500,
          1000,
          3600,
          3700,
          4100,
          4300,
          5000,
          3600,
          1000,
          3200,
          6000,
          4000,
          900,
          5000,
          2500,
          800,
          3000,
          5100,
          4500,
          5000,
          4500,
          2700,
          2650,
          3500,
          4000,
          5000,
          5500,
          3500,
          2000,
          3000,
          4500,
          4400,
          2500,
          2500,
          5000,
          4200,
          6000,
          2000,
          4000,
          1700,
          1600,
          150,
          300,
          800,
          500,
          700,
          500,
          400,
          500,
          350,
          350,
          350,
          650,
          850,
          1000,
          1000,
          900,
          900,
          800,
          800,
          900,
          950,
          1500,
          650,
          1000,
          700,
          750,
          600,
          500,
          850,
          300,
          600,
          450,
          900,
          1700,
          400,
          300,
          600,
          250,
          700,
          500,
          400,
          800,
          150,
          800,
          150,
          700,
          500,
          300,
          700,
          500,
          600,
          800,
          300,
          500,
          600,
          1500,
          400,
          400,
          1000,
          150,
          500,
          200,
          400,
          300,
          600,
          1100,
          650,
          1500,
          650,
          400,
          1400,
          600,
          600,
          900,
          400,
          1800,
          1000,
          1600,
          400,
          550,
          350,
          500,
          400,
          1600,
          650,
          1200,
          400,
          600,
          2000,
          1900,
          700,
          350,
          500,
          350,
          250,
          500,
          150,
          650,
          3500,
          1000,
          1200,
          400,
          600,
          400,
          3200,
          900,
          1000,
          550,
          650,
          400,
          900,
          850,
          750,
          400,
          1100,
          200,
          550,
          400,
          700,
          1500,
          200,
          500,
          350,
          1350,
          300,
          1600,
          1200,
          550,
          800,
          900,
          450,
          650,
          1400,
          1000,
          350,
          700,
          300,
          950,
          800,
          400,
          200,
          600,
          500,
          1550,
          1800,
          500,
          500,
          600,
          1000,
          800,
          500,
          2000,
          300,
          500,
          1500,
          2350,
          2200,
          1600,
          1500,
          1600,
          200,
          350,
          400,
          500,
          400,
          200,
          400,
          400,
          500,
          350,
          300,
          600,
          800,
          200,
          400,
          450,
          450,
          700,
          450,
          350,
          800,
          400,
          400,
          400,
          350,
          400,
          250,
          1300,
          500,
          700,
          600,
          500,
          400,
          400,
          700,
          550,
          600,
          650,
          450,
          250,
          300,
          250,
          700,
          500,
          600,
          600,
          550,
          500,
          500,
          600,
          400,
          400,
          300,
          500,
          850,
          600,
          650,
          800,
          550,
          300,
          600,
          1300,
          450,
          300,
          500,
          600,
          1100,
          150,
          1500,
          600,
          1000,
          800,
          2500,
          1000,
          500,
          1400,
          1500,
          1000,
          500,
          1600,
          450,
          1000,
          600,
          1200,
          700,
          150,
          1000,
          250,
          1400,
          700,
          600,
          900,
          1500,
          1500,
          1500,
          800,
          800,
          1500,
          1200,
          550,
          1200,
          2100,
          1000,
          1000,
          1000,
          200,
          400,
          1000,
          700,
          1500,
          900,
          800,
          800,
          800,
          550,
          500,
          250,
          900,
          800,
          600,
          500,
          400,
          800,
          800,
          1000,
          800,
          300,
          800,
          700,
          300,
          300,
          450,
          0,
          450,
          600,
          600,
          1000,
          0,
          700,
          300,
          1000,
          450,
          600,
          600,
          500,
          500,
          600,
          400,
          1500,
          70000,
          200000,
          300000,
          70,
          70,
          15,
          30,
          35,
          50,
          20,
          30,
          20,
          45,
          30,
          30,
          20,
          25,
          35,
          30,
          35,
          30,
          35,
          50,
          50,
          25,
          100,
          220,
          110,
          500,
          80,
          200,
          160,
          294,
          360,
          250,
          250,
          500,
          250,
          450,
          390,
          300,
          400,
          250,
          360,
          2500,
          2000,
          1500,
          3500,
          80,
          80,
          170
         ],
         "xaxis": "x",
         "y": [
          3.6,
          3.8,
          3.7,
          3.8,
          3.7,
          3.7,
          3.6,
          3.6,
          3.6,
          3.9,
          3.5,
          3.9,
          3.5,
          3.9,
          3.7,
          3.5,
          3.6,
          3.8,
          3.9,
          3.5,
          3.5,
          3.6,
          3.5,
          3.8,
          3.7,
          3.5,
          3.9,
          3.7,
          3.9,
          3.9,
          3.8,
          3.5,
          3.9,
          3.9,
          3.7,
          3.8,
          3.6,
          3.8,
          3.7,
          3.8,
          3.9,
          3.9,
          3.7,
          3.6,
          3.7,
          3.7,
          3.9,
          3.8,
          3.8,
          3.8,
          3.7,
          3.7,
          3.9,
          3.9,
          3.7,
          3.8,
          3.6,
          3.5,
          3.6,
          3.5,
          3.6,
          3.7,
          3.6,
          3.8,
          3.5,
          3.5,
          3.6,
          3.6,
          3.6,
          3.5,
          3.7,
          3.6,
          3.7,
          3.5,
          3.7,
          3.8,
          3.9,
          3.9,
          3.8,
          3.8,
          3.8,
          3.9,
          3.8,
          3.8,
          3.7,
          3.8,
          3.6,
          3.6,
          3.5,
          3.9,
          3.8,
          3.7,
          3.7,
          3.7,
          3.8,
          3.8,
          3.6,
          3.6,
          3.6,
          3.7,
          3.9,
          3.7,
          3.9,
          3.5,
          3.7,
          3.7,
          3.5,
          3.6,
          3.6,
          3.7,
          3.6,
          3.5,
          3.8,
          3.8,
          3.7,
          3.5,
          3.7,
          3.6,
          3.6,
          3.6,
          3.8,
          3.7,
          3.6,
          3.9,
          3.7,
          3.8,
          3.8,
          3.9,
          3.8,
          3.8,
          3.9,
          3.7,
          3.8,
          3.9,
          3.8,
          3.9,
          3.7,
          3.6,
          3.8,
          3.6,
          3.7,
          3.6,
          3.8,
          3.8,
          3.7,
          3.9,
          3.7,
          3.8,
          3.7,
          3.7,
          3.8,
          3.9,
          3.5,
          3.9,
          3.9,
          3.9,
          3.7,
          3.8,
          3.7,
          3.8,
          3.7,
          3.7,
          3.7,
          3.9,
          3.8,
          3.5,
          3.9,
          3.7,
          3.5,
          3.8,
          3.8,
          3.8,
          3.6,
          3.7,
          3.9,
          3.8,
          3.7,
          3.6,
          3.6,
          3.6,
          3.8,
          3.7,
          3.6,
          3.6,
          3.6,
          3.6,
          3.6,
          3.7,
          3.6,
          3.7,
          3.5,
          3.9,
          3.9,
          3.6,
          3.9,
          3.7,
          3.9,
          3.8,
          3.9,
          3.8,
          3.9,
          3.8,
          3.9,
          3.5,
          3.6,
          3.6,
          3.8,
          3.9,
          3.8,
          3.9,
          3.7,
          3.7,
          3.8,
          3.6,
          3.8,
          3.9,
          3.6,
          3.7,
          3.5,
          3.6,
          3.5,
          3.9,
          3.6,
          3.5,
          3.5,
          3.6,
          3.9,
          3.7,
          3.5,
          3.8,
          3.8,
          3.8,
          3.5,
          3.6,
          3.6,
          3.5,
          3.7,
          3.9,
          3.9,
          3.9,
          3.8,
          3.8,
          3.5,
          3.6,
          3.6,
          3.9,
          3.8,
          3.9,
          3.9,
          3.7,
          3.6,
          3.8,
          3.7,
          3.7,
          3.8,
          3.8,
          3.5,
          3.7,
          3.8,
          3.8,
          3.8,
          3.9,
          3.8,
          3.5,
          3.8,
          3.8,
          3.9,
          3.6,
          3.8,
          3.9,
          3.9,
          3.8,
          3.9,
          3.9,
          3.9,
          3.9,
          3.8,
          3.6,
          3.6,
          3.6,
          3.5,
          3.8,
          3.5,
          3.6,
          3.7,
          3.6,
          3.5,
          3.6,
          3.5,
          3.6,
          3.8,
          3.5,
          3.6,
          3.8,
          3.5,
          3.6,
          3.5,
          3.5,
          3.6,
          3.9,
          3.6,
          3.6,
          3.5,
          3.8,
          3.7,
          3.8,
          3.7,
          3.9,
          3.8,
          3.9,
          3.6,
          3.8,
          3.5,
          3.5,
          3.9,
          3.7,
          3.7,
          3.5,
          3.9,
          3.7,
          3.7,
          3.7,
          3.7,
          3.7,
          3.6,
          3.9,
          3.8,
          3.6,
          3.6,
          3.9,
          3.6,
          3.8,
          3.9,
          3.9,
          3.8,
          3.6,
          3.5,
          3.9,
          3.9,
          3.8,
          3.8,
          3.7,
          3.8,
          3.9,
          3.8,
          3.8,
          3.8,
          3.7,
          3.8,
          3.8,
          3.9,
          3.6,
          3.8,
          3.5,
          3.5,
          3.5,
          3.9,
          3.5,
          3.9,
          3.8,
          3.9,
          3.8,
          3.5,
          3.6,
          3.8,
          3.8,
          3.7,
          3.6,
          3.5,
          3.9,
          3.7,
          3.6,
          3.5,
          3.5,
          3.5,
          3.6,
          3.8,
          3.5,
          3.5,
          3.7,
          3.8,
          3.5,
          3.9,
          3.8,
          3.5,
          3.9,
          3.8,
          3.9,
          3.6,
          3.6,
          3.6,
          3.9,
          3.8,
          3.6,
          3.8,
          3.6,
          3.6,
          3.5,
          3.5,
          3.8,
          3.6,
          3.8,
          3.6,
          3.6,
          3.8,
          3.6,
          3.6,
          3.9,
          3.8,
          3.7,
          3.6,
          3.6,
          3.8,
          3.5,
          3.5,
          3.6,
          3.7,
          3.6,
          3.9,
          3.9,
          3.7,
          3.5,
          3.6,
          3.6,
          3.6,
          3.8,
          3.8,
          3.8,
          3.6,
          3.7,
          3.7,
          3.6,
          3.8,
          3.8,
          3.6,
          3.7,
          3.5,
          3.6,
          3.5,
          3.7,
          3.7,
          3.5,
          3.7,
          3.6,
          3.6,
          3.6,
          3.5,
          3.5,
          3.7,
          3.7,
          3.8,
          3.5,
          3.6,
          3.5,
          3.6,
          3.8,
          3.5,
          3.9,
          3.7,
          3.5,
          3.5,
          3.7,
          3.7,
          3.7,
          3.5,
          3.6,
          3.5,
          3.5,
          3.5,
          3.5,
          3.6,
          3.9,
          3.9,
          3.5,
          3.8,
          3.5,
          3.6,
          3.7,
          3.5,
          3.6,
          3.8,
          3.5,
          3.9,
          3.6,
          3.9,
          3.9,
          3.7,
          3.6,
          3.9,
          3.8,
          3.6,
          3.8,
          3.5,
          3.9,
          3.5,
          3.9,
          3.5,
          3.7,
          3.9,
          3.6,
          3.8,
          3.9,
          3.5,
          3.7,
          3.5,
          3.6,
          3.6,
          3.7,
          3.5,
          3.5,
          3.7,
          3.9,
          3.6,
          3.9,
          3.9,
          3.5,
          3.7,
          3.6,
          3.7,
          3.5,
          3.5,
          3.8,
          3.7,
          3.6,
          3.9,
          3.5,
          3.8,
          3.6,
          3.7,
          3.7,
          3.7,
          3.7,
          3.7,
          3.7,
          3.7,
          3.5,
          3.7,
          3.8,
          3.6,
          3.9,
          3.6,
          3.9,
          3.8,
          3.9,
          3.7,
          3.5,
          3.7,
          3.5,
          3.8,
          3.5,
          3.7,
          3.9,
          3.8,
          3.6,
          3.7,
          3.6,
          3.5,
          3.6,
          3.8,
          3.5,
          3.6,
          3.6,
          3.6,
          3.7,
          3.9,
          3.6,
          3.6,
          3.8,
          3.9,
          3.7,
          3.9,
          3.8,
          3.8,
          3.9,
          3.8,
          3.9,
          3.9,
          3.9,
          3.9,
          3.7,
          3.9,
          3.5,
          3.6,
          3.9,
          3.9,
          3.9,
          3.8,
          3.6,
          3.9,
          3.7,
          3.8,
          3.7,
          3.7,
          3.7,
          3.5,
          3.6,
          3.9,
          3.9,
          3.5,
          3.6,
          3.5,
          3.9,
          3.7,
          3.9,
          3.6,
          3.5,
          3.9,
          3.7,
          3.9,
          3.6,
          3.8,
          3.5,
          3.9,
          3.8,
          3.9,
          3.6,
          3.9,
          3.8,
          3.7,
          3.5,
          3.7,
          3.8,
          3.6,
          3.5,
          3.6,
          3.9,
          3.5,
          3.7,
          3.7,
          3.7,
          3.8,
          3.9,
          3.7,
          3.8,
          3.8,
          3.9,
          3.9,
          3.9,
          3.8,
          3.6,
          3.7,
          3.9,
          3.7,
          3.5,
          3.7,
          3.8,
          3.5,
          3.5,
          3.7,
          3.6,
          3.6,
          3.8,
          3.7,
          3.6,
          3.7,
          3.8,
          3.9,
          3.7,
          3.9,
          3.9,
          3.8,
          3.8,
          3.6,
          3.6,
          3.5,
          3.6,
          3.8,
          3.5,
          3.7,
          3.5,
          3.8,
          3.5,
          3.9,
          3.7,
          3.5,
          3.7,
          3.7,
          3.9,
          3.9,
          3.6,
          3.6,
          3.5,
          3.6,
          3.6,
          3.9,
          3.5,
          3.7,
          3.7,
          3.6,
          3.5,
          3.5,
          3.6,
          3.7,
          3.7,
          3.8,
          3.6,
          3.6,
          3.9,
          3.6,
          3.9,
          3.5,
          3.7,
          3.5,
          3.9,
          3.5,
          3.6,
          3.9,
          3.7,
          3.9,
          3.9,
          3.5,
          3.6,
          3.6,
          3.5,
          3.6,
          3.7,
          3.8,
          3.5,
          3.7,
          3.7,
          3.5,
          3.5,
          3.5,
          3.6,
          3.7,
          3.7,
          3.5,
          3.5,
          3.7,
          3.8,
          3.8,
          3.7,
          3.8,
          3.9,
          3.9,
          3.7,
          3.7,
          3.6,
          3.9,
          3.9,
          3.6,
          3.6,
          3.8,
          3.5,
          3.5,
          3.6,
          3.9,
          3.6,
          3.6,
          3.6,
          3.7,
          3.7,
          3.7,
          3.6,
          3.8,
          3.7,
          3.9,
          3.6,
          3.5,
          3.7,
          3.5,
          3.5,
          3.6,
          3.5,
          3.7,
          3.9,
          3.6,
          3.9,
          3.7,
          3.8,
          3.6,
          3.6,
          3.7,
          3.7,
          3.7,
          3.6,
          3.9,
          3.9,
          3.9,
          3.9,
          3.9,
          3.9,
          3.7,
          3.8,
          3.9,
          3.5,
          3.9,
          3.7,
          3.9,
          3.7,
          3.8,
          3.8,
          3.5,
          3.5,
          3.7,
          3.7,
          3.9,
          3.7,
          3.7,
          3.6,
          3.9,
          3.8,
          3.7,
          3.5,
          3.9,
          3.9,
          3.7,
          3.7,
          3.8,
          3.8,
          3.8,
          3.8,
          3.6,
          3.5,
          3.7,
          3.6,
          3.7,
          3.5,
          3.6,
          3.5,
          3.5,
          3.7,
          3.6,
          3.5,
          3.8,
          3.5,
          3.7,
          3.5,
          3.9,
          3.8,
          3.9,
          3.9,
          3.5,
          3.9,
          3.9,
          3.9,
          3.7,
          3.9,
          3.5,
          3.9,
          3.5,
          3.5,
          3.5,
          3.7,
          3.5,
          3.5,
          3.7,
          3.5,
          3.7,
          3.8,
          3.7,
          3.5,
          3.8,
          3.6,
          3.6,
          3.7,
          3.6,
          3.9,
          3.5,
          3.6,
          3.8,
          3.6,
          3.7,
          3.7,
          3.5,
          3.6,
          3.9,
          3.7,
          3.9,
          3.8,
          3.8,
          3.7,
          3.6,
          3.6,
          3.8,
          3.5,
          3.6,
          3.7,
          3.8,
          3.8,
          3.8,
          3.8,
          3.7,
          3.7,
          3.6,
          3.9,
          3.8,
          3.6,
          3.9,
          3.7,
          3.7,
          3.7,
          3.9,
          3.8,
          3.7,
          3.8,
          3.5,
          3.7,
          3.6,
          3.6,
          3.8,
          3.5,
          3.7,
          3.5,
          3.5,
          3.5,
          3.6,
          3.5,
          3.6,
          3.5,
          3.8,
          3.8,
          3.5,
          3.8,
          3.9,
          3.7,
          3.7,
          3.5,
          3.6,
          3.9,
          3.9,
          3.7,
          3.7,
          3.8,
          3.9,
          3.8,
          3.7,
          3.9,
          3.8,
          3.6,
          3.5,
          3.5,
          3.6,
          3.6,
          3.5,
          3.7,
          3.9,
          3.7,
          3.8,
          3.5,
          3.9,
          3.6,
          3.9,
          3.9,
          3.6,
          3.8,
          3.8,
          3.7,
          3.9,
          3.5,
          3.7,
          3.7,
          3.5,
          3.5,
          3.6,
          3.8,
          3.6,
          3.8,
          3.7,
          3.9,
          3.8,
          3.9,
          3.5,
          3.5,
          3.7,
          3.9,
          3.9,
          3.7,
          3.8,
          3.5,
          3.8,
          3.5,
          3.5,
          3.7,
          3.9,
          3.7,
          3.8,
          3.8,
          3.6,
          3.7,
          3.8,
          3.5,
          3.8,
          3.6,
          3.8,
          3.6,
          3.7,
          3.7,
          3.9,
          3.6,
          3.8,
          3.6,
          3.5,
          3.8,
          3.8,
          3.8,
          3.5,
          3.5,
          3.5,
          3.8,
          3.6,
          3.8,
          3.8,
          3.5,
          3.6,
          3.8,
          3.7,
          3.5,
          3.9,
          3.6,
          3.6,
          3.7,
          3.5,
          3.7,
          3.5,
          3.5,
          3.5,
          3.8,
          3.6,
          3.7,
          3.8,
          3.5,
          3.6,
          3.6,
          3.5,
          3.6,
          3.5,
          3.7,
          3.5,
          3.7,
          3.5,
          3.8,
          3.8,
          3.8,
          3.5,
          3.6,
          3.5,
          3.8,
          3.7,
          3.9,
          3.5,
          3.9,
          3.5,
          3.8,
          3.6,
          3.6,
          3.6,
          3.8,
          3.5,
          3.5,
          3.9,
          3.5,
          3.8,
          3.6,
          3.7,
          3.8,
          3.7,
          3.7,
          3.5,
          3.5,
          3.8,
          3.9,
          3.9,
          3.9,
          3.8,
          3.7,
          3.7,
          3.9,
          3.8,
          3.5,
          3.5,
          3.7,
          3.7,
          3.9,
          3.7,
          3.9,
          3.9,
          3.7,
          3.6,
          3.5,
          3.6,
          3.9,
          3.6,
          3.8,
          3.9,
          3.9,
          3.8,
          3.5,
          3.5,
          3.7,
          3.8,
          3.5,
          3.5,
          3.6,
          3.5,
          3.7,
          3.6,
          3.7,
          3.8,
          3.9,
          3.5,
          3.6,
          3.8,
          3.8,
          3.5,
          3.8,
          3.8,
          3.6,
          3.6,
          3.5,
          3.5,
          3.6,
          3.5,
          3.6,
          3.6,
          3.5,
          3.6,
          3.5,
          3.7,
          3.5,
          3.7,
          3.5,
          3.9,
          3.6,
          3.5,
          3.5,
          3.8,
          3.9,
          3.7,
          3.7,
          3.7,
          3.8,
          3.9,
          3.9,
          3.8,
          3.9,
          3.5,
          3.6,
          3.9,
          3.5,
          3.8,
          3.7,
          3.8,
          3.8,
          3.5,
          3.6,
          3.5,
          3.5,
          3.8,
          3.6,
          3.5,
          3.8,
          3.6,
          3.6,
          3.6,
          3.7,
          3.5,
          3.6,
          3.5,
          3.8,
          3.8,
          3.6,
          3.6,
          3.8,
          3.6,
          3.5,
          3.5,
          3.5,
          3.9,
          3.8,
          3.6,
          3.7,
          3.6,
          3.7,
          3.9,
          3.8,
          3.7,
          3.5,
          3.8,
          3.6,
          3.7,
          3.7,
          3.5,
          3.5,
          3.9,
          3.6,
          3.7,
          3.7,
          3.5,
          3.5,
          3.8,
          3.5,
          3.5,
          3.8,
          3.6,
          3.9,
          3.5,
          3.6,
          3.6,
          3.5,
          3.6,
          3.5,
          3.5,
          3.7,
          3.5,
          3.7,
          3.7,
          3.8,
          3.8,
          3.6,
          3.5,
          3.6,
          3.5,
          3.7,
          3.6,
          3.7,
          3.8,
          3.5,
          3.5,
          3.6,
          3.6,
          3.7,
          3.6,
          3.7,
          3.5,
          3.5,
          3.8,
          3.6,
          3.8,
          3.5,
          3.7,
          3.5,
          3.5,
          3.5,
          3.8,
          3.9,
          3.6,
          3.6,
          3.6,
          3.7,
          3.8,
          3.6,
          3.7,
          3.7,
          3.6,
          3.9,
          3.8,
          3.7,
          3.9,
          3.8,
          3.5,
          3.9,
          3.7,
          3.6,
          3.7,
          3.8,
          3.8,
          3.8,
          3.5,
          3.5,
          3.6,
          3.7,
          3.6,
          3.5,
          3.5,
          3.6,
          3.5,
          3.6,
          3.5,
          3.5,
          3.8,
          3.7,
          3.6,
          3.5,
          3.5,
          3.7,
          3.8,
          3.8,
          3.7,
          3.8,
          3.5,
          3.5,
          3.5,
          3.5,
          3.8,
          3.8,
          3.7,
          3.5,
          3.5,
          3.9,
          3.5,
          3.8,
          3.5,
          3.6,
          3.5,
          3.8,
          3.8,
          3.7,
          3.9,
          3.5,
          3.8,
          3.6,
          3.7,
          3.6,
          3.8,
          3.7,
          3.9,
          3.6,
          3.5,
          3.9,
          3.9,
          3.9,
          3.8,
          3.5,
          3.6,
          3.7,
          3.7,
          3.8,
          3.7,
          3.7,
          3.8,
          3.5,
          3.7,
          3.6,
          3.5,
          3.6,
          3.6,
          3.7,
          3.5,
          3.6,
          3.9,
          3.7,
          3.5,
          3.6,
          3.6,
          3.9,
          3.5,
          3.5,
          3.6,
          3.8,
          3.7,
          3.5,
          3.5,
          3.5,
          3.7,
          3.6,
          3.7,
          3.7,
          3.7,
          3.7,
          3.6,
          3.5,
          3.7,
          3.8,
          3.9,
          3.7,
          3.6,
          3.5,
          3.8,
          3.5,
          3.8,
          3.7,
          3.5,
          3.7,
          3.5,
          3.6,
          3.5,
          3.7,
          3.5,
          3.8,
          3.5,
          3.5,
          3.5,
          3.8,
          3.6,
          3.5,
          3.8,
          3.5,
          3.7,
          3.7,
          3.6,
          3.6,
          3.5,
          3.5,
          3.5,
          3.7,
          3.7,
          3.7,
          3.9,
          3.6,
          3.6,
          3.6,
          3.9,
          3.7,
          3.6,
          3.5,
          3.6,
          3.8,
          3.6,
          3.8,
          3.6,
          3.8,
          3.8,
          3.7,
          3.8,
          3.5,
          3.5,
          3.8,
          3.9,
          3.7,
          3.6,
          3.8,
          3.5,
          3.6,
          3.5,
          3.8,
          3.9,
          3.5,
          3.6,
          3.9,
          3.7,
          3.5,
          3.6,
          3.9,
          3.7,
          3.8,
          3.5,
          3.9,
          3.5,
          3.5,
          3.5,
          3.5,
          3.6,
          3.9,
          3.8,
          3.8,
          3.8,
          3.6,
          3.8,
          3.5,
          3.6,
          3.5,
          3.8,
          3.6,
          3.5,
          3.5,
          3.6,
          3.6,
          3.7,
          3.5,
          3.7,
          3.9,
          3.5,
          3.6,
          3.6,
          3.6,
          3.9,
          3.9,
          3.6,
          3.7,
          3.5,
          3.7,
          3.6,
          3.9,
          3.6,
          3.5,
          3.5,
          3.6,
          3.5,
          3.5,
          3.5,
          3.7,
          3.6,
          3.6,
          3.6,
          3.5,
          3.6,
          3.9,
          3.8,
          3.8,
          3.7,
          3.5,
          3.5,
          3.9,
          3.7,
          3.5,
          3.6,
          3.6,
          3.6,
          3.6,
          3.8,
          3.6,
          3.6,
          3.7,
          3.6,
          3.8,
          3.9,
          3.7,
          3.7,
          3.9,
          3.6,
          3.7,
          3.6,
          3.9,
          3.8,
          3.7,
          3.6,
          3.5,
          3.6,
          3.5,
          3.6,
          3.5,
          3.5,
          3.7,
          3.5,
          3.9,
          3.8,
          3.7,
          3.6,
          3.8,
          3.5,
          3.9,
          3.8,
          3.8,
          3.9,
          3.7,
          3.5,
          3.7,
          3.6,
          3.9,
          3.5,
          3.7,
          3.8,
          3.8,
          3.6,
          3.9,
          3.9,
          3.8,
          3.7,
          3.8,
          3.7,
          3.8,
          3.6,
          3.6,
          3.7,
          3.8,
          3.9,
          3.8,
          3.5,
          3.6,
          3.6,
          3.8,
          3.7,
          3.7,
          3.6,
          3.5,
          3.5,
          3.5,
          3.6,
          3.5,
          3.5,
          3.8,
          3.5,
          3.5,
          3.5,
          3.8,
          3.6,
          3.8,
          3.9,
          3.5,
          3.9,
          3.5,
          3.5,
          3.6,
          3.6,
          3.7,
          3.5,
          3.5,
          3.6,
          3.7,
          3.5,
          3.8,
          3.9,
          3.9,
          3.7,
          3.7,
          3.6,
          3.6,
          3.9,
          3.7,
          3.7,
          3.6,
          3.8,
          3.7,
          3.6,
          3.8,
          3.8,
          3.7,
          3.5,
          3.7,
          3.8,
          3.7,
          3.9,
          3.5,
          3.7,
          3.5,
          3.6,
          3.8,
          3.5,
          3.8,
          3.6,
          3.9,
          3.9,
          3.6,
          3.9,
          3.9,
          3.5,
          3.7,
          3.5,
          3.9,
          3.6,
          3.9,
          3.6,
          3.7,
          3.6,
          3.7,
          3.9,
          3.9,
          3.7,
          3.6,
          3.9,
          3.6,
          3.7,
          3.6,
          3.6,
          3.7,
          3.9,
          3.6,
          3.9,
          3.8,
          3.6,
          3.5,
          3.9,
          3.8,
          3.7,
          3.9,
          3.9,
          3.7,
          3.6,
          3.5,
          3.8,
          3.6,
          3.5,
          3.8,
          3.6,
          3.5,
          3.6,
          3.5,
          3.7,
          3.8,
          3.5,
          3.5,
          3.5,
          3.5,
          3.7,
          3.8,
          3.5,
          3.7,
          3.9,
          3.9,
          3.5,
          3.8,
          3.8,
          3.6,
          3.6,
          3.8,
          3.5,
          3.7,
          3.5,
          3.5,
          3.6,
          3.6,
          3.6,
          3.8,
          3.6,
          3.8,
          3.7,
          3.6,
          3.6,
          3.7,
          3.6,
          3.5,
          3.5,
          3.5,
          3.5,
          3.8,
          3.5,
          3.7,
          3.9,
          3.6,
          3.6,
          3.7,
          3.6,
          3.5,
          3.9,
          3.8,
          3.7,
          3.7,
          3.6,
          3.9,
          3.7,
          3.8,
          3.7,
          3.6,
          3.5,
          3.5,
          3.7,
          3.9,
          3.7,
          3.6,
          3.9,
          3.6,
          3.6,
          3.9,
          3.8,
          3.9,
          3.7,
          3.6,
          3.8,
          3.8,
          3.6,
          3.7,
          3.8,
          3.9,
          3.6,
          3.9,
          3.7,
          3.5,
          3.6,
          3.8,
          3.5,
          3.5,
          3.7,
          3.6,
          3.6,
          3.7,
          3.8,
          3.6,
          3.9,
          3.5,
          3.7,
          3.8,
          3.8,
          3.9,
          3.8,
          3.8,
          3.8,
          3.7,
          3.5,
          3.5,
          3.9,
          3.6,
          3.8,
          3.8,
          3.7,
          3.9,
          3.9,
          3.6,
          3.7,
          3.5,
          3.6,
          3.6,
          3.5,
          3.7,
          3.7,
          3.8,
          3.8,
          3.5,
          3.5,
          3.6,
          3.6,
          3.7,
          3.5,
          3.9,
          3.5,
          3.5,
          3.6,
          3.5,
          3.5,
          3.5,
          3.8,
          3.6,
          3.6,
          3.6,
          3.6,
          3.5,
          3.5,
          3.7,
          3.6,
          3.9,
          3.7,
          3.5,
          3.7,
          3.8,
          3.5,
          3.5,
          3.5,
          3.9,
          3.8,
          3.9,
          3.9,
          3.7,
          3.7,
          3.7,
          3.8,
          3.9,
          3.9,
          3.9,
          3.9,
          3.6,
          3.7,
          3.5,
          3.7,
          3.8,
          3.9,
          3.7,
          3.6,
          3.7,
          3.8,
          3.8,
          3.5,
          3.8,
          3.5,
          3.6,
          3.5,
          3.9,
          3.6,
          3.6,
          3.5,
          3.5,
          3.8,
          3.5,
          3.6,
          3.5,
          3.5,
          3.7,
          3.5,
          3.8,
          3.7,
          3.6,
          3.6,
          3.6,
          3.6,
          3.5,
          3.7,
          3.9,
          3.9,
          3.6,
          3.5,
          3.6,
          3.5,
          3.7,
          3.9,
          3.5,
          3.6,
          3.9,
          3.6,
          3.7,
          3.8,
          3.7,
          3.6,
          3.5,
          3.8,
          3.8,
          3.5,
          3.6,
          3.8,
          3.8,
          3.8,
          3.5,
          3.5,
          3.9,
          3.6,
          3.6,
          3.7,
          3.9,
          3.8,
          3.6,
          3.9,
          3.7,
          3.9,
          3.7,
          3.5,
          3.8,
          3.6,
          3.5,
          3.5,
          3.6,
          3.5,
          3.7,
          3.5,
          3.6,
          3.6,
          3.6,
          3.6,
          3.5,
          3.5,
          3.5,
          3.5,
          3.7,
          3.9,
          3.7,
          3.7,
          3.7,
          3.6,
          3.7,
          3.7,
          3.8,
          3.6,
          3.7,
          3.7,
          3.5,
          3.6,
          3.7,
          3.8,
          3.7,
          3.9,
          3.7,
          3.5,
          3.6,
          3.5,
          3.7,
          3.6,
          3.5,
          3.5,
          3.7,
          3.7,
          3.8,
          3.5,
          3.8,
          3.5,
          3.6,
          3.5,
          3.6,
          3.7,
          3.6,
          3.6,
          3.5,
          3.8,
          3.5,
          3.5,
          3.5,
          3.8,
          3.5,
          3.6,
          3.7,
          3.5,
          3.5,
          3.6,
          3.6,
          3.6,
          3.9,
          3.5,
          3.5,
          3.5,
          3.5,
          3.6,
          3.5,
          3.7,
          3.6,
          3.7,
          3.5,
          3.5,
          3.5,
          3.5,
          3.5,
          3.5,
          3.5,
          3.6,
          3.7,
          3.6,
          3.6,
          3.6,
          3.5,
          3.5,
          3.8,
          3.8,
          3.7,
          3.5,
          3.8,
          3.6,
          3.6,
          3.8,
          3.8,
          3.9,
          3.7,
          3.5,
          3.8,
          3.5,
          3.8,
          3.6,
          3.6,
          3.7,
          3.7,
          3.6,
          3.5,
          3.7,
          3.6,
          3.5,
          3.5,
          3.8,
          3.9,
          3.9,
          3.7,
          3.9,
          3.9,
          3.6,
          3.6,
          3.8,
          3.8,
          3.8,
          3.9,
          3.8,
          3.8,
          3.5,
          3.5,
          3.9,
          3.9,
          3.7,
          3.7,
          3.6,
          3.7,
          3.8,
          3.5,
          3.5,
          3.6,
          3.5,
          3.5,
          3.5,
          3.7,
          3.8,
          3.8,
          3.6,
          3.5,
          3.6,
          3.7,
          3.6,
          3.7,
          3.8,
          3.7,
          3.9,
          3.7,
          3.5,
          3.7,
          3.7,
          3.9,
          3.7,
          3.9,
          3.8,
          3.6,
          3.8,
          3.7,
          3.9,
          3.8,
          3.8,
          3.8,
          3.7,
          3.9,
          3.5,
          3.8,
          3.9,
          3.9,
          3.6,
          3.7,
          3.8,
          3.8,
          3.6,
          3.7,
          3.8,
          3.9,
          3.9,
          3.7,
          3.7,
          3.9,
          3.8,
          3.8,
          3.6,
          3.8,
          3.9,
          3.8,
          3.9,
          3.9,
          3.8,
          3.7,
          3.6,
          3.5,
          3.8,
          3.8,
          3.7,
          3.7
         ],
         "yaxis": "y"
        },
        {
         "hovertemplate": "rating_text=Average<br>average_cost_two=%{x}<br>agg_rating=%{y}<extra></extra>",
         "legendgroup": "Average",
         "marker": {
          "color": "#ab63fa",
          "symbol": "circle"
         },
         "mode": "markers",
         "name": "Average",
         "showlegend": true,
         "type": "scattergl",
         "x": [
          55,
          50,
          80,
          100,
          240,
          350,
          70,
          200,
          25,
          10,
          0,
          0,
          10,
          0,
          10,
          20,
          25,
          10,
          25,
          25,
          25,
          10,
          25,
          10,
          25,
          25,
          20,
          0,
          120,
          20,
          25,
          40,
          300,
          80,
          50,
          80,
          30,
          60,
          60,
          95,
          75,
          25,
          25,
          10,
          25,
          25,
          285,
          1100,
          500,
          350,
          500,
          600,
          600,
          600,
          500,
          400,
          800,
          700,
          400,
          500,
          0,
          500,
          800,
          700,
          800,
          500,
          1200,
          600,
          850,
          600,
          700,
          350,
          450,
          1800,
          500,
          500,
          400,
          700,
          450,
          400,
          650,
          600,
          450,
          500,
          200,
          600,
          1000,
          800,
          250,
          500,
          150,
          150,
          100,
          300,
          300,
          350,
          300,
          600,
          500,
          700,
          400,
          200,
          800,
          250,
          1000,
          500,
          500,
          450,
          500,
          150,
          450,
          700,
          800,
          300,
          450,
          700,
          200,
          1500,
          600,
          400,
          450,
          600,
          500,
          200,
          600,
          500,
          500,
          400,
          950,
          600,
          300,
          400,
          300,
          400,
          400,
          500,
          250,
          800,
          300,
          400,
          400,
          700,
          600,
          500,
          300,
          400,
          100,
          500,
          700,
          200,
          700,
          200,
          100,
          350,
          200,
          650,
          200,
          100,
          700,
          350,
          350,
          400,
          800,
          500,
          500,
          150,
          100,
          600,
          1000,
          400,
          300,
          500,
          500,
          700,
          350,
          500,
          550,
          700,
          700,
          500,
          200,
          250,
          100,
          300,
          150,
          450,
          500,
          450,
          600,
          650,
          550,
          500,
          450,
          500,
          300,
          500,
          500,
          200,
          100,
          550,
          500,
          400,
          550,
          550,
          300,
          600,
          350,
          400,
          700,
          1400,
          1900,
          150,
          150,
          2500,
          650,
          300,
          500,
          450,
          600,
          1500,
          600,
          700,
          500,
          600,
          700,
          500,
          100,
          400,
          550,
          350,
          800,
          250,
          200,
          200,
          1200,
          500,
          350,
          1500,
          2500,
          600,
          700,
          400,
          900,
          500,
          500,
          1000,
          1300,
          2700,
          700,
          1000,
          1200,
          1700,
          700,
          500,
          650,
          450,
          700,
          1500,
          500,
          500,
          800,
          300,
          350,
          500,
          600,
          800,
          150,
          800,
          200,
          250,
          600,
          750,
          550,
          650,
          650,
          700,
          200,
          500,
          500,
          600,
          350,
          400,
          400,
          200,
          700,
          350,
          450,
          450,
          400,
          600,
          200,
          600,
          600,
          300,
          700,
          300,
          550,
          550,
          450,
          300,
          300,
          150,
          400,
          400,
          400,
          600,
          400,
          350,
          300,
          200,
          1000,
          500,
          500,
          200,
          100,
          300,
          550,
          300,
          600,
          700,
          550,
          350,
          500,
          400,
          350,
          600,
          400,
          550,
          1000,
          500,
          600,
          400,
          1100,
          800,
          2000,
          650,
          500,
          2000,
          500,
          1100,
          800,
          800,
          500,
          2500,
          300,
          1000,
          400,
          1000,
          550,
          800,
          850,
          800,
          800,
          1000,
          600,
          500,
          500,
          400,
          1400,
          1500,
          1000,
          1300,
          450,
          500,
          1000,
          300,
          1850,
          1500,
          1600,
          1900,
          1400,
          1200,
          2000,
          300,
          650,
          400,
          300,
          450,
          800,
          750,
          550,
          1800,
          1200,
          400,
          600,
          1200,
          600,
          2200,
          600,
          650,
          350,
          500,
          450,
          800,
          550,
          650,
          600,
          750,
          500,
          750,
          700,
          500,
          350,
          700,
          450,
          1500,
          200,
          400,
          500,
          500,
          700,
          100,
          350,
          200,
          400,
          600,
          600,
          150,
          200,
          1000,
          500,
          450,
          250,
          400,
          500,
          400,
          600,
          800,
          400,
          700,
          450,
          150,
          150,
          400,
          700,
          500,
          250,
          200,
          200,
          1800,
          800,
          300,
          350,
          450,
          700,
          200,
          550,
          200,
          200,
          600,
          400,
          800,
          250,
          300,
          350,
          400,
          250,
          1500,
          3000,
          1200,
          2000,
          350,
          650,
          450,
          400,
          700,
          900,
          700,
          350,
          500,
          250,
          500,
          200,
          500,
          700,
          200,
          250,
          200,
          1500,
          150,
          400,
          400,
          800,
          300,
          300,
          450,
          300,
          200,
          200,
          200,
          500,
          600,
          200,
          200,
          400,
          350,
          200,
          200,
          250,
          500,
          300,
          300,
          600,
          800,
          400,
          600,
          400,
          500,
          450,
          600,
          600,
          650,
          650,
          900,
          900,
          200,
          600,
          400,
          1000,
          400,
          400,
          1000,
          500,
          500,
          350,
          650,
          450,
          300,
          350,
          600,
          700,
          600,
          400,
          400,
          600,
          1100,
          700,
          600,
          500,
          800,
          900,
          1800,
          800,
          600,
          1400,
          500,
          450,
          300,
          450,
          250,
          200,
          200,
          850,
          500,
          200,
          150,
          350,
          500,
          250,
          600,
          500,
          350,
          450,
          300,
          400,
          500,
          500,
          150,
          600,
          600,
          550,
          600,
          500,
          200,
          500,
          600,
          250,
          600,
          500,
          300,
          700,
          200,
          500,
          300,
          800,
          600,
          300,
          120,
          400,
          600,
          100,
          600,
          600,
          600,
          300,
          300,
          300,
          350,
          500,
          700,
          600,
          500,
          200,
          650,
          600,
          750,
          500,
          150,
          300,
          600,
          500,
          300,
          600,
          200,
          350,
          450,
          200,
          350,
          200,
          250,
          700,
          100,
          450,
          500,
          1000,
          400,
          200,
          500,
          400,
          550,
          600,
          150,
          600,
          1000,
          750,
          300,
          400,
          600,
          400,
          400,
          500,
          500,
          800,
          500,
          1500,
          1350,
          600,
          600,
          100,
          700,
          600,
          650,
          950,
          500,
          850,
          500,
          400,
          700,
          450,
          300,
          1000,
          700,
          1000,
          600,
          250,
          500,
          600,
          400,
          500,
          700,
          650,
          700,
          200,
          400,
          500,
          600,
          1200,
          300,
          2500,
          2400,
          2000,
          2500,
          1500,
          800,
          1600,
          3000,
          650,
          3000,
          2000,
          700,
          2000,
          600,
          200,
          200,
          1000,
          650,
          800,
          500,
          700,
          400,
          500,
          150,
          400,
          500,
          600,
          450,
          600,
          600,
          600,
          300,
          500,
          300,
          400,
          500,
          400,
          200,
          700,
          600,
          200,
          250,
          250,
          400,
          150,
          250,
          700,
          150,
          200,
          400,
          550,
          400,
          200,
          650,
          1300,
          650,
          1000,
          550,
          800,
          350,
          850,
          290,
          1500,
          500,
          150,
          600,
          700,
          600,
          800,
          800,
          1000,
          900,
          350,
          1500,
          500,
          500,
          400,
          400,
          450,
          600,
          800,
          700,
          550,
          900,
          1000,
          200,
          1500,
          400,
          900,
          1000,
          400,
          200,
          450,
          400,
          400,
          150,
          350,
          600,
          300,
          800,
          600,
          400,
          450,
          200,
          150,
          500,
          250,
          500,
          450,
          600,
          800,
          500,
          700,
          450,
          200,
          400,
          150,
          500,
          200,
          400,
          650,
          500,
          250,
          400,
          600,
          200,
          250,
          600,
          400,
          200,
          650,
          1500,
          500,
          800,
          1600,
          500,
          350,
          500,
          350,
          200,
          500,
          600,
          200,
          200,
          400,
          200,
          1000,
          450,
          150,
          300,
          500,
          700,
          650,
          300,
          300,
          1000,
          600,
          1200,
          350,
          550,
          300,
          500,
          300,
          700,
          500,
          600,
          500,
          550,
          400,
          450,
          600,
          600,
          200,
          600,
          550,
          450,
          400,
          700,
          1200,
          1000,
          800,
          300,
          1700,
          1000,
          1500,
          1500,
          300,
          2000,
          200,
          1100,
          250,
          250,
          150,
          850,
          600,
          700,
          700,
          450,
          450,
          800,
          450,
          800,
          800,
          700,
          900,
          600,
          200,
          1650,
          500,
          900,
          700,
          700,
          700,
          600,
          300,
          200,
          150,
          700,
          200,
          300,
          500,
          400,
          300,
          150,
          300,
          150,
          100,
          300,
          550,
          200,
          400,
          350,
          250,
          300,
          450,
          100,
          500,
          500,
          300,
          100,
          50,
          150,
          150,
          100,
          150,
          100,
          100,
          100,
          100,
          400,
          400,
          300,
          250,
          100,
          450,
          550,
          100,
          500,
          300,
          800,
          500,
          300,
          1000,
          250,
          500,
          150,
          400,
          600,
          500,
          300,
          400,
          250,
          500,
          300,
          500,
          600,
          550,
          250,
          350,
          1000,
          500,
          250,
          1200,
          150,
          1200,
          1300,
          2000,
          600,
          300,
          1200,
          400,
          150,
          400,
          300,
          600,
          400,
          750,
          450,
          300,
          600,
          1600,
          500,
          500,
          200,
          450,
          600,
          1800,
          1300,
          450,
          1350,
          600,
          400,
          1300,
          1600,
          200,
          1000,
          1000,
          600,
          1100,
          550,
          1900,
          1000,
          800,
          800,
          500,
          950,
          2000,
          1000,
          500,
          600,
          400,
          450,
          400,
          400,
          150,
          400,
          200,
          500,
          150,
          500,
          200,
          600,
          150,
          1200,
          100,
          650,
          200,
          300,
          600,
          700,
          300,
          900,
          600,
          700,
          700,
          600,
          500,
          300,
          400,
          400,
          350,
          450,
          500,
          250,
          300,
          150,
          600,
          1600,
          1600,
          450,
          550,
          600,
          600,
          600,
          300,
          300,
          500,
          500,
          100,
          400,
          400,
          800,
          600,
          450,
          450,
          300,
          700,
          200,
          300,
          450,
          350,
          100,
          850,
          100,
          300,
          150,
          900,
          600,
          350,
          300,
          600,
          1000,
          300,
          2000,
          250,
          200,
          700,
          400,
          1100,
          600,
          450,
          100,
          450,
          700,
          400,
          750,
          350,
          700,
          200,
          450,
          400,
          350,
          700,
          450,
          350,
          500,
          500,
          300,
          600,
          350,
          400,
          1200,
          600,
          700,
          200,
          250,
          400,
          450,
          500,
          300,
          500,
          300,
          500,
          400,
          500,
          800,
          350,
          200,
          300,
          100,
          400,
          600,
          600,
          800,
          500,
          400,
          1200,
          450,
          700,
          150,
          1800,
          550,
          550,
          700,
          1500,
          200,
          300,
          350,
          100,
          600,
          200,
          450,
          500,
          300,
          100,
          150,
          400,
          300,
          400,
          500,
          250,
          400,
          500,
          300,
          700,
          200,
          650,
          350,
          400,
          500,
          400,
          350,
          500,
          250,
          1000,
          650,
          300,
          350,
          700,
          500,
          700,
          100,
          450,
          300,
          400,
          300,
          200,
          400,
          500,
          1100,
          350,
          550,
          1400,
          400,
          400,
          350,
          700,
          250,
          1000,
          400,
          300,
          350,
          450,
          600,
          500,
          250,
          300,
          700,
          800,
          600,
          1300,
          1800,
          300,
          1500,
          650,
          200,
          500,
          800,
          150,
          500,
          350,
          200,
          300,
          550,
          350,
          300,
          500,
          300,
          500,
          2700,
          750,
          300,
          1000,
          200,
          250,
          800,
          1000,
          800,
          500,
          2000,
          350,
          300,
          850,
          400,
          350,
          500,
          350,
          1000,
          300,
          1800,
          1100,
          700,
          400,
          250,
          300,
          300,
          1900,
          650,
          500,
          700,
          950,
          650,
          300,
          700,
          200,
          500,
          1250,
          450,
          1900,
          300,
          600,
          450,
          800,
          800,
          600,
          700,
          600,
          300,
          750,
          400,
          300,
          700,
          500,
          1000,
          1500,
          1700,
          600,
          1000,
          250,
          800,
          400,
          400,
          1000,
          300,
          1000,
          450,
          150,
          300,
          1100,
          150,
          450,
          450,
          600,
          100,
          550,
          650,
          400,
          1300,
          650,
          400,
          300,
          400,
          400,
          600,
          300,
          400,
          250,
          800,
          300,
          1700,
          800,
          350,
          750,
          250,
          1000,
          100,
          1100,
          300,
          150,
          400,
          700,
          350,
          1000,
          500,
          400,
          350,
          500,
          800,
          800,
          250,
          150,
          800,
          350,
          300,
          600,
          350,
          500,
          500,
          250,
          150,
          450,
          500,
          500,
          250,
          350,
          350,
          350,
          1600,
          1900,
          1200,
          350,
          1000,
          2000,
          1100,
          2000,
          700,
          3000,
          2500,
          2500,
          1500,
          500,
          600,
          350,
          200,
          400,
          500,
          400,
          1500,
          300,
          200,
          300,
          100,
          200,
          450,
          350,
          550,
          950,
          150,
          100,
          450,
          650,
          400,
          200,
          350,
          400,
          2000,
          1000,
          400,
          200,
          500,
          350,
          100,
          400,
          300,
          150,
          450,
          400,
          600,
          350,
          300,
          100,
          350,
          200,
          400,
          350,
          300,
          150,
          600,
          200,
          2500,
          800,
          400,
          300,
          450,
          250,
          250,
          400,
          450,
          400,
          100,
          500,
          550,
          500,
          400,
          250,
          600,
          200,
          300,
          250,
          300,
          200,
          450,
          450,
          400,
          200,
          350,
          100,
          500,
          200,
          150,
          300,
          500,
          650,
          600,
          800,
          450,
          600,
          700,
          700,
          400,
          400,
          600,
          700,
          600,
          1000,
          600,
          350,
          450,
          700,
          700,
          500,
          500,
          600,
          1400,
          800,
          400,
          450,
          150,
          300,
          400,
          250,
          400,
          400,
          450,
          500,
          400,
          350,
          450,
          200,
          200,
          500,
          100,
          450,
          500,
          600,
          600,
          200,
          500,
          400,
          500,
          500,
          500,
          650,
          400,
          600,
          750,
          450,
          600,
          2000,
          500,
          550,
          1000,
          150,
          200,
          3000,
          350,
          400,
          800,
          1100,
          450,
          300,
          300,
          200,
          400,
          1000,
          800,
          500,
          150,
          950,
          800,
          1000,
          500,
          1500,
          3500,
          2500,
          3000,
          500,
          400,
          1250,
          400,
          900,
          300,
          350,
          150,
          300,
          500,
          450,
          4500,
          300,
          150,
          150,
          200,
          500,
          700,
          600,
          1750,
          250,
          300,
          100,
          300,
          150,
          200,
          550,
          200,
          450,
          200,
          200,
          550,
          600,
          400,
          250,
          600,
          400,
          200,
          350,
          500,
          500,
          250,
          400,
          250,
          250,
          350,
          400,
          450,
          400,
          150,
          250,
          550,
          500,
          350,
          800,
          250,
          200,
          450,
          150,
          250,
          250,
          700,
          550,
          350,
          450,
          650,
          700,
          400,
          350,
          550,
          300,
          300,
          250,
          400,
          450,
          650,
          300,
          800,
          450,
          700,
          1200,
          500,
          400,
          550,
          650,
          800,
          150,
          800,
          650,
          400,
          600,
          300,
          400,
          750,
          800,
          300,
          550,
          600,
          700,
          600,
          600,
          450,
          350,
          450,
          350,
          300,
          200,
          550,
          850,
          1000,
          1300,
          1500,
          500,
          250,
          200,
          800,
          1100,
          450,
          450,
          600,
          600,
          700,
          700,
          400,
          400,
          700,
          200,
          500,
          150,
          450,
          750,
          350,
          600,
          500,
          400,
          300,
          350,
          1100,
          700,
          800,
          150,
          350,
          550,
          550,
          600,
          450,
          900,
          650,
          650,
          400,
          750,
          400,
          1400,
          500,
          350,
          400,
          500,
          1000,
          300,
          650,
          150,
          800,
          1100,
          250,
          450,
          700,
          400,
          450,
          450,
          150,
          500,
          550,
          1200,
          200,
          1100,
          800,
          750,
          700,
          650,
          400,
          350,
          700,
          350,
          550,
          300,
          500,
          350,
          600,
          550,
          300,
          300,
          400,
          450,
          450,
          800,
          400,
          600,
          1200,
          600,
          50,
          800,
          300,
          600,
          2500,
          1100,
          550,
          200,
          250,
          200,
          300,
          300,
          400,
          350,
          150,
          500,
          100,
          500,
          150,
          650,
          500,
          350,
          700,
          700,
          150,
          700,
          300,
          500,
          350,
          400,
          100,
          400,
          300,
          400,
          400,
          100,
          600,
          450,
          400,
          100,
          550,
          500,
          800,
          250,
          500,
          500,
          600,
          800,
          350,
          200,
          300,
          400,
          250,
          500,
          100,
          250,
          250,
          400,
          450,
          150,
          600,
          100,
          550,
          700,
          100,
          400,
          450,
          300,
          600,
          1000,
          500,
          700,
          650,
          550,
          650,
          800,
          250,
          500,
          600,
          500,
          300,
          300,
          300,
          600,
          500,
          550,
          200,
          450,
          450,
          250,
          400,
          250,
          400,
          500,
          350,
          500,
          250,
          450,
          450,
          200,
          200,
          200,
          100,
          150,
          250,
          250,
          700,
          600,
          250,
          200,
          200,
          500,
          400,
          500,
          400,
          300,
          600,
          900,
          300,
          200,
          500,
          400,
          300,
          350,
          200,
          500,
          300,
          350,
          300,
          350,
          250,
          250,
          2000,
          600,
          650,
          650,
          400,
          1000,
          700,
          650,
          150,
          1000,
          250,
          700,
          250,
          200,
          400,
          1500,
          450,
          400,
          500,
          250,
          350,
          850,
          1000,
          700,
          200,
          350,
          400,
          700,
          500,
          600,
          2200,
          500,
          450,
          400,
          500,
          700,
          550,
          300,
          150,
          500,
          400,
          200,
          1000,
          200,
          600,
          550,
          300,
          600,
          600,
          400,
          600,
          700,
          950,
          800,
          550,
          500,
          900,
          500,
          900,
          300,
          550,
          1000,
          200,
          450,
          2000,
          3200,
          3000,
          500,
          500,
          450,
          450,
          700,
          400,
          450,
          450,
          1550,
          500,
          350,
          650,
          800,
          800,
          650,
          500,
          200,
          800,
          200,
          400,
          400,
          300,
          300,
          600,
          250,
          550,
          800,
          400,
          800,
          700,
          150,
          500,
          800,
          500,
          850,
          800,
          600,
          600,
          350,
          300,
          300,
          300,
          350,
          350,
          400,
          300,
          150,
          250,
          450,
          350,
          700,
          300,
          450,
          150,
          150,
          350,
          300,
          150,
          300,
          1100,
          500,
          250,
          750,
          300,
          350,
          150,
          650,
          200,
          500,
          200,
          100,
          900,
          350,
          250,
          500,
          350,
          650,
          400,
          300,
          300,
          500,
          250,
          100,
          500,
          250,
          400,
          600,
          400,
          350,
          350,
          300,
          200,
          600,
          400,
          250,
          600,
          400,
          2000,
          550,
          100,
          100,
          300,
          350,
          300,
          300,
          500,
          300,
          500,
          250,
          250,
          250,
          500,
          300,
          400,
          1000,
          400,
          150,
          700,
          450,
          900,
          300,
          300,
          400,
          400,
          400,
          450,
          100,
          500,
          200,
          200,
          300,
          400,
          250,
          500,
          900,
          150,
          350,
          400,
          250,
          400,
          500,
          1000,
          1000,
          700,
          500,
          2000,
          2100,
          1200,
          250,
          400,
          200,
          700,
          400,
          800,
          1200,
          400,
          500,
          500,
          700,
          400,
          200,
          850,
          300,
          500,
          450,
          600,
          200,
          400,
          400,
          150,
          800,
          400,
          650,
          300,
          500,
          500,
          300,
          800,
          300,
          400,
          700,
          600,
          400,
          500,
          350,
          500,
          350,
          700,
          250,
          750,
          300,
          700,
          400,
          300,
          500,
          150,
          500,
          150,
          700,
          300,
          600,
          550,
          500,
          900,
          500,
          200,
          400,
          200,
          100,
          200,
          300,
          300,
          300,
          350,
          200,
          350,
          400,
          450,
          100,
          200,
          250,
          200,
          150,
          400,
          500,
          100,
          200,
          700,
          250,
          400,
          250,
          350,
          250,
          350,
          400,
          1000,
          500,
          600,
          200,
          500,
          350,
          200,
          700,
          250,
          250,
          500,
          400,
          650,
          150,
          150,
          500,
          200,
          450,
          300,
          150,
          500,
          350,
          750,
          200,
          200,
          350,
          300,
          150,
          900,
          250,
          150,
          100,
          1100,
          150,
          600,
          120,
          200,
          150,
          350,
          300,
          400,
          1900,
          150,
          450,
          450,
          450,
          300,
          700,
          150,
          200,
          250,
          200,
          250,
          250,
          400,
          450,
          1000,
          1800,
          300,
          550,
          450,
          500,
          300,
          450,
          300,
          700,
          550,
          300,
          300,
          400,
          1000,
          1000,
          350,
          450,
          500,
          600,
          500,
          1400,
          2500,
          700,
          350,
          800,
          500,
          650,
          400,
          700,
          600,
          700,
          350,
          250,
          350,
          450,
          400,
          500,
          500,
          550,
          800,
          700,
          350,
          550,
          200,
          250,
          750,
          600,
          800,
          1000,
          300,
          350,
          350,
          350,
          250,
          500,
          500,
          700,
          1100,
          500,
          200,
          750,
          800,
          700,
          500,
          600,
          200,
          250,
          400,
          500,
          150,
          400,
          800,
          700,
          400,
          600,
          600,
          500,
          450,
          350,
          600,
          1100,
          200,
          900,
          700,
          700,
          550,
          600,
          500,
          300,
          850,
          250,
          800,
          200,
          200,
          250,
          200,
          400,
          900,
          1000,
          300,
          800,
          700,
          800,
          200,
          700,
          1000,
          600,
          500,
          300,
          350,
          800,
          1300,
          200,
          500,
          600,
          800,
          100,
          300,
          250,
          200,
          600,
          850,
          1400,
          600,
          900,
          600,
          550,
          200,
          1100,
          300,
          200,
          600,
          400,
          400,
          200,
          650,
          100,
          200,
          450,
          150,
          100,
          500,
          400,
          400,
          550,
          700,
          400,
          250,
          350,
          350,
          500,
          400,
          250,
          450,
          350,
          600,
          200,
          300,
          300,
          500,
          700,
          350,
          300,
          100,
          700,
          150,
          400,
          300,
          600,
          500,
          500,
          250,
          300,
          700,
          800,
          800,
          200,
          450,
          400,
          650,
          350,
          600,
          150,
          450,
          250,
          250,
          800,
          200,
          300,
          550,
          1200,
          400,
          500,
          450,
          400,
          500,
          2000,
          1100,
          300,
          100,
          300,
          350,
          650,
          1600,
          400,
          650,
          500,
          400,
          600,
          600,
          450,
          1000,
          250,
          700,
          700,
          400,
          600,
          400,
          400,
          200,
          150,
          500,
          200,
          400,
          500,
          600,
          350,
          400,
          500,
          500,
          600,
          400,
          550,
          500,
          750,
          400,
          600,
          400,
          600,
          400,
          500,
          600,
          600,
          500,
          1000,
          400,
          300,
          500,
          250,
          100,
          300,
          600,
          300,
          600,
          150,
          500,
          200,
          400,
          150,
          2400,
          350,
          550,
          1800,
          800,
          500,
          800,
          800,
          700,
          400,
          250,
          350,
          300,
          600,
          700,
          300,
          150,
          400,
          300,
          250,
          200,
          350,
          200,
          500,
          800,
          250,
          450,
          500,
          2000,
          2200,
          2500,
          250,
          1300,
          800,
          550,
          300,
          800,
          600,
          500,
          300,
          800,
          650,
          800,
          700,
          350,
          500,
          400,
          600,
          600,
          550,
          300,
          600,
          1300,
          500,
          600,
          1200,
          450,
          400,
          800,
          1200,
          500,
          150,
          800,
          500,
          1800,
          750,
          300,
          450,
          500,
          700,
          850,
          1300,
          500,
          250,
          600,
          250,
          350,
          100,
          900,
          350,
          200,
          600,
          450,
          150,
          650,
          400,
          450,
          2500,
          2000,
          2500,
          500,
          1100,
          450,
          600,
          850,
          800,
          300,
          150,
          450,
          450,
          350,
          120,
          600,
          100,
          700,
          200,
          600,
          750,
          350,
          500,
          300,
          300,
          300,
          300,
          350,
          200,
          300,
          300,
          650,
          500,
          400,
          100,
          350,
          750,
          900,
          250,
          350,
          1000,
          250,
          600,
          300,
          150,
          800,
          300,
          600,
          600,
          400,
          600,
          300,
          300,
          250,
          200,
          600,
          400,
          250,
          500,
          600,
          300,
          500,
          900,
          250,
          500,
          700,
          350,
          350,
          750,
          500,
          500,
          100,
          1400,
          500,
          400,
          250,
          700,
          700,
          600,
          800,
          500,
          1100,
          650,
          1300,
          700,
          350,
          100,
          600,
          700,
          800,
          750,
          350,
          600,
          400,
          550,
          200,
          300,
          400,
          500,
          750,
          300,
          400,
          300,
          300,
          450,
          200,
          350,
          550,
          350,
          550,
          700,
          700,
          250,
          500,
          150,
          500,
          450,
          1000,
          400,
          650,
          450,
          800,
          1000,
          150,
          1000,
          500,
          400,
          3700,
          700,
          500,
          300,
          250,
          400,
          300,
          200,
          500,
          550,
          750,
          450,
          700,
          500,
          300,
          700,
          500,
          300,
          800,
          400,
          500,
          650,
          300,
          350,
          300,
          350,
          600,
          300,
          500,
          450,
          500,
          700,
          350,
          200,
          400,
          800,
          400,
          900,
          600,
          500,
          500,
          500,
          600,
          400,
          600,
          400,
          500,
          200,
          100,
          350,
          500,
          350,
          300,
          100,
          450,
          1000,
          250,
          1300,
          1500,
          400,
          700,
          200,
          600,
          100,
          600,
          300,
          150,
          800,
          1000,
          300,
          550,
          700,
          300,
          700,
          300,
          2500,
          600,
          100,
          500,
          700,
          350,
          350,
          300,
          200,
          150,
          600,
          500,
          650,
          100,
          150,
          300,
          250,
          400,
          700,
          400,
          300,
          500,
          450,
          400,
          500,
          500,
          300,
          500,
          350,
          300,
          300,
          500,
          600,
          100,
          450,
          800,
          300,
          200,
          300,
          450,
          250,
          450,
          800,
          1200,
          350,
          200,
          600,
          300,
          600,
          500,
          700,
          850,
          1000,
          550,
          300,
          600,
          600,
          250,
          650,
          200,
          450,
          100,
          450,
          150,
          100,
          300,
          500,
          100,
          250,
          300,
          550,
          400,
          700,
          100,
          400,
          300,
          300,
          600,
          200,
          300,
          150,
          250,
          200,
          350,
          350,
          300,
          550,
          450,
          450,
          400,
          300,
          550,
          100,
          150,
          150,
          200,
          450,
          600,
          550,
          500,
          700,
          800,
          650,
          400,
          300,
          200,
          450,
          500,
          200,
          500,
          450,
          350,
          400,
          300,
          250,
          100,
          300,
          400,
          200,
          150,
          450,
          700,
          200,
          350,
          700,
          200,
          400,
          200,
          400,
          150,
          500,
          350,
          300,
          300,
          150,
          600,
          400,
          250,
          250,
          500,
          400,
          500,
          200,
          600,
          350,
          400,
          500,
          300,
          450,
          3500,
          450,
          700,
          350,
          700,
          800,
          500,
          800,
          500,
          500,
          400,
          100,
          450,
          250,
          300,
          500,
          600,
          700,
          600,
          600,
          400,
          600,
          400,
          600,
          1200,
          400,
          150,
          350,
          2200,
          2500,
          600,
          400,
          350,
          450,
          850,
          1100,
          1250,
          800,
          1400,
          250,
          100,
          600,
          200,
          400,
          400,
          200,
          150,
          250,
          200,
          350,
          150,
          300,
          300,
          150,
          400,
          600,
          600,
          400,
          400,
          200,
          250,
          250,
          600,
          200,
          200,
          450,
          400,
          300,
          100,
          250,
          600,
          250,
          3000,
          800,
          500,
          2200,
          1600,
          2000,
          2650,
          2000,
          6000,
          3000,
          1000,
          900,
          250,
          300,
          700,
          900,
          1600,
          4500,
          400,
          3000,
          3500,
          3000,
          900,
          5000,
          3000,
          2500,
          500,
          100,
          250,
          450,
          200,
          150,
          150,
          300,
          350,
          350,
          300,
          300,
          350,
          350,
          300,
          150,
          350,
          500,
          250,
          100,
          550,
          200,
          150,
          150,
          300,
          300,
          750,
          350,
          200,
          100,
          250,
          500,
          200,
          200,
          350,
          250,
          300,
          700,
          300,
          100,
          300,
          150,
          300,
          300,
          100,
          150,
          300,
          350,
          500,
          200,
          200,
          400,
          50,
          50,
          250,
          300,
          400,
          300,
          200,
          400,
          200,
          650,
          450,
          300,
          1200,
          700,
          200,
          400,
          250,
          450,
          600,
          250,
          400,
          1200,
          250,
          500,
          1500,
          600,
          600,
          600,
          1100,
          600,
          2200,
          800,
          700,
          600,
          650,
          500,
          350,
          650,
          150,
          150,
          400,
          900,
          250,
          1500,
          350,
          300,
          150,
          600,
          400,
          300,
          700,
          1100,
          300,
          200,
          50,
          150,
          350,
          500,
          400,
          400,
          700,
          450,
          300,
          250,
          350,
          550,
          200,
          400,
          100,
          200,
          800,
          300,
          300,
          300,
          200,
          500,
          200,
          350,
          200,
          400,
          800,
          800,
          300,
          250,
          300,
          300,
          150,
          400,
          450,
          200,
          500,
          400,
          350,
          400,
          750,
          850,
          100,
          350,
          600,
          300,
          100,
          100,
          300,
          600,
          300,
          500,
          200,
          300,
          200,
          350,
          300,
          600,
          300,
          650,
          350,
          350,
          400,
          400,
          250,
          300,
          400,
          550,
          450,
          100,
          100,
          350,
          250,
          800,
          500,
          200,
          1150,
          600,
          600,
          1100,
          300,
          100,
          350,
          100,
          400,
          450,
          350,
          200,
          400,
          300,
          600,
          450,
          400,
          400,
          400,
          400,
          300,
          400,
          250,
          150,
          350,
          500,
          400,
          600,
          500,
          350,
          600,
          150,
          400,
          250,
          350,
          600,
          300,
          350,
          600,
          1000,
          400,
          450,
          400,
          450,
          500,
          600,
          800,
          450,
          300,
          2600,
          1100,
          1500,
          350,
          1500,
          2000,
          350,
          650,
          350,
          600,
          1500,
          1800,
          1200,
          400,
          500,
          200,
          450,
          600,
          800,
          350,
          300,
          600,
          100,
          500,
          600,
          250,
          400,
          500,
          900,
          600,
          1000,
          600,
          600,
          500,
          500,
          300,
          1300,
          1000,
          500,
          350,
          600,
          400,
          300,
          600,
          1000,
          2000,
          900,
          1500,
          500,
          600,
          500,
          300,
          950,
          600,
          500,
          450,
          700,
          1000,
          500,
          350,
          450,
          2200,
          1700,
          200,
          450,
          800,
          550,
          400,
          500,
          2000,
          200,
          100,
          600,
          800,
          300,
          600,
          400,
          500,
          1100,
          400,
          1400,
          400,
          400,
          300,
          200,
          350,
          400,
          600,
          150,
          500,
          1000,
          500,
          700,
          500,
          600,
          800,
          800,
          550,
          100,
          250,
          350,
          400,
          500,
          300,
          550,
          350,
          450,
          550,
          300,
          450,
          400,
          400,
          600,
          700,
          400,
          1400,
          200,
          400,
          400,
          500,
          300,
          150,
          500,
          400,
          200,
          350,
          150,
          800,
          250,
          300,
          250,
          500,
          400,
          200,
          650,
          700,
          300,
          500,
          400,
          1300,
          1200,
          150,
          700,
          250,
          100,
          1500,
          1600,
          600,
          1200,
          500,
          400,
          600,
          600,
          650,
          900,
          1000,
          700,
          600,
          600,
          600,
          1400,
          350,
          300,
          1300,
          1400,
          1400,
          1000,
          350,
          300,
          1100,
          500,
          400,
          300,
          600,
          250,
          500,
          450,
          350,
          550,
          500,
          400,
          300,
          600,
          400,
          200,
          600,
          450,
          150,
          250,
          400,
          450,
          450,
          200,
          300,
          400,
          350,
          600,
          200,
          100,
          500,
          100,
          300,
          600,
          300,
          500,
          200,
          200,
          600,
          400,
          350,
          300,
          450,
          400,
          500,
          300,
          550,
          550,
          900,
          300,
          100,
          800,
          500,
          500,
          500,
          400,
          400,
          400,
          650,
          500,
          400,
          650,
          600,
          400,
          500,
          400,
          600,
          300,
          350,
          300,
          400,
          700,
          150,
          500,
          600,
          350,
          450,
          300,
          400,
          400,
          600,
          550,
          500,
          600,
          450,
          1300,
          350,
          300,
          300,
          200,
          500,
          500,
          800,
          600,
          200,
          600,
          450,
          200,
          400,
          650,
          350,
          550,
          500,
          300,
          650,
          400,
          550,
          550,
          700,
          500,
          250,
          500,
          400,
          450,
          450,
          800,
          400,
          500,
          750,
          800,
          400,
          450,
          300,
          400,
          500,
          500,
          550,
          650,
          1300,
          650,
          350,
          150,
          350,
          650,
          800,
          150,
          800,
          600,
          650,
          650,
          500,
          150,
          300,
          500,
          500,
          650,
          650,
          600,
          300,
          400,
          650,
          300,
          350,
          350,
          150,
          300,
          650,
          200,
          1100,
          400,
          150,
          450,
          450,
          400,
          500,
          250,
          200,
          300,
          1500,
          700,
          700,
          400,
          300,
          350,
          200,
          400,
          350,
          250,
          500,
          400,
          200,
          650,
          200,
          400,
          650,
          1500,
          300,
          1000,
          800,
          400,
          750,
          250,
          500,
          500,
          900,
          300,
          600,
          500,
          750,
          450,
          300,
          400,
          700,
          500,
          500,
          200,
          400,
          500,
          350,
          150,
          600,
          400,
          500,
          850,
          500,
          400,
          550,
          800,
          450,
          650,
          150,
          500,
          500,
          350,
          300,
          400,
          500,
          400,
          200,
          400,
          300,
          200,
          500,
          600,
          500,
          800,
          500,
          500,
          400,
          100,
          550,
          350,
          1000,
          500,
          500,
          600,
          650,
          200,
          2000,
          1000,
          750,
          600,
          1000,
          800,
          1200,
          700,
          600,
          550,
          650,
          500,
          450,
          450,
          400,
          600,
          300,
          700,
          250,
          600,
          500,
          800,
          1200,
          700,
          250,
          1300,
          700,
          300,
          600,
          500,
          500,
          800,
          1000,
          600,
          700,
          500,
          450,
          1200,
          1000,
          400,
          400,
          650,
          500,
          500,
          650,
          450,
          500,
          400,
          2000,
          1500,
          450,
          650,
          800,
          400,
          350,
          600,
          1100,
          500,
          100000,
          10,
          15,
          30,
          20,
          15,
          150,
          80,
          200,
          2000,
          2000,
          50
         ],
         "xaxis": "x",
         "y": [
          3,
          3.2,
          3.1,
          3.1,
          3.2,
          3.3,
          3.1,
          3.4,
          3.3,
          3.3,
          3.4,
          3.4,
          3.4,
          3.4,
          3.4,
          3.2,
          3.1,
          3.3,
          3,
          3.4,
          3.2,
          3.4,
          3.3,
          3.4,
          3.3,
          3.4,
          2.9,
          3.4,
          2.6,
          3.4,
          3.3,
          3.3,
          3.4,
          3.1,
          3.2,
          3.2,
          3,
          3.1,
          3.2,
          3.2,
          3.2,
          3.4,
          3.1,
          3.2,
          3.2,
          3.3,
          3.2,
          3.4,
          3.4,
          3.3,
          3.2,
          3.4,
          3.4,
          3.4,
          3.4,
          3.3,
          3.2,
          3.4,
          3.4,
          3.2,
          3.3,
          3.4,
          3.3,
          3.4,
          3.4,
          3.4,
          3.4,
          3.4,
          3.3,
          3.3,
          3.1,
          3.4,
          3.4,
          3.4,
          3.3,
          3.4,
          3.3,
          3.3,
          3.4,
          3.2,
          3.4,
          3.3,
          3.3,
          3.3,
          3.3,
          3.4,
          3.4,
          3.3,
          2.9,
          2.8,
          2.8,
          2.9,
          2.8,
          3,
          2.9,
          3,
          2.9,
          2.8,
          3.4,
          3.4,
          3.2,
          2.7,
          3.4,
          2.8,
          3,
          3.2,
          2.8,
          2.8,
          3.1,
          3,
          3.1,
          2.9,
          3.3,
          3,
          2.6,
          2.9,
          2.9,
          3.1,
          3.2,
          3.4,
          3.3,
          2.7,
          3.4,
          3.3,
          2.6,
          3.3,
          3.4,
          2.7,
          2.6,
          2.7,
          3.4,
          2.9,
          2.9,
          2.5,
          3.1,
          3,
          3.4,
          3.3,
          3.1,
          3.1,
          2.8,
          2.7,
          2.7,
          2.7,
          2.8,
          2.7,
          3.2,
          3.4,
          3.3,
          3,
          3.3,
          2.8,
          3.1,
          2.8,
          3,
          2.6,
          2.9,
          3.1,
          3.1,
          3.1,
          2.9,
          2.7,
          2.7,
          3,
          3.3,
          3.1,
          3.1,
          2.8,
          2.7,
          3.1,
          2.9,
          2.7,
          3,
          2.9,
          3.1,
          2.9,
          2.9,
          3.2,
          2.5,
          2.7,
          3,
          3,
          2.9,
          3,
          3.1,
          2.9,
          3,
          3,
          2.9,
          3.2,
          3.4,
          2.9,
          3,
          3.2,
          3.1,
          3.3,
          3.4,
          3.1,
          2.9,
          3,
          2.8,
          2.8,
          2.6,
          3,
          3.1,
          3.1,
          3,
          3,
          3,
          3.1,
          3.3,
          2.8,
          3,
          2.5,
          3.4,
          3.3,
          3.4,
          3.2,
          2.9,
          2.6,
          3.3,
          3.2,
          3,
          2.7,
          2.6,
          3.3,
          3.1,
          3.3,
          3.2,
          3.4,
          2.7,
          3,
          3,
          3,
          3,
          3.1,
          2.9,
          2.8,
          2.9,
          3.4,
          3.4,
          3.4,
          3.3,
          3.4,
          2.5,
          3,
          3.4,
          3.2,
          2.8,
          3.3,
          3.1,
          3.4,
          3.3,
          2.5,
          3.2,
          2.6,
          2.8,
          3,
          2.6,
          3.3,
          2.8,
          3.3,
          3.3,
          3.1,
          2.5,
          3.4,
          3.1,
          3.2,
          2.9,
          3,
          2.9,
          3.4,
          3.2,
          3.2,
          3.1,
          2.9,
          2.9,
          2.8,
          3.1,
          3.1,
          2.5,
          3.2,
          3,
          2.6,
          3.2,
          3.3,
          3.1,
          3.2,
          3.2,
          3.3,
          2.8,
          2.9,
          3,
          3.4,
          3,
          3.2,
          3.4,
          3.4,
          2.7,
          3.3,
          3.4,
          3.1,
          2.5,
          2.5,
          3.4,
          2.6,
          3.1,
          3.1,
          3.1,
          2.7,
          3.4,
          3.2,
          3,
          3.2,
          3.1,
          3.2,
          3.4,
          3.2,
          2.7,
          2.9,
          3.3,
          3,
          3.2,
          3.2,
          2.7,
          3.3,
          2.8,
          3.1,
          3.4,
          3.4,
          3.4,
          3.1,
          3.4,
          2.9,
          3.4,
          3.3,
          3.4,
          2.6,
          2.6,
          2.7,
          2.9,
          2.6,
          3.2,
          2.6,
          2.7,
          2.8,
          3.3,
          2.7,
          2.8,
          2.8,
          3.2,
          3.2,
          3.3,
          3.4,
          3.4,
          3.1,
          2.8,
          3.1,
          2.8,
          2.8,
          2.9,
          2.7,
          3.4,
          2.7,
          2.7,
          3.4,
          2.8,
          2.8,
          3.4,
          3,
          3,
          3,
          3.2,
          2.8,
          3.3,
          3.3,
          3.2,
          3.1,
          2.8,
          3.4,
          3.2,
          2.6,
          3.2,
          2.8,
          2.7,
          2.8,
          3.1,
          3.1,
          3.3,
          3.2,
          3,
          3.2,
          2.6,
          2.7,
          3.3,
          3.4,
          3.4,
          2.9,
          3.4,
          2.9,
          2.6,
          3.3,
          3.4,
          3.1,
          3.3,
          3.4,
          3,
          2.9,
          3.2,
          3.2,
          3.2,
          3.2,
          2.9,
          3.4,
          3.2,
          3.1,
          3.3,
          3.1,
          2.9,
          3.1,
          2.6,
          3,
          3.1,
          3,
          3.3,
          3.4,
          3.4,
          2.7,
          2.9,
          3.2,
          3.1,
          2.8,
          3,
          2.9,
          3,
          2.5,
          3.3,
          3,
          2.8,
          3.2,
          3.4,
          3.1,
          3.1,
          2.9,
          3.2,
          3.2,
          3.2,
          2.9,
          3.2,
          2.9,
          3.1,
          2.7,
          2.5,
          3,
          3.1,
          3.1,
          3,
          3.2,
          3.4,
          3.2,
          3,
          3.1,
          3.3,
          2.8,
          3.2,
          2.8,
          3,
          2.8,
          2.8,
          3.4,
          3,
          3.2,
          3.3,
          3,
          3.2,
          3.2,
          3.1,
          3,
          3,
          2.8,
          3,
          2.9,
          2.9,
          3.2,
          3.1,
          2.8,
          3.3,
          3,
          3.1,
          3.1,
          3.1,
          2.8,
          2.9,
          3.2,
          3.1,
          3.4,
          3.3,
          3.3,
          2.6,
          2.7,
          3.3,
          3.4,
          3.2,
          2.9,
          3,
          3.1,
          2.8,
          3,
          3.2,
          2.9,
          3.2,
          2.7,
          3,
          3.1,
          3.3,
          2.9,
          2.5,
          2.8,
          3,
          3,
          2.9,
          2.9,
          2.8,
          3,
          3.2,
          2.9,
          3.3,
          2.9,
          2.7,
          3.4,
          3.3,
          3.2,
          2.7,
          3,
          3.4,
          3.3,
          2.9,
          3,
          3.3,
          2.7,
          3.3,
          3.3,
          3.4,
          2.7,
          3.3,
          3.1,
          2.7,
          2.7,
          3.1,
          3.2,
          3.2,
          2.9,
          2.9,
          3.1,
          3.1,
          3.1,
          3.1,
          2.9,
          3.3,
          3,
          2.7,
          3.1,
          2.5,
          3.2,
          2.9,
          2.8,
          3,
          3,
          3,
          3.2,
          3.4,
          3.2,
          3.2,
          3.2,
          3.2,
          3.3,
          2.9,
          3.3,
          2.8,
          3.2,
          3.1,
          3.2,
          3.2,
          2.8,
          3.3,
          3.2,
          3,
          3.1,
          3.3,
          3.1,
          3,
          2.7,
          3,
          3.2,
          3,
          3.2,
          3.3,
          2.9,
          3.2,
          3.1,
          2.9,
          3,
          3,
          3.1,
          2.6,
          2.9,
          2.8,
          3,
          3.2,
          2.8,
          3.3,
          3.4,
          2.6,
          2.8,
          3.2,
          3.2,
          3.1,
          3.2,
          2.8,
          3.4,
          3.3,
          3.2,
          2.7,
          3.4,
          2.5,
          3.3,
          3.4,
          3.3,
          3.2,
          3.3,
          3.4,
          3.4,
          3.4,
          3.2,
          3.1,
          3.4,
          2.9,
          2.5,
          3.1,
          2.6,
          2.9,
          2.9,
          3.3,
          2.8,
          2.6,
          3.4,
          3.4,
          2.8,
          2.8,
          3.1,
          3.4,
          3.3,
          3.4,
          3.4,
          3.2,
          3,
          3.3,
          2.7,
          3.2,
          3.2,
          3.4,
          3.4,
          2.8,
          2.8,
          3.1,
          3.1,
          3.2,
          3,
          2.7,
          3.1,
          3.4,
          3.4,
          3.3,
          3,
          3.3,
          2.6,
          3.4,
          3.2,
          3.3,
          3,
          3.2,
          3,
          2.7,
          3,
          3,
          3.2,
          3.3,
          3.4,
          3.3,
          3.1,
          2.7,
          2.8,
          3.1,
          3.3,
          2.7,
          2.9,
          3.1,
          3.1,
          3.3,
          3,
          3.3,
          2.9,
          3.1,
          2.9,
          2.8,
          3.1,
          3.2,
          2.9,
          3.4,
          3,
          3.3,
          3.2,
          3.2,
          3.3,
          2.7,
          2.5,
          3.2,
          2.9,
          2.8,
          2.9,
          2.7,
          2.8,
          2.9,
          2.9,
          3.3,
          3.4,
          3.2,
          3,
          3.1,
          2.7,
          2.9,
          3.1,
          3.2,
          3.1,
          2.6,
          3.3,
          3.3,
          3.4,
          3.4,
          3.4,
          3.3,
          3.3,
          3.4,
          3.4,
          3.4,
          3.3,
          3.4,
          3,
          3.3,
          3.4,
          3.2,
          3.4,
          2.6,
          3.4,
          3.1,
          2.7,
          2.6,
          3.2,
          3.4,
          2.8,
          3.2,
          3.2,
          2.6,
          3.3,
          3.2,
          3.4,
          3.3,
          2.6,
          2.9,
          3.3,
          3.2,
          3.4,
          3,
          2.7,
          3.2,
          3,
          2.5,
          3.2,
          3.2,
          3.1,
          2.9,
          3.2,
          3.3,
          2.5,
          2.9,
          2.8,
          3.4,
          2.5,
          3.1,
          3.2,
          2.6,
          3.4,
          2.8,
          3.1,
          2.8,
          3.3,
          3.1,
          3,
          3.4,
          3.4,
          3.1,
          3.3,
          2.9,
          2.8,
          3.3,
          2.8,
          2.8,
          3.2,
          3,
          3,
          3.4,
          3.2,
          3.4,
          3.1,
          3.1,
          3,
          2.8,
          2.8,
          2.8,
          3.4,
          3.2,
          3,
          2.7,
          3.4,
          2.7,
          3,
          3.4,
          3.2,
          3,
          3,
          3.2,
          3.1,
          2.9,
          3.4,
          2.7,
          3.3,
          2.6,
          2.5,
          3,
          3.1,
          3.3,
          3.2,
          3.4,
          3.3,
          3.3,
          3.2,
          3.4,
          2.9,
          3.4,
          2.8,
          3,
          3.3,
          3.1,
          3.2,
          2.9,
          3.3,
          2.9,
          3.1,
          3,
          2.8,
          3.3,
          2.9,
          3.4,
          2.7,
          2.6,
          3.2,
          2.8,
          2.5,
          2.8,
          3,
          3.1,
          3.3,
          2.9,
          2.7,
          2.9,
          3.4,
          3,
          3.2,
          2.7,
          2.9,
          3.4,
          2.8,
          3.2,
          3,
          2.8,
          2.9,
          2.9,
          3.4,
          3.2,
          3.1,
          3,
          3.4,
          3.4,
          3.3,
          3.1,
          3,
          3.2,
          2.9,
          3.1,
          3,
          3.4,
          3,
          3.1,
          3.2,
          3.2,
          3,
          2.8,
          3.1,
          3.2,
          2.5,
          3,
          2.8,
          2.9,
          3.3,
          3,
          3,
          3.4,
          3,
          3.2,
          3,
          3.2,
          3.4,
          2.9,
          3,
          3,
          3.2,
          3.4,
          3.1,
          2.9,
          3,
          2.9,
          3.1,
          2.8,
          3.3,
          3.1,
          2.7,
          3.1,
          3,
          3.2,
          2.7,
          3,
          3.3,
          3.4,
          3.2,
          2.7,
          2.9,
          2.9,
          3.4,
          2.7,
          3.3,
          3.2,
          3.3,
          2.7,
          2.5,
          2.7,
          3.1,
          2.6,
          3.1,
          2.9,
          3.2,
          3.2,
          3.2,
          3.4,
          2.8,
          3.2,
          3.1,
          3.2,
          3,
          3,
          3,
          3.1,
          3.3,
          2.8,
          2.8,
          3.2,
          2.9,
          2.8,
          3.2,
          2.5,
          3.2,
          2.9,
          2.8,
          3,
          3.1,
          2.6,
          2.9,
          3.4,
          3.1,
          3.4,
          3.2,
          3.4,
          3,
          3.3,
          2.7,
          2.5,
          3.4,
          3.2,
          2.6,
          3.2,
          3.3,
          3.1,
          3.3,
          3.4,
          3.3,
          3.2,
          3.3,
          3.4,
          2.8,
          3.2,
          2.8,
          2.9,
          3.4,
          3,
          2.9,
          3.1,
          2.8,
          3.2,
          3,
          3,
          3.4,
          3,
          3.3,
          3.1,
          3.3,
          3,
          3.4,
          3.3,
          3.4,
          3.2,
          3.2,
          3.2,
          2.7,
          2.5,
          3.4,
          3.4,
          2.5,
          2.8,
          3.3,
          2.7,
          3.2,
          3.1,
          2.9,
          2.9,
          3.2,
          3.1,
          3.1,
          3,
          3.2,
          3.3,
          3.4,
          3.2,
          3,
          3.3,
          3.2,
          3.4,
          2.6,
          3.1,
          3.4,
          2.8,
          2.8,
          3.4,
          3.4,
          3.2,
          2.6,
          2.5,
          3,
          3.3,
          2.8,
          3.1,
          3,
          3.3,
          2.8,
          3.3,
          2.9,
          3,
          3,
          2.6,
          3.2,
          3.3,
          3.4,
          3.4,
          2.7,
          3.3,
          2.6,
          3.4,
          3.2,
          2.7,
          3.4,
          2.6,
          3,
          2.8,
          3.1,
          2.8,
          3.2,
          3.1,
          2.5,
          2.8,
          3.1,
          3.4,
          3,
          3.1,
          2.8,
          3,
          3.2,
          3.2,
          3,
          2.8,
          3.3,
          2.9,
          3.3,
          3,
          3.3,
          3.4,
          3.4,
          3.2,
          2.6,
          3.3,
          3.1,
          2.6,
          3,
          2.7,
          3,
          2.7,
          3,
          2.7,
          3.3,
          3.1,
          3.1,
          2.6,
          3.1,
          3.2,
          3.4,
          2.5,
          2.6,
          3.4,
          3,
          3,
          3.3,
          3.1,
          2.8,
          3.2,
          2.7,
          2.7,
          3,
          2.9,
          2.9,
          2.7,
          3.2,
          2.8,
          2.7,
          3.3,
          3.2,
          3,
          3.1,
          3.1,
          2.8,
          3.1,
          3,
          2.7,
          3.4,
          3.2,
          2.8,
          3.2,
          3.1,
          3.3,
          3.2,
          2.9,
          3.1,
          2.7,
          3.2,
          3.1,
          3.2,
          2.9,
          3.2,
          2.6,
          3.3,
          2.6,
          3,
          3.2,
          2.9,
          2.9,
          3.1,
          2.5,
          3.3,
          3.1,
          3.3,
          3,
          3.2,
          3.3,
          3.4,
          3.3,
          3,
          3.2,
          2.6,
          3.2,
          3.4,
          3.2,
          3.2,
          3,
          3.1,
          3.1,
          2.5,
          3.1,
          3.3,
          3.2,
          3.1,
          3.1,
          3.3,
          2.6,
          3.3,
          3.4,
          3.4,
          3.2,
          3,
          2.8,
          3.3,
          3,
          2.8,
          3.4,
          3,
          3.3,
          2.8,
          3.2,
          3.1,
          2.7,
          2.8,
          3.4,
          3,
          2.6,
          3.3,
          3.3,
          3.4,
          3.1,
          3.3,
          3.4,
          3.3,
          2.5,
          3.4,
          2.8,
          3,
          3.4,
          3.3,
          3.1,
          3.4,
          2.9,
          3.2,
          3.2,
          3.4,
          3.3,
          3.2,
          3,
          3.2,
          3.4,
          2.8,
          3.3,
          3.1,
          3.4,
          3.3,
          3.4,
          3.2,
          2.9,
          2.7,
          3.1,
          3.3,
          3.4,
          3.2,
          3.2,
          2.9,
          3.2,
          3,
          3.3,
          3.1,
          2.9,
          2.5,
          2.8,
          2.6,
          3.3,
          3,
          2.5,
          3.4,
          3.3,
          3.3,
          3.1,
          3.4,
          3.4,
          3.3,
          2.8,
          3.4,
          3,
          3.3,
          3.3,
          3.3,
          3.1,
          3,
          2.9,
          3,
          3.2,
          3.1,
          3.1,
          3.3,
          3.3,
          2.9,
          3.2,
          3.1,
          3.4,
          3.1,
          2.6,
          3,
          3.4,
          3,
          3.2,
          3,
          3.1,
          3,
          3.2,
          3.4,
          2.7,
          3.3,
          2.9,
          3.3,
          2.6,
          2.9,
          3.3,
          3.2,
          3.4,
          3.1,
          3,
          3.3,
          3.3,
          3.1,
          3.4,
          2.6,
          2.6,
          2.9,
          2.6,
          3.3,
          2.9,
          3.1,
          2.8,
          3.2,
          3.3,
          2.9,
          2.7,
          2.8,
          3.1,
          3.2,
          3.4,
          2.8,
          3.1,
          2.9,
          2.8,
          3.4,
          3.4,
          2.6,
          2.7,
          3.3,
          3.4,
          3.3,
          3.4,
          3.3,
          3.4,
          3.4,
          2.8,
          3,
          3.3,
          3,
          3.4,
          3.1,
          3.1,
          2.6,
          3.1,
          3.2,
          2.9,
          2.8,
          3,
          2.8,
          2.9,
          3.1,
          3.4,
          3.1,
          3.2,
          2.7,
          2.8,
          2.8,
          3.1,
          3.2,
          2.6,
          2.7,
          3.3,
          3.4,
          3.4,
          3.2,
          3.3,
          3.2,
          3.4,
          3.2,
          3.1,
          3.2,
          2.7,
          3.1,
          2.8,
          3.1,
          2.8,
          3.1,
          3.1,
          2.7,
          3.4,
          3.1,
          3.3,
          3.1,
          3.2,
          3,
          3.3,
          3.4,
          3.3,
          3.4,
          3.4,
          2.9,
          2.7,
          3,
          2.6,
          3.3,
          3.1,
          3,
          2.9,
          3.3,
          3.2,
          3.2,
          3.2,
          3.1,
          2.9,
          3.1,
          2.9,
          2.9,
          3.4,
          3.3,
          3,
          2.9,
          3,
          2.9,
          2.5,
          3.1,
          3.4,
          3,
          3.1,
          3.4,
          3.2,
          3,
          3,
          3.3,
          3.3,
          3.4,
          3.2,
          3.4,
          2.7,
          3.3,
          3.4,
          3,
          3.2,
          2.5,
          3.4,
          2.7,
          2.6,
          2.5,
          3.2,
          3.4,
          2.5,
          3.4,
          3.1,
          3.4,
          3,
          3.3,
          3.4,
          3.4,
          2.7,
          2.8,
          2.8,
          3.1,
          2.9,
          3.2,
          3,
          2.8,
          2.7,
          3.1,
          3.1,
          2.8,
          3.2,
          3.1,
          3.4,
          2.6,
          2.9,
          2.6,
          3.3,
          2.6,
          3.1,
          3.1,
          2.8,
          3.2,
          3,
          3.3,
          3.3,
          2.9,
          3.3,
          3.3,
          3.1,
          3.4,
          3.2,
          3.2,
          2.9,
          3.4,
          3.2,
          3,
          2.7,
          3.2,
          3,
          3.1,
          3.2,
          3.1,
          3.3,
          2.9,
          3,
          3.1,
          2.6,
          3.3,
          2.8,
          3.3,
          2.8,
          2.5,
          3.2,
          2.8,
          3.3,
          3.4,
          3.4,
          3.2,
          3.3,
          3.1,
          2.8,
          3.3,
          3.2,
          3.2,
          3,
          2.7,
          3.4,
          3.2,
          3.1,
          3.3,
          3,
          3.1,
          3.3,
          3.1,
          3,
          3.1,
          3.1,
          3.2,
          2.9,
          2.6,
          2.8,
          2.7,
          2.9,
          3.4,
          2.6,
          2.9,
          2.9,
          3.1,
          3.1,
          3.2,
          3,
          2.9,
          2.5,
          2.8,
          3.2,
          3.2,
          3.2,
          3.3,
          2.8,
          3.4,
          3.2,
          2.8,
          2.9,
          3.2,
          3.2,
          2.6,
          3,
          3.1,
          3.2,
          3.4,
          3.1,
          3.2,
          3.1,
          3.3,
          2.9,
          3,
          2.8,
          3,
          3.3,
          3.3,
          3.1,
          2.7,
          2.6,
          3.2,
          3.3,
          3.4,
          2.6,
          2.7,
          3.1,
          3.3,
          2.5,
          3.1,
          3.3,
          3.3,
          3.4,
          3.1,
          3.4,
          3.4,
          2.9,
          2.8,
          3.4,
          3.1,
          3.2,
          3.3,
          3.3,
          3.2,
          3.3,
          2.9,
          2.7,
          2.7,
          3.2,
          3.4,
          3.4,
          3.3,
          3.3,
          3.1,
          3.1,
          3.3,
          3.1,
          3.4,
          3.2,
          3.2,
          3.4,
          3.4,
          3.3,
          3.3,
          2.6,
          3.4,
          3.2,
          3.2,
          2.8,
          3.4,
          2.9,
          3.4,
          3.2,
          2.6,
          2.5,
          3.2,
          3.4,
          3,
          3.4,
          3.4,
          2.7,
          3.1,
          2.9,
          2.7,
          2.9,
          3.3,
          3.1,
          3.3,
          2.9,
          3.2,
          2.7,
          3.4,
          3.3,
          2.6,
          2.5,
          3.1,
          2.8,
          3.3,
          3.4,
          2.7,
          3.1,
          3.1,
          2.7,
          3.3,
          3.4,
          3,
          2.7,
          3.3,
          3.2,
          2.5,
          2.6,
          3.4,
          3.3,
          3.1,
          3.3,
          2.5,
          3.2,
          3.3,
          3.1,
          3.1,
          3.3,
          3,
          3.2,
          3.3,
          3.2,
          3.2,
          3.1,
          2.6,
          2.8,
          3.2,
          2.7,
          2.7,
          3,
          3.3,
          3.3,
          3.3,
          3,
          3.4,
          2.7,
          2.7,
          3.2,
          3.3,
          3.2,
          3.2,
          2.7,
          3.1,
          2.8,
          3.1,
          2.7,
          3.2,
          2.6,
          3.3,
          2.8,
          3.2,
          3,
          2.8,
          3.2,
          2.9,
          3,
          3.2,
          3.4,
          3.1,
          2.9,
          3,
          2.9,
          2.9,
          3,
          2.9,
          2.9,
          2.9,
          2.5,
          3.1,
          3.2,
          3.3,
          3.2,
          3.3,
          3.2,
          2.9,
          3.1,
          3.3,
          2.9,
          3.2,
          3.3,
          3.1,
          3.2,
          3.3,
          2.6,
          3.2,
          3,
          3,
          3.4,
          3.1,
          2.7,
          3.1,
          3.3,
          3.3,
          3.4,
          2.9,
          3.1,
          3.1,
          3.1,
          3.1,
          2.9,
          3,
          3.1,
          3.2,
          3.1,
          3.4,
          3,
          3.1,
          2.7,
          2.8,
          2.7,
          3.2,
          3.3,
          3,
          2.6,
          3.3,
          3.4,
          3,
          2.7,
          2.6,
          3.4,
          3,
          3.1,
          3.4,
          2.5,
          3.4,
          2.9,
          2.9,
          2.8,
          3.3,
          2.6,
          3.1,
          3.1,
          3,
          3.4,
          3.2,
          3.3,
          3.3,
          3.1,
          3.3,
          3.2,
          2.8,
          2.8,
          2.6,
          3.3,
          3.1,
          3.1,
          2.9,
          2.8,
          3,
          2.7,
          2.8,
          3,
          3.2,
          2.8,
          3.1,
          3,
          3.4,
          2.9,
          2.6,
          2.6,
          3.2,
          3.4,
          3,
          2.6,
          3.1,
          2.7,
          3.3,
          3,
          2.9,
          3.4,
          3,
          2.8,
          2.9,
          2.8,
          3.3,
          3.1,
          2.8,
          2.7,
          3.4,
          3,
          3.2,
          3.1,
          3.1,
          3.1,
          3.3,
          2.5,
          3.1,
          3.1,
          3.3,
          3.1,
          2.5,
          3.2,
          2.9,
          2.6,
          3.4,
          3.2,
          2.7,
          3.2,
          2.6,
          3,
          2.9,
          3.1,
          2.6,
          3.3,
          2.9,
          2.5,
          3.2,
          3.4,
          3.1,
          2.9,
          2.7,
          3.3,
          3.2,
          3.1,
          3.1,
          2.8,
          3,
          3.3,
          2.7,
          3.1,
          3.1,
          2.9,
          2.9,
          3.2,
          2.7,
          2.9,
          2.9,
          2.7,
          2.9,
          3,
          3.2,
          2.5,
          3.1,
          3.1,
          2.9,
          3.1,
          2.8,
          3,
          3,
          3.1,
          2.8,
          2.9,
          2.9,
          2.8,
          2.9,
          3.1,
          2.9,
          2.9,
          2.7,
          3.4,
          3.3,
          3,
          3.2,
          3.1,
          3.1,
          3.2,
          3.3,
          3.1,
          2.5,
          3.3,
          3.4,
          3.3,
          3.3,
          3.4,
          3.2,
          2.7,
          3.3,
          3.4,
          3,
          3,
          2.8,
          3.2,
          3.3,
          3.4,
          2.6,
          3.4,
          3.3,
          3.4,
          3.2,
          2.8,
          3,
          3.3,
          3.4,
          3.4,
          2.8,
          3.4,
          2.8,
          3.4,
          3.2,
          3.3,
          3.2,
          3.3,
          3.2,
          2.7,
          3,
          3.2,
          3.1,
          2.9,
          3,
          3.1,
          3.1,
          3.2,
          2.6,
          3.2,
          2.9,
          2.9,
          2.8,
          2.9,
          2.7,
          3.1,
          3.2,
          2.7,
          3,
          2.7,
          2.7,
          2.7,
          2.6,
          3.2,
          2.9,
          2.7,
          3.1,
          3,
          3.1,
          3.2,
          2.7,
          2.7,
          2.6,
          2.7,
          3,
          3.3,
          2.8,
          3.3,
          2.9,
          3,
          2.7,
          2.9,
          3,
          2.6,
          2.8,
          3.3,
          2.8,
          3.1,
          3,
          2.8,
          3.1,
          3.1,
          3.2,
          3.1,
          3.1,
          3.4,
          3.1,
          2.8,
          3.3,
          3.2,
          2.9,
          3,
          2.7,
          3,
          2.5,
          2.8,
          3.2,
          2.8,
          3.1,
          3.3,
          2.8,
          2.6,
          3.1,
          3.3,
          2.6,
          3.1,
          3,
          2.8,
          3,
          3,
          2.8,
          2.6,
          3.3,
          2.7,
          2.7,
          3,
          3,
          2.9,
          2.9,
          2.8,
          2.9,
          3.3,
          3,
          3,
          2.9,
          2.9,
          2.9,
          3.4,
          3.2,
          2.8,
          2.9,
          3,
          3.4,
          3.4,
          3.2,
          3.2,
          2.6,
          3.2,
          2.8,
          2.9,
          3.3,
          2.7,
          3.1,
          3.1,
          3.1,
          3,
          3.1,
          3.3,
          3.4,
          3.2,
          3.4,
          2.7,
          3.3,
          3.2,
          3.2,
          2.7,
          2.8,
          3.3,
          3.4,
          3.1,
          3.1,
          2.7,
          3.3,
          3.2,
          2.9,
          3.1,
          3.2,
          3.3,
          3.2,
          3.3,
          2.6,
          3.3,
          2.6,
          3.2,
          2.6,
          2.9,
          3.3,
          3.1,
          3.1,
          3.2,
          3.1,
          2.5,
          3.1,
          3,
          3.2,
          3.4,
          3.2,
          3,
          2.9,
          3,
          3,
          3.1,
          2.9,
          3.4,
          2.9,
          3,
          2.9,
          3,
          3.1,
          3.1,
          3.1,
          3,
          3,
          3,
          2.7,
          3.1,
          2.8,
          3.1,
          3.1,
          3.1,
          3,
          3.1,
          3,
          3,
          3.1,
          2.6,
          2.9,
          2.8,
          3.2,
          2.9,
          2.9,
          3.3,
          3,
          3.2,
          3.4,
          3.3,
          2.9,
          2.9,
          2.8,
          2.8,
          2.7,
          2.8,
          3.4,
          2.9,
          2.7,
          2.9,
          3,
          3.4,
          3,
          2.6,
          2.9,
          3.2,
          3,
          3.1,
          2.8,
          3,
          3,
          3.2,
          3.2,
          3.4,
          2.8,
          2.8,
          3.3,
          3.1,
          3.1,
          2.8,
          2.6,
          3,
          2.8,
          3.1,
          3.2,
          2.8,
          2.7,
          2.8,
          2.8,
          2.9,
          3.1,
          3,
          3.2,
          3,
          3,
          3.1,
          3.1,
          3.2,
          3.1,
          3,
          3.4,
          2.5,
          3.1,
          2.8,
          3.1,
          3.4,
          3.3,
          3.4,
          3.3,
          3.4,
          2.8,
          3.4,
          2.9,
          3.4,
          2.7,
          3.2,
          2.7,
          3.3,
          3.4,
          3.4,
          3.4,
          3.4,
          3.4,
          3.4,
          2.7,
          2.9,
          3.2,
          3,
          3.3,
          3.3,
          2.7,
          2.9,
          2.7,
          2.8,
          2.8,
          3,
          3,
          3.1,
          3.3,
          2.9,
          3.4,
          3.1,
          2.9,
          2.9,
          2.9,
          2.9,
          2.7,
          3.2,
          2.8,
          3,
          2.8,
          3.2,
          3.4,
          2.9,
          3.1,
          3.2,
          3.3,
          3,
          3.2,
          3,
          3.1,
          2.6,
          3.1,
          2.6,
          3.2,
          3.3,
          3.2,
          3.4,
          3.3,
          2.7,
          3.2,
          2.6,
          3.3,
          2.8,
          2.6,
          2.6,
          2.9,
          2.8,
          3.1,
          3,
          2.7,
          3.4,
          3.2,
          2.8,
          2.9,
          2.9,
          3.1,
          2.8,
          3.2,
          3,
          2.9,
          2.9,
          2.9,
          2.9,
          2.8,
          3,
          3,
          3,
          3,
          3.2,
          3,
          3.1,
          3.1,
          2.9,
          3,
          2.8,
          2.9,
          3.2,
          2.7,
          3.2,
          3,
          3.3,
          3.1,
          2.8,
          3.1,
          3.2,
          2.7,
          2.9,
          2.8,
          3.1,
          2.9,
          2.7,
          2.7,
          3.4,
          3,
          3.2,
          2.8,
          3,
          3,
          2.9,
          2.8,
          2.7,
          2.9,
          2.9,
          3,
          2.9,
          2.9,
          3,
          2.7,
          2.9,
          2.8,
          3,
          3,
          2.8,
          3.2,
          3.2,
          3.3,
          3.4,
          3.1,
          3.3,
          2.9,
          2.9,
          2.7,
          2.9,
          2.8,
          3.1,
          3.3,
          3.3,
          3.3,
          3.3,
          3.2,
          2.9,
          3.1,
          3.2,
          3.3,
          3.4,
          3.4,
          3.2,
          3.2,
          3.4,
          3.1,
          2.9,
          3.3,
          3.3,
          3.2,
          3,
          3.4,
          3.4,
          3.1,
          2.7,
          2.7,
          3.3,
          3.4,
          3.2,
          2.5,
          2.6,
          3.2,
          3.4,
          2.7,
          3.2,
          3.4,
          2.8,
          3.2,
          3.1,
          2.8,
          3,
          2.8,
          3.2,
          3.4,
          2.6,
          3.4,
          2.8,
          3.1,
          3,
          3.2,
          2.6,
          2.8,
          2.8,
          3.2,
          3.2,
          3.2,
          2.5,
          3.2,
          2.9,
          3.3,
          3.4,
          3.2,
          2.6,
          3.3,
          2.5,
          3.1,
          2.9,
          3,
          3.1,
          2.8,
          3.1,
          3.1,
          3.3,
          2.8,
          3.2,
          3.2,
          2.7,
          2.7,
          3.1,
          3.3,
          3.3,
          2.6,
          2.6,
          2.9,
          3.3,
          2.7,
          3.1,
          3.1,
          3.2,
          3,
          3.4,
          3.3,
          3.4,
          3,
          3.3,
          3.3,
          3,
          3,
          3.3,
          3.1,
          3.3,
          3.2,
          3.1,
          3,
          3.3,
          3,
          2.8,
          3.2,
          2.8,
          3.2,
          2.9,
          3.4,
          3.4,
          3.4,
          3,
          2.8,
          3.2,
          2.9,
          3,
          3.3,
          2.7,
          2.5,
          3,
          3.2,
          3.1,
          3.1,
          3,
          3.1,
          3.1,
          2.9,
          3.2,
          3.3,
          3.4,
          3.3,
          3.1,
          3,
          3.1,
          3.1,
          3.3,
          3.4,
          3.3,
          3.2,
          3.2,
          3.3,
          2.6,
          3.1,
          3.2,
          3.2,
          3.1,
          3.4,
          3.2,
          3.2,
          3.2,
          3.4,
          3.3,
          3.2,
          2.7,
          3.3,
          3.4,
          3.4,
          2.7,
          3.2,
          2.5,
          3,
          3.1,
          3.4,
          3.4,
          2.6,
          3.3,
          3.1,
          3.4,
          3.4,
          3.4,
          3.2,
          3.2,
          3.2,
          2.5,
          3.1,
          2.8,
          3.2,
          2.9,
          2.9,
          2.9,
          2.9,
          2.5,
          3.2,
          3,
          2.9,
          2.9,
          2.6,
          3,
          3.3,
          3.1,
          2.9,
          3.3,
          3.1,
          3.3,
          3.4,
          3.2,
          3.4,
          2.5,
          3.4,
          2.5,
          3.3,
          2.8,
          2.6,
          2.9,
          2.6,
          3,
          2.7,
          2.7,
          2.9,
          2.9,
          3.4,
          2.5,
          3.1,
          3,
          3.4,
          2.9,
          2.8,
          3.3,
          3.2,
          2.8,
          2.5,
          2.9,
          3,
          3.2,
          3,
          2.6,
          2.7,
          3,
          2.6,
          2.7,
          2.8,
          3.2,
          2.9,
          2.6,
          3.1,
          3.4,
          3.2,
          3,
          2.6,
          2.9,
          2.8,
          2.7,
          3,
          3,
          3.1,
          2.7,
          2.6,
          2.7,
          2.7,
          3.4,
          3.2,
          2.7,
          2.5,
          2.8,
          3.4,
          2.6,
          2.9,
          3.2,
          3.1,
          2.6,
          2.8,
          3.4,
          3,
          3.2,
          3,
          3.3,
          3.2,
          2.9,
          3.2,
          3.1,
          3,
          3.1,
          3.4,
          3,
          3.4,
          3.2,
          3.1,
          3.1,
          3.2,
          3.2,
          3.3,
          3.4,
          3.4,
          2.6,
          3.2,
          3.3,
          3.3,
          3,
          3.4,
          2.7,
          2.6,
          3.2,
          3,
          3.3,
          3,
          2.7,
          3.3,
          3.4,
          3.4,
          3.2,
          2.7,
          3.1,
          3.3,
          3.3,
          3.1,
          3.4,
          3.4,
          3.3,
          3,
          3.3,
          3.4,
          3.2,
          2.8,
          3.3,
          3.4,
          2.6,
          3.3,
          3.1,
          2.9,
          3.1,
          3.2,
          3,
          2.6,
          3,
          3.3,
          3.3,
          3.4,
          2.8,
          2.5,
          2.8,
          3,
          3,
          2.9,
          3.4,
          3.1,
          3.3,
          2.6,
          2.8,
          3.3,
          2.6,
          2.9,
          3.3,
          3.1,
          2.8,
          3.1,
          3.2,
          2.7,
          2.7,
          3.3,
          3.1,
          3.4,
          2.8,
          3,
          2.7,
          2.7,
          3,
          2.8,
          3.3,
          2.9,
          3.4,
          3,
          3.1,
          3,
          3.4,
          3.3,
          2.7,
          2.8,
          2.7,
          2.7,
          2.8,
          2.7,
          2.7,
          3.1,
          2.9,
          3,
          3.3,
          3,
          2.8,
          3.4,
          3.3,
          2.8,
          3,
          2.7,
          3,
          3.2,
          2.5,
          3.1,
          3.2,
          3,
          2.9,
          3.4,
          3.2,
          2.7,
          3.3,
          2.9,
          3,
          3,
          2.6,
          3.3,
          2.8,
          3.1,
          3.2,
          3,
          3,
          3.2,
          3.2,
          3.2,
          2.7,
          3.3,
          2.6,
          3.2,
          3.4,
          3.2,
          2.7,
          3.2,
          3.3,
          3.1,
          2.6,
          3.2,
          3.4,
          3.3,
          3,
          3.2,
          3.3,
          3.1,
          3.3,
          3.3,
          2.9,
          3,
          3.2,
          3.4,
          2.5,
          3,
          3,
          2.6,
          3.1,
          3,
          3.4,
          2.9,
          3.1,
          3.1,
          3.4,
          3.2,
          2.6,
          3.4,
          2.9,
          2.5,
          3.1,
          3.4,
          3.4,
          3.4,
          3.4,
          2.8,
          3.1,
          2.9,
          2.9,
          2.7,
          3.1,
          3,
          2.8,
          2.9,
          3,
          2.9,
          3,
          3.3,
          2.8,
          2.9,
          3.1,
          3,
          3.2,
          3.3,
          3.3,
          3.3,
          3.3,
          3.4,
          3,
          2.7,
          2.8,
          2.8,
          3.1,
          2.8,
          2.7,
          3,
          2.8,
          2.9,
          3.1,
          3.2,
          3,
          2.9,
          2.7,
          2.9,
          3.1,
          3.4,
          2.6,
          3.4,
          3.2,
          3.4,
          3.3,
          2.8,
          2.9,
          2.6,
          3,
          3.1,
          2.9,
          3.1,
          2.7,
          3.4,
          3,
          2.9,
          3.4,
          3,
          3.2,
          3.2,
          3.1,
          3,
          3.2,
          3,
          3,
          3.1,
          3.3,
          3.4,
          3.1,
          3,
          2.7,
          3.1,
          3.2,
          3.4,
          2.9,
          3.2,
          3.1,
          2.9,
          2.8,
          3.1,
          3,
          3.1,
          3.1,
          3.3,
          2.8,
          3.1,
          2.6,
          3.3,
          2.6,
          3.4,
          3.4,
          2.8,
          3.1,
          2.5,
          3.4,
          3.3,
          3.3,
          2.6,
          3.4,
          2.9,
          2.9,
          3.4,
          3.2,
          2.9,
          3.1,
          3.1,
          2.9,
          3.4,
          3.1,
          3,
          3.2,
          2.8,
          2.8,
          2.7,
          2.8,
          3.1,
          3.2,
          3.2,
          3.3,
          2.6,
          2.9,
          3.2,
          2.7,
          2.5,
          3.2,
          3.3,
          2.7,
          3.3,
          3,
          2.8,
          3.1,
          3,
          3.2,
          3.2,
          3.3,
          3,
          3.3,
          3.1,
          2.9,
          2.8,
          3,
          3.3,
          3.1,
          2.9,
          3.1,
          3.3,
          3.2,
          3.2,
          2.9,
          3,
          3.2,
          3,
          2.9,
          2.9,
          3.3,
          3.4,
          3,
          3,
          3.4,
          3,
          3.1,
          3.3,
          3.3,
          3.1,
          3.2,
          3.2,
          3.1,
          3.3,
          3.2,
          3.2,
          3.3,
          3,
          3.3,
          3.4,
          2.9,
          2.8,
          3.3,
          3.2,
          3.4,
          2.9,
          3.3,
          3.3,
          3.1,
          3.3,
          3.1,
          3.2,
          3,
          3,
          2.9,
          2.7,
          2.9,
          3.1,
          3.1,
          2.9,
          3,
          3.1,
          2.9,
          3,
          2.9,
          3,
          3.2,
          3.3,
          3,
          2.6,
          3,
          2.9,
          3.4,
          3,
          3.1,
          3.2,
          3.2,
          2.9,
          3,
          3.4,
          2.9,
          3.1,
          2.8,
          2.9,
          2.9,
          3,
          2.8,
          2.7,
          2.9,
          2.7,
          2.5,
          3.1,
          3,
          3.1,
          3.3,
          3.1,
          3,
          3.1,
          3,
          3.1,
          3.2,
          2.7,
          3,
          2.8,
          3,
          2.8,
          2.8,
          2.9,
          3,
          2.8,
          2.8,
          3,
          2.7,
          2.9,
          2.8,
          2.6,
          2.6,
          2.7,
          3.4,
          2.9,
          3.3,
          3.4,
          2.8,
          3.4,
          3,
          2.8,
          2.6,
          2.5,
          2.5,
          2.7,
          2.9,
          2.5,
          3.4,
          3,
          2.8,
          3.3,
          2.9,
          2.8,
          3.3,
          3.3,
          2.5,
          3.2,
          3.3,
          3.3,
          3.1,
          3.4,
          2.9,
          3.1,
          2.8,
          3.3,
          2.7,
          3.1,
          3.1,
          3.2,
          3.3,
          2.8,
          3.3,
          3.1,
          3.3,
          2.8,
          2.9,
          3,
          2.8,
          3.2,
          3.1,
          2.6,
          3.3,
          3,
          3.4,
          3.3,
          2.9,
          2.9,
          2.9,
          3.1,
          3,
          3.3,
          3.1,
          3.4,
          3.1,
          3,
          3.4,
          3.3,
          3.3,
          2.9,
          3.1,
          3.3,
          3.4,
          3.4,
          3.3,
          3.3,
          3.4,
          2.8,
          3,
          3,
          2.7,
          2.6,
          3.3,
          2.9,
          3,
          3.2,
          3.3,
          3.2,
          2.6,
          3.1,
          3,
          3.3,
          3.1,
          3.3,
          3.2,
          3.4,
          2.6,
          3.1,
          3.3,
          3,
          2.8,
          3.1,
          2.8,
          3.1,
          3.1,
          2.7,
          3.3,
          3.1,
          2.8,
          3.2,
          3.2,
          3.1,
          3.4,
          2.8,
          3,
          3,
          3.3,
          3.4,
          2.6,
          2.6,
          3.2,
          3.4,
          3.4,
          3.2,
          3.2,
          3.1,
          2.6,
          2.8,
          2.9,
          3.4,
          3.3,
          3.1,
          3.2,
          3,
          3.3,
          2.6,
          3.1,
          2.5,
          3.3,
          3.2,
          2.9,
          2.6,
          3.4,
          3,
          3.2,
          3.4,
          3.4,
          3.1,
          3.2,
          3.1,
          3.1,
          2.7,
          3.3,
          3.1,
          3.3,
          3.1,
          2.7,
          2.7,
          2.9,
          3.2,
          3,
          2.7,
          3.2,
          2.7,
          3,
          3.1,
          3.4,
          2.9,
          3.2,
          3.1,
          3,
          3.4,
          3.4,
          2.7,
          3.4,
          3.2,
          3.4,
          3.1,
          2.6,
          2.5,
          3.3,
          3.4,
          3.3,
          2.5,
          2.6,
          2.5,
          2.8,
          3.2,
          3.1,
          3.2,
          3.1,
          2.8,
          2.8,
          3,
          2.8,
          2.8,
          2.6,
          2.9,
          3.1,
          2.7,
          2.9,
          2.5,
          2.8,
          2.9,
          2.7,
          3.1,
          3,
          2.6,
          2.8,
          3.2,
          2.6,
          3.4,
          3.1,
          2.7,
          3.4,
          3.2,
          2.9,
          3.3,
          3.3,
          3,
          3.1,
          3.4,
          3.2,
          2.9,
          2.5,
          3.2,
          3,
          2.6,
          2.6,
          2.8,
          2.8,
          3.2,
          3.3,
          2.9,
          2.7,
          3.1,
          3.2,
          2.8,
          3.4,
          3.2,
          2.9,
          2.9,
          2.7,
          3.3,
          2.6,
          3.4,
          3.2,
          3.4,
          3.1,
          2.6,
          2.5,
          2.9,
          2.9,
          2.8,
          2.6,
          2.9,
          3.3,
          2.5,
          2.6,
          2.7,
          2.6,
          2.6,
          3.2,
          3.3,
          2.7,
          3.4,
          3.1,
          3.2,
          3,
          3,
          2.8,
          3,
          2.6,
          3,
          2.7,
          3.1,
          2.6,
          3.4,
          3,
          2.9,
          3.1,
          2.5,
          2.9,
          2.5,
          3,
          2.8,
          2.8,
          3.2,
          2.8,
          2.6,
          2.9,
          2.9,
          2.8,
          2.8,
          2.9,
          3.1,
          2.9,
          3.3,
          3.4,
          3,
          3,
          2.7,
          3.2,
          3.2,
          2.9,
          3,
          3.3,
          3.4,
          3.3,
          2.5,
          3.4,
          3.1,
          2.5,
          2.5,
          2.8,
          2.6,
          3.3,
          3.3,
          3.3,
          2.7,
          3.2,
          2.5,
          3.3,
          3.4,
          3,
          2.6,
          2.6,
          3.2,
          3.3,
          3.4,
          3.2,
          3.2,
          3.4,
          3.2,
          3,
          3.4,
          3.4,
          2.8,
          2.9,
          2.5,
          2.6,
          3,
          3.3,
          3,
          3,
          3,
          2.5,
          3.4,
          3.1,
          2.6,
          3,
          2.5,
          3.3,
          3,
          2.7,
          3.4,
          2.9,
          3,
          3.1,
          3,
          2.6,
          3.1,
          3.2,
          2.8,
          2.9,
          2.9,
          2.8,
          3.2,
          3.1,
          2.9,
          3.2,
          3.2,
          3,
          3.4,
          2.8,
          3,
          3,
          2.7,
          3.1,
          2.6,
          3,
          3.2,
          3.4,
          2.8,
          3.1,
          2.6,
          2.5,
          2.9,
          3,
          3,
          2.8,
          3.4,
          2.9,
          3.4,
          2.9,
          3.1,
          2.8,
          3,
          3.2,
          3.1,
          3.4,
          3,
          3,
          3.3,
          3.4,
          3.2,
          3.3,
          3.1,
          3.1,
          2.9,
          2.5,
          3.4,
          3.2,
          3.1,
          2.7,
          2.9,
          3.2,
          2.9,
          3.3,
          3.3,
          3.2,
          3.3,
          3.4,
          2.5,
          3,
          3.4,
          3,
          2.8,
          2.7,
          3,
          2.9,
          3.2,
          3.1,
          2.5,
          3.4,
          2.9,
          3,
          2.8,
          3.3,
          3.3,
          3.1,
          2.9,
          3,
          3.4,
          2.8,
          2.9,
          3,
          3,
          3.1,
          3.4,
          3,
          3.2,
          2.7,
          3.4,
          2.7,
          3.1,
          3.3,
          3.4,
          2.5,
          2.7,
          3.4,
          3,
          3.4,
          2.8,
          2.5,
          3.2,
          2.6,
          2.5,
          2.7,
          3,
          2.8,
          2.7,
          3.1,
          3.2,
          2.9,
          2.9,
          2.9,
          3.1,
          3.2,
          2.6,
          2.9,
          2.9,
          3.1,
          2.5,
          3,
          2.9,
          3.3,
          3.1,
          2.7,
          2.7,
          2.7,
          2.9,
          3.1,
          3.1,
          3.4,
          3.1,
          3.2,
          3.2,
          3,
          2.7,
          3,
          3,
          3.2,
          3.2,
          3.1,
          2.9,
          2.7,
          3.1,
          3.2,
          2.6,
          2.8,
          3.2,
          2.5,
          3.4,
          3.1,
          3.2,
          2.9,
          3.3,
          2.9,
          2.8,
          2.7,
          3,
          3.1,
          3.3,
          3.1,
          3,
          3.1,
          3.2,
          3.1,
          2.9,
          2.8,
          3.4,
          2.5,
          2.8,
          2.9,
          3,
          3.4,
          2.6,
          2.6,
          2.8,
          3.2,
          2.7,
          3.3,
          3.1,
          2.9,
          2.9,
          3.4,
          3.3,
          3.1,
          3,
          3,
          2.7,
          2.9,
          3,
          2.9,
          2.9,
          3.4,
          3.2,
          2.9,
          3.1,
          3.1,
          3,
          2.7,
          3.1,
          2.9,
          3.1,
          3.2,
          3.2,
          3.2,
          2.9,
          3.4,
          3.1,
          3.1,
          3,
          3.1,
          3.1,
          3,
          3.1,
          3,
          3.2,
          3,
          3.4,
          2.6,
          3.4,
          3.2,
          2.5,
          3,
          3.1,
          2.5,
          2.5,
          3.1,
          3.3,
          2.6,
          3,
          2.6,
          2.7,
          3.2,
          3.3,
          3,
          2.7,
          2.7,
          3.4,
          2.8,
          3,
          3.2,
          3.1,
          3.2,
          3.4,
          3.3,
          3.1,
          2.6,
          3.4,
          2.6,
          2.6,
          3.4,
          3.4,
          3.3,
          3.4,
          3.4,
          3.3,
          3.3,
          3.4,
          3.1,
          3.1,
          3.4,
          3.3,
          3.2,
          3.3,
          3.4,
          3.1,
          3.2,
          3.3,
          3.4,
          3.3,
          3.4,
          3.4,
          3.4,
          3.4,
          3.2,
          3.3,
          3.4,
          3.4,
          3.3,
          3.3,
          3.2,
          3.4,
          2.8,
          3.1,
          3.3,
          3.3,
          3.4,
          3.4,
          3.4,
          3.4,
          3.4,
          2.5,
          3.4
         ],
         "yaxis": "y"
        },
        {
         "hovertemplate": "rating_text=Poor<br>average_cost_two=%{x}<br>agg_rating=%{y}<extra></extra>",
         "legendgroup": "Poor",
         "marker": {
          "color": "#FFA15A",
          "symbol": "circle"
         },
         "mode": "markers",
         "name": "Poor",
         "showlegend": true,
         "type": "scattergl",
         "x": [
          25,
          10,
          30,
          80,
          500,
          1000,
          1000,
          2000,
          700,
          800,
          500,
          400,
          500,
          350,
          500,
          350,
          600,
          600,
          1800,
          600,
          800,
          700,
          600,
          1800,
          1000,
          300,
          400,
          350,
          700,
          500,
          800,
          400,
          650,
          700,
          200,
          450,
          550,
          300,
          200,
          400,
          400,
          550,
          500,
          500,
          800,
          100,
          750,
          1800,
          700,
          400,
          1600,
          500,
          600,
          600,
          700,
          600,
          600,
          700,
          700,
          700,
          1200,
          500,
          400,
          300,
          450,
          1200,
          700,
          400,
          500,
          250,
          800,
          600,
          150,
          350,
          400,
          400,
          450,
          1000,
          500,
          350,
          800,
          800,
          400,
          500,
          450,
          700,
          450,
          550,
          400,
          600,
          450,
          500,
          300,
          700,
          1000,
          500,
          1000,
          350,
          400,
          300,
          400,
          700,
          500,
          300,
          500,
          600,
          550,
          300,
          750,
          200,
          600,
          550,
          600,
          450,
          500,
          300,
          600,
          450,
          400,
          800,
          350,
          900,
          700,
          600,
          350,
          500,
          400,
          400,
          350,
          600,
          1000,
          1000,
          1500,
          900,
          600,
          350,
          400,
          300,
          500,
          2000,
          600,
          400,
          700,
          800,
          800,
          500,
          250,
          150,
          700,
          450,
          450,
          2000,
          800,
          500,
          700,
          700,
          800,
          700,
          450,
          800,
          700,
          600,
          500,
          800,
          1300,
          750,
          800,
          700,
          350,
          500,
          600,
          500,
          500,
          400,
          1400,
          350,
          2500,
          650,
          700,
          600,
          500,
          450,
          2400,
          1200,
          100,
          1800
         ],
         "xaxis": "x",
         "y": [
          2.2,
          2.4,
          2.4,
          2.4,
          2.1,
          2.4,
          1.8,
          2.4,
          2.4,
          2.4,
          2.2,
          2,
          2.1,
          2.2,
          2.2,
          2.3,
          2.4,
          2.3,
          2.1,
          2.3,
          2.2,
          2.4,
          2.3,
          2.4,
          2.4,
          2.4,
          2.4,
          2.4,
          2.4,
          2.4,
          2.2,
          2.2,
          2.4,
          2.3,
          2.3,
          2.4,
          2.4,
          2.2,
          2.4,
          2.4,
          2.2,
          2.2,
          2.2,
          2.2,
          2.4,
          2.4,
          2.3,
          2.4,
          2.4,
          2.4,
          2.4,
          2.1,
          2.4,
          2.3,
          2.3,
          2.4,
          2.4,
          2.4,
          2.3,
          2.3,
          2.3,
          2.4,
          2.4,
          2.4,
          2.4,
          2.4,
          2.4,
          2.4,
          2.2,
          1.9,
          2.3,
          2.4,
          2.3,
          2.4,
          2.3,
          2.3,
          2.3,
          2.4,
          2.4,
          2.1,
          2.4,
          2.4,
          2.1,
          2.2,
          2.3,
          2.3,
          2.3,
          2.4,
          2,
          2.2,
          2.4,
          2.4,
          2.4,
          2.2,
          2.4,
          2.3,
          2.4,
          2.2,
          2.2,
          2.1,
          2.2,
          2.1,
          2.3,
          2.4,
          2.4,
          2.3,
          2.4,
          2.4,
          2.4,
          2.4,
          2.2,
          2.3,
          2.4,
          2.4,
          2.3,
          2.4,
          2.1,
          2.1,
          2.4,
          2.3,
          2.2,
          2.2,
          2.3,
          2.3,
          2.4,
          1.9,
          2.3,
          2.4,
          2.3,
          2.4,
          2.2,
          2.4,
          2.4,
          2,
          2.3,
          2.4,
          2.2,
          2.4,
          2.1,
          2.4,
          2.3,
          2.3,
          2.1,
          2.4,
          2.3,
          2.4,
          2.4,
          2.3,
          2.2,
          2.3,
          2.1,
          2.4,
          2.3,
          2,
          2.4,
          2.4,
          2.4,
          2.3,
          2.4,
          2.3,
          2.4,
          2.3,
          2.3,
          2.3,
          2.4,
          2.4,
          2.4,
          2.3,
          2.1,
          2.3,
          2.4,
          2.4,
          2.4,
          2.4,
          2.1,
          2.4,
          2.2,
          2.2,
          2.4,
          2.3,
          2.3,
          2,
          2,
          2,
          2.3,
          2.4
         ],
         "yaxis": "y"
        }
       ],
       "layout": {
        "legend": {
         "title": {
          "text": "rating_text"
         },
         "tracegroupgap": 0
        },
        "margin": {
         "t": 60
        },
        "template": {
         "data": {
          "bar": [
           {
            "error_x": {
             "color": "#2a3f5f"
            },
            "error_y": {
             "color": "#2a3f5f"
            },
            "marker": {
             "line": {
              "color": "#E5ECF6",
              "width": 0.5
             },
             "pattern": {
              "fillmode": "overlay",
              "size": 10,
              "solidity": 0.2
             }
            },
            "type": "bar"
           }
          ],
          "barpolar": [
           {
            "marker": {
             "line": {
              "color": "#E5ECF6",
              "width": 0.5
             },
             "pattern": {
              "fillmode": "overlay",
              "size": 10,
              "solidity": 0.2
             }
            },
            "type": "barpolar"
           }
          ],
          "carpet": [
           {
            "aaxis": {
             "endlinecolor": "#2a3f5f",
             "gridcolor": "white",
             "linecolor": "white",
             "minorgridcolor": "white",
             "startlinecolor": "#2a3f5f"
            },
            "baxis": {
             "endlinecolor": "#2a3f5f",
             "gridcolor": "white",
             "linecolor": "white",
             "minorgridcolor": "white",
             "startlinecolor": "#2a3f5f"
            },
            "type": "carpet"
           }
          ],
          "choropleth": [
           {
            "colorbar": {
             "outlinewidth": 0,
             "ticks": ""
            },
            "type": "choropleth"
           }
          ],
          "contour": [
           {
            "colorbar": {
             "outlinewidth": 0,
             "ticks": ""
            },
            "colorscale": [
             [
              0,
              "#0d0887"
             ],
             [
              0.1111111111111111,
              "#46039f"
             ],
             [
              0.2222222222222222,
              "#7201a8"
             ],
             [
              0.3333333333333333,
              "#9c179e"
             ],
             [
              0.4444444444444444,
              "#bd3786"
             ],
             [
              0.5555555555555556,
              "#d8576b"
             ],
             [
              0.6666666666666666,
              "#ed7953"
             ],
             [
              0.7777777777777778,
              "#fb9f3a"
             ],
             [
              0.8888888888888888,
              "#fdca26"
             ],
             [
              1,
              "#f0f921"
             ]
            ],
            "type": "contour"
           }
          ],
          "contourcarpet": [
           {
            "colorbar": {
             "outlinewidth": 0,
             "ticks": ""
            },
            "type": "contourcarpet"
           }
          ],
          "heatmap": [
           {
            "colorbar": {
             "outlinewidth": 0,
             "ticks": ""
            },
            "colorscale": [
             [
              0,
              "#0d0887"
             ],
             [
              0.1111111111111111,
              "#46039f"
             ],
             [
              0.2222222222222222,
              "#7201a8"
             ],
             [
              0.3333333333333333,
              "#9c179e"
             ],
             [
              0.4444444444444444,
              "#bd3786"
             ],
             [
              0.5555555555555556,
              "#d8576b"
             ],
             [
              0.6666666666666666,
              "#ed7953"
             ],
             [
              0.7777777777777778,
              "#fb9f3a"
             ],
             [
              0.8888888888888888,
              "#fdca26"
             ],
             [
              1,
              "#f0f921"
             ]
            ],
            "type": "heatmap"
           }
          ],
          "heatmapgl": [
           {
            "colorbar": {
             "outlinewidth": 0,
             "ticks": ""
            },
            "colorscale": [
             [
              0,
              "#0d0887"
             ],
             [
              0.1111111111111111,
              "#46039f"
             ],
             [
              0.2222222222222222,
              "#7201a8"
             ],
             [
              0.3333333333333333,
              "#9c179e"
             ],
             [
              0.4444444444444444,
              "#bd3786"
             ],
             [
              0.5555555555555556,
              "#d8576b"
             ],
             [
              0.6666666666666666,
              "#ed7953"
             ],
             [
              0.7777777777777778,
              "#fb9f3a"
             ],
             [
              0.8888888888888888,
              "#fdca26"
             ],
             [
              1,
              "#f0f921"
             ]
            ],
            "type": "heatmapgl"
           }
          ],
          "histogram": [
           {
            "marker": {
             "pattern": {
              "fillmode": "overlay",
              "size": 10,
              "solidity": 0.2
             }
            },
            "type": "histogram"
           }
          ],
          "histogram2d": [
           {
            "colorbar": {
             "outlinewidth": 0,
             "ticks": ""
            },
            "colorscale": [
             [
              0,
              "#0d0887"
             ],
             [
              0.1111111111111111,
              "#46039f"
             ],
             [
              0.2222222222222222,
              "#7201a8"
             ],
             [
              0.3333333333333333,
              "#9c179e"
             ],
             [
              0.4444444444444444,
              "#bd3786"
             ],
             [
              0.5555555555555556,
              "#d8576b"
             ],
             [
              0.6666666666666666,
              "#ed7953"
             ],
             [
              0.7777777777777778,
              "#fb9f3a"
             ],
             [
              0.8888888888888888,
              "#fdca26"
             ],
             [
              1,
              "#f0f921"
             ]
            ],
            "type": "histogram2d"
           }
          ],
          "histogram2dcontour": [
           {
            "colorbar": {
             "outlinewidth": 0,
             "ticks": ""
            },
            "colorscale": [
             [
              0,
              "#0d0887"
             ],
             [
              0.1111111111111111,
              "#46039f"
             ],
             [
              0.2222222222222222,
              "#7201a8"
             ],
             [
              0.3333333333333333,
              "#9c179e"
             ],
             [
              0.4444444444444444,
              "#bd3786"
             ],
             [
              0.5555555555555556,
              "#d8576b"
             ],
             [
              0.6666666666666666,
              "#ed7953"
             ],
             [
              0.7777777777777778,
              "#fb9f3a"
             ],
             [
              0.8888888888888888,
              "#fdca26"
             ],
             [
              1,
              "#f0f921"
             ]
            ],
            "type": "histogram2dcontour"
           }
          ],
          "mesh3d": [
           {
            "colorbar": {
             "outlinewidth": 0,
             "ticks": ""
            },
            "type": "mesh3d"
           }
          ],
          "parcoords": [
           {
            "line": {
             "colorbar": {
              "outlinewidth": 0,
              "ticks": ""
             }
            },
            "type": "parcoords"
           }
          ],
          "pie": [
           {
            "automargin": true,
            "type": "pie"
           }
          ],
          "scatter": [
           {
            "marker": {
             "colorbar": {
              "outlinewidth": 0,
              "ticks": ""
             }
            },
            "type": "scatter"
           }
          ],
          "scatter3d": [
           {
            "line": {
             "colorbar": {
              "outlinewidth": 0,
              "ticks": ""
             }
            },
            "marker": {
             "colorbar": {
              "outlinewidth": 0,
              "ticks": ""
             }
            },
            "type": "scatter3d"
           }
          ],
          "scattercarpet": [
           {
            "marker": {
             "colorbar": {
              "outlinewidth": 0,
              "ticks": ""
             }
            },
            "type": "scattercarpet"
           }
          ],
          "scattergeo": [
           {
            "marker": {
             "colorbar": {
              "outlinewidth": 0,
              "ticks": ""
             }
            },
            "type": "scattergeo"
           }
          ],
          "scattergl": [
           {
            "marker": {
             "colorbar": {
              "outlinewidth": 0,
              "ticks": ""
             }
            },
            "type": "scattergl"
           }
          ],
          "scattermapbox": [
           {
            "marker": {
             "colorbar": {
              "outlinewidth": 0,
              "ticks": ""
             }
            },
            "type": "scattermapbox"
           }
          ],
          "scatterpolar": [
           {
            "marker": {
             "colorbar": {
              "outlinewidth": 0,
              "ticks": ""
             }
            },
            "type": "scatterpolar"
           }
          ],
          "scatterpolargl": [
           {
            "marker": {
             "colorbar": {
              "outlinewidth": 0,
              "ticks": ""
             }
            },
            "type": "scatterpolargl"
           }
          ],
          "scatterternary": [
           {
            "marker": {
             "colorbar": {
              "outlinewidth": 0,
              "ticks": ""
             }
            },
            "type": "scatterternary"
           }
          ],
          "surface": [
           {
            "colorbar": {
             "outlinewidth": 0,
             "ticks": ""
            },
            "colorscale": [
             [
              0,
              "#0d0887"
             ],
             [
              0.1111111111111111,
              "#46039f"
             ],
             [
              0.2222222222222222,
              "#7201a8"
             ],
             [
              0.3333333333333333,
              "#9c179e"
             ],
             [
              0.4444444444444444,
              "#bd3786"
             ],
             [
              0.5555555555555556,
              "#d8576b"
             ],
             [
              0.6666666666666666,
              "#ed7953"
             ],
             [
              0.7777777777777778,
              "#fb9f3a"
             ],
             [
              0.8888888888888888,
              "#fdca26"
             ],
             [
              1,
              "#f0f921"
             ]
            ],
            "type": "surface"
           }
          ],
          "table": [
           {
            "cells": {
             "fill": {
              "color": "#EBF0F8"
             },
             "line": {
              "color": "white"
             }
            },
            "header": {
             "fill": {
              "color": "#C8D4E3"
             },
             "line": {
              "color": "white"
             }
            },
            "type": "table"
           }
          ]
         },
         "layout": {
          "annotationdefaults": {
           "arrowcolor": "#2a3f5f",
           "arrowhead": 0,
           "arrowwidth": 1
          },
          "autotypenumbers": "strict",
          "coloraxis": {
           "colorbar": {
            "outlinewidth": 0,
            "ticks": ""
           }
          },
          "colorscale": {
           "diverging": [
            [
             0,
             "#8e0152"
            ],
            [
             0.1,
             "#c51b7d"
            ],
            [
             0.2,
             "#de77ae"
            ],
            [
             0.3,
             "#f1b6da"
            ],
            [
             0.4,
             "#fde0ef"
            ],
            [
             0.5,
             "#f7f7f7"
            ],
            [
             0.6,
             "#e6f5d0"
            ],
            [
             0.7,
             "#b8e186"
            ],
            [
             0.8,
             "#7fbc41"
            ],
            [
             0.9,
             "#4d9221"
            ],
            [
             1,
             "#276419"
            ]
           ],
           "sequential": [
            [
             0,
             "#0d0887"
            ],
            [
             0.1111111111111111,
             "#46039f"
            ],
            [
             0.2222222222222222,
             "#7201a8"
            ],
            [
             0.3333333333333333,
             "#9c179e"
            ],
            [
             0.4444444444444444,
             "#bd3786"
            ],
            [
             0.5555555555555556,
             "#d8576b"
            ],
            [
             0.6666666666666666,
             "#ed7953"
            ],
            [
             0.7777777777777778,
             "#fb9f3a"
            ],
            [
             0.8888888888888888,
             "#fdca26"
            ],
            [
             1,
             "#f0f921"
            ]
           ],
           "sequentialminus": [
            [
             0,
             "#0d0887"
            ],
            [
             0.1111111111111111,
             "#46039f"
            ],
            [
             0.2222222222222222,
             "#7201a8"
            ],
            [
             0.3333333333333333,
             "#9c179e"
            ],
            [
             0.4444444444444444,
             "#bd3786"
            ],
            [
             0.5555555555555556,
             "#d8576b"
            ],
            [
             0.6666666666666666,
             "#ed7953"
            ],
            [
             0.7777777777777778,
             "#fb9f3a"
            ],
            [
             0.8888888888888888,
             "#fdca26"
            ],
            [
             1,
             "#f0f921"
            ]
           ]
          },
          "colorway": [
           "#636efa",
           "#EF553B",
           "#00cc96",
           "#ab63fa",
           "#FFA15A",
           "#19d3f3",
           "#FF6692",
           "#B6E880",
           "#FF97FF",
           "#FECB52"
          ],
          "font": {
           "color": "#2a3f5f"
          },
          "geo": {
           "bgcolor": "white",
           "lakecolor": "white",
           "landcolor": "#E5ECF6",
           "showlakes": true,
           "showland": true,
           "subunitcolor": "white"
          },
          "hoverlabel": {
           "align": "left"
          },
          "hovermode": "closest",
          "mapbox": {
           "style": "light"
          },
          "paper_bgcolor": "white",
          "plot_bgcolor": "#E5ECF6",
          "polar": {
           "angularaxis": {
            "gridcolor": "white",
            "linecolor": "white",
            "ticks": ""
           },
           "bgcolor": "#E5ECF6",
           "radialaxis": {
            "gridcolor": "white",
            "linecolor": "white",
            "ticks": ""
           }
          },
          "scene": {
           "xaxis": {
            "backgroundcolor": "#E5ECF6",
            "gridcolor": "white",
            "gridwidth": 2,
            "linecolor": "white",
            "showbackground": true,
            "ticks": "",
            "zerolinecolor": "white"
           },
           "yaxis": {
            "backgroundcolor": "#E5ECF6",
            "gridcolor": "white",
            "gridwidth": 2,
            "linecolor": "white",
            "showbackground": true,
            "ticks": "",
            "zerolinecolor": "white"
           },
           "zaxis": {
            "backgroundcolor": "#E5ECF6",
            "gridcolor": "white",
            "gridwidth": 2,
            "linecolor": "white",
            "showbackground": true,
            "ticks": "",
            "zerolinecolor": "white"
           }
          },
          "shapedefaults": {
           "line": {
            "color": "#2a3f5f"
           }
          },
          "ternary": {
           "aaxis": {
            "gridcolor": "white",
            "linecolor": "white",
            "ticks": ""
           },
           "baxis": {
            "gridcolor": "white",
            "linecolor": "white",
            "ticks": ""
           },
           "bgcolor": "#E5ECF6",
           "caxis": {
            "gridcolor": "white",
            "linecolor": "white",
            "ticks": ""
           }
          },
          "title": {
           "x": 0.05
          },
          "xaxis": {
           "automargin": true,
           "gridcolor": "white",
           "linecolor": "white",
           "ticks": "",
           "title": {
            "standoff": 15
           },
           "zerolinecolor": "white",
           "zerolinewidth": 2
          },
          "yaxis": {
           "automargin": true,
           "gridcolor": "white",
           "linecolor": "white",
           "ticks": "",
           "title": {
            "standoff": 15
           },
           "zerolinecolor": "white",
           "zerolinewidth": 2
          }
         }
        },
        "xaxis": {
         "anchor": "y",
         "domain": [
          0,
          1
         ],
         "title": {
          "text": "average_cost_two"
         }
        },
        "yaxis": {
         "anchor": "x",
         "domain": [
          0,
          1
         ],
         "title": {
          "text": "agg_rating"
         }
        }
       }
      },
      "text/html": [
       "<div>                            <div id=\"972fa536-912c-4352-8f5a-597335531210\" class=\"plotly-graph-div\" style=\"height:525px; width:100%;\"></div>            <script type=\"text/javascript\">                require([\"plotly\"], function(Plotly) {                    window.PLOTLYENV=window.PLOTLYENV || {};                                    if (document.getElementById(\"972fa536-912c-4352-8f5a-597335531210\")) {                    Plotly.newPlot(                        \"972fa536-912c-4352-8f5a-597335531210\",                        [{\"hovertemplate\":\"rating_text=Excellent<br>average_cost_two=%{x}<br>agg_rating=%{y}<extra></extra>\",\"legendgroup\":\"Excellent\",\"marker\":{\"color\":\"#636efa\",\"symbol\":\"circle\"},\"mode\":\"markers\",\"name\":\"Excellent\",\"showlegend\":true,\"x\":[1100,1200,1500,1500,6000,1100,800,800,1200,600,3000,1800,230,100,60,90,60,100,90,120,170,250,300,85,250,300,120,70,40,10,10,40,40,25,20,25,25,25,10,10,25,25,25,10,25,25,40,25,25,25,40,40,25,25,25,10,25,10,25,25,25,45,35,40,100,35,40,25,35,25,40,10,10,10,25,35,10,30,10,10,70,10,40,40,10,40,25,25,25,70,10,40,40,40,40,40,10,190,260,180,100,330,500,200,150,200,160,500,160,300,140,500,270,60,150,0,300,350,950,2400,2000,600,950,800,1500,1400,600,1800,250,1200,600,1300,500,1700,350,1200,1500,1600,1400,800,350,350,1500,1000,800,1100,800,1100,600,1500,1500,1200,1800,500,500,2000,1000,1200,1500,1500,500,1800,800,600,1500,1500,1800,1800,1500,600,500,750,2300,2000,1000,1500,1400,1200,800,1600,1600,300,200,800,1600,800,1000,800,500,1500,600,1600,200,1500,150,1800,900,4000,1000,2000,150,1400,800,5000,150,2000,1500,1500,1200,700,3000,1300,1400,150,1500,2000,600,2000,1100,900,250,700,1500,1000,1800,1700,800,400,1300,600,1600,200000,165000,200000,800000,500000,200000,200000,20,50,90,60,25,45,55,190,120,25,70,50,40,120,30,35,45,80,45,35,55,55,90,60,230,100,40,20,120,45,35,40,50,35,80,300,250,250,400,350,110,230,1540,700,955,450,450,285,3210,450,545,1300,4000,70,100,80,40,40,50,30,130,35,40],\"xaxis\":\"x\",\"y\":[4.8,4.5,4.9,4.8,4.9,4.8,4.9,4.8,4.5,4.5,4.7,4.5,4.9,4.8,4.7,4.5,4.8,4.9,4.6,4.9,4.6,4.6,4.7,4.6,4.5,4.8,4.6,4.6,4.5,4.5,4.6,4.6,4.9,4.5,4.6,4.5,4.6,4.5,4.9,4.5,4.7,4.6,4.5,4.9,4.6,4.6,4.5,4.9,4.5,4.9,4.5,4.5,4.6,4.8,4.9,4.6,4.5,4.9,4.6,4.5,4.5,4.5,4.7,4.6,4.6,4.6,4.8,4.9,4.9,4.7,4.9,4.6,4.5,4.7,4.5,4.7,4.7,4.5,4.5,4.6,4.9,4.9,4.6,4.7,4.6,4.5,4.5,4.6,4.6,4.7,4.9,4.5,4.9,4.5,4.7,4.8,4.5,4.6,4.6,4.6,4.5,4.9,4.7,4.6,4.5,4.5,4.9,4.9,4.8,4.5,4.5,4.9,4.7,4.8,4.5,4.9,4.5,4.6,4.5,4.7,4.8,4.6,4.7,4.7,4.5,4.6,4.6,4.5,4.9,4.6,4.5,4.5,4.5,4.8,4.6,4.6,4.5,4.9,4.6,4.6,4.5,4.9,4.9,4.5,4.5,4.8,4.6,4.6,4.5,4.7,4.6,4.6,4.5,4.6,4.9,4.6,4.6,4.7,4.8,4.8,4.5,4.5,4.6,4.7,4.9,4.9,4.7,4.6,4.9,4.8,4.7,4.7,4.5,4.9,4.6,4.5,4.6,4.8,4.6,4.9,4.9,4.9,4.5,4.6,4.7,4.6,4.7,4.5,4.6,4.9,4.5,4.9,4.5,4.7,4.9,4.7,4.6,4.9,4.5,4.6,4.5,4.5,4.5,4.9,4.5,4.5,4.5,4.6,4.5,4.6,4.5,4.6,4.8,4.7,4.5,4.6,4.7,4.7,4.6,4.6,4.5,4.5,4.5,4.8,4.5,4.5,4.6,4.5,4.6,4.6,4.9,4.9,4.6,4.6,4.6,4.9,4.9,4.9,4.7,4.9,4.8,4.6,4.9,4.5,4.5,4.7,4.6,4.5,4.5,4.6,4.6,4.5,4.5,4.6,4.7,4.7,4.5,4.9,4.9,4.5,4.7,4.6,4.7,4.5,4.5,4.9,4.8,4.5,4.7,4.6,4.9,4.5,4.5,4.6,4.9,4.7,4.5,4.5,4.5,4.8,4.9,4.9,4.5,4.7,4.5,4.5,4.9,4.8,4.6,4.5,4.9,4.6,4.5,4.9,4.6,4.7,4.7,4.9,4.9,4.5,4.7],\"yaxis\":\"y\",\"type\":\"scattergl\"},{\"hovertemplate\":\"rating_text=Very Good<br>average_cost_two=%{x}<br>agg_rating=%{y}<extra></extra>\",\"legendgroup\":\"Very Good\",\"marker\":{\"color\":\"#EF553B\",\"symbol\":\"circle\"},\"mode\":\"markers\",\"name\":\"Very Good\",\"showlegend\":true,\"x\":[4000,1000,2000,2000,900,1000,700,850,1500,150,100,230,150,140,170,90,150,120,40,250,80,250,100,300,120,150,400,100,120,10,10,25,25,40,10,10,40,25,10,40,10,10,25,10,40,25,25,10,25,40,40,25,10,25,35,10,10,70,10,25,10,25,25,10,10,25,40,25,10,40,25,40,40,10,40,25,25,10,10,25,25,40,25,40,25,10,40,25,25,25,0,25,40,10,25,40,40,10,25,10,10,10,10,25,10,10,10,10,10,25,0,25,25,10,25,25,25,40,25,25,25,10,40,40,10,70,10,10,25,25,40,20,25,10,10,25,40,10,25,10,25,10,20,40,70,10,70,10,10,25,25,10,40,40,50,45,50,10,60,40,25,40,40,30,25,25,40,40,25,40,25,25,40,40,40,10,70,40,40,10,25,40,40,70,10,70,25,25,25,10,10,40,25,10,70,25,70,70,270,20,100,10,40,25,25,25,25,25,25,40,40,40,30,20,25,10,70,150,70,100,230,350,120,250,50,70,80,100,250,90,90,100,160,150,150,170,130,120,65,40,100,80,90,50,60,160,250,110,400,1000,2000,2500,2500,550,700,1000,700,900,800,900,500,1000,450,900,700,700,600,1200,1200,1200,100,100,500,150,1300,1500,800,600,1400,400,1200,1200,1500,500,1000,1000,650,500,400,400,1800,500,550,500,1400,900,400,800,300,900,1500,1600,1400,1600,1400,1200,1800,650,650,450,600,2200,600,800,750,850,450,1100,1500,1000,1200,850,850,2000,900,500,1200,1200,600,1000,1500,400,1400,700,300,1400,750,0,1250,500,350,1600,1200,500,500,600,1600,1300,650,2000,1400,1000,1600,1300,800,800,1100,2000,2000,1400,400,1500,1300,1500,1600,2000,1500,800,2000,2200,2500,900,1500,1200,1750,1300,1500,1800,400,800,2500,500,400,300,700,850,750,1300,600,650,650,600,3200,1400,500,1600,1000,3000,1600,2000,700,1200,1000,700,500,4000,600,2000,900,500,1400,1600,2100,1500,1800,400,2500,1200,1600,1500,3300,1250,1200,1850,800,400,650,2500,2000,1100,700,500,500,700,1100,1500,600,750,400,700,4000,500,1400,750,1300,1650,500,500,400,500,500,850,600,1000,700,700,1500,700,1900,1400,1200,2000,1200,1100,1800,1400,850,250,1950,1000,1200,850,1500,1500,400,1100,500,800,1400,750,1300,1000,1600,1000,1800,2500,650,700,800,1500,1000,1500,500,1000,1500,350,1400,600,600,1000,400,400,700,800,650,900,650,1000,700,1200,1000,1200,1400,1800,800,900,1000,1900,1600,1000,450,1200,400,1000,1300,1000,1000,400,400,1100,2000,1000,700,1400,1400,1500,2000,1100,800,1200,800,500,800,550,800,1000,1500,1000,1500,1500,1200,1000,300,1600,700,500,550,550,600,1100,750,1200,1000,1300,1000,1600,1200,1500,1500,1400,1800,1500,1400,350,200,150,50,3000,100,150,150,1500,1600,1800,2000,1600,800,1000,2000,1800,1200,2200,2000,800,1900,1400,1000,1600,1800,1200,500,1300,700,1500,1500,2100,2200,1600,400,400,1500,500,1750,1000,400,1500,1700,800,900,200,1600,1650,600,900,550,400,700,250,900,850,700,1500,400,400,500,1500,200,3500,2500,1800,1600,4800,200,3300,1600,1800,550,1000,1400,950,750,1000,600,850,1400,1900,800,500,450,800,500,3000,2000,550,1200,700,1000,900,550,1200,600,350,1000,1850,1600,200,2200,1700,500,1300,1600,4500,500,6500,7000,1200,100,200,800,200,700,1600,200,1550,1350,500,2000,1500,300,1500,600,400,100,250,300,500,200,1050,1700,400,1600,1550,2000,2000,1650,2100,1300,600,700,1800,150,400,800,4500,2900,2100,1000,2600,700,300,900,500,700,800,300,1000,250,1200,700,1600,1200,400,800,1400,1600,500,1000,400,1650,1200,1800,100,900,1600,1500,1500,750,250,1000,1400,1200,400,3000,3000,500,300,750,600,1400,1500,1000,1350,700,800,300,1200,1300,800,1100,1500,200,1000,1300,700,1300,1200,1000,1400,250,1200,2000,400,800,800,1800,900,350,250,1000,2000,1700,1800,1500,600,400,450,600,800,600,250,650,600,600,700,650,850,500,2000,500,1500,700,350,650,1950,1000,700,700,900,1000,1000,500,750,1000,350,2000,3800,4000,3000,3000,1300,800,1800,2200,1600,2500,4500,6000,3500,5500,4500,8000,1500,2500,700,700,650,900,2000,900,600,400,800,200,350,400,1500,1500,1500,1600,650,1350,1300,750,1300,700,2800,500,800,1300,1600,450,300,500,400,500,200,500,500,700,1300,500,1200,2000,400,300,150,2000,1500,1400,1000,1800,900,850,1500,1000,1500,1200,800,1000,1000,450,850,500,800,250,650,650,900,1400,1000,800,1500,1500,1000,1200,1500,600,600,700,600,1000,150,600,300,1300,1700,600,450,600,1400,150000,250000,800000,250000,200000,300000,450000,120000,100000,350000,40,65,90,50,35,60,90,50,60,50,60,55,50,100,50,50,40,105,200,50,80,40,80,110,90,60,45,50,30,80,45,20,90,50,40,40,15,25,100,20,20,55,30,100,30,50,85,55,70,40,30,45,30,25,55,160,60,170,50,150,250,550,445,300,180,150,200,250,535,125,320,270,570,300,350,350,350,515,360,320,500,300,200,320,600,410,400,250,250,200,250,400,250,400,400,330,300,450,2500,2500,4000,2400,1000,1000,3000,4500,3000,2000,1000,70,100,35,60,150,400,60,70,50,100,50,70,70,80,75,90,80,105,120,55],\"xaxis\":\"x\",\"y\":[4.4,4.4,4.0,4.2,4.2,4.2,4.3,4.0,4.4,4.1,4.3,4.2,4.0,4.0,4.2,4.3,4.0,4.4,4.2,4.2,4.3,4.4,4.1,4.3,4.3,4.3,4.4,4.4,4.1,4.3,4.2,4.0,4.1,4.3,4.2,4.1,4.1,4.2,4.1,4.1,4.4,4.4,4.2,4.1,4.3,4.1,4.4,4.0,4.0,4.2,4.0,4.0,4.1,4.0,4.3,4.2,4.3,4.1,4.2,4.3,4.4,4.1,4.4,4.3,4.4,4.4,4.0,4.1,4.3,4.0,4.0,4.4,4.1,4.1,4.1,4.4,4.2,4.2,4.2,4.1,4.3,4.3,4.1,4.0,4.2,4.3,4.2,4.3,4.0,4.0,4.0,4.1,4.1,4.2,4.3,4.0,4.4,4.4,4.4,4.1,4.1,4.1,4.3,4.2,4.1,4.3,4.2,4.1,4.0,4.1,4.3,4.0,4.1,4.3,4.0,4.1,4.1,4.2,4.2,4.1,4.0,4.4,4.2,4.3,4.2,4.1,4.1,4.0,4.3,4.0,4.2,4.1,4.4,4.1,4.4,4.1,4.3,4.1,4.2,4.3,4.2,4.0,4.1,4.1,4.0,4.3,4.2,4.2,4.1,4.0,4.2,4.0,4.1,4.4,4.3,4.3,4.4,4.4,4.4,4.2,4.4,4.4,4.4,4.4,4.2,4.2,4.1,4.4,4.3,4.0,4.1,4.2,4.4,4.3,4.4,4.1,4.0,4.2,4.2,4.2,4.4,4.3,4.3,4.4,4.0,4.2,4.2,4.1,4.4,4.2,4.1,4.1,4.3,4.3,4.0,4.3,4.4,4.1,4.0,4.2,4.1,4.0,4.0,4.0,4.1,4.1,4.1,4.4,4.4,4.2,4.0,4.4,4.4,4.1,4.1,4.3,4.3,4.4,4.3,4.2,4.1,4.4,4.0,4.0,4.0,4.0,4.3,4.0,4.2,4.1,4.3,4.3,4.3,4.4,4.4,4.3,4.3,4.1,4.3,4.1,4.1,4.2,4.1,4.2,4.2,4.2,4.1,4.2,4.0,4.2,4.0,4.3,4.0,4.1,4.4,4.2,4.1,4.2,4.1,4.3,4.4,4.4,4.4,4.3,4.3,4.0,4.4,4.1,4.1,4.0,4.0,4.1,4.1,4.1,4.1,4.2,4.0,4.3,4.1,4.3,4.4,4.2,4.4,4.2,4.0,4.0,4.1,4.1,4.4,4.1,4.3,4.3,4.1,4.0,4.1,4.0,4.0,4.3,4.1,4.2,4.3,4.2,4.3,4.1,4.0,4.0,4.3,4.1,4.1,4.0,4.2,4.4,4.0,4.2,4.4,4.2,4.2,4.1,4.0,4.2,4.3,4.4,4.3,4.4,4.0,4.3,4.1,4.2,4.0,4.0,4.0,4.3,4.2,4.2,4.3,4.4,4.2,4.3,4.0,4.0,4.1,4.4,4.0,4.1,4.2,4.2,4.0,4.1,4.1,4.4,4.3,4.2,4.4,4.3,4.2,4.3,4.4,4.2,4.3,4.0,4.3,4.0,4.2,4.2,4.1,4.0,4.3,4.0,4.0,4.3,4.1,4.0,4.0,4.0,4.1,4.0,4.0,4.2,4.3,4.0,4.1,4.0,4.3,4.0,4.3,4.2,4.4,4.1,4.0,4.1,4.1,4.1,4.2,4.1,4.1,4.0,4.4,4.2,4.1,4.0,4.1,4.2,4.0,4.0,4.0,4.1,4.1,4.1,4.0,4.1,4.0,4.4,4.1,4.1,4.4,4.1,4.2,4.0,4.1,4.2,4.3,4.4,4.4,4.0,4.0,4.1,4.0,4.1,4.0,4.1,4.1,4.2,4.2,4.0,4.3,4.0,4.0,4.0,4.0,4.0,4.0,4.1,4.2,4.1,4.4,4.4,4.1,4.0,4.1,4.2,4.1,4.1,4.3,4.0,4.3,4.3,4.3,4.0,4.3,4.2,4.2,4.4,4.1,4.1,4.2,4.1,4.1,4.1,4.1,4.2,4.0,4.0,4.3,4.0,4.3,4.1,4.3,4.0,4.0,4.4,4.4,4.0,4.3,4.2,4.0,4.3,4.2,4.1,4.3,4.3,4.0,4.0,4.1,4.1,4.3,4.1,4.0,4.4,4.2,4.2,4.0,4.0,4.4,4.0,4.2,4.3,4.2,4.3,4.3,4.2,4.4,4.2,4.4,4.0,4.2,4.2,4.3,4.4,4.1,4.0,4.3,4.2,4.1,4.1,4.3,4.3,4.0,4.4,4.1,4.2,4.2,4.2,4.0,4.1,4.2,4.1,4.3,4.4,4.2,4.4,4.2,4.2,4.1,4.3,4.0,4.0,4.2,4.1,4.3,4.2,4.0,4.1,4.2,4.0,4.0,4.0,4.3,4.0,4.2,4.3,4.0,4.4,4.0,4.2,4.0,4.0,4.2,4.2,4.2,4.2,4.4,4.0,4.1,4.0,4.2,4.3,4.1,4.4,4.1,4.1,4.1,4.0,4.4,4.0,4.1,4.1,4.1,4.0,4.2,4.1,4.0,4.4,4.0,4.0,4.3,4.0,4.0,4.1,4.0,4.1,4.3,4.1,4.1,4.1,4.3,4.0,4.1,4.0,4.3,4.3,4.1,4.1,4.1,4.4,4.1,4.0,4.1,4.1,4.1,4.0,4.2,4.0,4.0,4.2,4.2,4.1,4.1,4.3,4.3,4.4,4.2,4.4,4.1,4.1,4.0,4.1,4.1,4.0,4.2,4.0,4.3,4.2,4.2,4.2,4.0,4.2,4.1,4.1,4.1,4.4,4.0,4.2,4.0,4.1,4.1,4.3,4.2,4.0,4.3,4.1,4.1,4.1,4.3,4.4,4.4,4.1,4.0,4.0,4.2,4.3,4.3,4.0,4.0,4.1,4.3,4.2,4.2,4.0,4.2,4.4,4.1,4.0,4.1,4.4,4.1,4.2,4.2,4.0,4.0,4.3,4.3,4.0,4.1,4.2,4.2,4.2,4.1,4.4,4.2,4.3,4.2,4.0,4.1,4.0,4.0,4.0,4.0,4.3,4.2,4.0,4.1,4.0,4.0,4.2,4.0,4.2,4.2,4.0,4.4,4.2,4.1,4.2,4.1,4.0,4.1,4.1,4.1,4.2,4.4,4.0,4.0,4.0,4.1,4.0,4.3,4.0,4.1,4.2,4.1,4.1,4.3,4.1,4.1,4.4,4.1,4.0,4.2,4.1,4.0,4.0,4.2,4.3,4.3,4.4,4.4,4.1,4.0,4.1,4.0,4.4,4.4,4.1,4.4,4.2,4.2,4.2,4.1,4.2,4.1,4.2,4.0,4.0,4.4,4.4,4.2,4.0,4.4,4.3,4.4,4.1,4.0,4.1,4.0,4.1,4.2,4.1,4.0,4.2,4.2,4.2,4.3,4.0,4.0,4.3,4.2,4.1,4.4,4.2,4.1,4.0,4.1,4.1,4.1,4.2,4.1,4.4,4.0,4.1,4.0,4.0,4.0,4.2,4.2,4.0,4.2,4.1,4.1,4.3,4.2,4.0,4.0,4.0,4.0,4.2,4.2,4.0,4.0,4.0,4.4,4.0,4.2,4.4,4.1,4.0,4.1,4.3,4.0,4.0,4.2,4.0,4.1,4.0,4.0,4.3,4.4,4.3,4.0,4.0,4.0,4.2,4.0,4.0,4.1,4.2,4.2,4.1,4.2,4.3,4.1,4.3,4.2,4.1,4.4,4.0,4.1,4.1,4.1,4.1,4.3,4.0,4.0,4.0,4.2,4.1,4.0,4.1,4.0,4.0,4.2,4.3,4.2,4.0,4.1,4.3,4.3,4.1,4.0,4.1,4.1,4.3,4.1,4.0,4.2,4.1,4.2,4.2,4.3,4.3,4.2,4.1,4.3,4.4,4.2,4.1,4.0,4.2,4.2,4.1,4.1,4.4,4.0,4.4,4.1,4.2,4.0,4.0,4.3,4.1,4.2,4.1,4.1,4.1,4.3,4.1,4.0,4.4,4.0,4.3,4.2,4.1,4.1,4.1,4.3,4.2,4.4,4.1,4.1,4.0,4.3,4.4,4.2,4.0,4.1,4.2,4.4,4.3,4.2,4.4,4.0,4.3,4.3,4.1,4.2,4.4,4.3,4.0,4.2,4.0,4.0,4.3,4.1,4.1,4.1,4.3,4.0,4.4,4.3,4.2,4.4,4.4,4.2,4.3,4.2,4.3,4.1,4.0,4.2,4.0,4.2,4.1,4.0,4.0,4.4,4.3,4.0,4.0,4.1,4.4,4.1,4.1,4.0,4.2,4.1,4.4,4.1,4.3,4.0,4.4,4.3,4.0,4.1,4.1,4.2,4.3,4.2,4.3,4.0,4.2,4.3,4.0,4.0,4.4,4.3,4.1,4.2,4.4,4.0,4.4,4.0,4.4,4.1,4.1,4.4,4.3,4.1,4.0,4.1,4.2,4.1,4.4,4.2,4.3,4.4,4.3,4.4,4.0,4.1,4.0,4.1,4.3,4.0,4.4,4.2,4.1,4.3,4.3,4.4,4.4,4.0,4.0,4.0,4.2,4.2,4.1,4.2,4.0,4.2,4.1,4.1,4.2,4.2,4.3,4.4,4.4,4.1,4.3,4.2,4.4,4.2,4.3,4.4,4.2,4.2,4.2,4.3,4.1,4.2,4.0,4.0],\"yaxis\":\"y\",\"type\":\"scattergl\"},{\"hovertemplate\":\"rating_text=Good<br>average_cost_two=%{x}<br>agg_rating=%{y}<extra></extra>\",\"legendgroup\":\"Good\",\"marker\":{\"color\":\"#00cc96\",\"symbol\":\"circle\"},\"mode\":\"markers\",\"name\":\"Good\",\"showlegend\":true,\"x\":[800,30,45,60,90,200,60,100,50,75,120,230,10,10,25,70,25,10,10,25,25,40,40,40,10,20,10,10,10,25,40,25,25,70,40,25,25,40,25,25,25,40,10,40,40,25,10,25,40,10,25,10,25,10,70,25,7,25,10,0,25,40,25,40,10,10,25,40,25,10,25,70,10,30,20,25,40,10,25,25,40,10,20,7,7,7,10,20,20,25,40,25,25,10,25,30,25,40,25,40,25,25,40,40,20,10,45,10,0,40,30,10,10,10,25,10,25,40,0,25,25,25,40,25,25,40,40,10,500,430,315,40,220,300,50,40,40,10,10,10,40,25,25,25,10,10,10,10,40,10,25,40,70,40,70,40,40,35,25,10,40,25,10,25,40,10,25,25,70,25,25,40,20,25,10,10,25,10,40,25,40,10,25,25,25,25,40,10,25,10,10,25,25,60,280,250,85,70,110,130,250,50,850,700,500,800,3600,0,1500,0,900,1800,1000,1400,600,550,1000,200,500,500,400,300,150,300,400,700,200,500,500,500,400,500,1000,800,1000,300,450,1300,1400,700,600,500,550,500,350,500,900,500,500,850,450,600,450,500,450,500,400,850,700,800,900,600,400,600,450,1200,700,800,500,650,1000,550,700,600,600,400,1100,600,900,400,300,900,400,400,650,400,350,250,150,400,750,400,400,150,500,350,200,600,300,500,600,600,1500,1100,800,700,1500,500,1600,1400,600,1500,1800,2200,1700,800,1700,1000,3500,5000,1200,600,2500,200,400,1250,600,1800,1500,350,1100,1700,2000,600,2000,700,1400,1400,700,2300,550,1700,600,400,400,1500,300,350,700,350,650,900,400,800,700,500,2000,800,1500,200,700,1000,600,700,1300,500,200,300,550,400,800,300,500,250,300,400,500,1000,500,1000,700,800,600,800,1200,600,600,500,750,750,300,400,300,550,800,1100,1200,1800,350,1000,3000,150,550,1000,700,1000,1500,1250,1600,2200,500,900,500,1500,450,550,700,1500,2000,1700,2000,700,850,800,600,600,700,1500,1000,500,1000,4500,2000,1600,550,600,2500,200,1500,1500,650,700,600,600,400,1000,1500,900,2500,400,1400,550,100,800,400,1400,650,1700,600,1500,700,2200,3000,500,1500,600,150,200,500,400,850,900,2000,1400,550,1500,700,500,1500,1600,1500,500,1500,1500,1800,1200,700,1500,2000,650,600,250,650,600,500,400,400,650,1600,500,400,350,800,550,800,150,200,750,200,500,1250,400,300,1100,600,500,1600,500,700,950,300,450,400,400,300,800,300,800,600,300,550,250,200,300,600,150,500,600,850,650,2500,3000,3000,3000,3000,3000,400,2500,2500,600,750,600,400,550,500,500,1300,800,3500,200,600,250,500,400,1400,800,300,1500,1100,1300,700,800,2000,700,650,500,1650,1500,1200,800,400,600,0,500,0,1500,1000,850,3000,1500,350,800,1000,550,400,600,1000,1500,1050,1500,650,450,1000,1100,800,1500,400,800,1300,700,1200,1000,1400,1600,1500,600,200,900,700,600,1000,800,700,1500,500,750,600,1000,1600,1000,700,700,500,1100,1000,700,1000,1500,1000,1000,900,800,500,400,650,1700,500,700,1000,650,700,650,550,1000,1200,250,250,400,350,250,1000,400,1000,600,800,400,1500,400,500,500,1100,400,100,300,1500,1000,300,600,800,250,650,800,2200,2200,500,600,700,700,500,350,650,400,250,300,250,300,350,1000,2500,1500,700,350,400,1300,250,1300,1800,200,200,1200,500,750,400,600,400,800,300,450,1300,600,1000,500,1300,1100,800,400,450,600,200,100,100,150,150,600,300,100,400,150,100,100,150,150,100,100,200,100,300,300,100,200,150,100,150,100,100,100,600,500,650,100,1450,1200,300,150,1400,2400,550,1100,1100,500,500,700,1500,1200,1200,800,1400,500,400,1700,1800,1400,700,600,600,2000,1200,600,550,1300,250,1200,600,600,500,650,1600,450,1200,1500,2200,500,500,400,1400,650,1000,1200,900,1400,1700,2400,1000,1000,1100,5000,1100,1700,950,1350,600,400,300,2800,700,500,1600,1200,1200,1250,1500,1500,1400,450,1600,1600,1500,1800,1500,1600,300,600,2500,1000,3000,1000,550,400,500,700,500,500,600,1100,500,400,350,1500,700,1200,350,600,300,1000,400,300,600,800,1600,900,700,500,700,1400,300,1500,1200,1800,2000,1000,900,900,800,600,500,1500,1800,250,250,150,550,1000,800,550,250,650,500,800,350,450,400,250,800,450,400,600,800,300,500,1600,1500,400,850,600,700,350,2500,1200,750,400,400,700,600,400,350,400,450,700,1250,300,500,700,600,500,300,1100,700,350,800,500,350,400,1500,400,650,500,500,300,4000,3650,700,1800,200,500,600,1000,300,500,500,850,1000,2200,1000,400,1000,300,600,900,1500,300,400,2100,1600,700,1100,600,1700,450,1250,250,2000,700,1800,250,2000,200,500,400,1800,400,700,650,550,400,1800,1000,300,600,800,1000,400,2500,1650,1350,400,650,1800,1200,650,800,250,1100,900,250,700,1500,600,650,2200,1300,1550,700,1200,300,500,720,1800,600,450,2500,250,300,1200,600,1500,300,1200,500,250,1000,550,800,500,350,300,500,500,300,100,300,500,450,1300,200,600,300,300,1000,350,300,800,1200,400,1900,1600,1200,1800,1200,1800,1200,2400,800,1800,2000,1800,2000,2500,4000,2500,2000,3500,4500,2500,1000,4000,400,300,150,250,300,1200,3500,300,300,200,300,200,300,600,400,200,300,100,700,600,1250,350,300,400,700,400,400,500,500,700,600,300,1300,400,500,450,900,900,150,500,400,150,1200,700,650,200,1900,1200,2100,500,1200,150,1250,800,450,1000,500,600,550,3000,3000,2500,300,600,1550,700,600,600,800,600,750,800,600,400,200,900,150,1300,500,600,250,850,200,150,300,250,250,550,650,250,400,200,250,200,200,300,100,600,500,200,400,50,300,800,150,500,500,400,950,1900,150,300,500,300,100,800,1000,800,800,400,1600,1150,250,1300,250,750,400,450,650,900,200,700,300,600,50,500,650,150,250,600,600,200,500,700,350,700,350,350,350,1200,600,2000,2500,1000,1000,700,800,1700,650,1700,1400,2000,400,1200,2100,450,2000,500,800,1700,700,2500,2000,1200,650,250,500,1000,1200,150,600,750,550,450,2200,200,650,600,800,200,550,600,500,1000,550,550,500,600,500,200,600,800,500,5000,2000,3000,4500,1000,300,500,400,1000,2000,300,1800,600,300,2000,200,1000,450,700,600,900,500,1000,850,650,750,600,800,400,700,600,400,250,350,500,150,850,100,650,600,700,700,1500,450,700,1500,850,400,1500,1500,1000,650,950,800,350,600,150,500,250,500,550,300,50,150,400,200,500,400,450,500,1100,2200,350,100,300,300,300,500,300,300,350,250,1100,600,400,1200,600,350,100,500,200,150,700,400,400,400,400,550,4700,500,200,800,800,500,350,200,500,450,350,300,400,400,450,400,200,1200,450,400,150,500,400,700,300,1400,250,400,800,700,800,800,350,300,800,400,600,400,1600,2000,500,250,250,400,400,300,1500,1200,200,1700,1200,500,400,700,300,350,550,600,200,400,300,600,300,400,350,100,250,300,350,350,300,600,700,600,300,100,500,300,400,200,350,950,100,500,600,500,850,850,600,700,450,900,1200,1500,300,150,300,400,500,650,900,550,1800,950,1900,1200,500,450,500,300,1500,800,200,250,950,1000,1000,700,1200,300,300,400,400,650,100,550,700,700,500,400,100,400,1100,550,200,1100,1400,1650,1700,1100,700,1300,300,400,1700,1250,1250,800,1200,1500,2200,2000,500,500,550,250,800,250,700,2000,500,1400,1200,500,1600,1300,600,1500,600,400,350,700,250,250,600,400,500,800,400,500,200,700,200,250,350,400,450,3000,600,1300,500,600,600,600,400,800,1000,1000,600,2300,500,600,750,600,500,3000,200,200,500,1500,2000,700,400,100,200,800,1500,350,500,600,600,500,950,600,600,300,800,600,700,800,400,300,300,100,800,750,250,700,500,800,300,800,800,550,600,1000,150,650,400,200,800,650,650,1250,1600,1800,400,400,600,500,700,700,700,300,1100,1100,700,1200,400,1000,800,200,600,700,400,200,500,200,600,450,100,5000,5000,150,900,350,250,100,500,600,1100,800,450,900,500,1500,650,1000,1200,450,700,500,2200,550,700,1200,1000,600,700,500,500,3200,2500,500,1000,3600,3700,4100,4300,5000,3600,1000,3200,6000,4000,900,5000,2500,800,3000,5100,4500,5000,4500,2700,2650,3500,4000,5000,5500,3500,2000,3000,4500,4400,2500,2500,5000,4200,6000,2000,4000,1700,1600,150,300,800,500,700,500,400,500,350,350,350,650,850,1000,1000,900,900,800,800,900,950,1500,650,1000,700,750,600,500,850,300,600,450,900,1700,400,300,600,250,700,500,400,800,150,800,150,700,500,300,700,500,600,800,300,500,600,1500,400,400,1000,150,500,200,400,300,600,1100,650,1500,650,400,1400,600,600,900,400,1800,1000,1600,400,550,350,500,400,1600,650,1200,400,600,2000,1900,700,350,500,350,250,500,150,650,3500,1000,1200,400,600,400,3200,900,1000,550,650,400,900,850,750,400,1100,200,550,400,700,1500,200,500,350,1350,300,1600,1200,550,800,900,450,650,1400,1000,350,700,300,950,800,400,200,600,500,1550,1800,500,500,600,1000,800,500,2000,300,500,1500,2350,2200,1600,1500,1600,200,350,400,500,400,200,400,400,500,350,300,600,800,200,400,450,450,700,450,350,800,400,400,400,350,400,250,1300,500,700,600,500,400,400,700,550,600,650,450,250,300,250,700,500,600,600,550,500,500,600,400,400,300,500,850,600,650,800,550,300,600,1300,450,300,500,600,1100,150,1500,600,1000,800,2500,1000,500,1400,1500,1000,500,1600,450,1000,600,1200,700,150,1000,250,1400,700,600,900,1500,1500,1500,800,800,1500,1200,550,1200,2100,1000,1000,1000,200,400,1000,700,1500,900,800,800,800,550,500,250,900,800,600,500,400,800,800,1000,800,300,800,700,300,300,450,0,450,600,600,1000,0,700,300,1000,450,600,600,500,500,600,400,1500,70000,200000,300000,70,70,15,30,35,50,20,30,20,45,30,30,20,25,35,30,35,30,35,50,50,25,100,220,110,500,80,200,160,294,360,250,250,500,250,450,390,300,400,250,360,2500,2000,1500,3500,80,80,170],\"xaxis\":\"x\",\"y\":[3.6,3.8,3.7,3.8,3.7,3.7,3.6,3.6,3.6,3.9,3.5,3.9,3.5,3.9,3.7,3.5,3.6,3.8,3.9,3.5,3.5,3.6,3.5,3.8,3.7,3.5,3.9,3.7,3.9,3.9,3.8,3.5,3.9,3.9,3.7,3.8,3.6,3.8,3.7,3.8,3.9,3.9,3.7,3.6,3.7,3.7,3.9,3.8,3.8,3.8,3.7,3.7,3.9,3.9,3.7,3.8,3.6,3.5,3.6,3.5,3.6,3.7,3.6,3.8,3.5,3.5,3.6,3.6,3.6,3.5,3.7,3.6,3.7,3.5,3.7,3.8,3.9,3.9,3.8,3.8,3.8,3.9,3.8,3.8,3.7,3.8,3.6,3.6,3.5,3.9,3.8,3.7,3.7,3.7,3.8,3.8,3.6,3.6,3.6,3.7,3.9,3.7,3.9,3.5,3.7,3.7,3.5,3.6,3.6,3.7,3.6,3.5,3.8,3.8,3.7,3.5,3.7,3.6,3.6,3.6,3.8,3.7,3.6,3.9,3.7,3.8,3.8,3.9,3.8,3.8,3.9,3.7,3.8,3.9,3.8,3.9,3.7,3.6,3.8,3.6,3.7,3.6,3.8,3.8,3.7,3.9,3.7,3.8,3.7,3.7,3.8,3.9,3.5,3.9,3.9,3.9,3.7,3.8,3.7,3.8,3.7,3.7,3.7,3.9,3.8,3.5,3.9,3.7,3.5,3.8,3.8,3.8,3.6,3.7,3.9,3.8,3.7,3.6,3.6,3.6,3.8,3.7,3.6,3.6,3.6,3.6,3.6,3.7,3.6,3.7,3.5,3.9,3.9,3.6,3.9,3.7,3.9,3.8,3.9,3.8,3.9,3.8,3.9,3.5,3.6,3.6,3.8,3.9,3.8,3.9,3.7,3.7,3.8,3.6,3.8,3.9,3.6,3.7,3.5,3.6,3.5,3.9,3.6,3.5,3.5,3.6,3.9,3.7,3.5,3.8,3.8,3.8,3.5,3.6,3.6,3.5,3.7,3.9,3.9,3.9,3.8,3.8,3.5,3.6,3.6,3.9,3.8,3.9,3.9,3.7,3.6,3.8,3.7,3.7,3.8,3.8,3.5,3.7,3.8,3.8,3.8,3.9,3.8,3.5,3.8,3.8,3.9,3.6,3.8,3.9,3.9,3.8,3.9,3.9,3.9,3.9,3.8,3.6,3.6,3.6,3.5,3.8,3.5,3.6,3.7,3.6,3.5,3.6,3.5,3.6,3.8,3.5,3.6,3.8,3.5,3.6,3.5,3.5,3.6,3.9,3.6,3.6,3.5,3.8,3.7,3.8,3.7,3.9,3.8,3.9,3.6,3.8,3.5,3.5,3.9,3.7,3.7,3.5,3.9,3.7,3.7,3.7,3.7,3.7,3.6,3.9,3.8,3.6,3.6,3.9,3.6,3.8,3.9,3.9,3.8,3.6,3.5,3.9,3.9,3.8,3.8,3.7,3.8,3.9,3.8,3.8,3.8,3.7,3.8,3.8,3.9,3.6,3.8,3.5,3.5,3.5,3.9,3.5,3.9,3.8,3.9,3.8,3.5,3.6,3.8,3.8,3.7,3.6,3.5,3.9,3.7,3.6,3.5,3.5,3.5,3.6,3.8,3.5,3.5,3.7,3.8,3.5,3.9,3.8,3.5,3.9,3.8,3.9,3.6,3.6,3.6,3.9,3.8,3.6,3.8,3.6,3.6,3.5,3.5,3.8,3.6,3.8,3.6,3.6,3.8,3.6,3.6,3.9,3.8,3.7,3.6,3.6,3.8,3.5,3.5,3.6,3.7,3.6,3.9,3.9,3.7,3.5,3.6,3.6,3.6,3.8,3.8,3.8,3.6,3.7,3.7,3.6,3.8,3.8,3.6,3.7,3.5,3.6,3.5,3.7,3.7,3.5,3.7,3.6,3.6,3.6,3.5,3.5,3.7,3.7,3.8,3.5,3.6,3.5,3.6,3.8,3.5,3.9,3.7,3.5,3.5,3.7,3.7,3.7,3.5,3.6,3.5,3.5,3.5,3.5,3.6,3.9,3.9,3.5,3.8,3.5,3.6,3.7,3.5,3.6,3.8,3.5,3.9,3.6,3.9,3.9,3.7,3.6,3.9,3.8,3.6,3.8,3.5,3.9,3.5,3.9,3.5,3.7,3.9,3.6,3.8,3.9,3.5,3.7,3.5,3.6,3.6,3.7,3.5,3.5,3.7,3.9,3.6,3.9,3.9,3.5,3.7,3.6,3.7,3.5,3.5,3.8,3.7,3.6,3.9,3.5,3.8,3.6,3.7,3.7,3.7,3.7,3.7,3.7,3.7,3.5,3.7,3.8,3.6,3.9,3.6,3.9,3.8,3.9,3.7,3.5,3.7,3.5,3.8,3.5,3.7,3.9,3.8,3.6,3.7,3.6,3.5,3.6,3.8,3.5,3.6,3.6,3.6,3.7,3.9,3.6,3.6,3.8,3.9,3.7,3.9,3.8,3.8,3.9,3.8,3.9,3.9,3.9,3.9,3.7,3.9,3.5,3.6,3.9,3.9,3.9,3.8,3.6,3.9,3.7,3.8,3.7,3.7,3.7,3.5,3.6,3.9,3.9,3.5,3.6,3.5,3.9,3.7,3.9,3.6,3.5,3.9,3.7,3.9,3.6,3.8,3.5,3.9,3.8,3.9,3.6,3.9,3.8,3.7,3.5,3.7,3.8,3.6,3.5,3.6,3.9,3.5,3.7,3.7,3.7,3.8,3.9,3.7,3.8,3.8,3.9,3.9,3.9,3.8,3.6,3.7,3.9,3.7,3.5,3.7,3.8,3.5,3.5,3.7,3.6,3.6,3.8,3.7,3.6,3.7,3.8,3.9,3.7,3.9,3.9,3.8,3.8,3.6,3.6,3.5,3.6,3.8,3.5,3.7,3.5,3.8,3.5,3.9,3.7,3.5,3.7,3.7,3.9,3.9,3.6,3.6,3.5,3.6,3.6,3.9,3.5,3.7,3.7,3.6,3.5,3.5,3.6,3.7,3.7,3.8,3.6,3.6,3.9,3.6,3.9,3.5,3.7,3.5,3.9,3.5,3.6,3.9,3.7,3.9,3.9,3.5,3.6,3.6,3.5,3.6,3.7,3.8,3.5,3.7,3.7,3.5,3.5,3.5,3.6,3.7,3.7,3.5,3.5,3.7,3.8,3.8,3.7,3.8,3.9,3.9,3.7,3.7,3.6,3.9,3.9,3.6,3.6,3.8,3.5,3.5,3.6,3.9,3.6,3.6,3.6,3.7,3.7,3.7,3.6,3.8,3.7,3.9,3.6,3.5,3.7,3.5,3.5,3.6,3.5,3.7,3.9,3.6,3.9,3.7,3.8,3.6,3.6,3.7,3.7,3.7,3.6,3.9,3.9,3.9,3.9,3.9,3.9,3.7,3.8,3.9,3.5,3.9,3.7,3.9,3.7,3.8,3.8,3.5,3.5,3.7,3.7,3.9,3.7,3.7,3.6,3.9,3.8,3.7,3.5,3.9,3.9,3.7,3.7,3.8,3.8,3.8,3.8,3.6,3.5,3.7,3.6,3.7,3.5,3.6,3.5,3.5,3.7,3.6,3.5,3.8,3.5,3.7,3.5,3.9,3.8,3.9,3.9,3.5,3.9,3.9,3.9,3.7,3.9,3.5,3.9,3.5,3.5,3.5,3.7,3.5,3.5,3.7,3.5,3.7,3.8,3.7,3.5,3.8,3.6,3.6,3.7,3.6,3.9,3.5,3.6,3.8,3.6,3.7,3.7,3.5,3.6,3.9,3.7,3.9,3.8,3.8,3.7,3.6,3.6,3.8,3.5,3.6,3.7,3.8,3.8,3.8,3.8,3.7,3.7,3.6,3.9,3.8,3.6,3.9,3.7,3.7,3.7,3.9,3.8,3.7,3.8,3.5,3.7,3.6,3.6,3.8,3.5,3.7,3.5,3.5,3.5,3.6,3.5,3.6,3.5,3.8,3.8,3.5,3.8,3.9,3.7,3.7,3.5,3.6,3.9,3.9,3.7,3.7,3.8,3.9,3.8,3.7,3.9,3.8,3.6,3.5,3.5,3.6,3.6,3.5,3.7,3.9,3.7,3.8,3.5,3.9,3.6,3.9,3.9,3.6,3.8,3.8,3.7,3.9,3.5,3.7,3.7,3.5,3.5,3.6,3.8,3.6,3.8,3.7,3.9,3.8,3.9,3.5,3.5,3.7,3.9,3.9,3.7,3.8,3.5,3.8,3.5,3.5,3.7,3.9,3.7,3.8,3.8,3.6,3.7,3.8,3.5,3.8,3.6,3.8,3.6,3.7,3.7,3.9,3.6,3.8,3.6,3.5,3.8,3.8,3.8,3.5,3.5,3.5,3.8,3.6,3.8,3.8,3.5,3.6,3.8,3.7,3.5,3.9,3.6,3.6,3.7,3.5,3.7,3.5,3.5,3.5,3.8,3.6,3.7,3.8,3.5,3.6,3.6,3.5,3.6,3.5,3.7,3.5,3.7,3.5,3.8,3.8,3.8,3.5,3.6,3.5,3.8,3.7,3.9,3.5,3.9,3.5,3.8,3.6,3.6,3.6,3.8,3.5,3.5,3.9,3.5,3.8,3.6,3.7,3.8,3.7,3.7,3.5,3.5,3.8,3.9,3.9,3.9,3.8,3.7,3.7,3.9,3.8,3.5,3.5,3.7,3.7,3.9,3.7,3.9,3.9,3.7,3.6,3.5,3.6,3.9,3.6,3.8,3.9,3.9,3.8,3.5,3.5,3.7,3.8,3.5,3.5,3.6,3.5,3.7,3.6,3.7,3.8,3.9,3.5,3.6,3.8,3.8,3.5,3.8,3.8,3.6,3.6,3.5,3.5,3.6,3.5,3.6,3.6,3.5,3.6,3.5,3.7,3.5,3.7,3.5,3.9,3.6,3.5,3.5,3.8,3.9,3.7,3.7,3.7,3.8,3.9,3.9,3.8,3.9,3.5,3.6,3.9,3.5,3.8,3.7,3.8,3.8,3.5,3.6,3.5,3.5,3.8,3.6,3.5,3.8,3.6,3.6,3.6,3.7,3.5,3.6,3.5,3.8,3.8,3.6,3.6,3.8,3.6,3.5,3.5,3.5,3.9,3.8,3.6,3.7,3.6,3.7,3.9,3.8,3.7,3.5,3.8,3.6,3.7,3.7,3.5,3.5,3.9,3.6,3.7,3.7,3.5,3.5,3.8,3.5,3.5,3.8,3.6,3.9,3.5,3.6,3.6,3.5,3.6,3.5,3.5,3.7,3.5,3.7,3.7,3.8,3.8,3.6,3.5,3.6,3.5,3.7,3.6,3.7,3.8,3.5,3.5,3.6,3.6,3.7,3.6,3.7,3.5,3.5,3.8,3.6,3.8,3.5,3.7,3.5,3.5,3.5,3.8,3.9,3.6,3.6,3.6,3.7,3.8,3.6,3.7,3.7,3.6,3.9,3.8,3.7,3.9,3.8,3.5,3.9,3.7,3.6,3.7,3.8,3.8,3.8,3.5,3.5,3.6,3.7,3.6,3.5,3.5,3.6,3.5,3.6,3.5,3.5,3.8,3.7,3.6,3.5,3.5,3.7,3.8,3.8,3.7,3.8,3.5,3.5,3.5,3.5,3.8,3.8,3.7,3.5,3.5,3.9,3.5,3.8,3.5,3.6,3.5,3.8,3.8,3.7,3.9,3.5,3.8,3.6,3.7,3.6,3.8,3.7,3.9,3.6,3.5,3.9,3.9,3.9,3.8,3.5,3.6,3.7,3.7,3.8,3.7,3.7,3.8,3.5,3.7,3.6,3.5,3.6,3.6,3.7,3.5,3.6,3.9,3.7,3.5,3.6,3.6,3.9,3.5,3.5,3.6,3.8,3.7,3.5,3.5,3.5,3.7,3.6,3.7,3.7,3.7,3.7,3.6,3.5,3.7,3.8,3.9,3.7,3.6,3.5,3.8,3.5,3.8,3.7,3.5,3.7,3.5,3.6,3.5,3.7,3.5,3.8,3.5,3.5,3.5,3.8,3.6,3.5,3.8,3.5,3.7,3.7,3.6,3.6,3.5,3.5,3.5,3.7,3.7,3.7,3.9,3.6,3.6,3.6,3.9,3.7,3.6,3.5,3.6,3.8,3.6,3.8,3.6,3.8,3.8,3.7,3.8,3.5,3.5,3.8,3.9,3.7,3.6,3.8,3.5,3.6,3.5,3.8,3.9,3.5,3.6,3.9,3.7,3.5,3.6,3.9,3.7,3.8,3.5,3.9,3.5,3.5,3.5,3.5,3.6,3.9,3.8,3.8,3.8,3.6,3.8,3.5,3.6,3.5,3.8,3.6,3.5,3.5,3.6,3.6,3.7,3.5,3.7,3.9,3.5,3.6,3.6,3.6,3.9,3.9,3.6,3.7,3.5,3.7,3.6,3.9,3.6,3.5,3.5,3.6,3.5,3.5,3.5,3.7,3.6,3.6,3.6,3.5,3.6,3.9,3.8,3.8,3.7,3.5,3.5,3.9,3.7,3.5,3.6,3.6,3.6,3.6,3.8,3.6,3.6,3.7,3.6,3.8,3.9,3.7,3.7,3.9,3.6,3.7,3.6,3.9,3.8,3.7,3.6,3.5,3.6,3.5,3.6,3.5,3.5,3.7,3.5,3.9,3.8,3.7,3.6,3.8,3.5,3.9,3.8,3.8,3.9,3.7,3.5,3.7,3.6,3.9,3.5,3.7,3.8,3.8,3.6,3.9,3.9,3.8,3.7,3.8,3.7,3.8,3.6,3.6,3.7,3.8,3.9,3.8,3.5,3.6,3.6,3.8,3.7,3.7,3.6,3.5,3.5,3.5,3.6,3.5,3.5,3.8,3.5,3.5,3.5,3.8,3.6,3.8,3.9,3.5,3.9,3.5,3.5,3.6,3.6,3.7,3.5,3.5,3.6,3.7,3.5,3.8,3.9,3.9,3.7,3.7,3.6,3.6,3.9,3.7,3.7,3.6,3.8,3.7,3.6,3.8,3.8,3.7,3.5,3.7,3.8,3.7,3.9,3.5,3.7,3.5,3.6,3.8,3.5,3.8,3.6,3.9,3.9,3.6,3.9,3.9,3.5,3.7,3.5,3.9,3.6,3.9,3.6,3.7,3.6,3.7,3.9,3.9,3.7,3.6,3.9,3.6,3.7,3.6,3.6,3.7,3.9,3.6,3.9,3.8,3.6,3.5,3.9,3.8,3.7,3.9,3.9,3.7,3.6,3.5,3.8,3.6,3.5,3.8,3.6,3.5,3.6,3.5,3.7,3.8,3.5,3.5,3.5,3.5,3.7,3.8,3.5,3.7,3.9,3.9,3.5,3.8,3.8,3.6,3.6,3.8,3.5,3.7,3.5,3.5,3.6,3.6,3.6,3.8,3.6,3.8,3.7,3.6,3.6,3.7,3.6,3.5,3.5,3.5,3.5,3.8,3.5,3.7,3.9,3.6,3.6,3.7,3.6,3.5,3.9,3.8,3.7,3.7,3.6,3.9,3.7,3.8,3.7,3.6,3.5,3.5,3.7,3.9,3.7,3.6,3.9,3.6,3.6,3.9,3.8,3.9,3.7,3.6,3.8,3.8,3.6,3.7,3.8,3.9,3.6,3.9,3.7,3.5,3.6,3.8,3.5,3.5,3.7,3.6,3.6,3.7,3.8,3.6,3.9,3.5,3.7,3.8,3.8,3.9,3.8,3.8,3.8,3.7,3.5,3.5,3.9,3.6,3.8,3.8,3.7,3.9,3.9,3.6,3.7,3.5,3.6,3.6,3.5,3.7,3.7,3.8,3.8,3.5,3.5,3.6,3.6,3.7,3.5,3.9,3.5,3.5,3.6,3.5,3.5,3.5,3.8,3.6,3.6,3.6,3.6,3.5,3.5,3.7,3.6,3.9,3.7,3.5,3.7,3.8,3.5,3.5,3.5,3.9,3.8,3.9,3.9,3.7,3.7,3.7,3.8,3.9,3.9,3.9,3.9,3.6,3.7,3.5,3.7,3.8,3.9,3.7,3.6,3.7,3.8,3.8,3.5,3.8,3.5,3.6,3.5,3.9,3.6,3.6,3.5,3.5,3.8,3.5,3.6,3.5,3.5,3.7,3.5,3.8,3.7,3.6,3.6,3.6,3.6,3.5,3.7,3.9,3.9,3.6,3.5,3.6,3.5,3.7,3.9,3.5,3.6,3.9,3.6,3.7,3.8,3.7,3.6,3.5,3.8,3.8,3.5,3.6,3.8,3.8,3.8,3.5,3.5,3.9,3.6,3.6,3.7,3.9,3.8,3.6,3.9,3.7,3.9,3.7,3.5,3.8,3.6,3.5,3.5,3.6,3.5,3.7,3.5,3.6,3.6,3.6,3.6,3.5,3.5,3.5,3.5,3.7,3.9,3.7,3.7,3.7,3.6,3.7,3.7,3.8,3.6,3.7,3.7,3.5,3.6,3.7,3.8,3.7,3.9,3.7,3.5,3.6,3.5,3.7,3.6,3.5,3.5,3.7,3.7,3.8,3.5,3.8,3.5,3.6,3.5,3.6,3.7,3.6,3.6,3.5,3.8,3.5,3.5,3.5,3.8,3.5,3.6,3.7,3.5,3.5,3.6,3.6,3.6,3.9,3.5,3.5,3.5,3.5,3.6,3.5,3.7,3.6,3.7,3.5,3.5,3.5,3.5,3.5,3.5,3.5,3.6,3.7,3.6,3.6,3.6,3.5,3.5,3.8,3.8,3.7,3.5,3.8,3.6,3.6,3.8,3.8,3.9,3.7,3.5,3.8,3.5,3.8,3.6,3.6,3.7,3.7,3.6,3.5,3.7,3.6,3.5,3.5,3.8,3.9,3.9,3.7,3.9,3.9,3.6,3.6,3.8,3.8,3.8,3.9,3.8,3.8,3.5,3.5,3.9,3.9,3.7,3.7,3.6,3.7,3.8,3.5,3.5,3.6,3.5,3.5,3.5,3.7,3.8,3.8,3.6,3.5,3.6,3.7,3.6,3.7,3.8,3.7,3.9,3.7,3.5,3.7,3.7,3.9,3.7,3.9,3.8,3.6,3.8,3.7,3.9,3.8,3.8,3.8,3.7,3.9,3.5,3.8,3.9,3.9,3.6,3.7,3.8,3.8,3.6,3.7,3.8,3.9,3.9,3.7,3.7,3.9,3.8,3.8,3.6,3.8,3.9,3.8,3.9,3.9,3.8,3.7,3.6,3.5,3.8,3.8,3.7,3.7],\"yaxis\":\"y\",\"type\":\"scattergl\"},{\"hovertemplate\":\"rating_text=Average<br>average_cost_two=%{x}<br>agg_rating=%{y}<extra></extra>\",\"legendgroup\":\"Average\",\"marker\":{\"color\":\"#ab63fa\",\"symbol\":\"circle\"},\"mode\":\"markers\",\"name\":\"Average\",\"showlegend\":true,\"x\":[55,50,80,100,240,350,70,200,25,10,0,0,10,0,10,20,25,10,25,25,25,10,25,10,25,25,20,0,120,20,25,40,300,80,50,80,30,60,60,95,75,25,25,10,25,25,285,1100,500,350,500,600,600,600,500,400,800,700,400,500,0,500,800,700,800,500,1200,600,850,600,700,350,450,1800,500,500,400,700,450,400,650,600,450,500,200,600,1000,800,250,500,150,150,100,300,300,350,300,600,500,700,400,200,800,250,1000,500,500,450,500,150,450,700,800,300,450,700,200,1500,600,400,450,600,500,200,600,500,500,400,950,600,300,400,300,400,400,500,250,800,300,400,400,700,600,500,300,400,100,500,700,200,700,200,100,350,200,650,200,100,700,350,350,400,800,500,500,150,100,600,1000,400,300,500,500,700,350,500,550,700,700,500,200,250,100,300,150,450,500,450,600,650,550,500,450,500,300,500,500,200,100,550,500,400,550,550,300,600,350,400,700,1400,1900,150,150,2500,650,300,500,450,600,1500,600,700,500,600,700,500,100,400,550,350,800,250,200,200,1200,500,350,1500,2500,600,700,400,900,500,500,1000,1300,2700,700,1000,1200,1700,700,500,650,450,700,1500,500,500,800,300,350,500,600,800,150,800,200,250,600,750,550,650,650,700,200,500,500,600,350,400,400,200,700,350,450,450,400,600,200,600,600,300,700,300,550,550,450,300,300,150,400,400,400,600,400,350,300,200,1000,500,500,200,100,300,550,300,600,700,550,350,500,400,350,600,400,550,1000,500,600,400,1100,800,2000,650,500,2000,500,1100,800,800,500,2500,300,1000,400,1000,550,800,850,800,800,1000,600,500,500,400,1400,1500,1000,1300,450,500,1000,300,1850,1500,1600,1900,1400,1200,2000,300,650,400,300,450,800,750,550,1800,1200,400,600,1200,600,2200,600,650,350,500,450,800,550,650,600,750,500,750,700,500,350,700,450,1500,200,400,500,500,700,100,350,200,400,600,600,150,200,1000,500,450,250,400,500,400,600,800,400,700,450,150,150,400,700,500,250,200,200,1800,800,300,350,450,700,200,550,200,200,600,400,800,250,300,350,400,250,1500,3000,1200,2000,350,650,450,400,700,900,700,350,500,250,500,200,500,700,200,250,200,1500,150,400,400,800,300,300,450,300,200,200,200,500,600,200,200,400,350,200,200,250,500,300,300,600,800,400,600,400,500,450,600,600,650,650,900,900,200,600,400,1000,400,400,1000,500,500,350,650,450,300,350,600,700,600,400,400,600,1100,700,600,500,800,900,1800,800,600,1400,500,450,300,450,250,200,200,850,500,200,150,350,500,250,600,500,350,450,300,400,500,500,150,600,600,550,600,500,200,500,600,250,600,500,300,700,200,500,300,800,600,300,120,400,600,100,600,600,600,300,300,300,350,500,700,600,500,200,650,600,750,500,150,300,600,500,300,600,200,350,450,200,350,200,250,700,100,450,500,1000,400,200,500,400,550,600,150,600,1000,750,300,400,600,400,400,500,500,800,500,1500,1350,600,600,100,700,600,650,950,500,850,500,400,700,450,300,1000,700,1000,600,250,500,600,400,500,700,650,700,200,400,500,600,1200,300,2500,2400,2000,2500,1500,800,1600,3000,650,3000,2000,700,2000,600,200,200,1000,650,800,500,700,400,500,150,400,500,600,450,600,600,600,300,500,300,400,500,400,200,700,600,200,250,250,400,150,250,700,150,200,400,550,400,200,650,1300,650,1000,550,800,350,850,290,1500,500,150,600,700,600,800,800,1000,900,350,1500,500,500,400,400,450,600,800,700,550,900,1000,200,1500,400,900,1000,400,200,450,400,400,150,350,600,300,800,600,400,450,200,150,500,250,500,450,600,800,500,700,450,200,400,150,500,200,400,650,500,250,400,600,200,250,600,400,200,650,1500,500,800,1600,500,350,500,350,200,500,600,200,200,400,200,1000,450,150,300,500,700,650,300,300,1000,600,1200,350,550,300,500,300,700,500,600,500,550,400,450,600,600,200,600,550,450,400,700,1200,1000,800,300,1700,1000,1500,1500,300,2000,200,1100,250,250,150,850,600,700,700,450,450,800,450,800,800,700,900,600,200,1650,500,900,700,700,700,600,300,200,150,700,200,300,500,400,300,150,300,150,100,300,550,200,400,350,250,300,450,100,500,500,300,100,50,150,150,100,150,100,100,100,100,400,400,300,250,100,450,550,100,500,300,800,500,300,1000,250,500,150,400,600,500,300,400,250,500,300,500,600,550,250,350,1000,500,250,1200,150,1200,1300,2000,600,300,1200,400,150,400,300,600,400,750,450,300,600,1600,500,500,200,450,600,1800,1300,450,1350,600,400,1300,1600,200,1000,1000,600,1100,550,1900,1000,800,800,500,950,2000,1000,500,600,400,450,400,400,150,400,200,500,150,500,200,600,150,1200,100,650,200,300,600,700,300,900,600,700,700,600,500,300,400,400,350,450,500,250,300,150,600,1600,1600,450,550,600,600,600,300,300,500,500,100,400,400,800,600,450,450,300,700,200,300,450,350,100,850,100,300,150,900,600,350,300,600,1000,300,2000,250,200,700,400,1100,600,450,100,450,700,400,750,350,700,200,450,400,350,700,450,350,500,500,300,600,350,400,1200,600,700,200,250,400,450,500,300,500,300,500,400,500,800,350,200,300,100,400,600,600,800,500,400,1200,450,700,150,1800,550,550,700,1500,200,300,350,100,600,200,450,500,300,100,150,400,300,400,500,250,400,500,300,700,200,650,350,400,500,400,350,500,250,1000,650,300,350,700,500,700,100,450,300,400,300,200,400,500,1100,350,550,1400,400,400,350,700,250,1000,400,300,350,450,600,500,250,300,700,800,600,1300,1800,300,1500,650,200,500,800,150,500,350,200,300,550,350,300,500,300,500,2700,750,300,1000,200,250,800,1000,800,500,2000,350,300,850,400,350,500,350,1000,300,1800,1100,700,400,250,300,300,1900,650,500,700,950,650,300,700,200,500,1250,450,1900,300,600,450,800,800,600,700,600,300,750,400,300,700,500,1000,1500,1700,600,1000,250,800,400,400,1000,300,1000,450,150,300,1100,150,450,450,600,100,550,650,400,1300,650,400,300,400,400,600,300,400,250,800,300,1700,800,350,750,250,1000,100,1100,300,150,400,700,350,1000,500,400,350,500,800,800,250,150,800,350,300,600,350,500,500,250,150,450,500,500,250,350,350,350,1600,1900,1200,350,1000,2000,1100,2000,700,3000,2500,2500,1500,500,600,350,200,400,500,400,1500,300,200,300,100,200,450,350,550,950,150,100,450,650,400,200,350,400,2000,1000,400,200,500,350,100,400,300,150,450,400,600,350,300,100,350,200,400,350,300,150,600,200,2500,800,400,300,450,250,250,400,450,400,100,500,550,500,400,250,600,200,300,250,300,200,450,450,400,200,350,100,500,200,150,300,500,650,600,800,450,600,700,700,400,400,600,700,600,1000,600,350,450,700,700,500,500,600,1400,800,400,450,150,300,400,250,400,400,450,500,400,350,450,200,200,500,100,450,500,600,600,200,500,400,500,500,500,650,400,600,750,450,600,2000,500,550,1000,150,200,3000,350,400,800,1100,450,300,300,200,400,1000,800,500,150,950,800,1000,500,1500,3500,2500,3000,500,400,1250,400,900,300,350,150,300,500,450,4500,300,150,150,200,500,700,600,1750,250,300,100,300,150,200,550,200,450,200,200,550,600,400,250,600,400,200,350,500,500,250,400,250,250,350,400,450,400,150,250,550,500,350,800,250,200,450,150,250,250,700,550,350,450,650,700,400,350,550,300,300,250,400,450,650,300,800,450,700,1200,500,400,550,650,800,150,800,650,400,600,300,400,750,800,300,550,600,700,600,600,450,350,450,350,300,200,550,850,1000,1300,1500,500,250,200,800,1100,450,450,600,600,700,700,400,400,700,200,500,150,450,750,350,600,500,400,300,350,1100,700,800,150,350,550,550,600,450,900,650,650,400,750,400,1400,500,350,400,500,1000,300,650,150,800,1100,250,450,700,400,450,450,150,500,550,1200,200,1100,800,750,700,650,400,350,700,350,550,300,500,350,600,550,300,300,400,450,450,800,400,600,1200,600,50,800,300,600,2500,1100,550,200,250,200,300,300,400,350,150,500,100,500,150,650,500,350,700,700,150,700,300,500,350,400,100,400,300,400,400,100,600,450,400,100,550,500,800,250,500,500,600,800,350,200,300,400,250,500,100,250,250,400,450,150,600,100,550,700,100,400,450,300,600,1000,500,700,650,550,650,800,250,500,600,500,300,300,300,600,500,550,200,450,450,250,400,250,400,500,350,500,250,450,450,200,200,200,100,150,250,250,700,600,250,200,200,500,400,500,400,300,600,900,300,200,500,400,300,350,200,500,300,350,300,350,250,250,2000,600,650,650,400,1000,700,650,150,1000,250,700,250,200,400,1500,450,400,500,250,350,850,1000,700,200,350,400,700,500,600,2200,500,450,400,500,700,550,300,150,500,400,200,1000,200,600,550,300,600,600,400,600,700,950,800,550,500,900,500,900,300,550,1000,200,450,2000,3200,3000,500,500,450,450,700,400,450,450,1550,500,350,650,800,800,650,500,200,800,200,400,400,300,300,600,250,550,800,400,800,700,150,500,800,500,850,800,600,600,350,300,300,300,350,350,400,300,150,250,450,350,700,300,450,150,150,350,300,150,300,1100,500,250,750,300,350,150,650,200,500,200,100,900,350,250,500,350,650,400,300,300,500,250,100,500,250,400,600,400,350,350,300,200,600,400,250,600,400,2000,550,100,100,300,350,300,300,500,300,500,250,250,250,500,300,400,1000,400,150,700,450,900,300,300,400,400,400,450,100,500,200,200,300,400,250,500,900,150,350,400,250,400,500,1000,1000,700,500,2000,2100,1200,250,400,200,700,400,800,1200,400,500,500,700,400,200,850,300,500,450,600,200,400,400,150,800,400,650,300,500,500,300,800,300,400,700,600,400,500,350,500,350,700,250,750,300,700,400,300,500,150,500,150,700,300,600,550,500,900,500,200,400,200,100,200,300,300,300,350,200,350,400,450,100,200,250,200,150,400,500,100,200,700,250,400,250,350,250,350,400,1000,500,600,200,500,350,200,700,250,250,500,400,650,150,150,500,200,450,300,150,500,350,750,200,200,350,300,150,900,250,150,100,1100,150,600,120,200,150,350,300,400,1900,150,450,450,450,300,700,150,200,250,200,250,250,400,450,1000,1800,300,550,450,500,300,450,300,700,550,300,300,400,1000,1000,350,450,500,600,500,1400,2500,700,350,800,500,650,400,700,600,700,350,250,350,450,400,500,500,550,800,700,350,550,200,250,750,600,800,1000,300,350,350,350,250,500,500,700,1100,500,200,750,800,700,500,600,200,250,400,500,150,400,800,700,400,600,600,500,450,350,600,1100,200,900,700,700,550,600,500,300,850,250,800,200,200,250,200,400,900,1000,300,800,700,800,200,700,1000,600,500,300,350,800,1300,200,500,600,800,100,300,250,200,600,850,1400,600,900,600,550,200,1100,300,200,600,400,400,200,650,100,200,450,150,100,500,400,400,550,700,400,250,350,350,500,400,250,450,350,600,200,300,300,500,700,350,300,100,700,150,400,300,600,500,500,250,300,700,800,800,200,450,400,650,350,600,150,450,250,250,800,200,300,550,1200,400,500,450,400,500,2000,1100,300,100,300,350,650,1600,400,650,500,400,600,600,450,1000,250,700,700,400,600,400,400,200,150,500,200,400,500,600,350,400,500,500,600,400,550,500,750,400,600,400,600,400,500,600,600,500,1000,400,300,500,250,100,300,600,300,600,150,500,200,400,150,2400,350,550,1800,800,500,800,800,700,400,250,350,300,600,700,300,150,400,300,250,200,350,200,500,800,250,450,500,2000,2200,2500,250,1300,800,550,300,800,600,500,300,800,650,800,700,350,500,400,600,600,550,300,600,1300,500,600,1200,450,400,800,1200,500,150,800,500,1800,750,300,450,500,700,850,1300,500,250,600,250,350,100,900,350,200,600,450,150,650,400,450,2500,2000,2500,500,1100,450,600,850,800,300,150,450,450,350,120,600,100,700,200,600,750,350,500,300,300,300,300,350,200,300,300,650,500,400,100,350,750,900,250,350,1000,250,600,300,150,800,300,600,600,400,600,300,300,250,200,600,400,250,500,600,300,500,900,250,500,700,350,350,750,500,500,100,1400,500,400,250,700,700,600,800,500,1100,650,1300,700,350,100,600,700,800,750,350,600,400,550,200,300,400,500,750,300,400,300,300,450,200,350,550,350,550,700,700,250,500,150,500,450,1000,400,650,450,800,1000,150,1000,500,400,3700,700,500,300,250,400,300,200,500,550,750,450,700,500,300,700,500,300,800,400,500,650,300,350,300,350,600,300,500,450,500,700,350,200,400,800,400,900,600,500,500,500,600,400,600,400,500,200,100,350,500,350,300,100,450,1000,250,1300,1500,400,700,200,600,100,600,300,150,800,1000,300,550,700,300,700,300,2500,600,100,500,700,350,350,300,200,150,600,500,650,100,150,300,250,400,700,400,300,500,450,400,500,500,300,500,350,300,300,500,600,100,450,800,300,200,300,450,250,450,800,1200,350,200,600,300,600,500,700,850,1000,550,300,600,600,250,650,200,450,100,450,150,100,300,500,100,250,300,550,400,700,100,400,300,300,600,200,300,150,250,200,350,350,300,550,450,450,400,300,550,100,150,150,200,450,600,550,500,700,800,650,400,300,200,450,500,200,500,450,350,400,300,250,100,300,400,200,150,450,700,200,350,700,200,400,200,400,150,500,350,300,300,150,600,400,250,250,500,400,500,200,600,350,400,500,300,450,3500,450,700,350,700,800,500,800,500,500,400,100,450,250,300,500,600,700,600,600,400,600,400,600,1200,400,150,350,2200,2500,600,400,350,450,850,1100,1250,800,1400,250,100,600,200,400,400,200,150,250,200,350,150,300,300,150,400,600,600,400,400,200,250,250,600,200,200,450,400,300,100,250,600,250,3000,800,500,2200,1600,2000,2650,2000,6000,3000,1000,900,250,300,700,900,1600,4500,400,3000,3500,3000,900,5000,3000,2500,500,100,250,450,200,150,150,300,350,350,300,300,350,350,300,150,350,500,250,100,550,200,150,150,300,300,750,350,200,100,250,500,200,200,350,250,300,700,300,100,300,150,300,300,100,150,300,350,500,200,200,400,50,50,250,300,400,300,200,400,200,650,450,300,1200,700,200,400,250,450,600,250,400,1200,250,500,1500,600,600,600,1100,600,2200,800,700,600,650,500,350,650,150,150,400,900,250,1500,350,300,150,600,400,300,700,1100,300,200,50,150,350,500,400,400,700,450,300,250,350,550,200,400,100,200,800,300,300,300,200,500,200,350,200,400,800,800,300,250,300,300,150,400,450,200,500,400,350,400,750,850,100,350,600,300,100,100,300,600,300,500,200,300,200,350,300,600,300,650,350,350,400,400,250,300,400,550,450,100,100,350,250,800,500,200,1150,600,600,1100,300,100,350,100,400,450,350,200,400,300,600,450,400,400,400,400,300,400,250,150,350,500,400,600,500,350,600,150,400,250,350,600,300,350,600,1000,400,450,400,450,500,600,800,450,300,2600,1100,1500,350,1500,2000,350,650,350,600,1500,1800,1200,400,500,200,450,600,800,350,300,600,100,500,600,250,400,500,900,600,1000,600,600,500,500,300,1300,1000,500,350,600,400,300,600,1000,2000,900,1500,500,600,500,300,950,600,500,450,700,1000,500,350,450,2200,1700,200,450,800,550,400,500,2000,200,100,600,800,300,600,400,500,1100,400,1400,400,400,300,200,350,400,600,150,500,1000,500,700,500,600,800,800,550,100,250,350,400,500,300,550,350,450,550,300,450,400,400,600,700,400,1400,200,400,400,500,300,150,500,400,200,350,150,800,250,300,250,500,400,200,650,700,300,500,400,1300,1200,150,700,250,100,1500,1600,600,1200,500,400,600,600,650,900,1000,700,600,600,600,1400,350,300,1300,1400,1400,1000,350,300,1100,500,400,300,600,250,500,450,350,550,500,400,300,600,400,200,600,450,150,250,400,450,450,200,300,400,350,600,200,100,500,100,300,600,300,500,200,200,600,400,350,300,450,400,500,300,550,550,900,300,100,800,500,500,500,400,400,400,650,500,400,650,600,400,500,400,600,300,350,300,400,700,150,500,600,350,450,300,400,400,600,550,500,600,450,1300,350,300,300,200,500,500,800,600,200,600,450,200,400,650,350,550,500,300,650,400,550,550,700,500,250,500,400,450,450,800,400,500,750,800,400,450,300,400,500,500,550,650,1300,650,350,150,350,650,800,150,800,600,650,650,500,150,300,500,500,650,650,600,300,400,650,300,350,350,150,300,650,200,1100,400,150,450,450,400,500,250,200,300,1500,700,700,400,300,350,200,400,350,250,500,400,200,650,200,400,650,1500,300,1000,800,400,750,250,500,500,900,300,600,500,750,450,300,400,700,500,500,200,400,500,350,150,600,400,500,850,500,400,550,800,450,650,150,500,500,350,300,400,500,400,200,400,300,200,500,600,500,800,500,500,400,100,550,350,1000,500,500,600,650,200,2000,1000,750,600,1000,800,1200,700,600,550,650,500,450,450,400,600,300,700,250,600,500,800,1200,700,250,1300,700,300,600,500,500,800,1000,600,700,500,450,1200,1000,400,400,650,500,500,650,450,500,400,2000,1500,450,650,800,400,350,600,1100,500,100000,10,15,30,20,15,150,80,200,2000,2000,50],\"xaxis\":\"x\",\"y\":[3.0,3.2,3.1,3.1,3.2,3.3,3.1,3.4,3.3,3.3,3.4,3.4,3.4,3.4,3.4,3.2,3.1,3.3,3.0,3.4,3.2,3.4,3.3,3.4,3.3,3.4,2.9,3.4,2.6,3.4,3.3,3.3,3.4,3.1,3.2,3.2,3.0,3.1,3.2,3.2,3.2,3.4,3.1,3.2,3.2,3.3,3.2,3.4,3.4,3.3,3.2,3.4,3.4,3.4,3.4,3.3,3.2,3.4,3.4,3.2,3.3,3.4,3.3,3.4,3.4,3.4,3.4,3.4,3.3,3.3,3.1,3.4,3.4,3.4,3.3,3.4,3.3,3.3,3.4,3.2,3.4,3.3,3.3,3.3,3.3,3.4,3.4,3.3,2.9,2.8,2.8,2.9,2.8,3.0,2.9,3.0,2.9,2.8,3.4,3.4,3.2,2.7,3.4,2.8,3.0,3.2,2.8,2.8,3.1,3.0,3.1,2.9,3.3,3.0,2.6,2.9,2.9,3.1,3.2,3.4,3.3,2.7,3.4,3.3,2.6,3.3,3.4,2.7,2.6,2.7,3.4,2.9,2.9,2.5,3.1,3.0,3.4,3.3,3.1,3.1,2.8,2.7,2.7,2.7,2.8,2.7,3.2,3.4,3.3,3.0,3.3,2.8,3.1,2.8,3.0,2.6,2.9,3.1,3.1,3.1,2.9,2.7,2.7,3.0,3.3,3.1,3.1,2.8,2.7,3.1,2.9,2.7,3.0,2.9,3.1,2.9,2.9,3.2,2.5,2.7,3.0,3.0,2.9,3.0,3.1,2.9,3.0,3.0,2.9,3.2,3.4,2.9,3.0,3.2,3.1,3.3,3.4,3.1,2.9,3.0,2.8,2.8,2.6,3.0,3.1,3.1,3.0,3.0,3.0,3.1,3.3,2.8,3.0,2.5,3.4,3.3,3.4,3.2,2.9,2.6,3.3,3.2,3.0,2.7,2.6,3.3,3.1,3.3,3.2,3.4,2.7,3.0,3.0,3.0,3.0,3.1,2.9,2.8,2.9,3.4,3.4,3.4,3.3,3.4,2.5,3.0,3.4,3.2,2.8,3.3,3.1,3.4,3.3,2.5,3.2,2.6,2.8,3.0,2.6,3.3,2.8,3.3,3.3,3.1,2.5,3.4,3.1,3.2,2.9,3.0,2.9,3.4,3.2,3.2,3.1,2.9,2.9,2.8,3.1,3.1,2.5,3.2,3.0,2.6,3.2,3.3,3.1,3.2,3.2,3.3,2.8,2.9,3.0,3.4,3.0,3.2,3.4,3.4,2.7,3.3,3.4,3.1,2.5,2.5,3.4,2.6,3.1,3.1,3.1,2.7,3.4,3.2,3.0,3.2,3.1,3.2,3.4,3.2,2.7,2.9,3.3,3.0,3.2,3.2,2.7,3.3,2.8,3.1,3.4,3.4,3.4,3.1,3.4,2.9,3.4,3.3,3.4,2.6,2.6,2.7,2.9,2.6,3.2,2.6,2.7,2.8,3.3,2.7,2.8,2.8,3.2,3.2,3.3,3.4,3.4,3.1,2.8,3.1,2.8,2.8,2.9,2.7,3.4,2.7,2.7,3.4,2.8,2.8,3.4,3.0,3.0,3.0,3.2,2.8,3.3,3.3,3.2,3.1,2.8,3.4,3.2,2.6,3.2,2.8,2.7,2.8,3.1,3.1,3.3,3.2,3.0,3.2,2.6,2.7,3.3,3.4,3.4,2.9,3.4,2.9,2.6,3.3,3.4,3.1,3.3,3.4,3.0,2.9,3.2,3.2,3.2,3.2,2.9,3.4,3.2,3.1,3.3,3.1,2.9,3.1,2.6,3.0,3.1,3.0,3.3,3.4,3.4,2.7,2.9,3.2,3.1,2.8,3.0,2.9,3.0,2.5,3.3,3.0,2.8,3.2,3.4,3.1,3.1,2.9,3.2,3.2,3.2,2.9,3.2,2.9,3.1,2.7,2.5,3.0,3.1,3.1,3.0,3.2,3.4,3.2,3.0,3.1,3.3,2.8,3.2,2.8,3.0,2.8,2.8,3.4,3.0,3.2,3.3,3.0,3.2,3.2,3.1,3.0,3.0,2.8,3.0,2.9,2.9,3.2,3.1,2.8,3.3,3.0,3.1,3.1,3.1,2.8,2.9,3.2,3.1,3.4,3.3,3.3,2.6,2.7,3.3,3.4,3.2,2.9,3.0,3.1,2.8,3.0,3.2,2.9,3.2,2.7,3.0,3.1,3.3,2.9,2.5,2.8,3.0,3.0,2.9,2.9,2.8,3.0,3.2,2.9,3.3,2.9,2.7,3.4,3.3,3.2,2.7,3.0,3.4,3.3,2.9,3.0,3.3,2.7,3.3,3.3,3.4,2.7,3.3,3.1,2.7,2.7,3.1,3.2,3.2,2.9,2.9,3.1,3.1,3.1,3.1,2.9,3.3,3.0,2.7,3.1,2.5,3.2,2.9,2.8,3.0,3.0,3.0,3.2,3.4,3.2,3.2,3.2,3.2,3.3,2.9,3.3,2.8,3.2,3.1,3.2,3.2,2.8,3.3,3.2,3.0,3.1,3.3,3.1,3.0,2.7,3.0,3.2,3.0,3.2,3.3,2.9,3.2,3.1,2.9,3.0,3.0,3.1,2.6,2.9,2.8,3.0,3.2,2.8,3.3,3.4,2.6,2.8,3.2,3.2,3.1,3.2,2.8,3.4,3.3,3.2,2.7,3.4,2.5,3.3,3.4,3.3,3.2,3.3,3.4,3.4,3.4,3.2,3.1,3.4,2.9,2.5,3.1,2.6,2.9,2.9,3.3,2.8,2.6,3.4,3.4,2.8,2.8,3.1,3.4,3.3,3.4,3.4,3.2,3.0,3.3,2.7,3.2,3.2,3.4,3.4,2.8,2.8,3.1,3.1,3.2,3.0,2.7,3.1,3.4,3.4,3.3,3.0,3.3,2.6,3.4,3.2,3.3,3.0,3.2,3.0,2.7,3.0,3.0,3.2,3.3,3.4,3.3,3.1,2.7,2.8,3.1,3.3,2.7,2.9,3.1,3.1,3.3,3.0,3.3,2.9,3.1,2.9,2.8,3.1,3.2,2.9,3.4,3.0,3.3,3.2,3.2,3.3,2.7,2.5,3.2,2.9,2.8,2.9,2.7,2.8,2.9,2.9,3.3,3.4,3.2,3.0,3.1,2.7,2.9,3.1,3.2,3.1,2.6,3.3,3.3,3.4,3.4,3.4,3.3,3.3,3.4,3.4,3.4,3.3,3.4,3.0,3.3,3.4,3.2,3.4,2.6,3.4,3.1,2.7,2.6,3.2,3.4,2.8,3.2,3.2,2.6,3.3,3.2,3.4,3.3,2.6,2.9,3.3,3.2,3.4,3.0,2.7,3.2,3.0,2.5,3.2,3.2,3.1,2.9,3.2,3.3,2.5,2.9,2.8,3.4,2.5,3.1,3.2,2.6,3.4,2.8,3.1,2.8,3.3,3.1,3.0,3.4,3.4,3.1,3.3,2.9,2.8,3.3,2.8,2.8,3.2,3.0,3.0,3.4,3.2,3.4,3.1,3.1,3.0,2.8,2.8,2.8,3.4,3.2,3.0,2.7,3.4,2.7,3.0,3.4,3.2,3.0,3.0,3.2,3.1,2.9,3.4,2.7,3.3,2.6,2.5,3.0,3.1,3.3,3.2,3.4,3.3,3.3,3.2,3.4,2.9,3.4,2.8,3.0,3.3,3.1,3.2,2.9,3.3,2.9,3.1,3.0,2.8,3.3,2.9,3.4,2.7,2.6,3.2,2.8,2.5,2.8,3.0,3.1,3.3,2.9,2.7,2.9,3.4,3.0,3.2,2.7,2.9,3.4,2.8,3.2,3.0,2.8,2.9,2.9,3.4,3.2,3.1,3.0,3.4,3.4,3.3,3.1,3.0,3.2,2.9,3.1,3.0,3.4,3.0,3.1,3.2,3.2,3.0,2.8,3.1,3.2,2.5,3.0,2.8,2.9,3.3,3.0,3.0,3.4,3.0,3.2,3.0,3.2,3.4,2.9,3.0,3.0,3.2,3.4,3.1,2.9,3.0,2.9,3.1,2.8,3.3,3.1,2.7,3.1,3.0,3.2,2.7,3.0,3.3,3.4,3.2,2.7,2.9,2.9,3.4,2.7,3.3,3.2,3.3,2.7,2.5,2.7,3.1,2.6,3.1,2.9,3.2,3.2,3.2,3.4,2.8,3.2,3.1,3.2,3.0,3.0,3.0,3.1,3.3,2.8,2.8,3.2,2.9,2.8,3.2,2.5,3.2,2.9,2.8,3.0,3.1,2.6,2.9,3.4,3.1,3.4,3.2,3.4,3.0,3.3,2.7,2.5,3.4,3.2,2.6,3.2,3.3,3.1,3.3,3.4,3.3,3.2,3.3,3.4,2.8,3.2,2.8,2.9,3.4,3.0,2.9,3.1,2.8,3.2,3.0,3.0,3.4,3.0,3.3,3.1,3.3,3.0,3.4,3.3,3.4,3.2,3.2,3.2,2.7,2.5,3.4,3.4,2.5,2.8,3.3,2.7,3.2,3.1,2.9,2.9,3.2,3.1,3.1,3.0,3.2,3.3,3.4,3.2,3.0,3.3,3.2,3.4,2.6,3.1,3.4,2.8,2.8,3.4,3.4,3.2,2.6,2.5,3.0,3.3,2.8,3.1,3.0,3.3,2.8,3.3,2.9,3.0,3.0,2.6,3.2,3.3,3.4,3.4,2.7,3.3,2.6,3.4,3.2,2.7,3.4,2.6,3.0,2.8,3.1,2.8,3.2,3.1,2.5,2.8,3.1,3.4,3.0,3.1,2.8,3.0,3.2,3.2,3.0,2.8,3.3,2.9,3.3,3.0,3.3,3.4,3.4,3.2,2.6,3.3,3.1,2.6,3.0,2.7,3.0,2.7,3.0,2.7,3.3,3.1,3.1,2.6,3.1,3.2,3.4,2.5,2.6,3.4,3.0,3.0,3.3,3.1,2.8,3.2,2.7,2.7,3.0,2.9,2.9,2.7,3.2,2.8,2.7,3.3,3.2,3.0,3.1,3.1,2.8,3.1,3.0,2.7,3.4,3.2,2.8,3.2,3.1,3.3,3.2,2.9,3.1,2.7,3.2,3.1,3.2,2.9,3.2,2.6,3.3,2.6,3.0,3.2,2.9,2.9,3.1,2.5,3.3,3.1,3.3,3.0,3.2,3.3,3.4,3.3,3.0,3.2,2.6,3.2,3.4,3.2,3.2,3.0,3.1,3.1,2.5,3.1,3.3,3.2,3.1,3.1,3.3,2.6,3.3,3.4,3.4,3.2,3.0,2.8,3.3,3.0,2.8,3.4,3.0,3.3,2.8,3.2,3.1,2.7,2.8,3.4,3.0,2.6,3.3,3.3,3.4,3.1,3.3,3.4,3.3,2.5,3.4,2.8,3.0,3.4,3.3,3.1,3.4,2.9,3.2,3.2,3.4,3.3,3.2,3.0,3.2,3.4,2.8,3.3,3.1,3.4,3.3,3.4,3.2,2.9,2.7,3.1,3.3,3.4,3.2,3.2,2.9,3.2,3.0,3.3,3.1,2.9,2.5,2.8,2.6,3.3,3.0,2.5,3.4,3.3,3.3,3.1,3.4,3.4,3.3,2.8,3.4,3.0,3.3,3.3,3.3,3.1,3.0,2.9,3.0,3.2,3.1,3.1,3.3,3.3,2.9,3.2,3.1,3.4,3.1,2.6,3.0,3.4,3.0,3.2,3.0,3.1,3.0,3.2,3.4,2.7,3.3,2.9,3.3,2.6,2.9,3.3,3.2,3.4,3.1,3.0,3.3,3.3,3.1,3.4,2.6,2.6,2.9,2.6,3.3,2.9,3.1,2.8,3.2,3.3,2.9,2.7,2.8,3.1,3.2,3.4,2.8,3.1,2.9,2.8,3.4,3.4,2.6,2.7,3.3,3.4,3.3,3.4,3.3,3.4,3.4,2.8,3.0,3.3,3.0,3.4,3.1,3.1,2.6,3.1,3.2,2.9,2.8,3.0,2.8,2.9,3.1,3.4,3.1,3.2,2.7,2.8,2.8,3.1,3.2,2.6,2.7,3.3,3.4,3.4,3.2,3.3,3.2,3.4,3.2,3.1,3.2,2.7,3.1,2.8,3.1,2.8,3.1,3.1,2.7,3.4,3.1,3.3,3.1,3.2,3.0,3.3,3.4,3.3,3.4,3.4,2.9,2.7,3.0,2.6,3.3,3.1,3.0,2.9,3.3,3.2,3.2,3.2,3.1,2.9,3.1,2.9,2.9,3.4,3.3,3.0,2.9,3.0,2.9,2.5,3.1,3.4,3.0,3.1,3.4,3.2,3.0,3.0,3.3,3.3,3.4,3.2,3.4,2.7,3.3,3.4,3.0,3.2,2.5,3.4,2.7,2.6,2.5,3.2,3.4,2.5,3.4,3.1,3.4,3.0,3.3,3.4,3.4,2.7,2.8,2.8,3.1,2.9,3.2,3.0,2.8,2.7,3.1,3.1,2.8,3.2,3.1,3.4,2.6,2.9,2.6,3.3,2.6,3.1,3.1,2.8,3.2,3.0,3.3,3.3,2.9,3.3,3.3,3.1,3.4,3.2,3.2,2.9,3.4,3.2,3.0,2.7,3.2,3.0,3.1,3.2,3.1,3.3,2.9,3.0,3.1,2.6,3.3,2.8,3.3,2.8,2.5,3.2,2.8,3.3,3.4,3.4,3.2,3.3,3.1,2.8,3.3,3.2,3.2,3.0,2.7,3.4,3.2,3.1,3.3,3.0,3.1,3.3,3.1,3.0,3.1,3.1,3.2,2.9,2.6,2.8,2.7,2.9,3.4,2.6,2.9,2.9,3.1,3.1,3.2,3.0,2.9,2.5,2.8,3.2,3.2,3.2,3.3,2.8,3.4,3.2,2.8,2.9,3.2,3.2,2.6,3.0,3.1,3.2,3.4,3.1,3.2,3.1,3.3,2.9,3.0,2.8,3.0,3.3,3.3,3.1,2.7,2.6,3.2,3.3,3.4,2.6,2.7,3.1,3.3,2.5,3.1,3.3,3.3,3.4,3.1,3.4,3.4,2.9,2.8,3.4,3.1,3.2,3.3,3.3,3.2,3.3,2.9,2.7,2.7,3.2,3.4,3.4,3.3,3.3,3.1,3.1,3.3,3.1,3.4,3.2,3.2,3.4,3.4,3.3,3.3,2.6,3.4,3.2,3.2,2.8,3.4,2.9,3.4,3.2,2.6,2.5,3.2,3.4,3.0,3.4,3.4,2.7,3.1,2.9,2.7,2.9,3.3,3.1,3.3,2.9,3.2,2.7,3.4,3.3,2.6,2.5,3.1,2.8,3.3,3.4,2.7,3.1,3.1,2.7,3.3,3.4,3.0,2.7,3.3,3.2,2.5,2.6,3.4,3.3,3.1,3.3,2.5,3.2,3.3,3.1,3.1,3.3,3.0,3.2,3.3,3.2,3.2,3.1,2.6,2.8,3.2,2.7,2.7,3.0,3.3,3.3,3.3,3.0,3.4,2.7,2.7,3.2,3.3,3.2,3.2,2.7,3.1,2.8,3.1,2.7,3.2,2.6,3.3,2.8,3.2,3.0,2.8,3.2,2.9,3.0,3.2,3.4,3.1,2.9,3.0,2.9,2.9,3.0,2.9,2.9,2.9,2.5,3.1,3.2,3.3,3.2,3.3,3.2,2.9,3.1,3.3,2.9,3.2,3.3,3.1,3.2,3.3,2.6,3.2,3.0,3.0,3.4,3.1,2.7,3.1,3.3,3.3,3.4,2.9,3.1,3.1,3.1,3.1,2.9,3.0,3.1,3.2,3.1,3.4,3.0,3.1,2.7,2.8,2.7,3.2,3.3,3.0,2.6,3.3,3.4,3.0,2.7,2.6,3.4,3.0,3.1,3.4,2.5,3.4,2.9,2.9,2.8,3.3,2.6,3.1,3.1,3.0,3.4,3.2,3.3,3.3,3.1,3.3,3.2,2.8,2.8,2.6,3.3,3.1,3.1,2.9,2.8,3.0,2.7,2.8,3.0,3.2,2.8,3.1,3.0,3.4,2.9,2.6,2.6,3.2,3.4,3.0,2.6,3.1,2.7,3.3,3.0,2.9,3.4,3.0,2.8,2.9,2.8,3.3,3.1,2.8,2.7,3.4,3.0,3.2,3.1,3.1,3.1,3.3,2.5,3.1,3.1,3.3,3.1,2.5,3.2,2.9,2.6,3.4,3.2,2.7,3.2,2.6,3.0,2.9,3.1,2.6,3.3,2.9,2.5,3.2,3.4,3.1,2.9,2.7,3.3,3.2,3.1,3.1,2.8,3.0,3.3,2.7,3.1,3.1,2.9,2.9,3.2,2.7,2.9,2.9,2.7,2.9,3.0,3.2,2.5,3.1,3.1,2.9,3.1,2.8,3.0,3.0,3.1,2.8,2.9,2.9,2.8,2.9,3.1,2.9,2.9,2.7,3.4,3.3,3.0,3.2,3.1,3.1,3.2,3.3,3.1,2.5,3.3,3.4,3.3,3.3,3.4,3.2,2.7,3.3,3.4,3.0,3.0,2.8,3.2,3.3,3.4,2.6,3.4,3.3,3.4,3.2,2.8,3.0,3.3,3.4,3.4,2.8,3.4,2.8,3.4,3.2,3.3,3.2,3.3,3.2,2.7,3.0,3.2,3.1,2.9,3.0,3.1,3.1,3.2,2.6,3.2,2.9,2.9,2.8,2.9,2.7,3.1,3.2,2.7,3.0,2.7,2.7,2.7,2.6,3.2,2.9,2.7,3.1,3.0,3.1,3.2,2.7,2.7,2.6,2.7,3.0,3.3,2.8,3.3,2.9,3.0,2.7,2.9,3.0,2.6,2.8,3.3,2.8,3.1,3.0,2.8,3.1,3.1,3.2,3.1,3.1,3.4,3.1,2.8,3.3,3.2,2.9,3.0,2.7,3.0,2.5,2.8,3.2,2.8,3.1,3.3,2.8,2.6,3.1,3.3,2.6,3.1,3.0,2.8,3.0,3.0,2.8,2.6,3.3,2.7,2.7,3.0,3.0,2.9,2.9,2.8,2.9,3.3,3.0,3.0,2.9,2.9,2.9,3.4,3.2,2.8,2.9,3.0,3.4,3.4,3.2,3.2,2.6,3.2,2.8,2.9,3.3,2.7,3.1,3.1,3.1,3.0,3.1,3.3,3.4,3.2,3.4,2.7,3.3,3.2,3.2,2.7,2.8,3.3,3.4,3.1,3.1,2.7,3.3,3.2,2.9,3.1,3.2,3.3,3.2,3.3,2.6,3.3,2.6,3.2,2.6,2.9,3.3,3.1,3.1,3.2,3.1,2.5,3.1,3.0,3.2,3.4,3.2,3.0,2.9,3.0,3.0,3.1,2.9,3.4,2.9,3.0,2.9,3.0,3.1,3.1,3.1,3.0,3.0,3.0,2.7,3.1,2.8,3.1,3.1,3.1,3.0,3.1,3.0,3.0,3.1,2.6,2.9,2.8,3.2,2.9,2.9,3.3,3.0,3.2,3.4,3.3,2.9,2.9,2.8,2.8,2.7,2.8,3.4,2.9,2.7,2.9,3.0,3.4,3.0,2.6,2.9,3.2,3.0,3.1,2.8,3.0,3.0,3.2,3.2,3.4,2.8,2.8,3.3,3.1,3.1,2.8,2.6,3.0,2.8,3.1,3.2,2.8,2.7,2.8,2.8,2.9,3.1,3.0,3.2,3.0,3.0,3.1,3.1,3.2,3.1,3.0,3.4,2.5,3.1,2.8,3.1,3.4,3.3,3.4,3.3,3.4,2.8,3.4,2.9,3.4,2.7,3.2,2.7,3.3,3.4,3.4,3.4,3.4,3.4,3.4,2.7,2.9,3.2,3.0,3.3,3.3,2.7,2.9,2.7,2.8,2.8,3.0,3.0,3.1,3.3,2.9,3.4,3.1,2.9,2.9,2.9,2.9,2.7,3.2,2.8,3.0,2.8,3.2,3.4,2.9,3.1,3.2,3.3,3.0,3.2,3.0,3.1,2.6,3.1,2.6,3.2,3.3,3.2,3.4,3.3,2.7,3.2,2.6,3.3,2.8,2.6,2.6,2.9,2.8,3.1,3.0,2.7,3.4,3.2,2.8,2.9,2.9,3.1,2.8,3.2,3.0,2.9,2.9,2.9,2.9,2.8,3.0,3.0,3.0,3.0,3.2,3.0,3.1,3.1,2.9,3.0,2.8,2.9,3.2,2.7,3.2,3.0,3.3,3.1,2.8,3.1,3.2,2.7,2.9,2.8,3.1,2.9,2.7,2.7,3.4,3.0,3.2,2.8,3.0,3.0,2.9,2.8,2.7,2.9,2.9,3.0,2.9,2.9,3.0,2.7,2.9,2.8,3.0,3.0,2.8,3.2,3.2,3.3,3.4,3.1,3.3,2.9,2.9,2.7,2.9,2.8,3.1,3.3,3.3,3.3,3.3,3.2,2.9,3.1,3.2,3.3,3.4,3.4,3.2,3.2,3.4,3.1,2.9,3.3,3.3,3.2,3.0,3.4,3.4,3.1,2.7,2.7,3.3,3.4,3.2,2.5,2.6,3.2,3.4,2.7,3.2,3.4,2.8,3.2,3.1,2.8,3.0,2.8,3.2,3.4,2.6,3.4,2.8,3.1,3.0,3.2,2.6,2.8,2.8,3.2,3.2,3.2,2.5,3.2,2.9,3.3,3.4,3.2,2.6,3.3,2.5,3.1,2.9,3.0,3.1,2.8,3.1,3.1,3.3,2.8,3.2,3.2,2.7,2.7,3.1,3.3,3.3,2.6,2.6,2.9,3.3,2.7,3.1,3.1,3.2,3.0,3.4,3.3,3.4,3.0,3.3,3.3,3.0,3.0,3.3,3.1,3.3,3.2,3.1,3.0,3.3,3.0,2.8,3.2,2.8,3.2,2.9,3.4,3.4,3.4,3.0,2.8,3.2,2.9,3.0,3.3,2.7,2.5,3.0,3.2,3.1,3.1,3.0,3.1,3.1,2.9,3.2,3.3,3.4,3.3,3.1,3.0,3.1,3.1,3.3,3.4,3.3,3.2,3.2,3.3,2.6,3.1,3.2,3.2,3.1,3.4,3.2,3.2,3.2,3.4,3.3,3.2,2.7,3.3,3.4,3.4,2.7,3.2,2.5,3.0,3.1,3.4,3.4,2.6,3.3,3.1,3.4,3.4,3.4,3.2,3.2,3.2,2.5,3.1,2.8,3.2,2.9,2.9,2.9,2.9,2.5,3.2,3.0,2.9,2.9,2.6,3.0,3.3,3.1,2.9,3.3,3.1,3.3,3.4,3.2,3.4,2.5,3.4,2.5,3.3,2.8,2.6,2.9,2.6,3.0,2.7,2.7,2.9,2.9,3.4,2.5,3.1,3.0,3.4,2.9,2.8,3.3,3.2,2.8,2.5,2.9,3.0,3.2,3.0,2.6,2.7,3.0,2.6,2.7,2.8,3.2,2.9,2.6,3.1,3.4,3.2,3.0,2.6,2.9,2.8,2.7,3.0,3.0,3.1,2.7,2.6,2.7,2.7,3.4,3.2,2.7,2.5,2.8,3.4,2.6,2.9,3.2,3.1,2.6,2.8,3.4,3.0,3.2,3.0,3.3,3.2,2.9,3.2,3.1,3.0,3.1,3.4,3.0,3.4,3.2,3.1,3.1,3.2,3.2,3.3,3.4,3.4,2.6,3.2,3.3,3.3,3.0,3.4,2.7,2.6,3.2,3.0,3.3,3.0,2.7,3.3,3.4,3.4,3.2,2.7,3.1,3.3,3.3,3.1,3.4,3.4,3.3,3.0,3.3,3.4,3.2,2.8,3.3,3.4,2.6,3.3,3.1,2.9,3.1,3.2,3.0,2.6,3.0,3.3,3.3,3.4,2.8,2.5,2.8,3.0,3.0,2.9,3.4,3.1,3.3,2.6,2.8,3.3,2.6,2.9,3.3,3.1,2.8,3.1,3.2,2.7,2.7,3.3,3.1,3.4,2.8,3.0,2.7,2.7,3.0,2.8,3.3,2.9,3.4,3.0,3.1,3.0,3.4,3.3,2.7,2.8,2.7,2.7,2.8,2.7,2.7,3.1,2.9,3.0,3.3,3.0,2.8,3.4,3.3,2.8,3.0,2.7,3.0,3.2,2.5,3.1,3.2,3.0,2.9,3.4,3.2,2.7,3.3,2.9,3.0,3.0,2.6,3.3,2.8,3.1,3.2,3.0,3.0,3.2,3.2,3.2,2.7,3.3,2.6,3.2,3.4,3.2,2.7,3.2,3.3,3.1,2.6,3.2,3.4,3.3,3.0,3.2,3.3,3.1,3.3,3.3,2.9,3.0,3.2,3.4,2.5,3.0,3.0,2.6,3.1,3.0,3.4,2.9,3.1,3.1,3.4,3.2,2.6,3.4,2.9,2.5,3.1,3.4,3.4,3.4,3.4,2.8,3.1,2.9,2.9,2.7,3.1,3.0,2.8,2.9,3.0,2.9,3.0,3.3,2.8,2.9,3.1,3.0,3.2,3.3,3.3,3.3,3.3,3.4,3.0,2.7,2.8,2.8,3.1,2.8,2.7,3.0,2.8,2.9,3.1,3.2,3.0,2.9,2.7,2.9,3.1,3.4,2.6,3.4,3.2,3.4,3.3,2.8,2.9,2.6,3.0,3.1,2.9,3.1,2.7,3.4,3.0,2.9,3.4,3.0,3.2,3.2,3.1,3.0,3.2,3.0,3.0,3.1,3.3,3.4,3.1,3.0,2.7,3.1,3.2,3.4,2.9,3.2,3.1,2.9,2.8,3.1,3.0,3.1,3.1,3.3,2.8,3.1,2.6,3.3,2.6,3.4,3.4,2.8,3.1,2.5,3.4,3.3,3.3,2.6,3.4,2.9,2.9,3.4,3.2,2.9,3.1,3.1,2.9,3.4,3.1,3.0,3.2,2.8,2.8,2.7,2.8,3.1,3.2,3.2,3.3,2.6,2.9,3.2,2.7,2.5,3.2,3.3,2.7,3.3,3.0,2.8,3.1,3.0,3.2,3.2,3.3,3.0,3.3,3.1,2.9,2.8,3.0,3.3,3.1,2.9,3.1,3.3,3.2,3.2,2.9,3.0,3.2,3.0,2.9,2.9,3.3,3.4,3.0,3.0,3.4,3.0,3.1,3.3,3.3,3.1,3.2,3.2,3.1,3.3,3.2,3.2,3.3,3.0,3.3,3.4,2.9,2.8,3.3,3.2,3.4,2.9,3.3,3.3,3.1,3.3,3.1,3.2,3.0,3.0,2.9,2.7,2.9,3.1,3.1,2.9,3.0,3.1,2.9,3.0,2.9,3.0,3.2,3.3,3.0,2.6,3.0,2.9,3.4,3.0,3.1,3.2,3.2,2.9,3.0,3.4,2.9,3.1,2.8,2.9,2.9,3.0,2.8,2.7,2.9,2.7,2.5,3.1,3.0,3.1,3.3,3.1,3.0,3.1,3.0,3.1,3.2,2.7,3.0,2.8,3.0,2.8,2.8,2.9,3.0,2.8,2.8,3.0,2.7,2.9,2.8,2.6,2.6,2.7,3.4,2.9,3.3,3.4,2.8,3.4,3.0,2.8,2.6,2.5,2.5,2.7,2.9,2.5,3.4,3.0,2.8,3.3,2.9,2.8,3.3,3.3,2.5,3.2,3.3,3.3,3.1,3.4,2.9,3.1,2.8,3.3,2.7,3.1,3.1,3.2,3.3,2.8,3.3,3.1,3.3,2.8,2.9,3.0,2.8,3.2,3.1,2.6,3.3,3.0,3.4,3.3,2.9,2.9,2.9,3.1,3.0,3.3,3.1,3.4,3.1,3.0,3.4,3.3,3.3,2.9,3.1,3.3,3.4,3.4,3.3,3.3,3.4,2.8,3.0,3.0,2.7,2.6,3.3,2.9,3.0,3.2,3.3,3.2,2.6,3.1,3.0,3.3,3.1,3.3,3.2,3.4,2.6,3.1,3.3,3.0,2.8,3.1,2.8,3.1,3.1,2.7,3.3,3.1,2.8,3.2,3.2,3.1,3.4,2.8,3.0,3.0,3.3,3.4,2.6,2.6,3.2,3.4,3.4,3.2,3.2,3.1,2.6,2.8,2.9,3.4,3.3,3.1,3.2,3.0,3.3,2.6,3.1,2.5,3.3,3.2,2.9,2.6,3.4,3.0,3.2,3.4,3.4,3.1,3.2,3.1,3.1,2.7,3.3,3.1,3.3,3.1,2.7,2.7,2.9,3.2,3.0,2.7,3.2,2.7,3.0,3.1,3.4,2.9,3.2,3.1,3.0,3.4,3.4,2.7,3.4,3.2,3.4,3.1,2.6,2.5,3.3,3.4,3.3,2.5,2.6,2.5,2.8,3.2,3.1,3.2,3.1,2.8,2.8,3.0,2.8,2.8,2.6,2.9,3.1,2.7,2.9,2.5,2.8,2.9,2.7,3.1,3.0,2.6,2.8,3.2,2.6,3.4,3.1,2.7,3.4,3.2,2.9,3.3,3.3,3.0,3.1,3.4,3.2,2.9,2.5,3.2,3.0,2.6,2.6,2.8,2.8,3.2,3.3,2.9,2.7,3.1,3.2,2.8,3.4,3.2,2.9,2.9,2.7,3.3,2.6,3.4,3.2,3.4,3.1,2.6,2.5,2.9,2.9,2.8,2.6,2.9,3.3,2.5,2.6,2.7,2.6,2.6,3.2,3.3,2.7,3.4,3.1,3.2,3.0,3.0,2.8,3.0,2.6,3.0,2.7,3.1,2.6,3.4,3.0,2.9,3.1,2.5,2.9,2.5,3.0,2.8,2.8,3.2,2.8,2.6,2.9,2.9,2.8,2.8,2.9,3.1,2.9,3.3,3.4,3.0,3.0,2.7,3.2,3.2,2.9,3.0,3.3,3.4,3.3,2.5,3.4,3.1,2.5,2.5,2.8,2.6,3.3,3.3,3.3,2.7,3.2,2.5,3.3,3.4,3.0,2.6,2.6,3.2,3.3,3.4,3.2,3.2,3.4,3.2,3.0,3.4,3.4,2.8,2.9,2.5,2.6,3.0,3.3,3.0,3.0,3.0,2.5,3.4,3.1,2.6,3.0,2.5,3.3,3.0,2.7,3.4,2.9,3.0,3.1,3.0,2.6,3.1,3.2,2.8,2.9,2.9,2.8,3.2,3.1,2.9,3.2,3.2,3.0,3.4,2.8,3.0,3.0,2.7,3.1,2.6,3.0,3.2,3.4,2.8,3.1,2.6,2.5,2.9,3.0,3.0,2.8,3.4,2.9,3.4,2.9,3.1,2.8,3.0,3.2,3.1,3.4,3.0,3.0,3.3,3.4,3.2,3.3,3.1,3.1,2.9,2.5,3.4,3.2,3.1,2.7,2.9,3.2,2.9,3.3,3.3,3.2,3.3,3.4,2.5,3.0,3.4,3.0,2.8,2.7,3.0,2.9,3.2,3.1,2.5,3.4,2.9,3.0,2.8,3.3,3.3,3.1,2.9,3.0,3.4,2.8,2.9,3.0,3.0,3.1,3.4,3.0,3.2,2.7,3.4,2.7,3.1,3.3,3.4,2.5,2.7,3.4,3.0,3.4,2.8,2.5,3.2,2.6,2.5,2.7,3.0,2.8,2.7,3.1,3.2,2.9,2.9,2.9,3.1,3.2,2.6,2.9,2.9,3.1,2.5,3.0,2.9,3.3,3.1,2.7,2.7,2.7,2.9,3.1,3.1,3.4,3.1,3.2,3.2,3.0,2.7,3.0,3.0,3.2,3.2,3.1,2.9,2.7,3.1,3.2,2.6,2.8,3.2,2.5,3.4,3.1,3.2,2.9,3.3,2.9,2.8,2.7,3.0,3.1,3.3,3.1,3.0,3.1,3.2,3.1,2.9,2.8,3.4,2.5,2.8,2.9,3.0,3.4,2.6,2.6,2.8,3.2,2.7,3.3,3.1,2.9,2.9,3.4,3.3,3.1,3.0,3.0,2.7,2.9,3.0,2.9,2.9,3.4,3.2,2.9,3.1,3.1,3.0,2.7,3.1,2.9,3.1,3.2,3.2,3.2,2.9,3.4,3.1,3.1,3.0,3.1,3.1,3.0,3.1,3.0,3.2,3.0,3.4,2.6,3.4,3.2,2.5,3.0,3.1,2.5,2.5,3.1,3.3,2.6,3.0,2.6,2.7,3.2,3.3,3.0,2.7,2.7,3.4,2.8,3.0,3.2,3.1,3.2,3.4,3.3,3.1,2.6,3.4,2.6,2.6,3.4,3.4,3.3,3.4,3.4,3.3,3.3,3.4,3.1,3.1,3.4,3.3,3.2,3.3,3.4,3.1,3.2,3.3,3.4,3.3,3.4,3.4,3.4,3.4,3.2,3.3,3.4,3.4,3.3,3.3,3.2,3.4,2.8,3.1,3.3,3.3,3.4,3.4,3.4,3.4,3.4,2.5,3.4],\"yaxis\":\"y\",\"type\":\"scattergl\"},{\"hovertemplate\":\"rating_text=Poor<br>average_cost_two=%{x}<br>agg_rating=%{y}<extra></extra>\",\"legendgroup\":\"Poor\",\"marker\":{\"color\":\"#FFA15A\",\"symbol\":\"circle\"},\"mode\":\"markers\",\"name\":\"Poor\",\"showlegend\":true,\"x\":[25,10,30,80,500,1000,1000,2000,700,800,500,400,500,350,500,350,600,600,1800,600,800,700,600,1800,1000,300,400,350,700,500,800,400,650,700,200,450,550,300,200,400,400,550,500,500,800,100,750,1800,700,400,1600,500,600,600,700,600,600,700,700,700,1200,500,400,300,450,1200,700,400,500,250,800,600,150,350,400,400,450,1000,500,350,800,800,400,500,450,700,450,550,400,600,450,500,300,700,1000,500,1000,350,400,300,400,700,500,300,500,600,550,300,750,200,600,550,600,450,500,300,600,450,400,800,350,900,700,600,350,500,400,400,350,600,1000,1000,1500,900,600,350,400,300,500,2000,600,400,700,800,800,500,250,150,700,450,450,2000,800,500,700,700,800,700,450,800,700,600,500,800,1300,750,800,700,350,500,600,500,500,400,1400,350,2500,650,700,600,500,450,2400,1200,100,1800],\"xaxis\":\"x\",\"y\":[2.2,2.4,2.4,2.4,2.1,2.4,1.8,2.4,2.4,2.4,2.2,2.0,2.1,2.2,2.2,2.3,2.4,2.3,2.1,2.3,2.2,2.4,2.3,2.4,2.4,2.4,2.4,2.4,2.4,2.4,2.2,2.2,2.4,2.3,2.3,2.4,2.4,2.2,2.4,2.4,2.2,2.2,2.2,2.2,2.4,2.4,2.3,2.4,2.4,2.4,2.4,2.1,2.4,2.3,2.3,2.4,2.4,2.4,2.3,2.3,2.3,2.4,2.4,2.4,2.4,2.4,2.4,2.4,2.2,1.9,2.3,2.4,2.3,2.4,2.3,2.3,2.3,2.4,2.4,2.1,2.4,2.4,2.1,2.2,2.3,2.3,2.3,2.4,2.0,2.2,2.4,2.4,2.4,2.2,2.4,2.3,2.4,2.2,2.2,2.1,2.2,2.1,2.3,2.4,2.4,2.3,2.4,2.4,2.4,2.4,2.2,2.3,2.4,2.4,2.3,2.4,2.1,2.1,2.4,2.3,2.2,2.2,2.3,2.3,2.4,1.9,2.3,2.4,2.3,2.4,2.2,2.4,2.4,2.0,2.3,2.4,2.2,2.4,2.1,2.4,2.3,2.3,2.1,2.4,2.3,2.4,2.4,2.3,2.2,2.3,2.1,2.4,2.3,2.0,2.4,2.4,2.4,2.3,2.4,2.3,2.4,2.3,2.3,2.3,2.4,2.4,2.4,2.3,2.1,2.3,2.4,2.4,2.4,2.4,2.1,2.4,2.2,2.2,2.4,2.3,2.3,2.0,2.0,2.0,2.3,2.4],\"yaxis\":\"y\",\"type\":\"scattergl\"}],                        {\"template\":{\"data\":{\"bar\":[{\"error_x\":{\"color\":\"#2a3f5f\"},\"error_y\":{\"color\":\"#2a3f5f\"},\"marker\":{\"line\":{\"color\":\"#E5ECF6\",\"width\":0.5},\"pattern\":{\"fillmode\":\"overlay\",\"size\":10,\"solidity\":0.2}},\"type\":\"bar\"}],\"barpolar\":[{\"marker\":{\"line\":{\"color\":\"#E5ECF6\",\"width\":0.5},\"pattern\":{\"fillmode\":\"overlay\",\"size\":10,\"solidity\":0.2}},\"type\":\"barpolar\"}],\"carpet\":[{\"aaxis\":{\"endlinecolor\":\"#2a3f5f\",\"gridcolor\":\"white\",\"linecolor\":\"white\",\"minorgridcolor\":\"white\",\"startlinecolor\":\"#2a3f5f\"},\"baxis\":{\"endlinecolor\":\"#2a3f5f\",\"gridcolor\":\"white\",\"linecolor\":\"white\",\"minorgridcolor\":\"white\",\"startlinecolor\":\"#2a3f5f\"},\"type\":\"carpet\"}],\"choropleth\":[{\"colorbar\":{\"outlinewidth\":0,\"ticks\":\"\"},\"type\":\"choropleth\"}],\"contour\":[{\"colorbar\":{\"outlinewidth\":0,\"ticks\":\"\"},\"colorscale\":[[0.0,\"#0d0887\"],[0.1111111111111111,\"#46039f\"],[0.2222222222222222,\"#7201a8\"],[0.3333333333333333,\"#9c179e\"],[0.4444444444444444,\"#bd3786\"],[0.5555555555555556,\"#d8576b\"],[0.6666666666666666,\"#ed7953\"],[0.7777777777777778,\"#fb9f3a\"],[0.8888888888888888,\"#fdca26\"],[1.0,\"#f0f921\"]],\"type\":\"contour\"}],\"contourcarpet\":[{\"colorbar\":{\"outlinewidth\":0,\"ticks\":\"\"},\"type\":\"contourcarpet\"}],\"heatmap\":[{\"colorbar\":{\"outlinewidth\":0,\"ticks\":\"\"},\"colorscale\":[[0.0,\"#0d0887\"],[0.1111111111111111,\"#46039f\"],[0.2222222222222222,\"#7201a8\"],[0.3333333333333333,\"#9c179e\"],[0.4444444444444444,\"#bd3786\"],[0.5555555555555556,\"#d8576b\"],[0.6666666666666666,\"#ed7953\"],[0.7777777777777778,\"#fb9f3a\"],[0.8888888888888888,\"#fdca26\"],[1.0,\"#f0f921\"]],\"type\":\"heatmap\"}],\"heatmapgl\":[{\"colorbar\":{\"outlinewidth\":0,\"ticks\":\"\"},\"colorscale\":[[0.0,\"#0d0887\"],[0.1111111111111111,\"#46039f\"],[0.2222222222222222,\"#7201a8\"],[0.3333333333333333,\"#9c179e\"],[0.4444444444444444,\"#bd3786\"],[0.5555555555555556,\"#d8576b\"],[0.6666666666666666,\"#ed7953\"],[0.7777777777777778,\"#fb9f3a\"],[0.8888888888888888,\"#fdca26\"],[1.0,\"#f0f921\"]],\"type\":\"heatmapgl\"}],\"histogram\":[{\"marker\":{\"pattern\":{\"fillmode\":\"overlay\",\"size\":10,\"solidity\":0.2}},\"type\":\"histogram\"}],\"histogram2d\":[{\"colorbar\":{\"outlinewidth\":0,\"ticks\":\"\"},\"colorscale\":[[0.0,\"#0d0887\"],[0.1111111111111111,\"#46039f\"],[0.2222222222222222,\"#7201a8\"],[0.3333333333333333,\"#9c179e\"],[0.4444444444444444,\"#bd3786\"],[0.5555555555555556,\"#d8576b\"],[0.6666666666666666,\"#ed7953\"],[0.7777777777777778,\"#fb9f3a\"],[0.8888888888888888,\"#fdca26\"],[1.0,\"#f0f921\"]],\"type\":\"histogram2d\"}],\"histogram2dcontour\":[{\"colorbar\":{\"outlinewidth\":0,\"ticks\":\"\"},\"colorscale\":[[0.0,\"#0d0887\"],[0.1111111111111111,\"#46039f\"],[0.2222222222222222,\"#7201a8\"],[0.3333333333333333,\"#9c179e\"],[0.4444444444444444,\"#bd3786\"],[0.5555555555555556,\"#d8576b\"],[0.6666666666666666,\"#ed7953\"],[0.7777777777777778,\"#fb9f3a\"],[0.8888888888888888,\"#fdca26\"],[1.0,\"#f0f921\"]],\"type\":\"histogram2dcontour\"}],\"mesh3d\":[{\"colorbar\":{\"outlinewidth\":0,\"ticks\":\"\"},\"type\":\"mesh3d\"}],\"parcoords\":[{\"line\":{\"colorbar\":{\"outlinewidth\":0,\"ticks\":\"\"}},\"type\":\"parcoords\"}],\"pie\":[{\"automargin\":true,\"type\":\"pie\"}],\"scatter\":[{\"marker\":{\"colorbar\":{\"outlinewidth\":0,\"ticks\":\"\"}},\"type\":\"scatter\"}],\"scatter3d\":[{\"line\":{\"colorbar\":{\"outlinewidth\":0,\"ticks\":\"\"}},\"marker\":{\"colorbar\":{\"outlinewidth\":0,\"ticks\":\"\"}},\"type\":\"scatter3d\"}],\"scattercarpet\":[{\"marker\":{\"colorbar\":{\"outlinewidth\":0,\"ticks\":\"\"}},\"type\":\"scattercarpet\"}],\"scattergeo\":[{\"marker\":{\"colorbar\":{\"outlinewidth\":0,\"ticks\":\"\"}},\"type\":\"scattergeo\"}],\"scattergl\":[{\"marker\":{\"colorbar\":{\"outlinewidth\":0,\"ticks\":\"\"}},\"type\":\"scattergl\"}],\"scattermapbox\":[{\"marker\":{\"colorbar\":{\"outlinewidth\":0,\"ticks\":\"\"}},\"type\":\"scattermapbox\"}],\"scatterpolar\":[{\"marker\":{\"colorbar\":{\"outlinewidth\":0,\"ticks\":\"\"}},\"type\":\"scatterpolar\"}],\"scatterpolargl\":[{\"marker\":{\"colorbar\":{\"outlinewidth\":0,\"ticks\":\"\"}},\"type\":\"scatterpolargl\"}],\"scatterternary\":[{\"marker\":{\"colorbar\":{\"outlinewidth\":0,\"ticks\":\"\"}},\"type\":\"scatterternary\"}],\"surface\":[{\"colorbar\":{\"outlinewidth\":0,\"ticks\":\"\"},\"colorscale\":[[0.0,\"#0d0887\"],[0.1111111111111111,\"#46039f\"],[0.2222222222222222,\"#7201a8\"],[0.3333333333333333,\"#9c179e\"],[0.4444444444444444,\"#bd3786\"],[0.5555555555555556,\"#d8576b\"],[0.6666666666666666,\"#ed7953\"],[0.7777777777777778,\"#fb9f3a\"],[0.8888888888888888,\"#fdca26\"],[1.0,\"#f0f921\"]],\"type\":\"surface\"}],\"table\":[{\"cells\":{\"fill\":{\"color\":\"#EBF0F8\"},\"line\":{\"color\":\"white\"}},\"header\":{\"fill\":{\"color\":\"#C8D4E3\"},\"line\":{\"color\":\"white\"}},\"type\":\"table\"}]},\"layout\":{\"annotationdefaults\":{\"arrowcolor\":\"#2a3f5f\",\"arrowhead\":0,\"arrowwidth\":1},\"autotypenumbers\":\"strict\",\"coloraxis\":{\"colorbar\":{\"outlinewidth\":0,\"ticks\":\"\"}},\"colorscale\":{\"diverging\":[[0,\"#8e0152\"],[0.1,\"#c51b7d\"],[0.2,\"#de77ae\"],[0.3,\"#f1b6da\"],[0.4,\"#fde0ef\"],[0.5,\"#f7f7f7\"],[0.6,\"#e6f5d0\"],[0.7,\"#b8e186\"],[0.8,\"#7fbc41\"],[0.9,\"#4d9221\"],[1,\"#276419\"]],\"sequential\":[[0.0,\"#0d0887\"],[0.1111111111111111,\"#46039f\"],[0.2222222222222222,\"#7201a8\"],[0.3333333333333333,\"#9c179e\"],[0.4444444444444444,\"#bd3786\"],[0.5555555555555556,\"#d8576b\"],[0.6666666666666666,\"#ed7953\"],[0.7777777777777778,\"#fb9f3a\"],[0.8888888888888888,\"#fdca26\"],[1.0,\"#f0f921\"]],\"sequentialminus\":[[0.0,\"#0d0887\"],[0.1111111111111111,\"#46039f\"],[0.2222222222222222,\"#7201a8\"],[0.3333333333333333,\"#9c179e\"],[0.4444444444444444,\"#bd3786\"],[0.5555555555555556,\"#d8576b\"],[0.6666666666666666,\"#ed7953\"],[0.7777777777777778,\"#fb9f3a\"],[0.8888888888888888,\"#fdca26\"],[1.0,\"#f0f921\"]]},\"colorway\":[\"#636efa\",\"#EF553B\",\"#00cc96\",\"#ab63fa\",\"#FFA15A\",\"#19d3f3\",\"#FF6692\",\"#B6E880\",\"#FF97FF\",\"#FECB52\"],\"font\":{\"color\":\"#2a3f5f\"},\"geo\":{\"bgcolor\":\"white\",\"lakecolor\":\"white\",\"landcolor\":\"#E5ECF6\",\"showlakes\":true,\"showland\":true,\"subunitcolor\":\"white\"},\"hoverlabel\":{\"align\":\"left\"},\"hovermode\":\"closest\",\"mapbox\":{\"style\":\"light\"},\"paper_bgcolor\":\"white\",\"plot_bgcolor\":\"#E5ECF6\",\"polar\":{\"angularaxis\":{\"gridcolor\":\"white\",\"linecolor\":\"white\",\"ticks\":\"\"},\"bgcolor\":\"#E5ECF6\",\"radialaxis\":{\"gridcolor\":\"white\",\"linecolor\":\"white\",\"ticks\":\"\"}},\"scene\":{\"xaxis\":{\"backgroundcolor\":\"#E5ECF6\",\"gridcolor\":\"white\",\"gridwidth\":2,\"linecolor\":\"white\",\"showbackground\":true,\"ticks\":\"\",\"zerolinecolor\":\"white\"},\"yaxis\":{\"backgroundcolor\":\"#E5ECF6\",\"gridcolor\":\"white\",\"gridwidth\":2,\"linecolor\":\"white\",\"showbackground\":true,\"ticks\":\"\",\"zerolinecolor\":\"white\"},\"zaxis\":{\"backgroundcolor\":\"#E5ECF6\",\"gridcolor\":\"white\",\"gridwidth\":2,\"linecolor\":\"white\",\"showbackground\":true,\"ticks\":\"\",\"zerolinecolor\":\"white\"}},\"shapedefaults\":{\"line\":{\"color\":\"#2a3f5f\"}},\"ternary\":{\"aaxis\":{\"gridcolor\":\"white\",\"linecolor\":\"white\",\"ticks\":\"\"},\"baxis\":{\"gridcolor\":\"white\",\"linecolor\":\"white\",\"ticks\":\"\"},\"bgcolor\":\"#E5ECF6\",\"caxis\":{\"gridcolor\":\"white\",\"linecolor\":\"white\",\"ticks\":\"\"}},\"title\":{\"x\":0.05},\"xaxis\":{\"automargin\":true,\"gridcolor\":\"white\",\"linecolor\":\"white\",\"ticks\":\"\",\"title\":{\"standoff\":15},\"zerolinecolor\":\"white\",\"zerolinewidth\":2},\"yaxis\":{\"automargin\":true,\"gridcolor\":\"white\",\"linecolor\":\"white\",\"ticks\":\"\",\"title\":{\"standoff\":15},\"zerolinecolor\":\"white\",\"zerolinewidth\":2}}},\"xaxis\":{\"anchor\":\"y\",\"domain\":[0.0,1.0],\"title\":{\"text\":\"average_cost_two\"}},\"yaxis\":{\"anchor\":\"x\",\"domain\":[0.0,1.0],\"title\":{\"text\":\"agg_rating\"}},\"legend\":{\"title\":{\"text\":\"rating_text\"},\"tracegroupgap\":0},\"margin\":{\"t\":60}},                        {\"responsive\": true}                    ).then(function(){\n",
       "                            \n",
       "var gd = document.getElementById('972fa536-912c-4352-8f5a-597335531210');\n",
       "var x = new MutationObserver(function (mutations, observer) {{\n",
       "        var display = window.getComputedStyle(gd).display;\n",
       "        if (!display || display === 'none') {{\n",
       "            console.log([gd, 'removed!']);\n",
       "            Plotly.purge(gd);\n",
       "            observer.disconnect();\n",
       "        }}\n",
       "}});\n",
       "\n",
       "// Listen for the removal of the full notebook cells\n",
       "var notebookContainer = gd.closest('#notebook-container');\n",
       "if (notebookContainer) {{\n",
       "    x.observe(notebookContainer, {childList: true});\n",
       "}}\n",
       "\n",
       "// Listen for the clearing of the current output cell\n",
       "var outputEl = gd.closest('.output');\n",
       "if (outputEl) {{\n",
       "    x.observe(outputEl, {childList: true});\n",
       "}}\n",
       "\n",
       "                        })                };                });            </script>        </div>"
      ]
     },
     "metadata": {},
     "output_type": "display_data"
    }
   ],
   "source": [
    "fig7= px.scatter(df_zomato[df_zomato[\"rating_text\"]!=\"Not rated\"], x='average_cost_two', y='agg_rating',\n",
    "                color = 'rating_text',\n",
    "                )\n",
    "fig7.show()"
   ]
  },
  {
   "cell_type": "markdown",
   "id": "79b4aff2",
   "metadata": {},
   "source": [
    "__Observation:__  \n",
    "  \n",
    "* Having Variety of food has a slight effect on the ratings.\n",
    "* Most Resturants are rated as Average , and there are 2184 resturants that are not rated.\n",
    "* New Delhi is the City with most non rated returants\n",
    "* Average Cost is High For Very Good rated resturants and so on so Avg Cost is directly proportional to rating\n",
    "    "
   ]
  },
  {
   "cell_type": "markdown",
   "id": "6716d7ae",
   "metadata": {},
   "source": [
    "## THANK YOU  \n",
    "                                                                                         Performed by : Ankit Dubey"
   ]
  }
 ],
 "metadata": {
  "kernelspec": {
   "display_name": "Python 3 (ipykernel)",
   "language": "python",
   "name": "python3"
  },
  "language_info": {
   "codemirror_mode": {
    "name": "ipython",
    "version": 3
   },
   "file_extension": ".py",
   "mimetype": "text/x-python",
   "name": "python",
   "nbconvert_exporter": "python",
   "pygments_lexer": "ipython3",
   "version": "3.9.12"
  }
 },
 "nbformat": 4,
 "nbformat_minor": 5
}
